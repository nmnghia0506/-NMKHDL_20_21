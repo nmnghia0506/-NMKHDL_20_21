{
 "cells": [
  {
   "cell_type": "markdown",
   "id": "62050c72",
   "metadata": {},
   "source": [
    "<h2><b> Đồ án thực hành </b></h2>\n",
    "<h1 style='color:red;text-align:center;font-size:35px'><b>Chủ đề: Dự đoán giá rượu vang</b></h1>"
   ]
  },
  {
   "cell_type": "markdown",
   "id": "eede0177",
   "metadata": {},
   "source": [
    "<h3>Các thành viên trong nhóm</h3>\n",
    "<li> Phan Xuân Hoài - 20120481 </li>\n",
    "<li> </li>\n",
    "<li> </li>\n",
    "<li> </li>"
   ]
  },
  {
   "cell_type": "markdown",
   "id": "d9aeff06",
   "metadata": {},
   "source": [
    "# Import thư viện"
   ]
  },
  {
   "cell_type": "code",
   "execution_count": 1,
   "id": "bb276657",
   "metadata": {},
   "outputs": [],
   "source": [
    "import numpy as np\n",
    "import pandas as pd\n",
    "import matplotlib.pyplot as plt\n",
    "import seaborn as sns"
   ]
  },
  {
   "cell_type": "markdown",
   "id": "fadad046",
   "metadata": {},
   "source": [
    "<h1 style='color:blue;text-align:center;font-size:30px'><b>Phần A</b></h1>"
   ]
  },
  {
   "cell_type": "markdown",
   "id": "5a4ca039",
   "metadata": {},
   "source": [
    "# Thu thập dữ liệu"
   ]
  },
  {
   "cell_type": "markdown",
   "id": "79b3a572",
   "metadata": {},
   "source": [
    "## Tạo Project với Scrapy"
   ]
  },
  {
   "cell_type": "code",
   "execution_count": 2,
   "id": "09468941",
   "metadata": {},
   "outputs": [
    {
     "name": "stdout",
     "output_type": "stream",
     "text": [
      "New Scrapy project 'champagne', using template directory 'D:\\anconda\\lib\\site-packages\\scrapy\\templates\\project', created in:\n",
      "    D:\\NM KHDL\\Do An\\-NMKHDL_20_21\\champagne\n",
      "\n",
      "You can start your first spider with:\n",
      "    cd champagne\n",
      "    scrapy genspider example example.com\n"
     ]
    }
   ],
   "source": [
    "!scrapy startproject champagne"
   ]
  },
  {
   "cell_type": "code",
   "execution_count": 6,
   "id": "979057f5",
   "metadata": {},
   "outputs": [
    {
     "name": "stdout",
     "output_type": "stream",
     "text": [
      "[WinError 3] The system cannot find the path specified: 'champagne/champagne'\n",
      "D:\\NM KHDL\\Do An\\-NMKHDL_20_21\\champagne\\champagne\n"
     ]
    }
   ],
   "source": [
    "cd champagne/champagne"
   ]
  },
  {
   "cell_type": "code",
   "execution_count": null,
   "id": "205f62ff",
   "metadata": {},
   "outputs": [],
   "source": [
    "import scrapy\n",
    "\n",
    "class collect_player_url(scrapy.Spider):\n",
    "    name='champagne_urls' \n",
    "\n",
    "    def __init__(self):\n",
    "        self.offset = 1\n",
    "\n",
    "    def start_requests(self):\n",
    "        urls = ['https://winevn.com/ruou-vang/page/1']\n",
    "        yield scrapy.Request(url=urls[0], callback=self.parse)\n",
    "\n",
    "\n",
    "\n",
    "    def parse(self, response):\n",
    "        urls = response.selector.xpath('//*[@id=\"main\"]/ul/li/div/a[1]/@href').getall()\n",
    "        for link in urls:\n",
    "            yield {'champagne_url' : link}\n",
    "\n",
    "        url_string = \"https://winevn.com/ruou-vang/page/\"\n",
    "        self.offset += 1\n",
    "        if self.offset <= 234:\n",
    "            url_string = url_string + str(self.offset)\n",
    "            yield scrapy.Request(url=url_string, callback=self.parse)\n"
   ]
  },
  {
   "cell_type": "markdown",
   "id": "d1feb2e5",
   "metadata": {},
   "source": [
    "### Thu thập url của các sản phẩm"
   ]
  },
  {
   "cell_type": "code",
   "execution_count": null,
   "id": "ac361736",
   "metadata": {},
   "outputs": [],
   "source": [
    "!scrapy crawl champagne_urls -o dataset/champagne_urls.json"
   ]
  },
  {
   "cell_type": "markdown",
   "id": "c0402a19",
   "metadata": {},
   "source": [
    "### Thu thập thông tin chi tiết cho từng sản phẩm"
   ]
  },
  {
   "cell_type": "code",
   "execution_count": null,
   "id": "e7375dbe",
   "metadata": {},
   "outputs": [],
   "source": [
    " !scrapy crawl champagnes_info -o dataset/champagnes_info.csv"
   ]
  }
 ],
 "metadata": {
  "kernelspec": {
   "display_name": "Python 3 (ipykernel)",
   "language": "python",
   "name": "python3"
  },
  "language_info": {
   "codemirror_mode": {
    "name": "ipython",
    "version": 3
   },
   "file_extension": ".py",
   "mimetype": "text/x-python",
   "name": "python",
   "nbconvert_exporter": "python",
   "pygments_lexer": "ipython3",
   "version": "3.9.12"
  }
 },
 "nbformat": 4,
 "nbformat_minor": 5
}
