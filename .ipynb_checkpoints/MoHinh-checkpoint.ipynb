{
 "cells": [
  {
   "cell_type": "markdown",
   "id": "ac3e8fcd",
   "metadata": {},
   "source": [
    "# <h2><b> Đồ án thực hành </b></h2>\n",
    "<h1 style='color:red;text-align:center;font-size:35px'><b>Chủ đề: Dự đoán giá rượu vang</b></h1>"
   ]
  },
  {
   "cell_type": "markdown",
   "id": "7c0d5b36",
   "metadata": {},
   "source": [
    "# <h1 style='color:blue;text-align:center;font-size:30px'><b>Phần II</b></h1>"
   ]
  },
  {
   "cell_type": "markdown",
   "id": "469fd4ad",
   "metadata": {},
   "source": [
    "# <h3>Các thành viên trong nhóm</h3>\n",
    "<li> Phan Xuân Hoài - 20120481 </li>\n",
    "<li> Lê Kinh Luân - 1612355 </li>\n",
    "<li> Nguyễn Minh Nghĩa - 20120534</li>\n",
    "<li> Phạm Quốc Hưng - 19120522</li>"
   ]
  },
  {
   "cell_type": "markdown",
   "id": "47a5cd2e",
   "metadata": {},
   "source": [
    "### Import những thư viện cần thiết"
   ]
  },
  {
   "cell_type": "code",
   "execution_count": 75,
   "id": "d97b7426",
   "metadata": {},
   "outputs": [],
   "source": [
    "%matplotlib inline\n",
    "import matplotlib.pyplot as plt\n",
    "import numpy as np\n",
    "import pandas as pd \n",
    "import seaborn as sns\n",
    "sns.set_theme()\n",
    "\n",
    "import os\n",
    "import re\n",
    "import statistics\n",
    "sns.set(rc={'axes.facecolor':'lightblue', 'figure.facecolor':'lightgray'})"
   ]
  },
  {
   "cell_type": "code",
   "execution_count": 76,
   "id": "76b7cc70",
   "metadata": {},
   "outputs": [
    {
     "data": {
      "text/plain": [
       "'D:\\\\anconda\\\\python.exe'"
      ]
     },
     "execution_count": 76,
     "metadata": {},
     "output_type": "execute_result"
    }
   ],
   "source": [
    "import sys\n",
    "sys.executable"
   ]
  },
  {
   "cell_type": "code",
   "execution_count": 77,
   "id": "8216f52e",
   "metadata": {},
   "outputs": [
    {
     "name": "stdout",
     "output_type": "stream",
     "text": [
      "[WinError 3] The system cannot find the path specified: 'champagne/champagne'\n",
      "D:\\NM KHDL\\Do An\\-NMKHDL_20_21\\champagne\\champagne\n"
     ]
    }
   ],
   "source": [
    "cd champagne/champagne"
   ]
  },
  {
   "cell_type": "markdown",
   "id": "d935160c",
   "metadata": {},
   "source": [
    "### Đọc file 'champagnes_info_cleaned.csv' vào dataframe df"
   ]
  },
  {
   "cell_type": "code",
   "execution_count": 78,
   "id": "a0c9abfc",
   "metadata": {
    "scrolled": true
   },
   "outputs": [
    {
     "data": {
      "text/html": [
       "<div>\n",
       "<style scoped>\n",
       "    .dataframe tbody tr th:only-of-type {\n",
       "        vertical-align: middle;\n",
       "    }\n",
       "\n",
       "    .dataframe tbody tr th {\n",
       "        vertical-align: top;\n",
       "    }\n",
       "\n",
       "    .dataframe thead th {\n",
       "        text-align: right;\n",
       "    }\n",
       "</style>\n",
       "<table border=\"1\" class=\"dataframe\">\n",
       "  <thead>\n",
       "    <tr style=\"text-align: right;\">\n",
       "      <th></th>\n",
       "      <th>Ma_sp</th>\n",
       "      <th>Ten_sp</th>\n",
       "      <th>Gia</th>\n",
       "      <th>Xuat_xu</th>\n",
       "      <th>Nong_do</th>\n",
       "      <th>Dung_tich</th>\n",
       "      <th>Giong_nho</th>\n",
       "      <th>Mau_sac</th>\n",
       "      <th>Loai_ruou</th>\n",
       "      <th>Thuong_hieu</th>\n",
       "      <th>Vung_lam_vang</th>\n",
       "    </tr>\n",
       "  </thead>\n",
       "  <tbody>\n",
       "    <tr>\n",
       "      <th>0</th>\n",
       "      <td>VNPV-3958</td>\n",
       "      <td>Rượu Champagne Bottega Stardust Prosecco</td>\n",
       "      <td>3563000.0</td>\n",
       "      <td>Ý</td>\n",
       "      <td>11.0</td>\n",
       "      <td>750.0</td>\n",
       "      <td>Glera</td>\n",
       "      <td>vàng rơm nhạt</td>\n",
       "      <td>Rượu Champagne</td>\n",
       "      <td>Bottega</td>\n",
       "      <td>Veneto</td>\n",
       "    </tr>\n",
       "    <tr>\n",
       "      <th>1</th>\n",
       "      <td>VNPV-9463</td>\n",
       "      <td>Rượu Champagne Carbon F1</td>\n",
       "      <td>8517000.0</td>\n",
       "      <td>Pháp</td>\n",
       "      <td>12.0</td>\n",
       "      <td>750.0</td>\n",
       "      <td>Chardonnay,Pinot meunier,Pinot Noir</td>\n",
       "      <td>trắng</td>\n",
       "      <td>Rượu Champagne</td>\n",
       "      <td>Delamotte</td>\n",
       "      <td>Champagne</td>\n",
       "    </tr>\n",
       "    <tr>\n",
       "      <th>2</th>\n",
       "      <td>VNPV1-1823</td>\n",
       "      <td>Rượu Champagne Charles Mignon Premium Reserve</td>\n",
       "      <td>1641000.0</td>\n",
       "      <td>Pháp</td>\n",
       "      <td>13.5</td>\n",
       "      <td>750.0</td>\n",
       "      <td>Chardonnay,Pinot meunier,Pinot Noir</td>\n",
       "      <td>vàng</td>\n",
       "      <td>Rượu Champagne</td>\n",
       "      <td>Charles Mignon</td>\n",
       "      <td>Champagne</td>\n",
       "    </tr>\n",
       "    <tr>\n",
       "      <th>3</th>\n",
       "      <td>VNPV-836</td>\n",
       "      <td>Rượu Champagne De Castellane Brut</td>\n",
       "      <td>753000.0</td>\n",
       "      <td>Pháp</td>\n",
       "      <td>11.0</td>\n",
       "      <td>375.0</td>\n",
       "      <td>Chardonnay</td>\n",
       "      <td>xanh nhạt</td>\n",
       "      <td>Rượu Champagne</td>\n",
       "      <td>De Castellane</td>\n",
       "      <td>Champagne</td>\n",
       "    </tr>\n",
       "    <tr>\n",
       "      <th>4</th>\n",
       "      <td>VNPV-4233</td>\n",
       "      <td>Rượu Champagne Delamotte Blanc De Blancs</td>\n",
       "      <td>3810000.0</td>\n",
       "      <td>Pháp</td>\n",
       "      <td>12.5</td>\n",
       "      <td>750.0</td>\n",
       "      <td>Chardonnay</td>\n",
       "      <td>trắng trong</td>\n",
       "      <td>Rượu Champagne</td>\n",
       "      <td>Delamotte</td>\n",
       "      <td>Champagne</td>\n",
       "    </tr>\n",
       "    <tr>\n",
       "      <th>5</th>\n",
       "      <td>VNPV-1956</td>\n",
       "      <td>Rượu Champagne Delamotte Brut</td>\n",
       "      <td>1761000.0</td>\n",
       "      <td>Pháp</td>\n",
       "      <td>12.0</td>\n",
       "      <td>750.0</td>\n",
       "      <td>Chardonnay</td>\n",
       "      <td>vàng</td>\n",
       "      <td>Rượu Champagne</td>\n",
       "      <td>Delamotte</td>\n",
       "      <td>Champagne</td>\n",
       "    </tr>\n",
       "    <tr>\n",
       "      <th>6</th>\n",
       "      <td>VNPV-3667</td>\n",
       "      <td>Rượu Champagne Delamotte Rose</td>\n",
       "      <td>2956000.0</td>\n",
       "      <td>Pháp</td>\n",
       "      <td>12.0</td>\n",
       "      <td>750.0</td>\n",
       "      <td>Chardonnay,Pinot Noir,Pinot Meunier</td>\n",
       "      <td>hồng</td>\n",
       "      <td>Rượu Champagne</td>\n",
       "      <td>Delamotte</td>\n",
       "      <td>Champagne</td>\n",
       "    </tr>\n",
       "    <tr>\n",
       "      <th>7</th>\n",
       "      <td>VNPV-1976</td>\n",
       "      <td>Rượu Champagne Duval Leroy Thierry Drapeau</td>\n",
       "      <td>1779000.0</td>\n",
       "      <td>Pháp</td>\n",
       "      <td>12.5</td>\n",
       "      <td>750.0</td>\n",
       "      <td>Chardonnay</td>\n",
       "      <td>vàng</td>\n",
       "      <td>Rượu Champagne</td>\n",
       "      <td>Champagne Duval Leroy</td>\n",
       "      <td>Champagne</td>\n",
       "    </tr>\n",
       "    <tr>\n",
       "      <th>8</th>\n",
       "      <td>VNTK3-480</td>\n",
       "      <td>Rượu Champagne JP Chenet Brut Blanc</td>\n",
       "      <td>480000.0</td>\n",
       "      <td>Pháp</td>\n",
       "      <td>13.0</td>\n",
       "      <td>750.0</td>\n",
       "      <td>Chardonnay</td>\n",
       "      <td>đỏ đậm</td>\n",
       "      <td>Rượu Vang Nổ</td>\n",
       "      <td>JP Chenet</td>\n",
       "      <td>Pays d’Oc</td>\n",
       "    </tr>\n",
       "    <tr>\n",
       "      <th>9</th>\n",
       "      <td>VNBMF-744</td>\n",
       "      <td>Rượu Champagne JP Chenet Divine Chardonnay</td>\n",
       "      <td>750000.0</td>\n",
       "      <td>Pháp</td>\n",
       "      <td>12.5</td>\n",
       "      <td>750.0</td>\n",
       "      <td>Chardonnay</td>\n",
       "      <td>vàng rơm</td>\n",
       "      <td>Rượu Vang Nổ</td>\n",
       "      <td>JP Chenet</td>\n",
       "      <td>Pays d’Oc</td>\n",
       "    </tr>\n",
       "  </tbody>\n",
       "</table>\n",
       "</div>"
      ],
      "text/plain": [
       "        Ma_sp                                         Ten_sp        Gia  \\\n",
       "0   VNPV-3958       Rượu Champagne Bottega Stardust Prosecco  3563000.0   \n",
       "1   VNPV-9463                       Rượu Champagne Carbon F1  8517000.0   \n",
       "2  VNPV1-1823  Rượu Champagne Charles Mignon Premium Reserve  1641000.0   \n",
       "3    VNPV-836              Rượu Champagne De Castellane Brut   753000.0   \n",
       "4   VNPV-4233       Rượu Champagne Delamotte Blanc De Blancs  3810000.0   \n",
       "5   VNPV-1956                  Rượu Champagne Delamotte Brut  1761000.0   \n",
       "6   VNPV-3667                  Rượu Champagne Delamotte Rose  2956000.0   \n",
       "7   VNPV-1976     Rượu Champagne Duval Leroy Thierry Drapeau  1779000.0   \n",
       "8   VNTK3-480            Rượu Champagne JP Chenet Brut Blanc   480000.0   \n",
       "9   VNBMF-744     Rượu Champagne JP Chenet Divine Chardonnay   750000.0   \n",
       "\n",
       "  Xuat_xu  Nong_do  Dung_tich                            Giong_nho  \\\n",
       "0       Ý     11.0      750.0                                Glera   \n",
       "1    Pháp     12.0      750.0  Chardonnay,Pinot meunier,Pinot Noir   \n",
       "2    Pháp     13.5      750.0  Chardonnay,Pinot meunier,Pinot Noir   \n",
       "3    Pháp     11.0      375.0                           Chardonnay   \n",
       "4    Pháp     12.5      750.0                           Chardonnay   \n",
       "5    Pháp     12.0      750.0                           Chardonnay   \n",
       "6    Pháp     12.0      750.0  Chardonnay,Pinot Noir,Pinot Meunier   \n",
       "7    Pháp     12.5      750.0                           Chardonnay   \n",
       "8    Pháp     13.0      750.0                           Chardonnay   \n",
       "9    Pháp     12.5      750.0                           Chardonnay   \n",
       "\n",
       "         Mau_sac       Loai_ruou            Thuong_hieu Vung_lam_vang  \n",
       "0  vàng rơm nhạt  Rượu Champagne                Bottega        Veneto  \n",
       "1          trắng  Rượu Champagne              Delamotte     Champagne  \n",
       "2           vàng  Rượu Champagne         Charles Mignon     Champagne  \n",
       "3      xanh nhạt  Rượu Champagne          De Castellane     Champagne  \n",
       "4    trắng trong  Rượu Champagne              Delamotte     Champagne  \n",
       "5           vàng  Rượu Champagne              Delamotte     Champagne  \n",
       "6           hồng  Rượu Champagne              Delamotte     Champagne  \n",
       "7           vàng  Rượu Champagne  Champagne Duval Leroy     Champagne  \n",
       "8        đỏ đậm  Rượu Vang Nổ              JP Chenet     Pays d’Oc  \n",
       "9       vàng rơm  Rượu Vang Nổ              JP Chenet     Pays d’Oc  "
      ]
     },
     "execution_count": 78,
     "metadata": {},
     "output_type": "execute_result"
    }
   ],
   "source": [
    "df = pd.read_csv('./dataset/champagne_info_cleaned.csv', index_col=0)\n",
    "df.head(10)"
   ]
  },
  {
   "cell_type": "markdown",
   "id": "dee2eb8a",
   "metadata": {},
   "source": [
    "<h2 style='color:#45ccb1d4;text-align:center;font-size:25px'><b>A. Mô hình hóa dữ liệu</b></h2> "
   ]
  },
  {
   "cell_type": "markdown",
   "id": "b0c3805a",
   "metadata": {},
   "source": [
    "### Import thư viện"
   ]
  },
  {
   "cell_type": "code",
   "execution_count": 79,
   "id": "0a60a4d3",
   "metadata": {},
   "outputs": [],
   "source": [
    "from sklearn.model_selection import train_test_split\n",
    "from sklearn.preprocessing import MultiLabelBinarizer\n",
    "from sklearn.preprocessing import OneHotEncoder, StandardScaler\n",
    "from sklearn.linear_model import LinearRegression\n",
    "from sklearn.compose import ColumnTransformer"
   ]
  },
  {
   "cell_type": "markdown",
   "id": "8e552272",
   "metadata": {},
   "source": [
    "### Lựa chọn các đặc trưng để mô hình"
   ]
  },
  {
   "cell_type": "markdown",
   "id": "56d849df",
   "metadata": {},
   "source": []
  },
  {
   "cell_type": "markdown",
   "id": "b7219e4b",
   "metadata": {},
   "source": [
    "### Tiền xử lý trước khi chạy mô hình"
   ]
  },
  {
   "cell_type": "code",
   "execution_count": 80,
   "id": "679a15e2",
   "metadata": {},
   "outputs": [],
   "source": [
    "def strip_list_string(ls):\n",
    "    new_ls = []\n",
    "    for s in ls:\n",
    "        if type(s) != float and len(s) > 1:\n",
    "            new_ls.append(s.strip())\n",
    "    return new_ls"
   ]
  },
  {
   "cell_type": "code",
   "execution_count": 81,
   "id": "7a28afef",
   "metadata": {
    "scrolled": true
   },
   "outputs": [],
   "source": [
    "# df['Giong_nho'] = df['Giong_nho'].str.split(',')\n",
    "# df['Giong_nho'] = df['Giong_nho'].apply(strip_list_string)\n",
    "# df['Giong_nho']"
   ]
  },
  {
   "cell_type": "code",
   "execution_count": 82,
   "id": "db09144d",
   "metadata": {},
   "outputs": [
    {
     "data": {
      "text/plain": [
       "Chardonnay                                        399\n",
       "Cabernet Sauvignon                                296\n",
       "Pinot Noir                                        251\n",
       "Sauvignon Blanc                                   221\n",
       "Cabernet Sauvignon,Merlot                         140\n",
       "                                                 ... \n",
       "Syrah,Cabernet Sauvignon,Malbec,Merlot              1\n",
       "Cabernet Sauvignon,Shiraz,Merlot                    1\n",
       "Cabernet Sauvignon,Petit Verdot,Cabernet Franc      1\n",
       "Viognier,Syrah                                      1\n",
       "Carmenere,Shiraz,Cabernet Sauvignon,Malbec          1\n",
       "Name: Giong_nho, Length: 727, dtype: int64"
      ]
     },
     "execution_count": 82,
     "metadata": {},
     "output_type": "execute_result"
    }
   ],
   "source": [
    "df['Giong_nho'].explode().value_counts()"
   ]
  },
  {
   "cell_type": "code",
   "execution_count": 83,
   "id": "bbd27f3d",
   "metadata": {},
   "outputs": [],
   "source": [
    "# mlb = MultiLabelBinarizer(sparse_output=True)\n",
    "# giong_nho_encoded = mlb.fit_transform(df.pop('Giong_nho'))\n",
    "# df_encoded = pd.DataFrame.sparse.from_spmatrix(giong_nho_encoded,index=df.index, columns=mlb.classes_)"
   ]
  },
  {
   "cell_type": "code",
   "execution_count": 84,
   "id": "f34a9748",
   "metadata": {},
   "outputs": [],
   "source": [
    "df = df.drop(columns=['Ma_sp', 'Ten_sp'])\n",
    "\n",
    "target_name = \"Gia\"\n",
    "target = df[target_name]\n",
    "\n",
    "data = df.drop(columns=[target_name])"
   ]
  },
  {
   "cell_type": "code",
   "execution_count": 85,
   "id": "1dafe750",
   "metadata": {},
   "outputs": [],
   "source": [
    "column_name = [ 'Xuat_xu','Mau_sac', 'Loai_ruou', 'Thuong_hieu', 'Vung_lam_vang']"
   ]
  },
  {
   "cell_type": "code",
   "execution_count": 86,
   "id": "040f406b",
   "metadata": {},
   "outputs": [],
   "source": [
    "categorical_preprocessor = OneHotEncoder(sparse=False,handle_unknown=\"ignore\")\n",
    "numerical_preprocessor = StandardScaler()\n",
    "\n",
    "preprocessor = ColumnTransformer([\n",
    "    ('one-hot-encoder', categorical_preprocessor, df[column_name]),\n",
    "    ('standard_scaler', numerical_preprocessor, df[[ 'Nong_do', 'Dung_tich']])])"
   ]
  },
  {
   "cell_type": "code",
   "execution_count": 87,
   "id": "67a7bb28",
   "metadata": {},
   "outputs": [
    {
     "data": {
      "text/plain": [
       "Pipeline(steps=[('columntransformer',\n",
       "                 ColumnTransformer(transformers=[('one-hot-encoder',\n",
       "                                                  OneHotEncoder(handle_unknown='ignore',\n",
       "                                                                sparse=False),\n",
       "                                                       Xuat_xu        Mau_sac       Loai_ruou     Thuong_hieu    Vung_lam_vang\n",
       "0          Ý  vàng rơm nhạt  Rượu Champagne         Bottega           Veneto\n",
       "1       Pháp          trắng  Rượu Champagne       Delamotte        Champagne\n",
       "2       Pháp           vàng  Rượu Champagne  Charles Mignon        Champagne\n",
       "3       Pháp      xanh nhạt  Rượu Champagne   De Castellane        C...\n",
       "[3934 rows x 5 columns]),\n",
       "                                                 ('standard_scaler',\n",
       "                                                  StandardScaler(),\n",
       "                                                        Nong_do  Dung_tich        Gia\n",
       "0        11.0      750.0  3563000.0\n",
       "1        12.0      750.0  8517000.0\n",
       "2        13.5      750.0  1641000.0\n",
       "3        11.0      375.0   753000.0\n",
       "4        12.5      750.0  3810000.0\n",
       "...       ...        ...        ...\n",
       "3929     12.0      750.0   415000.0\n",
       "3930     14.0      750.0  1975000.0\n",
       "3931     13.5      750.0   330000.0\n",
       "3932     13.5      750.0   660000.0\n",
       "3933     12.5      750.0   575000.0\n",
       "\n",
       "[3934 rows x 3 columns])])),\n",
       "                ('logisticregression', LogisticRegression(max_iter=500))])"
      ]
     },
     "execution_count": 87,
     "metadata": {},
     "output_type": "execute_result"
    }
   ],
   "source": [
    "from sklearn.linear_model import LogisticRegression\n",
    "from sklearn.pipeline import make_pipeline\n",
    "\n",
    "model = make_pipeline(preprocessor, LogisticRegression(max_iter=500))\n",
    "model"
   ]
  },
  {
   "cell_type": "code",
   "execution_count": 88,
   "id": "2ee83372",
   "metadata": {},
   "outputs": [],
   "source": [
    "data_train, data_test, target_train, target_test = train_test_split(\n",
    "    data, target, random_state=42)"
   ]
  },
  {
   "cell_type": "code",
   "execution_count": 90,
   "id": "2d7bf77a",
   "metadata": {},
   "outputs": [
    {
     "data": {
      "text/html": [
       "<div>\n",
       "<style scoped>\n",
       "    .dataframe tbody tr th:only-of-type {\n",
       "        vertical-align: middle;\n",
       "    }\n",
       "\n",
       "    .dataframe tbody tr th {\n",
       "        vertical-align: top;\n",
       "    }\n",
       "\n",
       "    .dataframe thead th {\n",
       "        text-align: right;\n",
       "    }\n",
       "</style>\n",
       "<table border=\"1\" class=\"dataframe\">\n",
       "  <thead>\n",
       "    <tr style=\"text-align: right;\">\n",
       "      <th></th>\n",
       "      <th>Xuat_xu</th>\n",
       "      <th>Nong_do</th>\n",
       "      <th>Dung_tich</th>\n",
       "      <th>Giong_nho</th>\n",
       "      <th>Mau_sac</th>\n",
       "      <th>Loai_ruou</th>\n",
       "      <th>Thuong_hieu</th>\n",
       "      <th>Vung_lam_vang</th>\n",
       "    </tr>\n",
       "  </thead>\n",
       "  <tbody>\n",
       "    <tr>\n",
       "      <th>1815</th>\n",
       "      <td>Pháp</td>\n",
       "      <td>14.0</td>\n",
       "      <td>750.0</td>\n",
       "      <td>Syrah</td>\n",
       "      <td>đỏ ruby đậm</td>\n",
       "      <td>Rượu Vang Đỏ</td>\n",
       "      <td>Paul Jaboulet Aine</td>\n",
       "      <td>Rhone Valley</td>\n",
       "    </tr>\n",
       "    <tr>\n",
       "      <th>3642</th>\n",
       "      <td>ÚC</td>\n",
       "      <td>14.5</td>\n",
       "      <td>750.0</td>\n",
       "      <td>Shiraz</td>\n",
       "      <td>đỏ thẫm</td>\n",
       "      <td>Rượu Vang Đỏ</td>\n",
       "      <td>D’Arenberg</td>\n",
       "      <td>McLaren Vale</td>\n",
       "    </tr>\n",
       "    <tr>\n",
       "      <th>2208</th>\n",
       "      <td>Ý</td>\n",
       "      <td>10.5</td>\n",
       "      <td>750.0</td>\n",
       "      <td>Moscato</td>\n",
       "      <td>vàng rơm</td>\n",
       "      <td>Rượu Vang Trắng</td>\n",
       "      <td>Mezzacorona</td>\n",
       "      <td>Trentino – Alto Adige</td>\n",
       "    </tr>\n",
       "    <tr>\n",
       "      <th>343</th>\n",
       "      <td>Ý</td>\n",
       "      <td>17.0</td>\n",
       "      <td>750.0</td>\n",
       "      <td>Corvina,Corvinone,Rondinella,Oseleta</td>\n",
       "      <td>đỏ đậm</td>\n",
       "      <td>Rượu vang đỏ</td>\n",
       "      <td>Buglioni</td>\n",
       "      <td>Veneto</td>\n",
       "    </tr>\n",
       "    <tr>\n",
       "      <th>1822</th>\n",
       "      <td>Mỹ</td>\n",
       "      <td>14.0</td>\n",
       "      <td>750.0</td>\n",
       "      <td>Cabernet Sauvignon</td>\n",
       "      <td>đỏ ruby</td>\n",
       "      <td>Rượu Vang Đỏ</td>\n",
       "      <td>Jonata</td>\n",
       "      <td>California</td>\n",
       "    </tr>\n",
       "    <tr>\n",
       "      <th>...</th>\n",
       "      <td>...</td>\n",
       "      <td>...</td>\n",
       "      <td>...</td>\n",
       "      <td>...</td>\n",
       "      <td>...</td>\n",
       "      <td>...</td>\n",
       "      <td>...</td>\n",
       "      <td>...</td>\n",
       "    </tr>\n",
       "    <tr>\n",
       "      <th>1130</th>\n",
       "      <td>Chile</td>\n",
       "      <td>13.0</td>\n",
       "      <td>750.0</td>\n",
       "      <td>Cabernet Sauvignon</td>\n",
       "      <td>đỏ ruby</td>\n",
       "      <td>Rượu Vang Đỏ</td>\n",
       "      <td>7Colores</td>\n",
       "      <td>Maule Valley</td>\n",
       "    </tr>\n",
       "    <tr>\n",
       "      <th>1294</th>\n",
       "      <td>Pháp</td>\n",
       "      <td>13.0</td>\n",
       "      <td>750.0</td>\n",
       "      <td>Pinot Noir</td>\n",
       "      <td>đỏ</td>\n",
       "      <td>Rượu Vang đỏ</td>\n",
       "      <td>Louis Jadot</td>\n",
       "      <td>Bourgogne</td>\n",
       "    </tr>\n",
       "    <tr>\n",
       "      <th>860</th>\n",
       "      <td>Pháp</td>\n",
       "      <td>13.0</td>\n",
       "      <td>750.0</td>\n",
       "      <td>Merlot,Cabernet Sauvignon</td>\n",
       "      <td>đỏ ruby</td>\n",
       "      <td>Rượu Vang Đỏ</td>\n",
       "      <td>Borie Manoux</td>\n",
       "      <td>Bordeaux</td>\n",
       "    </tr>\n",
       "    <tr>\n",
       "      <th>3507</th>\n",
       "      <td>Pháp</td>\n",
       "      <td>14.5</td>\n",
       "      <td>750.0</td>\n",
       "      <td>Grenache</td>\n",
       "      <td>vàng rơm rực rỡ</td>\n",
       "      <td>Rượu Vang Trắng</td>\n",
       "      <td>Domaine Cazes</td>\n",
       "      <td>Coullioure AOP</td>\n",
       "    </tr>\n",
       "    <tr>\n",
       "      <th>3174</th>\n",
       "      <td>ÚC</td>\n",
       "      <td>14.0</td>\n",
       "      <td>750.0</td>\n",
       "      <td>Shiraz</td>\n",
       "      <td>đỏ đậm</td>\n",
       "      <td>Rượu vang đỏ</td>\n",
       "      <td>ST Hallett</td>\n",
       "      <td>Barossa Valley</td>\n",
       "    </tr>\n",
       "  </tbody>\n",
       "</table>\n",
       "<p>2950 rows × 8 columns</p>\n",
       "</div>"
      ],
      "text/plain": [
       "     Xuat_xu  Nong_do  Dung_tich                             Giong_nho  \\\n",
       "1815    Pháp     14.0      750.0                                 Syrah   \n",
       "3642      ÚC     14.5      750.0                                Shiraz   \n",
       "2208       Ý     10.5      750.0                               Moscato   \n",
       "343        Ý     17.0      750.0  Corvina,Corvinone,Rondinella,Oseleta   \n",
       "1822      Mỹ     14.0      750.0                    Cabernet Sauvignon   \n",
       "...      ...      ...        ...                                   ...   \n",
       "1130   Chile     13.0      750.0                    Cabernet Sauvignon   \n",
       "1294    Pháp     13.0      750.0                            Pinot Noir   \n",
       "860     Pháp     13.0      750.0             Merlot,Cabernet Sauvignon   \n",
       "3507    Pháp     14.5      750.0                              Grenache   \n",
       "3174      ÚC     14.0      750.0                                Shiraz   \n",
       "\n",
       "              Mau_sac         Loai_ruou         Thuong_hieu  \\\n",
       "1815      đỏ ruby đậm      Rượu Vang Đỏ  Paul Jaboulet Aine   \n",
       "3642          đỏ thẫm      Rượu Vang Đỏ          D’Arenberg   \n",
       "2208         vàng rơm  Rượu Vang Trắng         Mezzacorona   \n",
       "343            đỏ đậm      Rượu vang đỏ            Buglioni   \n",
       "1822          đỏ ruby      Rượu Vang Đỏ              Jonata   \n",
       "...               ...               ...                 ...   \n",
       "1130          đỏ ruby    Rượu Vang Đỏ            7Colores   \n",
       "1294               đỏ      Rượu Vang đỏ         Louis Jadot   \n",
       "860           đỏ ruby      Rượu Vang Đỏ        Borie Manoux   \n",
       "3507  vàng rơm rực rỡ   Rượu Vang Trắng       Domaine Cazes   \n",
       "3174           đỏ đậm      Rượu vang đỏ          ST Hallett   \n",
       "\n",
       "              Vung_lam_vang  \n",
       "1815           Rhone Valley  \n",
       "3642           McLaren Vale  \n",
       "2208  Trentino – Alto Adige  \n",
       "343                  Veneto  \n",
       "1822             California  \n",
       "...                     ...  \n",
       "1130           Maule Valley  \n",
       "1294              Bourgogne  \n",
       "860                Bordeaux  \n",
       "3507         Coullioure AOP  \n",
       "3174         Barossa Valley  \n",
       "\n",
       "[2950 rows x 8 columns]"
      ]
     },
     "execution_count": 90,
     "metadata": {},
     "output_type": "execute_result"
    }
   ],
   "source": [
    "data_train"
   ]
  },
  {
   "cell_type": "code",
   "execution_count": 89,
   "id": "c3a3e18f",
   "metadata": {},
   "outputs": [
    {
     "ename": "ValueError",
     "evalue": "No valid specification of the columns. Only a scalar, list or slice of all integers or all strings, or boolean mask is allowed",
     "output_type": "error",
     "traceback": [
      "\u001b[1;31m---------------------------------------------------------------------------\u001b[0m",
      "\u001b[1;31mValueError\u001b[0m                                Traceback (most recent call last)",
      "Input \u001b[1;32mIn [89]\u001b[0m, in \u001b[0;36m<cell line: 1>\u001b[1;34m()\u001b[0m\n\u001b[1;32m----> 1\u001b[0m _ \u001b[38;5;241m=\u001b[39m \u001b[43mmodel\u001b[49m\u001b[38;5;241;43m.\u001b[39;49m\u001b[43mfit\u001b[49m\u001b[43m(\u001b[49m\u001b[43mdata_train\u001b[49m\u001b[43m,\u001b[49m\u001b[43m \u001b[49m\u001b[43mtarget_train\u001b[49m\u001b[43m)\u001b[49m\n",
      "File \u001b[1;32mD:\\anconda\\lib\\site-packages\\sklearn\\pipeline.py:390\u001b[0m, in \u001b[0;36mPipeline.fit\u001b[1;34m(self, X, y, **fit_params)\u001b[0m\n\u001b[0;32m    364\u001b[0m \u001b[38;5;124;03m\"\"\"Fit the model.\u001b[39;00m\n\u001b[0;32m    365\u001b[0m \n\u001b[0;32m    366\u001b[0m \u001b[38;5;124;03mFit all the transformers one after the other and transform the\u001b[39;00m\n\u001b[1;32m   (...)\u001b[0m\n\u001b[0;32m    387\u001b[0m \u001b[38;5;124;03m    Pipeline with fitted steps.\u001b[39;00m\n\u001b[0;32m    388\u001b[0m \u001b[38;5;124;03m\"\"\"\u001b[39;00m\n\u001b[0;32m    389\u001b[0m fit_params_steps \u001b[38;5;241m=\u001b[39m \u001b[38;5;28mself\u001b[39m\u001b[38;5;241m.\u001b[39m_check_fit_params(\u001b[38;5;241m*\u001b[39m\u001b[38;5;241m*\u001b[39mfit_params)\n\u001b[1;32m--> 390\u001b[0m Xt \u001b[38;5;241m=\u001b[39m \u001b[38;5;28mself\u001b[39m\u001b[38;5;241m.\u001b[39m_fit(X, y, \u001b[38;5;241m*\u001b[39m\u001b[38;5;241m*\u001b[39mfit_params_steps)\n\u001b[0;32m    391\u001b[0m \u001b[38;5;28;01mwith\u001b[39;00m _print_elapsed_time(\u001b[38;5;124m\"\u001b[39m\u001b[38;5;124mPipeline\u001b[39m\u001b[38;5;124m\"\u001b[39m, \u001b[38;5;28mself\u001b[39m\u001b[38;5;241m.\u001b[39m_log_message(\u001b[38;5;28mlen\u001b[39m(\u001b[38;5;28mself\u001b[39m\u001b[38;5;241m.\u001b[39msteps) \u001b[38;5;241m-\u001b[39m \u001b[38;5;241m1\u001b[39m)):\n\u001b[0;32m    392\u001b[0m     \u001b[38;5;28;01mif\u001b[39;00m \u001b[38;5;28mself\u001b[39m\u001b[38;5;241m.\u001b[39m_final_estimator \u001b[38;5;241m!=\u001b[39m \u001b[38;5;124m\"\u001b[39m\u001b[38;5;124mpassthrough\u001b[39m\u001b[38;5;124m\"\u001b[39m:\n",
      "File \u001b[1;32mD:\\anconda\\lib\\site-packages\\sklearn\\pipeline.py:348\u001b[0m, in \u001b[0;36mPipeline._fit\u001b[1;34m(self, X, y, **fit_params_steps)\u001b[0m\n\u001b[0;32m    346\u001b[0m     cloned_transformer \u001b[38;5;241m=\u001b[39m clone(transformer)\n\u001b[0;32m    347\u001b[0m \u001b[38;5;66;03m# Fit or load from cache the current transformer\u001b[39;00m\n\u001b[1;32m--> 348\u001b[0m X, fitted_transformer \u001b[38;5;241m=\u001b[39m fit_transform_one_cached(\n\u001b[0;32m    349\u001b[0m     cloned_transformer,\n\u001b[0;32m    350\u001b[0m     X,\n\u001b[0;32m    351\u001b[0m     y,\n\u001b[0;32m    352\u001b[0m     \u001b[38;5;28;01mNone\u001b[39;00m,\n\u001b[0;32m    353\u001b[0m     message_clsname\u001b[38;5;241m=\u001b[39m\u001b[38;5;124m\"\u001b[39m\u001b[38;5;124mPipeline\u001b[39m\u001b[38;5;124m\"\u001b[39m,\n\u001b[0;32m    354\u001b[0m     message\u001b[38;5;241m=\u001b[39m\u001b[38;5;28mself\u001b[39m\u001b[38;5;241m.\u001b[39m_log_message(step_idx),\n\u001b[0;32m    355\u001b[0m     \u001b[38;5;241m*\u001b[39m\u001b[38;5;241m*\u001b[39mfit_params_steps[name],\n\u001b[0;32m    356\u001b[0m )\n\u001b[0;32m    357\u001b[0m \u001b[38;5;66;03m# Replace the transformer of the step with the fitted\u001b[39;00m\n\u001b[0;32m    358\u001b[0m \u001b[38;5;66;03m# transformer. This is necessary when loading the transformer\u001b[39;00m\n\u001b[0;32m    359\u001b[0m \u001b[38;5;66;03m# from the cache.\u001b[39;00m\n\u001b[0;32m    360\u001b[0m \u001b[38;5;28mself\u001b[39m\u001b[38;5;241m.\u001b[39msteps[step_idx] \u001b[38;5;241m=\u001b[39m (name, fitted_transformer)\n",
      "File \u001b[1;32mD:\\anconda\\lib\\site-packages\\joblib\\memory.py:349\u001b[0m, in \u001b[0;36mNotMemorizedFunc.__call__\u001b[1;34m(self, *args, **kwargs)\u001b[0m\n\u001b[0;32m    348\u001b[0m \u001b[38;5;28;01mdef\u001b[39;00m \u001b[38;5;21m__call__\u001b[39m(\u001b[38;5;28mself\u001b[39m, \u001b[38;5;241m*\u001b[39margs, \u001b[38;5;241m*\u001b[39m\u001b[38;5;241m*\u001b[39mkwargs):\n\u001b[1;32m--> 349\u001b[0m     \u001b[38;5;28;01mreturn\u001b[39;00m \u001b[38;5;28mself\u001b[39m\u001b[38;5;241m.\u001b[39mfunc(\u001b[38;5;241m*\u001b[39margs, \u001b[38;5;241m*\u001b[39m\u001b[38;5;241m*\u001b[39mkwargs)\n",
      "File \u001b[1;32mD:\\anconda\\lib\\site-packages\\sklearn\\pipeline.py:893\u001b[0m, in \u001b[0;36m_fit_transform_one\u001b[1;34m(transformer, X, y, weight, message_clsname, message, **fit_params)\u001b[0m\n\u001b[0;32m    891\u001b[0m \u001b[38;5;28;01mwith\u001b[39;00m _print_elapsed_time(message_clsname, message):\n\u001b[0;32m    892\u001b[0m     \u001b[38;5;28;01mif\u001b[39;00m \u001b[38;5;28mhasattr\u001b[39m(transformer, \u001b[38;5;124m\"\u001b[39m\u001b[38;5;124mfit_transform\u001b[39m\u001b[38;5;124m\"\u001b[39m):\n\u001b[1;32m--> 893\u001b[0m         res \u001b[38;5;241m=\u001b[39m transformer\u001b[38;5;241m.\u001b[39mfit_transform(X, y, \u001b[38;5;241m*\u001b[39m\u001b[38;5;241m*\u001b[39mfit_params)\n\u001b[0;32m    894\u001b[0m     \u001b[38;5;28;01melse\u001b[39;00m:\n\u001b[0;32m    895\u001b[0m         res \u001b[38;5;241m=\u001b[39m transformer\u001b[38;5;241m.\u001b[39mfit(X, y, \u001b[38;5;241m*\u001b[39m\u001b[38;5;241m*\u001b[39mfit_params)\u001b[38;5;241m.\u001b[39mtransform(X)\n",
      "File \u001b[1;32mD:\\anconda\\lib\\site-packages\\sklearn\\compose\\_column_transformer.py:672\u001b[0m, in \u001b[0;36mColumnTransformer.fit_transform\u001b[1;34m(self, X, y)\u001b[0m\n\u001b[0;32m    670\u001b[0m \u001b[38;5;28mself\u001b[39m\u001b[38;5;241m.\u001b[39m_check_n_features(X, reset\u001b[38;5;241m=\u001b[39m\u001b[38;5;28;01mTrue\u001b[39;00m)\n\u001b[0;32m    671\u001b[0m \u001b[38;5;28mself\u001b[39m\u001b[38;5;241m.\u001b[39m_validate_transformers()\n\u001b[1;32m--> 672\u001b[0m \u001b[38;5;28;43mself\u001b[39;49m\u001b[38;5;241;43m.\u001b[39;49m\u001b[43m_validate_column_callables\u001b[49m\u001b[43m(\u001b[49m\u001b[43mX\u001b[49m\u001b[43m)\u001b[49m\n\u001b[0;32m    673\u001b[0m \u001b[38;5;28mself\u001b[39m\u001b[38;5;241m.\u001b[39m_validate_remainder(X)\n\u001b[0;32m    675\u001b[0m result \u001b[38;5;241m=\u001b[39m \u001b[38;5;28mself\u001b[39m\u001b[38;5;241m.\u001b[39m_fit_transform(X, y, _fit_transform_one)\n",
      "File \u001b[1;32mD:\\anconda\\lib\\site-packages\\sklearn\\compose\\_column_transformer.py:352\u001b[0m, in \u001b[0;36mColumnTransformer._validate_column_callables\u001b[1;34m(self, X)\u001b[0m\n\u001b[0;32m    350\u001b[0m         columns \u001b[38;5;241m=\u001b[39m columns(X)\n\u001b[0;32m    351\u001b[0m     all_columns\u001b[38;5;241m.\u001b[39mappend(columns)\n\u001b[1;32m--> 352\u001b[0m     transformer_to_input_indices[name] \u001b[38;5;241m=\u001b[39m \u001b[43m_get_column_indices\u001b[49m\u001b[43m(\u001b[49m\u001b[43mX\u001b[49m\u001b[43m,\u001b[49m\u001b[43m \u001b[49m\u001b[43mcolumns\u001b[49m\u001b[43m)\u001b[49m\n\u001b[0;32m    354\u001b[0m \u001b[38;5;28mself\u001b[39m\u001b[38;5;241m.\u001b[39m_columns \u001b[38;5;241m=\u001b[39m all_columns\n\u001b[0;32m    355\u001b[0m \u001b[38;5;28mself\u001b[39m\u001b[38;5;241m.\u001b[39m_transformer_to_input_indices \u001b[38;5;241m=\u001b[39m transformer_to_input_indices\n",
      "File \u001b[1;32mD:\\anconda\\lib\\site-packages\\sklearn\\utils\\__init__.py:391\u001b[0m, in \u001b[0;36m_get_column_indices\u001b[1;34m(X, key)\u001b[0m\n\u001b[0;32m    384\u001b[0m \u001b[38;5;124;03m\"\"\"Get feature column indices for input data X and key.\u001b[39;00m\n\u001b[0;32m    385\u001b[0m \n\u001b[0;32m    386\u001b[0m \u001b[38;5;124;03mFor accepted values of `key`, see the docstring of\u001b[39;00m\n\u001b[0;32m    387\u001b[0m \u001b[38;5;124;03m:func:`_safe_indexing_column`.\u001b[39;00m\n\u001b[0;32m    388\u001b[0m \u001b[38;5;124;03m\"\"\"\u001b[39;00m\n\u001b[0;32m    389\u001b[0m n_columns \u001b[38;5;241m=\u001b[39m X\u001b[38;5;241m.\u001b[39mshape[\u001b[38;5;241m1\u001b[39m]\n\u001b[1;32m--> 391\u001b[0m key_dtype \u001b[38;5;241m=\u001b[39m \u001b[43m_determine_key_type\u001b[49m\u001b[43m(\u001b[49m\u001b[43mkey\u001b[49m\u001b[43m)\u001b[49m\n\u001b[0;32m    393\u001b[0m \u001b[38;5;28;01mif\u001b[39;00m \u001b[38;5;28misinstance\u001b[39m(key, (\u001b[38;5;28mlist\u001b[39m, \u001b[38;5;28mtuple\u001b[39m)) \u001b[38;5;129;01mand\u001b[39;00m \u001b[38;5;129;01mnot\u001b[39;00m key:\n\u001b[0;32m    394\u001b[0m     \u001b[38;5;66;03m# we get an empty list\u001b[39;00m\n\u001b[0;32m    395\u001b[0m     \u001b[38;5;28;01mreturn\u001b[39;00m []\n",
      "File \u001b[1;32mD:\\anconda\\lib\\site-packages\\sklearn\\utils\\__init__.py:304\u001b[0m, in \u001b[0;36m_determine_key_type\u001b[1;34m(key, accept_slice)\u001b[0m\n\u001b[0;32m    302\u001b[0m     \u001b[38;5;28;01mexcept\u001b[39;00m \u001b[38;5;167;01mKeyError\u001b[39;00m:\n\u001b[0;32m    303\u001b[0m         \u001b[38;5;28;01mraise\u001b[39;00m \u001b[38;5;167;01mValueError\u001b[39;00m(err_msg)\n\u001b[1;32m--> 304\u001b[0m \u001b[38;5;28;01mraise\u001b[39;00m \u001b[38;5;167;01mValueError\u001b[39;00m(err_msg)\n",
      "\u001b[1;31mValueError\u001b[0m: No valid specification of the columns. Only a scalar, list or slice of all integers or all strings, or boolean mask is allowed"
     ]
    }
   ],
   "source": [
    "_ = model.fit(data_train, target_train)"
   ]
  },
  {
   "cell_type": "code",
   "execution_count": null,
   "id": "4a1c6851",
   "metadata": {},
   "outputs": [],
   "source": [
    "model.predict(data_test)[:5]"
   ]
  },
  {
   "cell_type": "code",
   "execution_count": null,
   "id": "1051c010",
   "metadata": {},
   "outputs": [],
   "source": [
    "target_test[:5]"
   ]
  },
  {
   "cell_type": "code",
   "execution_count": null,
   "id": "7cb457a3",
   "metadata": {},
   "outputs": [],
   "source": [
    "# encoder = OneHotEncoder(sparse=False,handle_unknown=\"ignore\")\n",
    "# numerical_preprocessor = StandardScaler()\n",
    "\n",
    "# other_categorite_encoded = encoder.fit_transform(df[column_name])\n",
    "# columns_encoded = encoder.get_feature_names_out(column_name)\n",
    "# df_encoded = df_encoded.join(pd.DataFrame(other_categorite_encoded,index=df.index, columns=columns_encoded))\n",
    "# df_encoded = df_encoded.join(df[[ 'Nong_do', 'Dung_tich','Gia']])"
   ]
  },
  {
   "cell_type": "code",
   "execution_count": null,
   "id": "860e2788",
   "metadata": {},
   "outputs": [],
   "source": []
  },
  {
   "cell_type": "code",
   "execution_count": null,
   "id": "ed121d04",
   "metadata": {},
   "outputs": [],
   "source": [
    "# df_encoded"
   ]
  },
  {
   "cell_type": "code",
   "execution_count": null,
   "id": "b446e19f",
   "metadata": {
    "scrolled": true
   },
   "outputs": [],
   "source": [
    "# y = df_encoded.pop('Gia')"
   ]
  },
  {
   "cell_type": "code",
   "execution_count": null,
   "id": "212c291f",
   "metadata": {},
   "outputs": [],
   "source": [
    "#Chia df thành tập train và test\n",
    "X_train, X_test, y_train, y_test = train_test_split(df_encoded, y, test_size=0.2)\n",
    "# train.to_csv(os.path.join(os.getcwd(), 'dataset', 'train.csv'),index=False)\n",
    "# test.to_csv(os.path.join(os.getcwd(), 'dataset', 'test.csv'),index=False)"
   ]
  },
  {
   "cell_type": "markdown",
   "id": "b36ca404",
   "metadata": {},
   "source": [
    "<h3 style='color:#45ccb1d4;text-align:center;font-size:20px'><b>1.Linear Regression</b></h3> "
   ]
  },
  {
   "cell_type": "code",
   "execution_count": null,
   "id": "1741327b",
   "metadata": {},
   "outputs": [],
   "source": [
    "reg = LinearRegression().fit(X_train, y_train)"
   ]
  },
  {
   "cell_type": "code",
   "execution_count": null,
   "id": "494a2671",
   "metadata": {
    "scrolled": true
   },
   "outputs": [],
   "source": [
    "reg.predict(X_test)"
   ]
  },
  {
   "cell_type": "code",
   "execution_count": null,
   "id": "cb2fad1e",
   "metadata": {},
   "outputs": [],
   "source": [
    "y_test"
   ]
  },
  {
   "cell_type": "code",
   "execution_count": null,
   "id": "dda42922",
   "metadata": {},
   "outputs": [],
   "source": []
  }
 ],
 "metadata": {
  "kernelspec": {
   "display_name": "Python 3 (ipykernel)",
   "language": "python",
   "name": "python3"
  },
  "language_info": {
   "codemirror_mode": {
    "name": "ipython",
    "version": 3
   },
   "file_extension": ".py",
   "mimetype": "text/x-python",
   "name": "python",
   "nbconvert_exporter": "python",
   "pygments_lexer": "ipython3",
   "version": "3.9.12"
  }
 },
 "nbformat": 4,
 "nbformat_minor": 5
}
