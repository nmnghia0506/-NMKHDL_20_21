{
 "cells": [
  {
   "cell_type": "markdown",
   "id": "73795766",
   "metadata": {},
   "source": [
    "<h2><b> Đồ án thực hành </b></h2>\n",
    "<h1 style='color:red;text-align:center;font-size:35px'><b>Chủ đề: Dự đoán giá rượu vang</b></h1>"
   ]
  },
  {
   "cell_type": "markdown",
   "id": "def8ba59",
   "metadata": {},
   "source": [
    "<h3>Các thành viên trong nhóm</h3>\n",
    "<li> Phan Xuân Hoài - 20120481 </li>\n",
    "<li> </li>\n",
    "<li> </li>\n",
    "<li> </li>"
   ]
  },
  {
   "cell_type": "markdown",
   "id": "8149c323",
   "metadata": {},
   "source": [
    "# Import thư viện"
   ]
  },
  {
   "cell_type": "code",
   "execution_count": 1,
   "id": "fd25ef48",
   "metadata": {},
   "outputs": [],
   "source": [
    "import numpy as np\n",
    "import pandas as pd\n",
    "import matplotlib.pyplot as plt\n",
    "import seaborn as sns"
   ]
  },
  {
   "cell_type": "markdown",
   "id": "b037fc58",
   "metadata": {},
   "source": [
    "# Tạo Project với Scrapy"
   ]
  },
  {
   "cell_type": "code",
   "execution_count": 2,
   "id": "1991d21a",
   "metadata": {},
   "outputs": [
    {
     "name": "stdout",
     "output_type": "stream",
     "text": [
      "New Scrapy project 'champagne', using template directory 'D:\\anconda\\lib\\site-packages\\scrapy\\templates\\project', created in:\n",
      "    D:\\NM KHDL\\Do An\\-NMKHDL_20_21\\champagne\n",
      "\n",
      "You can start your first spider with:\n",
      "    cd champagne\n",
      "    scrapy genspider example example.com\n"
     ]
    }
   ],
   "source": [
    "!scrapy startproject champagne"
   ]
  },
  {
   "cell_type": "code",
   "execution_count": 6,
   "id": "6d5a9294",
   "metadata": {},
   "outputs": [
    {
     "name": "stdout",
     "output_type": "stream",
     "text": [
      "[WinError 3] The system cannot find the path specified: 'champagne/champagne'\n",
      "D:\\NM KHDL\\Do An\\-NMKHDL_20_21\\champagne\\champagne\n"
     ]
    }
   ],
   "source": [
    "cd champagne/champagne"
   ]
  },
  {
   "cell_type": "code",
   "execution_count": null,
   "id": "90446df3",
   "metadata": {},
   "outputs": [],
   "source": [
    "import scrapy\n",
    "\n",
    "class collect_player_url(scrapy.Spider):\n",
    "    name='champagne_urls' \n",
    "\n",
    "    def __init__(self):\n",
    "    self.offset = 1\n",
    "\n",
    "    def start_requests(self):\n",
    "    urls = ['https://winevn.com/ruou-vang/page/1']\n",
    "    yield scrapy.Request(url=urls[0], callback=self.parse)\n",
    "\n",
    "\n",
    "\n",
    "    def parse(self, response):\n",
    "    urls = response.selector.xpath('//*[@id=\"main\"]/ul/li/div/a[1]/@href').getall()\n",
    "    for link in urls:\n",
    "        yield {'champagne_url' : link}\n",
    "\n",
    "    url_string = \"https://winevn.com/ruou-vang/page/\"\n",
    "    self.offset += 1\n",
    "    if self.offset <= 234:\n",
    "        url_string = url_string + str(self.offset)\n",
    "        yield scrapy.Request(url=url_string, callback=self.parse)\n"
   ]
  },
  {
   "cell_type": "code",
   "execution_count": 7,
   "id": "9db8985c",
   "metadata": {},
   "outputs": [
    {
     "name": "stderr",
     "output_type": "stream",
     "text": [
      "2022-11-24 13:26:47 [scrapy.utils.log] INFO: Scrapy 2.6.1 started (bot: champagne)\n",
      "2022-11-24 13:26:47 [scrapy.utils.log] INFO: Versions: lxml 4.8.0.0, libxml2 2.9.12, cssselect 1.1.0, parsel 1.6.0, w3lib 1.21.0, Twisted 22.2.0, Python 3.9.12 (main, Apr  4 2022, 05:22:27) [MSC v.1916 64 bit (AMD64)], pyOpenSSL 21.0.0 (OpenSSL 1.1.1n  15 Mar 2022), cryptography 3.4.8, Platform Windows-10-10.0.22000-SP0\n",
      "Traceback (most recent call last):\n",
      "  File \"D:\\anconda\\lib\\site-packages\\scrapy\\spiderloader.py\", line 75, in load\n",
      "    return self._spiders[spider_name]\n",
      "KeyError: 'champagne_urls'\n",
      "\n",
      "During handling of the above exception, another exception occurred:\n",
      "\n",
      "Traceback (most recent call last):\n",
      "  File \"D:\\anconda\\Scripts\\scrapy-script.py\", line 10, in <module>\n",
      "    sys.exit(execute())\n",
      "  File \"D:\\anconda\\lib\\site-packages\\scrapy\\cmdline.py\", line 145, in execute\n",
      "    _run_print_help(parser, _run_command, cmd, args, opts)\n",
      "  File \"D:\\anconda\\lib\\site-packages\\scrapy\\cmdline.py\", line 100, in _run_print_help\n",
      "    func(*a, **kw)\n",
      "  File \"D:\\anconda\\lib\\site-packages\\scrapy\\cmdline.py\", line 153, in _run_command\n",
      "    cmd.run(args, opts)\n",
      "  File \"D:\\anconda\\lib\\site-packages\\scrapy\\commands\\crawl.py\", line 22, in run\n",
      "    crawl_defer = self.crawler_process.crawl(spname, **opts.spargs)\n",
      "  File \"D:\\anconda\\lib\\site-packages\\scrapy\\crawler.py\", line 205, in crawl\n",
      "    crawler = self.create_crawler(crawler_or_spidercls)\n",
      "  File \"D:\\anconda\\lib\\site-packages\\scrapy\\crawler.py\", line 238, in create_crawler\n",
      "    return self._create_crawler(crawler_or_spidercls)\n",
      "  File \"D:\\anconda\\lib\\site-packages\\scrapy\\crawler.py\", line 312, in _create_crawler\n",
      "    spidercls = self.spider_loader.load(spidercls)\n",
      "  File \"D:\\anconda\\lib\\site-packages\\scrapy\\spiderloader.py\", line 77, in load\n",
      "    raise KeyError(f\"Spider not found: {spider_name}\")\n",
      "KeyError: 'Spider not found: champagne_urls'\n"
     ]
    }
   ],
   "source": [
    "!scrapy crawl champagne_urls -o dataset/champagne_urls.json"
   ]
  },
  {
   "cell_type": "code",
   "execution_count": null,
   "id": "0107ba8b",
   "metadata": {},
   "outputs": [],
   "source": []
  }
 ],
 "metadata": {
  "kernelspec": {
   "display_name": "Python 3 (ipykernel)",
   "language": "python",
   "name": "python3"
  },
  "language_info": {
   "codemirror_mode": {
    "name": "ipython",
    "version": 3
   },
   "file_extension": ".py",
   "mimetype": "text/x-python",
   "name": "python",
   "nbconvert_exporter": "python",
   "pygments_lexer": "ipython3",
   "version": "3.9.12"
  }
 },
 "nbformat": 4,
 "nbformat_minor": 5
}
