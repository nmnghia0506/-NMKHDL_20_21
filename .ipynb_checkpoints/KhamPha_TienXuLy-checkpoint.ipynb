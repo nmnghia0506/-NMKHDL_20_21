{
 "cells": [
  {
   "cell_type": "markdown",
   "id": "ac3e8fcd",
   "metadata": {},
   "source": [
    "# <h2><b> Đồ án thực hành </b></h2>\n",
    "<h1 style='color:red;text-align:center;font-size:35px'><b>Chủ đề: Dự đoán giá rượu vang</b></h1>"
   ]
  },
  {
   "cell_type": "markdown",
   "id": "469fd4ad",
   "metadata": {},
   "source": [
    "# <h3>Các thành viên trong nhóm</h3>\n",
    "<li> Phan Xuân Hoài - 20120481 </li>\n",
    "<li> Lê Kinh Luân - 1612355 </li>\n",
    "<li> Nguyễn Minh Nghĩa - 20120534</li>\n",
    "<li> Phạm Quốc Hưng - 19120522</li>"
   ]
  },
  {
   "cell_type": "markdown",
   "id": "7c0d5b36",
   "metadata": {},
   "source": [
    "# <h1 style='color:blue;text-align:center;font-size:30px'><b>Phần I - B.Khám phá dữ liệu + Tiền xử lý</b></h1>"
   ]
  },
  {
   "cell_type": "markdown",
   "id": "47a5cd2e",
   "metadata": {},
   "source": [
    "## Import những thư viện cần thiết"
   ]
  },
  {
   "cell_type": "code",
   "execution_count": null,
   "id": "b06f8eaa",
   "metadata": {},
   "outputs": [],
   "source": [
    "%matplotlib inline\n",
    "import matplotlib.pyplot as plt\n",
    "import numpy as np\n",
    "import pandas as pd \n",
    "import seaborn as sns\n",
    "sns.set_theme()\n",
    "\n",
    "# YOUR CODE HERE (OPTION)\n",
    "# Nếu cần các thư viện khác thì bạn có thể import ở đây\n",
    "import os\n",
    "import re\n",
    "import statistics\n",
    "import seaborn as sns\n",
    "sns.set(rc={'axes.facecolor':'lightblue', 'figure.facecolor':'lightgray'})"
   ]
  },
  {
   "cell_type": "code",
   "execution_count": null,
   "id": "76b7cc70",
   "metadata": {},
   "outputs": [],
   "source": [
    "import sys\n",
    "sys.executable"
   ]
  },
  {
   "cell_type": "code",
   "execution_count": null,
   "id": "8216f52e",
   "metadata": {},
   "outputs": [],
   "source": [
    "cd champagne/champagne"
   ]
  },
  {
   "cell_type": "markdown",
   "id": "d935160c",
   "metadata": {},
   "source": [
    "### Đọc file 'champagnes_info.csv' vào dataframe df"
   ]
  },
  {
   "cell_type": "code",
   "execution_count": null,
   "id": "a0c9abfc",
   "metadata": {},
   "outputs": [],
   "source": [
    "df = pd.read_csv('./dataset/champagnes_info.csv')\n",
    "df.head(20)"
   ]
  },
  {
   "cell_type": "markdown",
   "id": "01370d51",
   "metadata": {},
   "source": [
    "# Khám phá dữ liệu"
   ]
  },
  {
   "cell_type": "markdown",
   "id": "60d449e7",
   "metadata": {},
   "source": [
    "### Xem số dòng cột của dữ liệu "
   ]
  },
  {
   "cell_type": "code",
   "execution_count": null,
   "id": "ec5f54f8",
   "metadata": {},
   "outputs": [],
   "source": [
    "num_rows = df.shape[0]\n",
    "num_cols = df.shape[1]\n",
    "shape = (num_rows, num_cols)\n",
    "shape"
   ]
  },
  {
   "cell_type": "markdown",
   "id": "d38626ce",
   "metadata": {},
   "source": [
    "### Kiểu dữ liệu của các cột "
   ]
  },
  {
   "cell_type": "code",
   "execution_count": null,
   "id": "95aba2ed",
   "metadata": {},
   "outputs": [],
   "source": [
    "df.dtypes"
   ]
  },
  {
   "cell_type": "markdown",
   "id": "9d635e4f",
   "metadata": {},
   "source": [
    "### Ý nghĩa của các cột"
   ]
  },
  {
   "cell_type": "markdown",
   "id": "ff792eec",
   "metadata": {},
   "source": [
    "Đọc file \"champagnes_schema.csv\" vào DataFrame `col_meaning_df`"
   ]
  },
  {
   "cell_type": "code",
   "execution_count": null,
   "id": "8149519a",
   "metadata": {},
   "outputs": [],
   "source": [
    "temp = pd.read_csv(\"./dataset/champagnes_schema.csv\")\n",
    "temp\n",
    "data = {\n",
    "    \"name\": temp[\"name\"],\n",
    "    \"mean\": temp[\"mean\"]\n",
    "}\n",
    "pd.set_option('max_colwidth', 400)\n",
    "\n",
    "\n",
    "col_meaning_df = pd.DataFrame(data = data)\n",
    "col_meaning_df = col_meaning_df.set_index(['name'])"
   ]
  },
  {
   "cell_type": "code",
   "execution_count": null,
   "id": "13207d19",
   "metadata": {},
   "outputs": [],
   "source": [
    "col_meaning_df"
   ]
  },
  {
   "cell_type": "markdown",
   "id": "af66c071",
   "metadata": {},
   "source": [
    "# Tiền xử lý"
   ]
  },
  {
   "cell_type": "markdown",
   "id": "e97fe11c",
   "metadata": {},
   "source": [
    "Loại bỏ các ký tự '\\n' (hoặc '\\r\\n' trong Windows) và các ký tự dư thừa trong các cột 'Xuat_xu', 'Nong_do', 'Dung_tich', 'Giong_nho','Thuong_hieu' để có thể chuyển đổi các cột về dạng số dễ dàng hơn."
   ]
  },
  {
   "cell_type": "code",
   "execution_count": null,
   "id": "4283b7b4",
   "metadata": {},
   "outputs": [],
   "source": [
    "def is_nan(x):\n",
    "    return (x != x)"
   ]
  },
  {
   "cell_type": "code",
   "execution_count": null,
   "id": "a3f7a47c",
   "metadata": {},
   "outputs": [],
   "source": [
    "cate_cols = df.select_dtypes(include = ['object']).columns.tolist()\n",
    "df[cate_cols] = df[cate_cols].apply(lambda x : x.replace('\\\\r?\\\\n', '', regex = True))\n",
    "df['Nong_do'] = df['Nong_do'].str.replace('%', '')\n",
    "df['Dung_tich'] = df['Dung_tich'].str.replace('ML', '')\n",
    "cols = ['Giong_nho', 'Mau_sac', 'Thuong_hieu', 'Vung_lam_vang']\n",
    "df[cols] = df[cols].apply(lambda x : x.str.replace(':', ''))\n",
    "df = df.apply(lambda x : x.str.strip())\n"
   ]
  },
  {
   "cell_type": "markdown",
   "id": "820ce44e",
   "metadata": {},
   "source": [
    "Chuyển kiểu dữ liệu của các cột 'Dung_tich', 'Nong_do','Gia' về dạng số"
   ]
  },
  {
   "cell_type": "code",
   "execution_count": null,
   "id": "89e54295",
   "metadata": {},
   "outputs": [],
   "source": [
    "df['Nong_do'] = pd.to_numeric(df['Nong_do'], errors='coerce')\n",
    "df['Dung_tich'] = pd.to_numeric(df['Dung_tich'], downcast='float', errors='coerce')\n",
    "df['Gia'] = df['Gia'].replace('[.]', '', regex=True).astype(float)"
   ]
  },
  {
   "cell_type": "code",
   "execution_count": null,
   "id": "f689c70c",
   "metadata": {},
   "outputs": [],
   "source": [
    "df.dtypes"
   ]
  },
  {
   "cell_type": "markdown",
   "id": "ea69bd64",
   "metadata": {},
   "source": [
    "Lọc đi các chai rượu có giá thấp bất thường "
   ]
  },
  {
   "cell_type": "code",
   "execution_count": null,
   "id": "c667458d",
   "metadata": {},
   "outputs": [],
   "source": [
    "df.loc[df['Gia'] < 1000, 'Gia'].value_counts()"
   ]
  },
  {
   "cell_type": "markdown",
   "id": "288ed07e",
   "metadata": {},
   "source": [
    "Có tới hơn 400 chai có giá thấp hơn 1000, một mức giá vô lý. Ta sẽ tiến hành lọc đi các chai rượu này."
   ]
  },
  {
   "cell_type": "code",
   "execution_count": null,
   "id": "350d29ed",
   "metadata": {},
   "outputs": [],
   "source": [
    "df = df[~(df['Gia'] < 1000)].reset_index(drop = True)"
   ]
  },
  {
   "cell_type": "markdown",
   "id": "8aaee00a",
   "metadata": {},
   "source": [
    "## Quay lại bước khám phá dữ liệu "
   ]
  },
  {
   "cell_type": "markdown",
   "id": "25da8880",
   "metadata": {},
   "source": [
    "Với các cột có kiểu dữ liệu số, ta cần tính:\n",
    "- Tỉ lệ % (từ 0 đến 100) các giá trị thiếu \n",
    "- Giá trị min\n",
    "- Giá trị lower quartile (phân vị 25)\n",
    "- Giá trị median (phân vị 50)\n",
    "- Giá trị upper quartile (phân vị 75)\n",
    "- Giá trị max\n",
    "\n",
    "Sau đó lưu kết quả vào DataFrame `num_col_info_df`, trong đó: \n",
    "- Tên của các cột là tên của các cột số trong `df`\n",
    "- Tên của các dòng là: \"missing_ratio\", \"min\", \"lower_quartile\", \"median\", \"upper_quartile\", \"max\"  \n",
    "\n",
    "Để dễ nhìn, tất cả các giá trị bạn đều làm tròn với 1 chữ số thập phân bằng phương thức `.round(1)`."
   ]
  },
  {
   "cell_type": "code",
   "execution_count": null,
   "id": "cc63af5d",
   "metadata": {},
   "outputs": [],
   "source": [
    "items = [\"Gia\",\"Nong_do\",\"Dung_tich\"]\n",
    "percentMissingList = []\n",
    "for item in items:\n",
    "   percentMissingList.append(round(df[item].apply(is_nan).tolist().count(1)/shape[0] * 100,1))\n",
    "\n",
    "percentMissingList\n",
    "\n",
    "columns = [\"Gia\",\"Nong_do\",\"Dung_tich\"]\n",
    "row_labels = [\"missing_ratio\",\"min\",\"lower_quartile\",\"median\",\"upper_quartile\",\"max\"]\n",
    "temp = df[[\"Gia\",\"Nong_do\",\"Dung_tich\"]]\n",
    "info_df = temp.quantile(q=[0.25,0.5, 0.75], axis=0, numeric_only=True, interpolation='midpoint')\n",
    "max = round(temp.max(axis = 0),1)\n",
    "min = round(temp.min(axis = 0),1)\n",
    "\n",
    "data = [percentMissingList,min,info_df.loc[0.25].tolist(),info_df.loc[0.5].tolist(),info_df.loc[0.75].tolist(),max]\n",
    "num_col_info_df = pd.DataFrame(data = data, index = row_labels, columns = columns)\n",
    "num_col_info_df"
   ]
  },
  {
   "cell_type": "markdown",
   "id": "a697f666",
   "metadata": {},
   "source": [
    "### Tiền xử lý"
   ]
  },
  {
   "cell_type": "markdown",
   "id": "41cb7b0b",
   "metadata": {},
   "source": [
    "Ngoài các giá trị NaN trong cột `Thuong_hieu` còn có các giá trị chuỗi `'', ' ', ':', ...` không hợp lệ. Ta sẽ đặt chúng về giá trị Nan"
   ]
  },
  {
   "cell_type": "code",
   "execution_count": null,
   "id": "e446c617",
   "metadata": {},
   "outputs": [],
   "source": [
    "def fun(x):\n",
    "    if type(x) == float:\n",
    "        return True\n",
    "    return len(x) > 2"
   ]
  },
  {
   "cell_type": "code",
   "execution_count": null,
   "id": "291f27b3",
   "metadata": {},
   "outputs": [],
   "source": [
    "mask = df['Thuong_hieu'].apply(fun)\n",
    "df[~mask].shape"
   ]
  },
  {
   "cell_type": "code",
   "execution_count": null,
   "id": "7b7c2eda",
   "metadata": {
    "scrolled": false
   },
   "outputs": [],
   "source": [
    "# mask = df['Thuong_hieu'].apply(fun)\n",
    "# df.drop(df[~mask].index, inplace=True)\n",
    "df[~mask] = np.NaN"
   ]
  },
  {
   "cell_type": "markdown",
   "id": "132b2514",
   "metadata": {},
   "source": [
    "----"
   ]
  },
  {
   "cell_type": "markdown",
   "id": "41469355",
   "metadata": {},
   "source": [
    "Trong cột `Mau_sac` còn có các giá trị `''`. Ta chuyển giá trị này về Nan"
   ]
  },
  {
   "cell_type": "code",
   "execution_count": null,
   "id": "cd881b9e",
   "metadata": {},
   "outputs": [],
   "source": [
    "mask = df['Mau_sac'] == ''\n",
    "df.loc[mask,'Mau_sac'] = np.NaN"
   ]
  },
  {
   "cell_type": "markdown",
   "id": "18a7af04",
   "metadata": {},
   "source": [
    "----"
   ]
  },
  {
   "cell_type": "markdown",
   "id": "929af260",
   "metadata": {},
   "source": [
    "Xử lý chuỗi của cột \"Màu sắc\" thành chuỗi viết thường (Vd: ở cột màu săc có \"Vàng Rơm\", \"Vàng rơm\"... thì chuyển thành \"vàng rơm\"), xóa khoảng trắng đầu và cuối, đồng bộ ký tự màu sắc (\"màu vàng rơm\", \"vàng rơm\" --> \"vàng rơm\")"
   ]
  },
  {
   "cell_type": "code",
   "execution_count": null,
   "id": "7602410a",
   "metadata": {},
   "outputs": [],
   "source": [
    "df['Mau_sac'] = df['Mau_sac'].str.lower()\n",
    "df['Mau_sac'] = df['Mau_sac'].str.strip()\n",
    "\n",
    "df = df.apply(lambda x: x.replace({'màu':'', ': ':'','vàng':'vàng','đỏ':'đỏ'}, regex=True))\n",
    "df['Mau_sac'] = df['Mau_sac'].str.strip()\n"
   ]
  },
  {
   "cell_type": "code",
   "execution_count": null,
   "id": "faf4f7d1",
   "metadata": {},
   "outputs": [],
   "source": [
    "df.head(20)"
   ]
  },
  {
   "cell_type": "markdown",
   "id": "42fac911",
   "metadata": {},
   "source": [
    "## Quay lại bước khám phá dữ liệu "
   ]
  },
  {
   "cell_type": "markdown",
   "id": "7c869651",
   "metadata": {},
   "source": [
    "Với các cột \"Xuat_xu\",\"Giong_nho\",\"Mau_sac\",\"Thuong_hieu\" ta cần tính:\n",
    "- Tỉ lệ % (từ 0 đến 100) các giá trị thiếu \n",
    "- Số lượng các giá trị (các giá trị ở đây là các giá trị khác nhau và ta không xét giá trị thiếu): với cột mà ứng với câu hỏi dạng multichoice (ví dụ, cột \"Giong_nho\"), mỗi giá trị có thể chứa nhiều choice (các choice được phân tách bởi dấu phẩy)\n",
    "- Tỉ lệ % (từ 0 đến 100) của mỗi giá trị được sort theo tỉ lệ % giảm dần (ta không xét giá trị thiếu, tỉ lệ là tỉ lệ so với số lượng các giá trị không thiếu)\n",
    "\n",
    "Lưu kết quả vào DataFrame `cat_col_info_df`, trong đó: \n",
    "- Tên của các cột là tên của các cột không phải số trong `survey_df`\n",
    "- Tên của các dòng là: \"missing_ratio\", \"num_values\", \"value_ratios\"  \n",
    "\n",
    "Để dễ nhìn, tất cả các giá trị bạn đều làm tròn với 1 chữ số thập phân bằng phương thức `.round(1)`."
   ]
  },
  {
   "cell_type": "code",
   "execution_count": null,
   "id": "2e692d40",
   "metadata": {},
   "outputs": [],
   "source": [
    "pd.set_option('display.max_colwidth', 100) # Để dễ nhìn\n",
    "pd.set_option('display.max_columns', None) # Để dễ nhìn\n",
    "\n",
    "temp = df[[\"Xuat_xu\",\"Giong_nho\",\"Mau_sac\",\"Thuong_hieu\"]]\n",
    "items = [\"Xuat_xu\",\"Giong_nho\",\"Mau_sac\",\"Thuong_hieu\"]\n",
    "\n",
    "\n",
    "percentMissingList = []\n",
    "for item in items:\n",
    "   percentMissingList.append(round(df[item].apply(is_nan).tolist().count(1)/len(df) * 100,1))\n",
    "\n",
    "columns = temp.columns.tolist()\n",
    "row_labels = [\"missing_ratio\", \"num_values\", \"value_ratios\"]\n",
    "\n",
    "num_values_list = []\n",
    "for k in range (0,len(items)):\n",
    "    s = temp[items[k]].tolist()\n",
    "    s_split = []\n",
    "    for i in range(0,len(s)):\n",
    "        if is_nan(s[i]) == 0:\n",
    "            s_split.append(re.split(', ',s[i]))\n",
    "\n",
    "    l = pd.Series(s_split).explode().tolist()\n",
    "    l = [*set(l)]\n",
    "    num_values_list.append(len(l))\n",
    "        \n",
    "\n",
    "list_dic = []\n",
    "\n",
    "for k in range (0,len(items)):\n",
    "    s = temp[items[k]].tolist()\n",
    "    s_split = []\n",
    "    for i in range(0,len(s)):\n",
    "        if is_nan(s[i]) == 0:\n",
    "            s_split.append(re.split(', ',s[i]))\n",
    "\n",
    "    l = pd.Series(s_split).explode()\n",
    "    a = l.value_counts()\n",
    "    dic = round(a/a.sum()*100,1).to_dict()\n",
    "    list_dic.append(dic)       \n",
    "\n",
    "data = [percentMissingList, num_values_list, list_dic]\n",
    "cat_col_info_df = pd.DataFrame(data = data, index = row_labels, columns = columns)"
   ]
  },
  {
   "cell_type": "code",
   "execution_count": null,
   "id": "4c438e83",
   "metadata": {},
   "outputs": [],
   "source": [
    "cat_col_info_df"
   ]
  },
  {
   "cell_type": "markdown",
   "id": "c80c5692",
   "metadata": {},
   "source": [
    "### Xử lý dữ liệu bị thiếu"
   ]
  },
  {
   "cell_type": "markdown",
   "id": "9f4b3b36",
   "metadata": {},
   "source": [
    "Tổng kết lại một chút về tỉ lệ thiếu dữ liệu của từng cột"
   ]
  },
  {
   "cell_type": "code",
   "execution_count": null,
   "id": "8c3d0401",
   "metadata": {},
   "outputs": [],
   "source": [
    "df.agg(lambda x : x.isna().mean()*100).sort_values(ascending = False)\n"
   ]
  },
  {
   "cell_type": "markdown",
   "id": "6a54afd5",
   "metadata": {},
   "source": [
    "Ta có thể thấy là 3 cột có tỉ lệ thiếu cao nhất có tỉ lệ lớn hơn 10% so tổng số lượng dữ liệu, cá biệt là cột Thuong_hieu có tỉ lệ thiếu lên đến 28%. Nếu chọn giải pháp xoá đi các dòng bị thiếu dữ liệu thì sẽ ảnh hưởng không nhỏ đến tính khách quan và chuẩn xác của tập dữ liệu. Cuối cùng, nhóm đã chọn phương án là lấp các ô bị thiếu ở cột Thuong_hieu bằng cách dựa vào cột Vung_lam_vang. Bởi vì một thương hiệu rượu thường sẽ đi liền với một vùng làm rượu riêng của họ. Ta sẽ xác định xem với từng vùng làm rượu thì thương hiệu nào xuất hiện nhiều nhất, từ đó lấy thương hiệu này làm đại diện. "
   ]
  },
  {
   "cell_type": "code",
   "execution_count": null,
   "id": "fa5ac6ac",
   "metadata": {},
   "outputs": [],
   "source": [
    "def is_empty(s):\n",
    "  '''\n",
    "    Return a boolean series based on whether the cell is empty or not.\n",
    "    A cell is empty if it has either NA value or empty string.\n",
    "  '''\n",
    "  return ((s.isna()) | (s == ''))\n",
    "# Get rows that neither cells in Thuong_hieu nor Vung_lam_vang columns are empty\n",
    "filter_df = df.loc[~(is_empty(df['Thuong_hieu']) | is_empty(df['Vung_lam_vang']))].reset_index(drop = True)\n",
    "# Drop rows having very long name place\n",
    "long_name_place = filter_df['Vung_lam_vang'].apply(lambda x : len(x) >= 50)\n",
    "idx = long_name_place[long_name_place == True].index\n",
    "filter_df = filter_df.drop(idx)\n",
    "\n",
    "place_brand_df = filter_df.groupby(['Vung_lam_vang', 'Thuong_hieu'])['Thuong_hieu'].count().to_frame(name = 'count')\n",
    "# Get indices of brand having most count by each place of origin\n",
    "idx = place_brand_df.groupby(level = 0)['count'].idxmax()\n",
    "place_brand_df = place_brand_df.loc[idx]\n",
    "place_brand_df = place_brand_df.sort_values(by = 'count', ascending = False)\n",
    "place_brand_df = place_brand_df.reset_index()[['Vung_lam_vang','Thuong_hieu']]\n",
    "place_brand_df"
   ]
  },
  {
   "cell_type": "code",
   "execution_count": null,
   "id": "75c43d32",
   "metadata": {},
   "outputs": [],
   "source": [
    "def fill_empty_brand(row, place_brand_df):\n",
    "    '''\n",
    "    Fill empty cells on Thuong_hieu and Vung_lam_vang columns based on the place_brand_df\n",
    "    as long as cells in both columns are not empty\n",
    "    '''\n",
    "    brand = row['Thuong_hieu']\n",
    "    place_origin = row['Vung_lam_vang']\n",
    "    #Ignore if both values are na value\n",
    "    if pd.isnull(brand) and pd.isnull(place_origin):\n",
    "        return row\n",
    "    if brand == '' or pd.isnull(brand):\n",
    "        # Get the corresponding brands\n",
    "        replacing_brand = place_brand_df.loc[place_brand_df['Vung_lam_vang'] == place_origin, 'Thuong_hieu']\n",
    "        if len(replacing_brand) > 0:\n",
    "            # Only take the first item\n",
    "            row['Thuong_hieu'] = replacing_brand.loc[replacing_brand.index[0]]\n",
    "    elif place_origin == '' or pd.isnull(place_origin):\n",
    "        # Get the corresponding places\n",
    "        replacing_place = place_brand_df.loc[place_brand_df['Thuong_hieu'] == brand, 'Vung_lam_vang']\n",
    "        if len(replacing_place) > 0:\n",
    "            # Only take the first item\n",
    "            row['Vung_lam_vang'] = replacing_place.loc[replacing_place.index[0]]\n",
    "    return row\n",
    "\n",
    "clean_df = df.apply(lambda x : fill_empty_brand(x,place_brand_df), axis = 1)\n",
    "clean_df"
   ]
  },
  {
   "cell_type": "code",
   "execution_count": null,
   "id": "1f02abfe",
   "metadata": {},
   "outputs": [],
   "source": [
    "clean_df.agg(lambda x : x.isna().mean()*100)"
   ]
  },
  {
   "cell_type": "markdown",
   "id": "46f40a43",
   "metadata": {},
   "source": [
    "Sau khi điền vào các ô bị thiếu, tỉ lệ thiếu ở 2 cột Thuong_hieu và Vang_lam_vang giảm đi đáng kể chỉ còn 9-10%. Lúc này ta có thể tiến hành loại bỏ đi các dòng có ô còn bỏ trống."
   ]
  },
  {
   "cell_type": "code",
   "execution_count": null,
   "id": "d6c151a6",
   "metadata": {},
   "outputs": [],
   "source": [
    "#Drop rows having NA value\n",
    "clean_df = clean_df.dropna()\n",
    "cate_cols = clean_df.select_dtypes(include = ['object']).columns.tolist()\n",
    "empty_string_count = clean_df[cate_cols].agg(lambda x : (x == '').sum())\n",
    "empty_string_count"
   ]
  },
  {
   "cell_type": "markdown",
   "id": "e7bfc18d",
   "metadata": {},
   "source": [
    "Có 4 cột xuất hiện string rỗng. Ta sẽ xoá những dòng có string rỗng dựa trên 4 cột này"
   ]
  },
  {
   "cell_type": "code",
   "execution_count": null,
   "id": "2d3447b0",
   "metadata": {},
   "outputs": [],
   "source": [
    "empty_string_cols = empty_string_count[empty_string_count > 0].index\n",
    "empty_string_rows = clean_df.apply(lambda x : any(x[col] == '' for col in empty_string_cols), axis = 1)\n",
    "clean_df = clean_df[~empty_string_rows].reset_index(drop = True)\n",
    "clean_df.head(10)"
   ]
  },
  {
   "cell_type": "code",
   "execution_count": null,
   "id": "8b1fe0da",
   "metadata": {},
   "outputs": [],
   "source": [
    "row_num = clean_df.shape[0]\n",
    "col_num =  clean_df.shape[1]\n",
    "print('Số dòng: {}\\nSố cột: {}'.format(row_num,col_num))"
   ]
  },
  {
   "cell_type": "markdown",
   "id": "a6dbbb91",
   "metadata": {},
   "source": [
    "Số dòng lúc này chỉ còn lại là 3950 dòng so với 5598 dòng ban đầu, dữ liệu bị hao hụt không quá đáng kể."
   ]
  },
  {
   "cell_type": "markdown",
   "id": "fd1d6afe",
   "metadata": {},
   "source": [
    "Lưu dữ liệu đã qua tiền xử lý vào file dữ liệu mới."
   ]
  },
  {
   "cell_type": "code",
   "execution_count": null,
   "id": "07ef5891",
   "metadata": {},
   "outputs": [],
   "source": [
    "clean_df.to_csv(os.path.join(os.getcwd(), 'dataset', 'champagne_info_cleaned.csv'))"
   ]
  },
  {
   "cell_type": "markdown",
   "id": "04f1136f",
   "metadata": {},
   "source": [
    "### Trực quan một vài biểu đồ để có một cái nhìn tổng quan hơn về dữ liệu"
   ]
  },
  {
   "cell_type": "markdown",
   "id": "7442948d",
   "metadata": {},
   "source": [
    "Lấy ra các cột kiểu numeric"
   ]
  },
  {
   "cell_type": "code",
   "execution_count": null,
   "id": "9036e106",
   "metadata": {},
   "outputs": [],
   "source": [
    "numeric_cols = df.select_dtypes('number').columns.tolist()\n",
    "numeric_cols"
   ]
  },
  {
   "cell_type": "markdown",
   "id": "a0b4f013",
   "metadata": {},
   "source": [
    "Biểu đồ boxplot của từng cột có kiểu dữ liệu numeric"
   ]
  },
  {
   "cell_type": "code",
   "execution_count": null,
   "id": "3a286d94",
   "metadata": {},
   "outputs": [],
   "source": [
    "pretty_labels = {\n",
    "  'Gia' : 'Giá (Triệu)',\n",
    "  'Nong_do' : 'Nồng độ (%)',\n",
    "  'Dung_tich' : 'Dung tích (ml)'\n",
    "}\n",
    "fig, axes = plt.subplots(3,1, figsize = (16,9))\n",
    "for i,ax in enumerate(axes.flat):\n",
    "  sns.boxplot(data = df, x = numeric_cols[i], ax = ax)\n",
    "  ax.set_xlabel(pretty_labels[numeric_cols[i]])\n",
    "  if i == 0:\n",
    "    ax.set_xticklabels(['{}'.format(x) for x in ax.get_xticks()/1e6])\n",
    "\n",
    "plt.tight_layout()"
   ]
  },
  {
   "cell_type": "markdown",
   "id": "4a157eb7",
   "metadata": {},
   "source": [
    "Nhìn chung, giá trị của các cột dữ liệu kiểu số đều không phân bố rộng mà chỉ tập trung vào một khoảng giá trị nhỏ cũng như xuất hiện nhiều ngoại lệ."
   ]
  },
  {
   "cell_type": "markdown",
   "id": "c9687c30",
   "metadata": {},
   "source": [
    "Xem xét thử mối quan hệ giữa giá với nồng độ và dung tích"
   ]
  },
  {
   "cell_type": "code",
   "execution_count": null,
   "id": "6b9eda88",
   "metadata": {},
   "outputs": [],
   "source": [
    "fig, axes = plt.subplots(1,2, figsize = (12,6))\n",
    "sns.scatterplot(data = df, x = 'Gia', y = 'Nong_do', ax = axes[0])\n",
    "sns.scatterplot(data = df, x = 'Gia', y = 'Dung_tich', ax = axes[1])\n",
    "axes[0].set_xlabel(pretty_labels['Gia'])\n",
    "axes[0].set_xticklabels(['{}'.format(x) for x in axes[0].get_xticks()/1e6])\n",
    "axes[0].set_ylabel(pretty_labels['Nong_do'])\n",
    "axes[1].set_xlabel(pretty_labels['Gia'])\n",
    "axes[1].set_xticklabels(['{}'.format(x) for x in axes[0].get_xticks()/1e6])\n",
    "axes[1].set_ylabel(pretty_labels['Dung_tich'])"
   ]
  },
  {
   "cell_type": "markdown",
   "id": "e0283571",
   "metadata": {},
   "source": [
    "Có vẻ là giá rượu không hề có mối liên hệ gì với nồng độ hay dung tích"
   ]
  },
  {
   "cell_type": "markdown",
   "id": "e0ff7d29",
   "metadata": {},
   "source": [
    "Những quốc gia được nhập rượu về nhiều nhất"
   ]
  },
  {
   "cell_type": "code",
   "execution_count": null,
   "id": "1c5102ca",
   "metadata": {},
   "outputs": [],
   "source": [
    "origin_count_df = df['Xuat_xu'].value_counts().to_frame(name = 'Số lượng sản phẩm').reset_index()\n",
    "origin_count_df = origin_count_df.rename(columns = {'index' : 'Xuất xứ'})\n",
    "fig, ax = plt.subplots(figsize = (12,8))\n",
    "sns.barplot(data = origin_count_df, x = 'Số lượng sản phẩm', y = 'Xuất xứ', orient = 'h', palette = 'muted', ax = ax)"
   ]
  }
 ],
 "metadata": {
  "kernelspec": {
   "display_name": "Python 3 (ipykernel)",
   "language": "python",
   "name": "python3"
  },
  "language_info": {
   "codemirror_mode": {
    "name": "ipython",
    "version": 3
   },
   "file_extension": ".py",
   "mimetype": "text/x-python",
   "name": "python",
   "nbconvert_exporter": "python",
   "pygments_lexer": "ipython3",
   "version": "3.9.12"
  },
  "vscode": {
   "interpreter": {
    "hash": "2469a70536e4d2335a2ea8907942d0699c37342a371ac185bdb5b0aa6f073890"
   }
  }
 },
 "nbformat": 4,
 "nbformat_minor": 5
}
