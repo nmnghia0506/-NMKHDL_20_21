{
 "cells": [
  {
   "cell_type": "markdown",
   "id": "ac3e8fcd",
   "metadata": {},
   "source": [
    "# <h2><b> Đồ án thực hành </b></h2>\n",
    "<h1 style='color:red;text-align:center;font-size:35px'><b>Chủ đề: Dự đoán giá rượu vang</b></h1>"
   ]
  },
  {
   "cell_type": "markdown",
   "id": "7c0d5b36",
   "metadata": {},
   "source": [
    "# <h1 style='color:blue;text-align:center;font-size:30px'><b>Phần II</b></h1>"
   ]
  },
  {
   "cell_type": "markdown",
   "id": "469fd4ad",
   "metadata": {},
   "source": [
    "# <h3>Các thành viên trong nhóm</h3>\n",
    "<li> Phan Xuân Hoài - 20120481 </li>\n",
    "<li> Lê Kinh Luân - 1612355 </li>\n",
    "<li> Nguyễn Minh Nghĩa - 20120534</li>\n",
    "<li> Phạm Quốc Hưng - 19120522</li>"
   ]
  },
  {
   "cell_type": "markdown",
   "id": "47a5cd2e",
   "metadata": {},
   "source": [
    "### Import những thư viện cần thiết"
   ]
  },
  {
   "cell_type": "code",
   "execution_count": 1741,
   "id": "d97b7426",
   "metadata": {},
   "outputs": [],
   "source": [
    "%matplotlib inline\n",
    "import matplotlib.pyplot as plt\n",
    "import numpy as np\n",
    "import pandas as pd \n",
    "import seaborn as sns\n",
    "sns.set_theme()\n",
    "\n",
    "import os\n",
    "import re\n",
    "import statistics\n",
    "sns.set(rc={'axes.facecolor':'lightblue', 'figure.facecolor':'lightgray'})"
   ]
  },
  {
   "cell_type": "code",
   "execution_count": 1742,
   "id": "76b7cc70",
   "metadata": {},
   "outputs": [
    {
     "data": {
      "text/plain": [
       "'D:\\\\anconda\\\\python.exe'"
      ]
     },
     "execution_count": 1742,
     "metadata": {},
     "output_type": "execute_result"
    }
   ],
   "source": [
    "import sys\n",
    "sys.executable"
   ]
  },
  {
   "cell_type": "code",
   "execution_count": 1743,
   "id": "8216f52e",
   "metadata": {},
   "outputs": [
    {
     "name": "stdout",
     "output_type": "stream",
     "text": [
      "[WinError 3] The system cannot find the path specified: 'champagne/champagne'\n",
      "D:\\NM KHDL\\Do An\\-NMKHDL_20_21\\champagne\\champagne\n"
     ]
    }
   ],
   "source": [
    "cd champagne/champagne"
   ]
  },
  {
   "cell_type": "markdown",
   "id": "d935160c",
   "metadata": {},
   "source": [
    "### Đọc file 'champagnes_info_cleaned.csv' vào dataframe df"
   ]
  },
  {
   "cell_type": "code",
   "execution_count": 1744,
   "id": "a0c9abfc",
   "metadata": {
    "scrolled": false
   },
   "outputs": [
    {
     "data": {
      "text/html": [
       "<div>\n",
       "<style scoped>\n",
       "    .dataframe tbody tr th:only-of-type {\n",
       "        vertical-align: middle;\n",
       "    }\n",
       "\n",
       "    .dataframe tbody tr th {\n",
       "        vertical-align: top;\n",
       "    }\n",
       "\n",
       "    .dataframe thead th {\n",
       "        text-align: right;\n",
       "    }\n",
       "</style>\n",
       "<table border=\"1\" class=\"dataframe\">\n",
       "  <thead>\n",
       "    <tr style=\"text-align: right;\">\n",
       "      <th></th>\n",
       "      <th>Ma_sp</th>\n",
       "      <th>Ten_sp</th>\n",
       "      <th>Gia</th>\n",
       "      <th>Xuat_xu</th>\n",
       "      <th>Nong_do</th>\n",
       "      <th>Dung_tich</th>\n",
       "      <th>Giong_nho</th>\n",
       "      <th>Mau_sac</th>\n",
       "      <th>Loai_ruou</th>\n",
       "      <th>Thuong_hieu</th>\n",
       "      <th>Vung_lam_vang</th>\n",
       "    </tr>\n",
       "  </thead>\n",
       "  <tbody>\n",
       "    <tr>\n",
       "      <th>0</th>\n",
       "      <td>VNPV-3958</td>\n",
       "      <td>Rượu Champagne Bottega Stardust Prosecco</td>\n",
       "      <td>3563000.0</td>\n",
       "      <td>Ý</td>\n",
       "      <td>11.0</td>\n",
       "      <td>750.0</td>\n",
       "      <td>Glera</td>\n",
       "      <td>vàng rơm nhạt</td>\n",
       "      <td>Rượu Champagne</td>\n",
       "      <td>Bottega</td>\n",
       "      <td>Veneto</td>\n",
       "    </tr>\n",
       "    <tr>\n",
       "      <th>1</th>\n",
       "      <td>VNPV-9463</td>\n",
       "      <td>Rượu Champagne Carbon F1</td>\n",
       "      <td>8517000.0</td>\n",
       "      <td>Pháp</td>\n",
       "      <td>12.0</td>\n",
       "      <td>750.0</td>\n",
       "      <td>Chardonnay,Pinot meunier,Pinot Noir</td>\n",
       "      <td>trắng</td>\n",
       "      <td>Rượu Champagne</td>\n",
       "      <td>Delamotte</td>\n",
       "      <td>Champagne</td>\n",
       "    </tr>\n",
       "    <tr>\n",
       "      <th>2</th>\n",
       "      <td>VNPV1-1823</td>\n",
       "      <td>Rượu Champagne Charles Mignon Premium Reserve</td>\n",
       "      <td>1641000.0</td>\n",
       "      <td>Pháp</td>\n",
       "      <td>13.5</td>\n",
       "      <td>750.0</td>\n",
       "      <td>Chardonnay,Pinot meunier,Pinot Noir</td>\n",
       "      <td>vàng</td>\n",
       "      <td>Rượu Champagne</td>\n",
       "      <td>Charles Mignon</td>\n",
       "      <td>Champagne</td>\n",
       "    </tr>\n",
       "    <tr>\n",
       "      <th>3</th>\n",
       "      <td>VNPV-836</td>\n",
       "      <td>Rượu Champagne De Castellane Brut</td>\n",
       "      <td>753000.0</td>\n",
       "      <td>Pháp</td>\n",
       "      <td>11.0</td>\n",
       "      <td>375.0</td>\n",
       "      <td>Chardonnay</td>\n",
       "      <td>xanh nhạt</td>\n",
       "      <td>Rượu Champagne</td>\n",
       "      <td>De Castellane</td>\n",
       "      <td>Champagne</td>\n",
       "    </tr>\n",
       "    <tr>\n",
       "      <th>4</th>\n",
       "      <td>VNPV-4233</td>\n",
       "      <td>Rượu Champagne Delamotte Blanc De Blancs</td>\n",
       "      <td>3810000.0</td>\n",
       "      <td>Pháp</td>\n",
       "      <td>12.5</td>\n",
       "      <td>750.0</td>\n",
       "      <td>Chardonnay</td>\n",
       "      <td>trắng trong</td>\n",
       "      <td>Rượu Champagne</td>\n",
       "      <td>Delamotte</td>\n",
       "      <td>Champagne</td>\n",
       "    </tr>\n",
       "    <tr>\n",
       "      <th>5</th>\n",
       "      <td>VNPV-1956</td>\n",
       "      <td>Rượu Champagne Delamotte Brut</td>\n",
       "      <td>1761000.0</td>\n",
       "      <td>Pháp</td>\n",
       "      <td>12.0</td>\n",
       "      <td>750.0</td>\n",
       "      <td>Chardonnay</td>\n",
       "      <td>vàng</td>\n",
       "      <td>Rượu Champagne</td>\n",
       "      <td>Delamotte</td>\n",
       "      <td>Champagne</td>\n",
       "    </tr>\n",
       "    <tr>\n",
       "      <th>6</th>\n",
       "      <td>VNPV-3667</td>\n",
       "      <td>Rượu Champagne Delamotte Rose</td>\n",
       "      <td>2956000.0</td>\n",
       "      <td>Pháp</td>\n",
       "      <td>12.0</td>\n",
       "      <td>750.0</td>\n",
       "      <td>Chardonnay,Pinot Noir,Pinot Meunier</td>\n",
       "      <td>hồng</td>\n",
       "      <td>Rượu Champagne</td>\n",
       "      <td>Delamotte</td>\n",
       "      <td>Champagne</td>\n",
       "    </tr>\n",
       "    <tr>\n",
       "      <th>7</th>\n",
       "      <td>VNPV-1976</td>\n",
       "      <td>Rượu Champagne Duval Leroy Thierry Drapeau</td>\n",
       "      <td>1779000.0</td>\n",
       "      <td>Pháp</td>\n",
       "      <td>12.5</td>\n",
       "      <td>750.0</td>\n",
       "      <td>Chardonnay</td>\n",
       "      <td>vàng</td>\n",
       "      <td>Rượu Champagne</td>\n",
       "      <td>Champagne Duval Leroy</td>\n",
       "      <td>Champagne</td>\n",
       "    </tr>\n",
       "    <tr>\n",
       "      <th>8</th>\n",
       "      <td>VNTK3-480</td>\n",
       "      <td>Rượu Champagne JP Chenet Brut Blanc</td>\n",
       "      <td>480000.0</td>\n",
       "      <td>Pháp</td>\n",
       "      <td>13.0</td>\n",
       "      <td>750.0</td>\n",
       "      <td>Chardonnay</td>\n",
       "      <td>đỏ đậm</td>\n",
       "      <td>Rượu Vang Nổ</td>\n",
       "      <td>JP Chenet</td>\n",
       "      <td>Pays d’Oc</td>\n",
       "    </tr>\n",
       "    <tr>\n",
       "      <th>9</th>\n",
       "      <td>VNBMF-744</td>\n",
       "      <td>Rượu Champagne JP Chenet Divine Chardonnay</td>\n",
       "      <td>750000.0</td>\n",
       "      <td>Pháp</td>\n",
       "      <td>12.5</td>\n",
       "      <td>750.0</td>\n",
       "      <td>Chardonnay</td>\n",
       "      <td>vàng rơm</td>\n",
       "      <td>Rượu Vang Nổ</td>\n",
       "      <td>JP Chenet</td>\n",
       "      <td>Pays d’Oc</td>\n",
       "    </tr>\n",
       "  </tbody>\n",
       "</table>\n",
       "</div>"
      ],
      "text/plain": [
       "        Ma_sp                                         Ten_sp        Gia  \\\n",
       "0   VNPV-3958       Rượu Champagne Bottega Stardust Prosecco  3563000.0   \n",
       "1   VNPV-9463                       Rượu Champagne Carbon F1  8517000.0   \n",
       "2  VNPV1-1823  Rượu Champagne Charles Mignon Premium Reserve  1641000.0   \n",
       "3    VNPV-836              Rượu Champagne De Castellane Brut   753000.0   \n",
       "4   VNPV-4233       Rượu Champagne Delamotte Blanc De Blancs  3810000.0   \n",
       "5   VNPV-1956                  Rượu Champagne Delamotte Brut  1761000.0   \n",
       "6   VNPV-3667                  Rượu Champagne Delamotte Rose  2956000.0   \n",
       "7   VNPV-1976     Rượu Champagne Duval Leroy Thierry Drapeau  1779000.0   \n",
       "8   VNTK3-480            Rượu Champagne JP Chenet Brut Blanc   480000.0   \n",
       "9   VNBMF-744     Rượu Champagne JP Chenet Divine Chardonnay   750000.0   \n",
       "\n",
       "  Xuat_xu  Nong_do  Dung_tich                            Giong_nho  \\\n",
       "0       Ý     11.0      750.0                                Glera   \n",
       "1    Pháp     12.0      750.0  Chardonnay,Pinot meunier,Pinot Noir   \n",
       "2    Pháp     13.5      750.0  Chardonnay,Pinot meunier,Pinot Noir   \n",
       "3    Pháp     11.0      375.0                           Chardonnay   \n",
       "4    Pháp     12.5      750.0                           Chardonnay   \n",
       "5    Pháp     12.0      750.0                           Chardonnay   \n",
       "6    Pháp     12.0      750.0  Chardonnay,Pinot Noir,Pinot Meunier   \n",
       "7    Pháp     12.5      750.0                           Chardonnay   \n",
       "8    Pháp     13.0      750.0                           Chardonnay   \n",
       "9    Pháp     12.5      750.0                           Chardonnay   \n",
       "\n",
       "         Mau_sac       Loai_ruou            Thuong_hieu Vung_lam_vang  \n",
       "0  vàng rơm nhạt  Rượu Champagne                Bottega        Veneto  \n",
       "1          trắng  Rượu Champagne              Delamotte     Champagne  \n",
       "2           vàng  Rượu Champagne         Charles Mignon     Champagne  \n",
       "3      xanh nhạt  Rượu Champagne          De Castellane     Champagne  \n",
       "4    trắng trong  Rượu Champagne              Delamotte     Champagne  \n",
       "5           vàng  Rượu Champagne              Delamotte     Champagne  \n",
       "6           hồng  Rượu Champagne              Delamotte     Champagne  \n",
       "7           vàng  Rượu Champagne  Champagne Duval Leroy     Champagne  \n",
       "8        đỏ đậm  Rượu Vang Nổ              JP Chenet     Pays d’Oc  \n",
       "9       vàng rơm  Rượu Vang Nổ              JP Chenet     Pays d’Oc  "
      ]
     },
     "execution_count": 1744,
     "metadata": {},
     "output_type": "execute_result"
    }
   ],
   "source": [
    "df = pd.read_csv('./dataset/champagne_info_cleaned.csv', index_col=0)\n",
    "df.head(10)"
   ]
  },
  {
   "cell_type": "code",
   "execution_count": 1745,
   "id": "2dd0fae9",
   "metadata": {},
   "outputs": [
    {
     "name": "stdout",
     "output_type": "stream",
     "text": [
      "<class 'pandas.core.frame.DataFrame'>\n",
      "Int64Index: 3934 entries, 0 to 3933\n",
      "Data columns (total 11 columns):\n",
      " #   Column         Non-Null Count  Dtype  \n",
      "---  ------         --------------  -----  \n",
      " 0   Ma_sp          3934 non-null   object \n",
      " 1   Ten_sp         3934 non-null   object \n",
      " 2   Gia            3934 non-null   float64\n",
      " 3   Xuat_xu        3934 non-null   object \n",
      " 4   Nong_do        3934 non-null   float64\n",
      " 5   Dung_tich      3934 non-null   float64\n",
      " 6   Giong_nho      3934 non-null   object \n",
      " 7   Mau_sac        3934 non-null   object \n",
      " 8   Loai_ruou      3934 non-null   object \n",
      " 9   Thuong_hieu    3934 non-null   object \n",
      " 10  Vung_lam_vang  3934 non-null   object \n",
      "dtypes: float64(3), object(8)\n",
      "memory usage: 368.8+ KB\n"
     ]
    }
   ],
   "source": [
    "df.info()"
   ]
  },
  {
   "cell_type": "markdown",
   "id": "dee2eb8a",
   "metadata": {},
   "source": [
    "<h2 style='color:#45ccb1d4;text-align:center;font-size:25px'><b>A. Mô hình hóa dữ liệu</b></h2> "
   ]
  },
  {
   "cell_type": "markdown",
   "id": "b0c3805a",
   "metadata": {},
   "source": [
    "### Import thư viện"
   ]
  },
  {
   "cell_type": "code",
   "execution_count": 1746,
   "id": "0a60a4d3",
   "metadata": {},
   "outputs": [],
   "source": [
    "import sklearn\n",
    "from sklearn.model_selection import train_test_split\n",
    "from sklearn.preprocessing import MultiLabelBinarizer\n",
    "from sklearn.preprocessing import OneHotEncoder, StandardScaler\n",
    "from sklearn.linear_model import LinearRegression\n",
    "from sklearn.compose import ColumnTransformer"
   ]
  },
  {
   "cell_type": "markdown",
   "id": "8e552272",
   "metadata": {},
   "source": [
    "### Lựa chọn các đặc trưng để mô hình"
   ]
  },
  {
   "cell_type": "markdown",
   "id": "56d849df",
   "metadata": {},
   "source": []
  },
  {
   "cell_type": "markdown",
   "id": "b7219e4b",
   "metadata": {},
   "source": [
    "### Tiền xử lý trước khi chạy mô hình"
   ]
  },
  {
   "cell_type": "code",
   "execution_count": 1747,
   "id": "679a15e2",
   "metadata": {},
   "outputs": [],
   "source": [
    "def strip_list_string(ls):\n",
    "    new_ls = []\n",
    "    for s in ls:\n",
    "        if type(s) != float and len(s) > 1:\n",
    "            new_ls.append(s.strip())\n",
    "    return new_ls"
   ]
  },
  {
   "cell_type": "code",
   "execution_count": 1748,
   "id": "7a28afef",
   "metadata": {
    "scrolled": true
   },
   "outputs": [
    {
     "data": {
      "text/plain": [
       "6240"
      ]
     },
     "execution_count": 1748,
     "metadata": {},
     "output_type": "execute_result"
    }
   ],
   "source": [
    "df['Giong_nho'] = df['Giong_nho'].str.split(',')\n",
    "df['Giong_nho'] = df['Giong_nho'].apply(strip_list_string)\n",
    "df['Giong_nho'].explode().value_counts().sum()"
   ]
  },
  {
   "cell_type": "code",
   "execution_count": 1749,
   "id": "db09144d",
   "metadata": {},
   "outputs": [],
   "source": [
    "giong_nho_freq = df['Giong_nho'].explode().value_counts(normalize=True) "
   ]
  },
  {
   "cell_type": "code",
   "execution_count": 1750,
   "id": "add45e57",
   "metadata": {},
   "outputs": [
    {
     "data": {
      "text/plain": [
       "Index(['Petite Sirah', 'Gouveio', 'Tinta Carvalha', 'Cabernte Franc',\n",
       "       'Aragonês', 'Caberet Sauvignon', 'Touriga 50 %', 'Cortese',\n",
       "       'Susumaniello', 'Tinta de toro',\n",
       "       ...\n",
       "       'Carrignan', 'arbenet Sauvignon', 'Raboso',\n",
       "       'Obeidi – Rolle – Clairette', 'Lagrein', 'Piedirosso', 'Teroldego',\n",
       "       'Coda di Volpe Biancha', 'Malvasia nera', 'Nerello Mascalese'],\n",
       "      dtype='object', length=158)"
      ]
     },
     "execution_count": 1750,
     "metadata": {},
     "output_type": "execute_result"
    }
   ],
   "source": [
    "giong_nho_ls = giong_nho_freq[giong_nho_freq < 0.0002].index\n",
    "giong_nho_ls"
   ]
  },
  {
   "cell_type": "code",
   "execution_count": 1751,
   "id": "bbd27f3d",
   "metadata": {},
   "outputs": [],
   "source": [
    "mlb = MultiLabelBinarizer(sparse_output=True)\n",
    "giong_nho_encoded = mlb.fit_transform(df.pop('Giong_nho'))\n",
    "df_encoded = pd.DataFrame.sparse.from_spmatrix(giong_nho_encoded,index=df.index, columns=mlb.classes_)"
   ]
  },
  {
   "cell_type": "code",
   "execution_count": 1752,
   "id": "4668aed7",
   "metadata": {},
   "outputs": [],
   "source": [
    "new_col = df_encoded[giong_nho_ls].sum(axis=1) >= 1\n",
    "new_col = new_col.apply(int)"
   ]
  },
  {
   "cell_type": "code",
   "execution_count": 1753,
   "id": "c562dc7b",
   "metadata": {},
   "outputs": [],
   "source": [
    "# df_encoded = df_encoded.drop(columns=giong_nho_ls)\n",
    "# df_encoded = df_encoded.assign(other=new_col)"
   ]
  },
  {
   "cell_type": "code",
   "execution_count": 1754,
   "id": "39c091f4",
   "metadata": {},
   "outputs": [],
   "source": [
    "# df_encoded"
   ]
  },
  {
   "cell_type": "code",
   "execution_count": 1755,
   "id": "2c59042f",
   "metadata": {},
   "outputs": [],
   "source": [
    "# df = df.drop(columns=['Ma_sp', 'Ten_sp'])\n",
    "\n",
    "# target_name = \"Gia\"\n",
    "# target = df[target_name]\n",
    "\n",
    "# data = df.drop(columns=[target_name])"
   ]
  },
  {
   "cell_type": "code",
   "execution_count": 1756,
   "id": "df7350b0",
   "metadata": {},
   "outputs": [],
   "source": [
    "# from sklearn.compose import make_column_selector as selector\n",
    "\n",
    "# numerical_columns_selector = selector(dtype_exclude=object)\n",
    "# categorical_columns_selector = selector(dtype_include=object)\n",
    "\n",
    "# numerical_columns = numerical_columns_selector(data)\n",
    "# categorical_columns = categorical_columns_selector(data)"
   ]
  },
  {
   "cell_type": "code",
   "execution_count": 1757,
   "id": "6a765990",
   "metadata": {},
   "outputs": [],
   "source": [
    "# categorical_columns"
   ]
  },
  {
   "cell_type": "code",
   "execution_count": 1758,
   "id": "1dafe750",
   "metadata": {},
   "outputs": [],
   "source": [
    "column_name = [ 'Xuat_xu','Mau_sac', 'Loai_ruou', 'Thuong_hieu', 'Vung_lam_vang']"
   ]
  },
  {
   "cell_type": "code",
   "execution_count": 1759,
   "id": "b2f2b6ed",
   "metadata": {},
   "outputs": [],
   "source": [
    "# categorical_preprocessor = OneHotEncoder(sparse=False,handle_unknown=\"ignore\", min_frequency=0.001)\n",
    "# numerical_preprocessor = StandardScaler()\n",
    "\n",
    "# preprocessor = ColumnTransformer([\n",
    "#     ('one-hot-encoder', categorical_preprocessor, categorical_columns),\n",
    "#     ('standard_scaler', numerical_preprocessor, numerical_columns)])"
   ]
  },
  {
   "cell_type": "code",
   "execution_count": 1760,
   "id": "f9794bb8",
   "metadata": {},
   "outputs": [],
   "source": [
    "# from sklearn.linear_model import LogisticRegression\n",
    "# from sklearn.pipeline import make_pipeline\n",
    "\n",
    "# model = make_pipeline(preprocessor, LinearRegression())\n",
    "# model"
   ]
  },
  {
   "cell_type": "code",
   "execution_count": 1761,
   "id": "938e5376",
   "metadata": {},
   "outputs": [],
   "source": [
    "# data_train, data_test, target_train, target_test = train_test_split(\n",
    "#     data, target, random_state=42)"
   ]
  },
  {
   "cell_type": "code",
   "execution_count": 1762,
   "id": "d8f365d6",
   "metadata": {},
   "outputs": [],
   "source": [
    "# _ = model.fit(data_train, target_train)"
   ]
  },
  {
   "cell_type": "code",
   "execution_count": 1763,
   "id": "98a47dd6",
   "metadata": {},
   "outputs": [],
   "source": [
    "# model.predict(data_test)[:5]"
   ]
  },
  {
   "cell_type": "code",
   "execution_count": 1764,
   "id": "65650ae3",
   "metadata": {},
   "outputs": [],
   "source": [
    "# target_test[:5]"
   ]
  },
  {
   "cell_type": "code",
   "execution_count": 1765,
   "id": "7cb457a3",
   "metadata": {},
   "outputs": [
    {
     "name": "stderr",
     "output_type": "stream",
     "text": [
      "D:\\anconda\\lib\\site-packages\\sklearn\\preprocessing\\_encoders.py:808: FutureWarning: `sparse` was renamed to `sparse_output` in version 1.2 and will be removed in 1.4. `sparse_output` is ignored unless you leave `sparse` to its default value.\n",
      "  warnings.warn(\n"
     ]
    }
   ],
   "source": [
    "encoder = OneHotEncoder(sparse=False,handle_unknown=\"ignore\")\n",
    "numerical_preprocessor = StandardScaler()\n",
    "\n",
    "other_categorite_encoded = encoder.fit_transform(df[column_name])\n",
    "columns_encoded = encoder.get_feature_names_out(column_name)\n",
    "df_encoded = df_encoded.join(pd.DataFrame(other_categorite_encoded,index=df.index, columns=columns_encoded))\n",
    "\n",
    "\n",
    "df_encoded = df_encoded.join(df[[ 'Nong_do', 'Dung_tich']])"
   ]
  },
  {
   "cell_type": "code",
   "execution_count": 1766,
   "id": "ed121d04",
   "metadata": {},
   "outputs": [
    {
     "data": {
      "text/html": [
       "<div>\n",
       "<style scoped>\n",
       "    .dataframe tbody tr th:only-of-type {\n",
       "        vertical-align: middle;\n",
       "    }\n",
       "\n",
       "    .dataframe tbody tr th {\n",
       "        vertical-align: top;\n",
       "    }\n",
       "\n",
       "    .dataframe thead th {\n",
       "        text-align: right;\n",
       "    }\n",
       "</style>\n",
       "<table border=\"1\" class=\"dataframe\">\n",
       "  <thead>\n",
       "    <tr style=\"text-align: right;\">\n",
       "      <th></th>\n",
       "      <th>10 % Hárslevlű</th>\n",
       "      <th>100 % Touriga Nacional</th>\n",
       "      <th>100% Nho Tinta De Toro</th>\n",
       "      <th>100% Verdeca</th>\n",
       "      <th>100% Viura</th>\n",
       "      <th>90 % Furmint</th>\n",
       "      <th>Aglianico</th>\n",
       "      <th>Airen</th>\n",
       "      <th>Albana</th>\n",
       "      <th>Albarino</th>\n",
       "      <th>...</th>\n",
       "      <th>Vung_lam_vang_Vins De Pays</th>\n",
       "      <th>Vung_lam_vang_Weingut Hermann Donnhoff</th>\n",
       "      <th>Vung_lam_vang_Western Cape</th>\n",
       "      <th>Vung_lam_vang_Yarra Valley</th>\n",
       "      <th>Vung_lam_vang_Yecla</th>\n",
       "      <th>Vung_lam_vang_chính là cái “nôi” của những dòng rượu vang nổi tiếng của đất nước Ý hình chiếc ủng xinh xắn với bề dày lịch sử lâu đời. Và là một tín đồ rượu vang,chắc chắn bạn đã từng biết đến và thưởng thức những đứa con rượu vang chất lượng sinh ra từ nơi đây.</th>\n",
       "      <th>Vung_lam_vang_d’Asti</th>\n",
       "      <th>Vung_lam_vang_Đảo Sardinia – Italia</th>\n",
       "      <th>Nong_do</th>\n",
       "      <th>Dung_tich</th>\n",
       "    </tr>\n",
       "  </thead>\n",
       "  <tbody>\n",
       "    <tr>\n",
       "      <th>0</th>\n",
       "      <td>0</td>\n",
       "      <td>0</td>\n",
       "      <td>0</td>\n",
       "      <td>0</td>\n",
       "      <td>0</td>\n",
       "      <td>0</td>\n",
       "      <td>0</td>\n",
       "      <td>0</td>\n",
       "      <td>0</td>\n",
       "      <td>0</td>\n",
       "      <td>...</td>\n",
       "      <td>0.0</td>\n",
       "      <td>0.0</td>\n",
       "      <td>0.0</td>\n",
       "      <td>0.0</td>\n",
       "      <td>0.0</td>\n",
       "      <td>0.0</td>\n",
       "      <td>0.0</td>\n",
       "      <td>0.0</td>\n",
       "      <td>11.0</td>\n",
       "      <td>750.0</td>\n",
       "    </tr>\n",
       "    <tr>\n",
       "      <th>1</th>\n",
       "      <td>0</td>\n",
       "      <td>0</td>\n",
       "      <td>0</td>\n",
       "      <td>0</td>\n",
       "      <td>0</td>\n",
       "      <td>0</td>\n",
       "      <td>0</td>\n",
       "      <td>0</td>\n",
       "      <td>0</td>\n",
       "      <td>0</td>\n",
       "      <td>...</td>\n",
       "      <td>0.0</td>\n",
       "      <td>0.0</td>\n",
       "      <td>0.0</td>\n",
       "      <td>0.0</td>\n",
       "      <td>0.0</td>\n",
       "      <td>0.0</td>\n",
       "      <td>0.0</td>\n",
       "      <td>0.0</td>\n",
       "      <td>12.0</td>\n",
       "      <td>750.0</td>\n",
       "    </tr>\n",
       "    <tr>\n",
       "      <th>2</th>\n",
       "      <td>0</td>\n",
       "      <td>0</td>\n",
       "      <td>0</td>\n",
       "      <td>0</td>\n",
       "      <td>0</td>\n",
       "      <td>0</td>\n",
       "      <td>0</td>\n",
       "      <td>0</td>\n",
       "      <td>0</td>\n",
       "      <td>0</td>\n",
       "      <td>...</td>\n",
       "      <td>0.0</td>\n",
       "      <td>0.0</td>\n",
       "      <td>0.0</td>\n",
       "      <td>0.0</td>\n",
       "      <td>0.0</td>\n",
       "      <td>0.0</td>\n",
       "      <td>0.0</td>\n",
       "      <td>0.0</td>\n",
       "      <td>13.5</td>\n",
       "      <td>750.0</td>\n",
       "    </tr>\n",
       "    <tr>\n",
       "      <th>3</th>\n",
       "      <td>0</td>\n",
       "      <td>0</td>\n",
       "      <td>0</td>\n",
       "      <td>0</td>\n",
       "      <td>0</td>\n",
       "      <td>0</td>\n",
       "      <td>0</td>\n",
       "      <td>0</td>\n",
       "      <td>0</td>\n",
       "      <td>0</td>\n",
       "      <td>...</td>\n",
       "      <td>0.0</td>\n",
       "      <td>0.0</td>\n",
       "      <td>0.0</td>\n",
       "      <td>0.0</td>\n",
       "      <td>0.0</td>\n",
       "      <td>0.0</td>\n",
       "      <td>0.0</td>\n",
       "      <td>0.0</td>\n",
       "      <td>11.0</td>\n",
       "      <td>375.0</td>\n",
       "    </tr>\n",
       "    <tr>\n",
       "      <th>4</th>\n",
       "      <td>0</td>\n",
       "      <td>0</td>\n",
       "      <td>0</td>\n",
       "      <td>0</td>\n",
       "      <td>0</td>\n",
       "      <td>0</td>\n",
       "      <td>0</td>\n",
       "      <td>0</td>\n",
       "      <td>0</td>\n",
       "      <td>0</td>\n",
       "      <td>...</td>\n",
       "      <td>0.0</td>\n",
       "      <td>0.0</td>\n",
       "      <td>0.0</td>\n",
       "      <td>0.0</td>\n",
       "      <td>0.0</td>\n",
       "      <td>0.0</td>\n",
       "      <td>0.0</td>\n",
       "      <td>0.0</td>\n",
       "      <td>12.5</td>\n",
       "      <td>750.0</td>\n",
       "    </tr>\n",
       "    <tr>\n",
       "      <th>...</th>\n",
       "      <td>...</td>\n",
       "      <td>...</td>\n",
       "      <td>...</td>\n",
       "      <td>...</td>\n",
       "      <td>...</td>\n",
       "      <td>...</td>\n",
       "      <td>...</td>\n",
       "      <td>...</td>\n",
       "      <td>...</td>\n",
       "      <td>...</td>\n",
       "      <td>...</td>\n",
       "      <td>...</td>\n",
       "      <td>...</td>\n",
       "      <td>...</td>\n",
       "      <td>...</td>\n",
       "      <td>...</td>\n",
       "      <td>...</td>\n",
       "      <td>...</td>\n",
       "      <td>...</td>\n",
       "      <td>...</td>\n",
       "      <td>...</td>\n",
       "    </tr>\n",
       "    <tr>\n",
       "      <th>3929</th>\n",
       "      <td>0</td>\n",
       "      <td>0</td>\n",
       "      <td>0</td>\n",
       "      <td>0</td>\n",
       "      <td>0</td>\n",
       "      <td>0</td>\n",
       "      <td>0</td>\n",
       "      <td>0</td>\n",
       "      <td>0</td>\n",
       "      <td>0</td>\n",
       "      <td>...</td>\n",
       "      <td>0.0</td>\n",
       "      <td>0.0</td>\n",
       "      <td>0.0</td>\n",
       "      <td>0.0</td>\n",
       "      <td>0.0</td>\n",
       "      <td>0.0</td>\n",
       "      <td>0.0</td>\n",
       "      <td>0.0</td>\n",
       "      <td>12.0</td>\n",
       "      <td>750.0</td>\n",
       "    </tr>\n",
       "    <tr>\n",
       "      <th>3930</th>\n",
       "      <td>0</td>\n",
       "      <td>0</td>\n",
       "      <td>0</td>\n",
       "      <td>0</td>\n",
       "      <td>0</td>\n",
       "      <td>0</td>\n",
       "      <td>0</td>\n",
       "      <td>0</td>\n",
       "      <td>0</td>\n",
       "      <td>0</td>\n",
       "      <td>...</td>\n",
       "      <td>0.0</td>\n",
       "      <td>0.0</td>\n",
       "      <td>0.0</td>\n",
       "      <td>0.0</td>\n",
       "      <td>0.0</td>\n",
       "      <td>0.0</td>\n",
       "      <td>0.0</td>\n",
       "      <td>0.0</td>\n",
       "      <td>14.0</td>\n",
       "      <td>750.0</td>\n",
       "    </tr>\n",
       "    <tr>\n",
       "      <th>3931</th>\n",
       "      <td>0</td>\n",
       "      <td>0</td>\n",
       "      <td>0</td>\n",
       "      <td>0</td>\n",
       "      <td>0</td>\n",
       "      <td>0</td>\n",
       "      <td>0</td>\n",
       "      <td>0</td>\n",
       "      <td>0</td>\n",
       "      <td>0</td>\n",
       "      <td>...</td>\n",
       "      <td>0.0</td>\n",
       "      <td>0.0</td>\n",
       "      <td>0.0</td>\n",
       "      <td>0.0</td>\n",
       "      <td>0.0</td>\n",
       "      <td>0.0</td>\n",
       "      <td>0.0</td>\n",
       "      <td>0.0</td>\n",
       "      <td>13.5</td>\n",
       "      <td>750.0</td>\n",
       "    </tr>\n",
       "    <tr>\n",
       "      <th>3932</th>\n",
       "      <td>0</td>\n",
       "      <td>0</td>\n",
       "      <td>0</td>\n",
       "      <td>0</td>\n",
       "      <td>0</td>\n",
       "      <td>0</td>\n",
       "      <td>0</td>\n",
       "      <td>0</td>\n",
       "      <td>0</td>\n",
       "      <td>0</td>\n",
       "      <td>...</td>\n",
       "      <td>0.0</td>\n",
       "      <td>0.0</td>\n",
       "      <td>0.0</td>\n",
       "      <td>0.0</td>\n",
       "      <td>0.0</td>\n",
       "      <td>0.0</td>\n",
       "      <td>0.0</td>\n",
       "      <td>0.0</td>\n",
       "      <td>13.5</td>\n",
       "      <td>750.0</td>\n",
       "    </tr>\n",
       "    <tr>\n",
       "      <th>3933</th>\n",
       "      <td>0</td>\n",
       "      <td>0</td>\n",
       "      <td>0</td>\n",
       "      <td>0</td>\n",
       "      <td>0</td>\n",
       "      <td>0</td>\n",
       "      <td>0</td>\n",
       "      <td>0</td>\n",
       "      <td>0</td>\n",
       "      <td>0</td>\n",
       "      <td>...</td>\n",
       "      <td>0.0</td>\n",
       "      <td>0.0</td>\n",
       "      <td>0.0</td>\n",
       "      <td>0.0</td>\n",
       "      <td>0.0</td>\n",
       "      <td>0.0</td>\n",
       "      <td>0.0</td>\n",
       "      <td>0.0</td>\n",
       "      <td>12.5</td>\n",
       "      <td>750.0</td>\n",
       "    </tr>\n",
       "  </tbody>\n",
       "</table>\n",
       "<p>3934 rows × 2224 columns</p>\n",
       "</div>"
      ],
      "text/plain": [
       "      10 % Hárslevlű  100 % Touriga Nacional  100% Nho Tinta De Toro  \\\n",
       "0                  0                       0                       0   \n",
       "1                  0                       0                       0   \n",
       "2                  0                       0                       0   \n",
       "3                  0                       0                       0   \n",
       "4                  0                       0                       0   \n",
       "...              ...                     ...                     ...   \n",
       "3929               0                       0                       0   \n",
       "3930               0                       0                       0   \n",
       "3931               0                       0                       0   \n",
       "3932               0                       0                       0   \n",
       "3933               0                       0                       0   \n",
       "\n",
       "      100% Verdeca  100% Viura  90 % Furmint  Aglianico  Airen  Albana  \\\n",
       "0                0           0             0          0      0       0   \n",
       "1                0           0             0          0      0       0   \n",
       "2                0           0             0          0      0       0   \n",
       "3                0           0             0          0      0       0   \n",
       "4                0           0             0          0      0       0   \n",
       "...            ...         ...           ...        ...    ...     ...   \n",
       "3929             0           0             0          0      0       0   \n",
       "3930             0           0             0          0      0       0   \n",
       "3931             0           0             0          0      0       0   \n",
       "3932             0           0             0          0      0       0   \n",
       "3933             0           0             0          0      0       0   \n",
       "\n",
       "      Albarino  ...  Vung_lam_vang_Vins De Pays  \\\n",
       "0            0  ...                         0.0   \n",
       "1            0  ...                         0.0   \n",
       "2            0  ...                         0.0   \n",
       "3            0  ...                         0.0   \n",
       "4            0  ...                         0.0   \n",
       "...        ...  ...                         ...   \n",
       "3929         0  ...                         0.0   \n",
       "3930         0  ...                         0.0   \n",
       "3931         0  ...                         0.0   \n",
       "3932         0  ...                         0.0   \n",
       "3933         0  ...                         0.0   \n",
       "\n",
       "      Vung_lam_vang_Weingut Hermann Donnhoff  Vung_lam_vang_Western Cape  \\\n",
       "0                                        0.0                         0.0   \n",
       "1                                        0.0                         0.0   \n",
       "2                                        0.0                         0.0   \n",
       "3                                        0.0                         0.0   \n",
       "4                                        0.0                         0.0   \n",
       "...                                      ...                         ...   \n",
       "3929                                     0.0                         0.0   \n",
       "3930                                     0.0                         0.0   \n",
       "3931                                     0.0                         0.0   \n",
       "3932                                     0.0                         0.0   \n",
       "3933                                     0.0                         0.0   \n",
       "\n",
       "      Vung_lam_vang_Yarra Valley  Vung_lam_vang_Yecla  \\\n",
       "0                            0.0                  0.0   \n",
       "1                            0.0                  0.0   \n",
       "2                            0.0                  0.0   \n",
       "3                            0.0                  0.0   \n",
       "4                            0.0                  0.0   \n",
       "...                          ...                  ...   \n",
       "3929                         0.0                  0.0   \n",
       "3930                         0.0                  0.0   \n",
       "3931                         0.0                  0.0   \n",
       "3932                         0.0                  0.0   \n",
       "3933                         0.0                  0.0   \n",
       "\n",
       "      Vung_lam_vang_chính là cái “nôi” của những dòng rượu vang nổi tiếng của đất nước Ý hình chiếc ủng xinh xắn với bề dày lịch sử lâu đời. Và là một tín đồ rượu vang,chắc chắn bạn đã từng biết đến và thưởng thức những đứa con rượu vang chất lượng sinh ra từ nơi đây.  \\\n",
       "0                                                   0.0                                                                                                                                                                                                                                                         \n",
       "1                                                   0.0                                                                                                                                                                                                                                                         \n",
       "2                                                   0.0                                                                                                                                                                                                                                                         \n",
       "3                                                   0.0                                                                                                                                                                                                                                                         \n",
       "4                                                   0.0                                                                                                                                                                                                                                                         \n",
       "...                                                 ...                                                                                                                                                                                                                                                         \n",
       "3929                                                0.0                                                                                                                                                                                                                                                         \n",
       "3930                                                0.0                                                                                                                                                                                                                                                         \n",
       "3931                                                0.0                                                                                                                                                                                                                                                         \n",
       "3932                                                0.0                                                                                                                                                                                                                                                         \n",
       "3933                                                0.0                                                                                                                                                                                                                                                         \n",
       "\n",
       "      Vung_lam_vang_d’Asti  Vung_lam_vang_Đảo Sardinia – Italia  Nong_do  \\\n",
       "0                      0.0                                  0.0     11.0   \n",
       "1                      0.0                                  0.0     12.0   \n",
       "2                      0.0                                  0.0     13.5   \n",
       "3                      0.0                                  0.0     11.0   \n",
       "4                      0.0                                  0.0     12.5   \n",
       "...                    ...                                  ...      ...   \n",
       "3929                   0.0                                  0.0     12.0   \n",
       "3930                   0.0                                  0.0     14.0   \n",
       "3931                   0.0                                  0.0     13.5   \n",
       "3932                   0.0                                  0.0     13.5   \n",
       "3933                   0.0                                  0.0     12.5   \n",
       "\n",
       "      Dung_tich  \n",
       "0         750.0  \n",
       "1         750.0  \n",
       "2         750.0  \n",
       "3         375.0  \n",
       "4         750.0  \n",
       "...         ...  \n",
       "3929      750.0  \n",
       "3930      750.0  \n",
       "3931      750.0  \n",
       "3932      750.0  \n",
       "3933      750.0  \n",
       "\n",
       "[3934 rows x 2224 columns]"
      ]
     },
     "execution_count": 1766,
     "metadata": {},
     "output_type": "execute_result"
    }
   ],
   "source": [
    "df_encoded"
   ]
  },
  {
   "cell_type": "code",
   "execution_count": 1767,
   "id": "b446e19f",
   "metadata": {
    "scrolled": true
   },
   "outputs": [],
   "source": [
    "y = df.pop('Gia')"
   ]
  },
  {
   "cell_type": "code",
   "execution_count": 1768,
   "id": "212c291f",
   "metadata": {},
   "outputs": [],
   "source": [
    "#Chia df thành tập train và test\n",
    "X_train, X_test, y_train, y_test = train_test_split(df_encoded, y, test_size=0.2)\n",
    "# train.to_csv(os.path.join(os.getcwd(), 'dataset', 'train.csv'),index=False)\n",
    "# test.to_csv(os.path.join(os.getcwd(), 'dataset', 'test.csv'),index=False)"
   ]
  },
  {
   "cell_type": "markdown",
   "id": "b36ca404",
   "metadata": {},
   "source": [
    "<h3 style='color:#45ccb1d4;text-align:center;font-size:20px'><b>1.Linear Regression</b></h3> "
   ]
  },
  {
   "cell_type": "code",
   "execution_count": 1769,
   "id": "1741327b",
   "metadata": {},
   "outputs": [
    {
     "name": "stderr",
     "output_type": "stream",
     "text": [
      "D:\\anconda\\lib\\site-packages\\sklearn\\utils\\validation.py:768: UserWarning: pandas.DataFrame with sparse columns found.It will be converted to a dense numpy array.\n",
      "  warnings.warn(\n"
     ]
    }
   ],
   "source": [
    "reg = LinearRegression().fit(X_train, y_train)"
   ]
  },
  {
   "cell_type": "code",
   "execution_count": 1770,
   "id": "494a2671",
   "metadata": {
    "scrolled": true
   },
   "outputs": [
    {
     "name": "stderr",
     "output_type": "stream",
     "text": [
      "D:\\anconda\\lib\\site-packages\\sklearn\\utils\\validation.py:768: UserWarning: pandas.DataFrame with sparse columns found.It will be converted to a dense numpy array.\n",
      "  warnings.warn(\n"
     ]
    }
   ],
   "source": [
    "y_pred = reg.predict(X_test)"
   ]
  },
  {
   "cell_type": "code",
   "execution_count": 1771,
   "id": "da4b533e",
   "metadata": {},
   "outputs": [
    {
     "data": {
      "text/plain": [
       "array([-3.34747025e+06, -9.53842250e+05,  1.72890341e+12, -4.97472375e+05,\n",
       "        6.16262500e+05,  1.21848175e+06,  2.64261975e+06,  2.21973288e+06,\n",
       "        2.17458200e+06,  1.93556275e+06,  1.81726788e+06,  2.00793799e+13,\n",
       "       -9.20339625e+05,  2.56008262e+13,  1.24600388e+06,  9.58286625e+05,\n",
       "        9.50773750e+04,  1.53522982e+13,  3.48639910e+13,  1.45224925e+06,\n",
       "       -6.54353669e+12,  3.76275625e+05,  2.59747250e+05,  3.47180450e+06,\n",
       "        5.24836125e+05, -1.88878250e+05,  2.05695025e+06,  2.85214875e+05,\n",
       "        3.08736800e+06,  6.81969500e+05,  1.33721262e+06,  1.72890408e+12,\n",
       "       -1.70500750e+05,  4.28061750e+05,  5.69598250e+05,  8.41474750e+05,\n",
       "        1.34524375e+05,  3.46751393e+13,  4.30840556e+13,  1.23178369e+13,\n",
       "        1.21121500e+06,  1.72890406e+12, -7.98255125e+05,  2.81489000e+05,\n",
       "        1.65083375e+06,  2.00483140e+13, -5.51846125e+12,  2.24669275e+06,\n",
       "        1.28780362e+06,  1.04264038e+06,  6.54289125e+05,  1.72890346e+12,\n",
       "        1.72890341e+12,  7.86083625e+05, -3.69590447e+13,  7.61289750e+05,\n",
       "        5.06558250e+05, -1.29159793e+13,  1.27141775e+06,  1.46005600e+13,\n",
       "        1.72891562e+12,  3.40284762e+06,  1.30968554e+14,  8.93407125e+05,\n",
       "        7.46029750e+05, -1.55326909e+13,  3.76601088e+06,  6.81969500e+05,\n",
       "        1.85171312e+07,  1.42480175e+06,  2.33752874e+13,  3.63794450e+06,\n",
       "        3.78322875e+05,  9.95052375e+05,  1.67414143e+13,  9.07448750e+05,\n",
       "        1.09630290e+13,  1.69129050e+06,  1.15761137e+14,  1.72890402e+12,\n",
       "       -9.62890385e+12,  2.93720125e+05,  6.52048125e+05,  1.60139325e+06,\n",
       "        2.47558550e+06,  1.15019250e+06,  1.07969075e+06, -4.65917500e+05,\n",
       "        9.56248693e+11,  1.13951300e+06,  2.42537500e+04,  1.15019250e+06,\n",
       "        1.62494450e+06,  2.22287875e+06,  1.17195285e+13,  2.24393975e+06,\n",
       "        1.38876238e+06,  1.73714050e+06,  1.72890468e+12, -5.76279725e+12,\n",
       "        2.09736500e+05,  3.54018150e+06,  2.65304682e+13,  2.12774754e+13,\n",
       "       -5.34191000e+05,  2.11727587e+13,  3.18807475e+06,  9.78098875e+05,\n",
       "        1.65286375e+05,  1.09630284e+13,  3.74465588e+13,  1.72890481e+12,\n",
       "        9.48582250e+05,  1.73714050e+06, -2.26350044e+13,  9.56245919e+11,\n",
       "        1.72890412e+12,  1.72890597e+12, -5.89035180e+12,  3.71448250e+05,\n",
       "        6.61860375e+05,  2.55569421e+13, -2.68458625e+05,  1.53285800e+06,\n",
       "        7.66834870e+13,  1.40892025e+06, -8.04506763e+14,  3.65928954e+13,\n",
       "        6.41307300e+06,  4.55957500e+04, -3.99565852e+13,  1.86483669e+13,\n",
       "        1.34566356e+14,  7.20550500e+05,  1.40105119e+13,  4.06291850e+06,\n",
       "        1.49258778e+13,  2.34741100e+06,  1.72891648e+12,  6.16096625e+05,\n",
       "        9.07707500e+05, -1.97388092e+12,  8.06911784e+12,  9.56245573e+11,\n",
       "        2.36219683e+13, -1.52849359e+13,  1.16427900e+06,  8.98921250e+05,\n",
       "        1.40954750e+06,  1.72890478e+12,  1.72890341e+12,  6.86449000e+05,\n",
       "        2.92266900e+06, -3.25927500e+04, -5.28540375e+05,  1.72890415e+12,\n",
       "        3.39479162e+06,  5.48528212e+06,  3.45092275e+06,  3.25461575e+06,\n",
       "        4.56354125e+05,  3.91107750e+05,  2.33752880e+13,  1.91305400e+06,\n",
       "        9.57830500e+05,  1.72890356e+12,  6.62487750e+05, -8.96117794e+12,\n",
       "        2.60522175e+06, -1.37282100e+13,  4.20898200e+06, -3.68303048e+15,\n",
       "       -1.91547738e+06,  1.19698088e+06,  2.36219686e+13,  2.09299500e+05,\n",
       "        5.17238250e+05,  2.21961050e+06,  5.44743250e+05,  1.00484325e+06,\n",
       "        2.52967700e+06,  8.76901336e+12,  1.48322075e+06,  6.60983625e+05,\n",
       "        6.46729250e+05,  1.72890339e+12,  8.60623300e+06,  7.27543125e+05,\n",
       "        2.74101025e+06,  8.61206500e+05,  1.55011875e+06,  8.41921125e+06,\n",
       "        1.72890435e+12,  1.22136712e+06,  6.42452250e+05,  2.93452150e+12,\n",
       "        3.48639974e+13,  1.11441438e+06,  2.47499900e+06, -1.53350888e+06,\n",
       "        6.31470125e+05,  3.07138125e+05,  8.59782125e+05,  9.56247062e+11,\n",
       "        3.89325250e+05,  3.48639976e+13,  1.52482925e+06,  1.62704925e+06,\n",
       "        4.49387312e+06,  2.88783479e+13, -2.41089808e+13, -1.96785712e+13,\n",
       "        4.62091750e+06,  6.73000375e+05,  6.60648250e+05,  1.14101325e+06,\n",
       "        3.43278125e+05,  1.72890436e+12,  9.56246525e+11,  4.30826906e+13,\n",
       "        1.72890784e+12,  1.59028500e+05,  3.80545925e+06,  1.07888125e+06,\n",
       "        5.33072000e+05,  2.82627175e+06,  8.63833750e+05,  1.54480315e+13,\n",
       "        1.51469888e+13,  1.72891284e+12,  1.05153525e+06,  1.45227612e+06,\n",
       "        2.96046500e+05,  9.56245940e+11, -2.41089808e+13,  2.74395312e+06,\n",
       "        1.56199675e+06,  1.72890647e+12,  1.72890374e+12,  2.93401858e+12,\n",
       "       -1.89462000e+05, -2.29388267e+13, -8.04208750e+04,  1.72890465e+12,\n",
       "       -4.97075000e+04,  1.45391038e+06,  4.01864275e+06,  1.40690406e+13,\n",
       "        1.60686062e+06, -1.22780875e+05,  3.62785100e+06,  4.69876388e+12,\n",
       "        1.72890369e+12,  1.72890467e+12,  2.44386825e+06, -2.44202500e+05,\n",
       "        1.82629275e+06,  9.56246293e+11,  3.48337875e+05, -2.50652259e+13,\n",
       "       -2.51498750e+04,  1.91376225e+06,  4.48664750e+05,  1.72890438e+12,\n",
       "        1.72890341e+12,  1.72890378e+12,  1.01600812e+13,  9.56246166e+11,\n",
       "        1.72890292e+12,  1.72890637e+12, -1.93114575e+06, -2.02168150e+06,\n",
       "        6.34102500e+05,  1.72890419e+12,  8.33738125e+05,  6.52530188e+06,\n",
       "        7.76563035e+12, -1.92104750e+05,  2.05495450e+06,  3.23212850e+06,\n",
       "        6.65316750e+05,  4.85385475e+06,  3.50464548e+13, -2.10923178e+13,\n",
       "        5.42542000e+06, -4.84488510e+13,  1.92416225e+06,  1.95144425e+06,\n",
       "        2.18354875e+05,  1.21100585e+13,  1.61047675e+06,  1.20699523e+13,\n",
       "        1.27707100e+06,  2.31803875e+06,  4.12548570e+13,  9.19120500e+05,\n",
       "        6.19958000e+05,  3.52426000e+05,  1.72890376e+12,  6.63380091e+10,\n",
       "        9.69819000e+05,  1.03465150e+06,  1.25909475e+06,  4.22997903e+13,\n",
       "        4.39827500e+05,  2.96314750e+05,  9.84843500e+05,  1.72890429e+12,\n",
       "        8.29283250e+05,  2.60488625e+05,  2.71141500e+05,  3.94868875e+06,\n",
       "        1.49219625e+05,  2.48308550e+06,  3.45092275e+06,  1.39898275e+06,\n",
       "        1.40105130e+13,  1.21546350e+06,  1.72890424e+12,  9.13760125e+05,\n",
       "        3.09776100e+06,  1.83343588e+06, -2.91641394e+13,  1.52001500e+06,\n",
       "       -2.70066575e+13,  3.39626838e+06,  1.72890487e+12,  2.25509000e+06,\n",
       "        6.40303250e+05,  1.62328321e+13,  1.72890532e+12,  7.61289750e+05,\n",
       "        4.30826923e+13,  6.65280375e+05,  4.45575125e+05,  5.21692875e+05,\n",
       "        2.24694725e+06,  3.74682300e+06,  9.65942375e+05,  6.28869125e+05,\n",
       "        1.51469924e+13,  1.10731796e+13,  7.33070000e+04,  1.72890397e+12,\n",
       "        3.01489812e+06,  1.95321899e+13,  7.12972875e+05, -5.62745568e+12,\n",
       "        8.08673375e+05,  2.53237250e+05,  1.40690424e+13,  2.88955207e+13,\n",
       "        2.43182775e+06, -3.52436343e+13,  2.85407162e+06, -2.04219500e+05,\n",
       "        2.74146975e+06,  8.60406500e+05,  1.72890343e+12,  9.56246151e+11,\n",
       "        9.56245856e+11,  1.72891518e+12,  2.42472820e+13,  1.72890314e+12,\n",
       "        5.17407750e+05,  5.06762750e+05,  4.18410100e+06, -4.51126632e+12,\n",
       "        1.72890358e+12,  1.91004988e+06,  1.34403112e+06,  3.64816712e+06,\n",
       "        2.74552250e+05,  4.72167125e+05,  1.05347400e+06,  1.40105131e+13,\n",
       "        1.72890292e+12,  1.72818250e+05,  4.67835975e+06,  2.62918000e+05,\n",
       "        1.16589125e+06,  1.09987338e+06,  7.06385375e+05,  1.72890408e+12,\n",
       "        1.06932100e+06,  3.70161162e+06,  1.13957950e+06,  7.19788086e+13,\n",
       "        9.56245589e+11,  1.72890413e+12,  2.32818862e+06,  6.57611750e+05,\n",
       "        1.29176575e+06,  3.06691125e+05, -1.79959372e+13,  1.84243388e+06,\n",
       "        4.16835475e+06, -8.64811250e+05,  2.28071562e+06,  4.84959394e+15,\n",
       "        1.98677661e+13, -3.87827750e+05,  4.33834425e+06,  1.72890473e+12,\n",
       "        3.96613838e+06,  6.98188000e+05,  1.23823375e+06,  1.16099188e+06,\n",
       "       -2.58763016e+13,  1.81065900e+06, -7.74217632e+13,  1.19792500e+04,\n",
       "        9.73345000e+04,  9.87091125e+05,  2.25341827e+13, -7.96019375e+05,\n",
       "        2.33752879e+13,  5.71682150e+06,  9.74021875e+05, -1.64630934e+13,\n",
       "        1.15203354e+13,  4.72043804e+13,  1.72890335e+12,  4.07169288e+06,\n",
       "        4.15501125e+05,  9.97959750e+05,  2.37904600e+06,  1.98677577e+13,\n",
       "        1.72890313e+12,  1.72890369e+12, -5.25519763e+13, -4.56695858e+13,\n",
       "        9.56246533e+11, -9.43239455e+12,  5.96526575e+06,  2.93401877e+12,\n",
       "        1.72890460e+12,  5.60216375e+05, -1.88220500e+05,  3.95465800e+06,\n",
       "        9.96433236e+12,  1.62328368e+13,  1.13508888e+06,  7.89194750e+05,\n",
       "        1.04104000e+06,  5.73190250e+05,  2.52541425e+06,  9.56246764e+11,\n",
       "        9.56246471e+11,  2.02840375e+06,  1.72709875e+06, -2.01823781e+13,\n",
       "        1.24899338e+06, -1.23543227e+13,  2.67002250e+06,  4.70973340e+13,\n",
       "        2.93465325e+06, -1.24582589e+13,  2.47526050e+06,  2.19621300e+06,\n",
       "        1.72890405e+12,  1.10004325e+06,  1.05837150e+06,  2.98517650e+13,\n",
       "       -3.69590446e+13,  1.72890377e+12,  1.74013600e+06,  1.15175688e+06,\n",
       "        7.19788091e+13,  2.13241962e+07,  1.72890395e+12, -8.77898775e+06,\n",
       "        2.57197750e+06,  8.99673250e+05,  1.82754763e+12,  9.67142375e+05,\n",
       "        1.22136712e+06,  5.22121195e+12,  2.71439200e+06,  5.59208750e+05,\n",
       "        8.53914625e+05,  1.72890453e+12,  3.27087525e+06,  1.08534888e+06,\n",
       "        2.20064362e+06,  9.56246106e+11,  1.72890444e+12, -7.98251500e+05,\n",
       "        2.60343425e+06,  9.40392675e+12,  1.24049625e+06, -2.52334625e+05,\n",
       "        7.04913375e+05,  2.10194500e+06,  2.82964150e+06,  1.19828712e+06,\n",
       "        2.42282750e+05,  1.03179204e+13,  3.87445812e+06,  3.42237300e+06,\n",
       "        1.72890621e+12,  8.52754750e+05,  9.33691988e+06,  9.64710500e+05,\n",
       "        4.97524125e+05,  1.51469899e+13,  1.72890414e+12,  1.33014950e+06,\n",
       "        1.14101325e+06,  9.33664750e+05,  1.91426850e+06,  1.72890357e+12,\n",
       "        3.55557250e+05,  1.51469951e+13,  2.95085150e+06,  1.72890446e+12,\n",
       "        6.23026375e+05,  2.12834088e+06,  1.37768875e+06,  3.22497525e+06,\n",
       "        2.90012500e+04,  6.37457250e+05,  3.00572675e+06,  7.49024750e+05,\n",
       "        1.84792706e+13,  2.08176250e+05,  1.62339962e+06, -2.41089850e+13,\n",
       "        9.56247062e+11,  6.68189875e+05,  7.91652500e+04,  1.40105129e+13,\n",
       "       -1.28228888e+06,  1.51469858e+13,  3.76895012e+06,  5.48391912e+06,\n",
       "        8.37932250e+05,  5.51519750e+05,  1.45227612e+06,  1.21821925e+06,\n",
       "        1.72890448e+12,  2.36219684e+13, -5.21569500e+05,  3.28211244e+13,\n",
       "        1.72890458e+12,  1.29790575e+06,  9.56245576e+11,  5.51519750e+05,\n",
       "        1.92731212e+06,  2.36219685e+13,  3.45092275e+06, -4.57333250e+05,\n",
       "        1.04038300e+06,  1.09293000e+05,  1.13009625e+06, -6.21285750e+05,\n",
       "        1.44637962e+06,  1.38759175e+06,  1.81349904e+13,  1.41867400e+06,\n",
       "        1.10777413e+13,  3.45092275e+06,  4.30826910e+13, -5.10094250e+05,\n",
       "        2.71990100e+06,  3.24259750e+05,  1.72890320e+12, -2.78848750e+04,\n",
       "        1.57908025e+06,  2.66920700e+06,  9.56245856e+11,  8.18491875e+05,\n",
       "        1.72890475e+12,  3.76166700e+06,  2.00793818e+13, -1.24582632e+13,\n",
       "        1.37554950e+06,  2.48078800e+06, -3.69590441e+13,  1.44500150e+06,\n",
       "        1.03964100e+06, -7.53663500e+05, -5.25519754e+13,  7.81586750e+05,\n",
       "        3.51638775e+06,  9.56245679e+11,  2.88184250e+05,  1.20644950e+06,\n",
       "        2.28645420e+13, -1.71419192e+13, -1.36342895e+13, -2.53325925e+06,\n",
       "        1.72890391e+12,  2.31763100e+06,  1.72890522e+12,  7.44378375e+05,\n",
       "        1.01951762e+06, -1.01020074e+13,  8.45658500e+05,  5.47909500e+05,\n",
       "       -3.04746141e+14,  3.72437625e+06,  1.16781125e+06,  1.06435538e+06,\n",
       "       -1.85827500e+04,  1.08895712e+06, -2.21453250e+05,  2.80409500e+05,\n",
       "        1.72890442e+12,  5.48526125e+05,  7.93154750e+05,  9.56247095e+11,\n",
       "        7.20212000e+05,  5.71487750e+05,  4.45353750e+05,  2.98517639e+13,\n",
       "        1.29558425e+06,  1.72890341e+12,  2.17767888e+06, -8.04506761e+14,\n",
       "        3.48639825e+13,  6.76245169e+12,  3.08513900e+06,  3.68202875e+05,\n",
       "        1.72890381e+12,  1.40105159e+13,  1.00791875e+06,  3.65928947e+13,\n",
       "        2.02029500e+05,  5.61800875e+05, -4.30714250e+05,  1.19481138e+06,\n",
       "        1.43057788e+06,  3.23212850e+06,  3.65928940e+13, -1.69406000e+05,\n",
       "       -1.36233787e+13,  1.49647988e+06, -7.20610375e+05,  1.73355012e+06,\n",
       "        7.33122750e+05,  1.76479825e+06,  1.72890473e+12,  1.19532862e+06,\n",
       "        1.58499450e+06, -1.61688768e+13,  2.76353212e+06,  2.99297700e+06,\n",
       "        3.49959900e+06,  3.61315625e+05,  1.12643100e+06,  4.68880325e+06,\n",
       "        2.96825900e+06,  1.51505675e+06,  5.53620625e+05,  1.36890000e+06,\n",
       "        6.81969500e+05,  2.63588125e+06,  1.72890339e+12,  2.48384562e+06,\n",
       "        1.47365825e+06, -2.41089808e+13,  6.26662500e+04, -1.69069145e+13,\n",
       "        7.16401125e+05,  1.72890395e+12,  7.03545625e+05,  8.54496875e+05,\n",
       "       -5.38699303e+14,  7.44378375e+05,  3.63794450e+06,  4.85983183e+13,\n",
       "       -8.00111250e+04,  3.93564750e+05, -1.26328625e+05,  7.57843000e+05,\n",
       "       -2.08332500e+05, -3.06186339e+13,  3.55844800e+06,  4.51963062e+06,\n",
       "        1.07820575e+06,  3.05254438e+06,  2.99243675e+06,  1.43164788e+06,\n",
       "        1.53447125e+05,  4.08487401e+13,  2.79384250e+05, -9.41708500e+05,\n",
       "        9.56245088e+11,  1.71338725e+06,  1.72890307e+12,  7.82341000e+05,\n",
       "        2.57871000e+06, -2.77770742e+12,  1.75544350e+06,  1.30483375e+05,\n",
       "        9.56244534e+11,  3.49369500e+05,  2.70571350e+06,  1.40652022e+07,\n",
       "        2.26408438e+06, -3.23540625e+05,  1.72890402e+12,  2.86518350e+06,\n",
       "        1.86320800e+06,  9.56246012e+11,  4.03838750e+06,  1.44364375e+05,\n",
       "        2.99865988e+06,  1.40105162e+13,  1.72890452e+12,  1.72890358e+12,\n",
       "        1.17150750e+06,  2.48985450e+06,  1.72890355e+12,  1.07823262e+06,\n",
       "        6.99597625e+05, -2.69724625e+05,  1.77399225e+06,  1.72890570e+12,\n",
       "        8.82781000e+05,  9.05920250e+05,  5.14638875e+05,  4.51260250e+05,\n",
       "        1.70039150e+06,  3.56755250e+05,  1.11947475e+06,  1.72890447e+12,\n",
       "        1.05013250e+05,  1.95529288e+06,  1.76124462e+06,  1.26810800e+06,\n",
       "        3.52446000e+05,  1.39797275e+06,  1.89284575e+06,  2.59363750e+06,\n",
       "        1.72890320e+12,  9.37628625e+05, -1.90704775e+06,  1.72890585e+12,\n",
       "        1.91768162e+06, -4.90543351e+13,  1.82629275e+06,  4.97305556e+13,\n",
       "        2.30974150e+06,  2.44227862e+06,  6.79069375e+05,  2.36665275e+06,\n",
       "        3.65928956e+13,  3.65928935e+13,  2.23437750e+06,  1.20361075e+06,\n",
       "        2.53883625e+06,  7.71876875e+05,  5.33595000e+05,  1.72890492e+12,\n",
       "        9.99182500e+05,  9.21683750e+05,  4.84407200e+06,  1.08096725e+06,\n",
       "        1.72890435e+12,  1.72890395e+12,  8.15421250e+05,  7.99604500e+05,\n",
       "        1.72890415e+12, -2.37021500e+05,  1.13640938e+07,  2.43153475e+06,\n",
       "        1.35105100e+06,  3.48639974e+13, -2.21453250e+05,  1.89072462e+06,\n",
       "        6.89934538e+06,  6.41028999e+11,  2.21961050e+06,  4.90355474e+12,\n",
       "        3.81559388e+06,  1.98717025e+06, -2.38188599e+13,  2.66202075e+06,\n",
       "        4.69041750e+05,  1.72890423e+12,  2.48675525e+06,  9.48311500e+05,\n",
       "        3.48639974e+13,  1.72890331e+12,  3.21663000e+05])"
      ]
     },
     "execution_count": 1771,
     "metadata": {},
     "output_type": "execute_result"
    }
   ],
   "source": [
    "y_pred"
   ]
  },
  {
   "cell_type": "code",
   "execution_count": 1772,
   "id": "cb2fad1e",
   "metadata": {},
   "outputs": [
    {
     "data": {
      "text/plain": [
       "2240     638000.0\n",
       "2457     420000.0\n",
       "2156     225000.0\n",
       "2435     430000.0\n",
       "1109     163000.0\n",
       "          ...    \n",
       "2256     850000.0\n",
       "1551     528000.0\n",
       "2622    3300000.0\n",
       "3372     205000.0\n",
       "382      583000.0\n",
       "Name: Gia, Length: 787, dtype: float64"
      ]
     },
     "execution_count": 1772,
     "metadata": {},
     "output_type": "execute_result"
    }
   ],
   "source": [
    "y_test"
   ]
  },
  {
   "cell_type": "code",
   "execution_count": 1773,
   "id": "bbbbff60",
   "metadata": {},
   "outputs": [
    {
     "name": "stdout",
     "output_type": "stream",
     "text": [
      "4.946167362317748e+28\n"
     ]
    }
   ],
   "source": [
    "mse = sklearn.metrics.mean_squared_error(y_test, y_pred)\n",
    "print(mse)"
   ]
  },
  {
   "cell_type": "code",
   "execution_count": 1774,
   "id": "d1d37185",
   "metadata": {},
   "outputs": [
    {
     "data": {
      "text/plain": [
       "4228569079169.5444"
      ]
     },
     "execution_count": 1774,
     "metadata": {},
     "output_type": "execute_result"
    }
   ],
   "source": [
    "4228569079169.5444"
   ]
  },
  {
   "cell_type": "code",
   "execution_count": 1775,
   "id": "e32e514f",
   "metadata": {},
   "outputs": [
    {
     "data": {
      "text/plain": [
       "<matplotlib.collections.PathCollection at 0x22c04e85e20>"
      ]
     },
     "execution_count": 1775,
     "metadata": {},
     "output_type": "execute_result"
    },
    {
     "data": {
      "image/png": "[encoded data removed]",
      "text/plain": [
       "<Figure size 432x288 with 1 Axes>"
      ]
     },
     "metadata": {},
     "output_type": "display_data"
    }
   ],
   "source": [
    "plt.scatter(y_pred[:10], y_test[:10])"
   ]
  },
  {
   "cell_type": "code",
   "execution_count": null,
   "id": "f1fdc47e",
   "metadata": {},
   "outputs": [],
   "source": []
  }
 ],
 "metadata": {
  "kernelspec": {
   "display_name": "Python 3 (ipykernel)",
   "language": "python",
   "name": "python3"
  },
  "language_info": {
   "codemirror_mode": {
    "name": "ipython",
    "version": 3
   },
   "file_extension": ".py",
   "mimetype": "text/x-python",
   "name": "python",
   "nbconvert_exporter": "python",
   "pygments_lexer": "ipython3",
   "version": "3.9.12"
  }
 },
 "nbformat": 4,
 "nbformat_minor": 5
}
