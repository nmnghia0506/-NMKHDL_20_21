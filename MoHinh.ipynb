{
 "cells": [
  {
   "cell_type": "markdown",
   "id": "fbee8bc0",
   "metadata": {},
   "source": [
    "# <h2><b> Đồ án thực hành </b></h2>\n",
    "<h1 style='color:red;text-align:center;font-size:35px'><b>Chủ đề: Dự đoán giá rượu vang</b></h1>"
   ]
  },
  {
   "cell_type": "markdown",
   "id": "dcbe285b",
   "metadata": {},
   "source": [
    "# <h1 style='color:blue;text-align:center;font-size:30px'><b>Phần II</b></h1>"
   ]
  },
  {
   "cell_type": "markdown",
   "id": "7d59d740",
   "metadata": {},
   "source": [
    "# <h3>Các thành viên trong nhóm</h3>\n",
    "<li> Phan Xuân Hoài - 20120481 </li>\n",
    "<li> Lê Kinh Luân - 1612355 </li>\n",
    "<li> Nguyễn Minh Nghĩa - 20120534</li>\n",
    "<li> Phạm Quốc Hưng - 19120522</li>"
   ]
  },
  {
   "cell_type": "markdown",
   "id": "df1f97fe",
   "metadata": {},
   "source": [
    "### Import những thư viện cần thiết"
   ]
  },
  {
   "cell_type": "code",
   "execution_count": 138,
   "id": "8b88e09d",
   "metadata": {},
   "outputs": [],
   "source": [
    "%matplotlib inline\n",
    "import matplotlib.pyplot as plt\n",
    "import numpy as np\n",
    "import pandas as pd \n",
    "import seaborn as sns\n",
    "sns.set_theme()\n",
    "\n",
    "import os\n",
    "import re\n",
    "import statistics\n",
    "sns.set(rc={'axes.facecolor':'lightblue', 'figure.facecolor':'lightgray'})\n",
    "import math\n",
    "import warnings\n",
    "warnings.filterwarnings('ignore')"
   ]
  },
  {
   "cell_type": "code",
   "execution_count": 139,
   "id": "8ed38e09",
   "metadata": {},
   "outputs": [
    {
     "data": {
      "text/plain": [
       "'C:\\\\Users\\\\LUAN\\\\anaconda3\\\\python.exe'"
      ]
     },
     "execution_count": 139,
     "metadata": {},
     "output_type": "execute_result"
    }
   ],
   "source": [
    "import sys\n",
    "sys.executable"
   ]
  },
  {
   "cell_type": "code",
   "execution_count": 140,
   "id": "d785e6a8",
   "metadata": {},
   "outputs": [
    {
     "name": "stdout",
     "output_type": "stream",
     "text": [
      "[WinError 3] The system cannot find the path specified: 'champagne/champagne'\n",
      "C:\\Users\\LUAN\\Documents\\GitHub\\-NMKHDL_20_21\\champagne\\champagne\n"
     ]
    }
   ],
   "source": [
    "cd champagne/champagne"
   ]
  },
  {
   "cell_type": "markdown",
   "id": "07fdee3b",
   "metadata": {},
   "source": [
    "### Đọc file 'champagnes_info_cleaned.csv' vào dataframe df"
   ]
  },
  {
   "cell_type": "code",
   "execution_count": 141,
   "id": "43cdb7da",
   "metadata": {
    "scrolled": false
   },
   "outputs": [
    {
     "data": {
      "text/html": [
       "<div>\n",
       "<style scoped>\n",
       "    .dataframe tbody tr th:only-of-type {\n",
       "        vertical-align: middle;\n",
       "    }\n",
       "\n",
       "    .dataframe tbody tr th {\n",
       "        vertical-align: top;\n",
       "    }\n",
       "\n",
       "    .dataframe thead th {\n",
       "        text-align: right;\n",
       "    }\n",
       "</style>\n",
       "<table border=\"1\" class=\"dataframe\">\n",
       "  <thead>\n",
       "    <tr style=\"text-align: right;\">\n",
       "      <th></th>\n",
       "      <th>Ma_sp</th>\n",
       "      <th>Ten_sp</th>\n",
       "      <th>Gia</th>\n",
       "      <th>Xuat_xu</th>\n",
       "      <th>Nong_do</th>\n",
       "      <th>Dung_tich</th>\n",
       "      <th>Giong_nho</th>\n",
       "      <th>Mau_sac</th>\n",
       "      <th>Loai_ruou</th>\n",
       "      <th>Thuong_hieu</th>\n",
       "      <th>Vung_lam_vang</th>\n",
       "    </tr>\n",
       "  </thead>\n",
       "  <tbody>\n",
       "    <tr>\n",
       "      <th>0</th>\n",
       "      <td>VNPV-3958</td>\n",
       "      <td>Rượu Champagne Bottega Stardust Prosecco</td>\n",
       "      <td>3563000.0</td>\n",
       "      <td>Ý</td>\n",
       "      <td>11.0</td>\n",
       "      <td>750.0</td>\n",
       "      <td>Glera</td>\n",
       "      <td>vàng rơm nhạt</td>\n",
       "      <td>Rượu Champagne</td>\n",
       "      <td>Bottega</td>\n",
       "      <td>Veneto</td>\n",
       "    </tr>\n",
       "    <tr>\n",
       "      <th>1</th>\n",
       "      <td>VNPV-9463</td>\n",
       "      <td>Rượu Champagne Carbon F1</td>\n",
       "      <td>8517000.0</td>\n",
       "      <td>Pháp</td>\n",
       "      <td>12.0</td>\n",
       "      <td>750.0</td>\n",
       "      <td>Chardonnay,Pinot meunier,Pinot Noir</td>\n",
       "      <td>trắng</td>\n",
       "      <td>Rượu Champagne</td>\n",
       "      <td>Delamotte</td>\n",
       "      <td>Champagne</td>\n",
       "    </tr>\n",
       "    <tr>\n",
       "      <th>2</th>\n",
       "      <td>VNPV1-1823</td>\n",
       "      <td>Rượu Champagne Charles Mignon Premium Reserve</td>\n",
       "      <td>1641000.0</td>\n",
       "      <td>Pháp</td>\n",
       "      <td>13.5</td>\n",
       "      <td>750.0</td>\n",
       "      <td>Chardonnay,Pinot meunier,Pinot Noir</td>\n",
       "      <td>vàng</td>\n",
       "      <td>Rượu Champagne</td>\n",
       "      <td>Charles Mignon</td>\n",
       "      <td>Champagne</td>\n",
       "    </tr>\n",
       "    <tr>\n",
       "      <th>3</th>\n",
       "      <td>VNPV-836</td>\n",
       "      <td>Rượu Champagne De Castellane Brut</td>\n",
       "      <td>753000.0</td>\n",
       "      <td>Pháp</td>\n",
       "      <td>11.0</td>\n",
       "      <td>375.0</td>\n",
       "      <td>Chardonnay</td>\n",
       "      <td>xanh nhạt</td>\n",
       "      <td>Rượu Champagne</td>\n",
       "      <td>De Castellane</td>\n",
       "      <td>Champagne</td>\n",
       "    </tr>\n",
       "    <tr>\n",
       "      <th>4</th>\n",
       "      <td>VNPV-4233</td>\n",
       "      <td>Rượu Champagne Delamotte Blanc De Blancs</td>\n",
       "      <td>3810000.0</td>\n",
       "      <td>Pháp</td>\n",
       "      <td>12.5</td>\n",
       "      <td>750.0</td>\n",
       "      <td>Chardonnay</td>\n",
       "      <td>trắng trong</td>\n",
       "      <td>Rượu Champagne</td>\n",
       "      <td>Delamotte</td>\n",
       "      <td>Champagne</td>\n",
       "    </tr>\n",
       "    <tr>\n",
       "      <th>5</th>\n",
       "      <td>VNPV-1956</td>\n",
       "      <td>Rượu Champagne Delamotte Brut</td>\n",
       "      <td>1761000.0</td>\n",
       "      <td>Pháp</td>\n",
       "      <td>12.0</td>\n",
       "      <td>750.0</td>\n",
       "      <td>Chardonnay</td>\n",
       "      <td>vàng</td>\n",
       "      <td>Rượu Champagne</td>\n",
       "      <td>Delamotte</td>\n",
       "      <td>Champagne</td>\n",
       "    </tr>\n",
       "    <tr>\n",
       "      <th>6</th>\n",
       "      <td>VNPV-3667</td>\n",
       "      <td>Rượu Champagne Delamotte Rose</td>\n",
       "      <td>2956000.0</td>\n",
       "      <td>Pháp</td>\n",
       "      <td>12.0</td>\n",
       "      <td>750.0</td>\n",
       "      <td>Chardonnay,Pinot Noir,Pinot Meunier</td>\n",
       "      <td>hồng</td>\n",
       "      <td>Rượu Champagne</td>\n",
       "      <td>Delamotte</td>\n",
       "      <td>Champagne</td>\n",
       "    </tr>\n",
       "    <tr>\n",
       "      <th>7</th>\n",
       "      <td>VNPV-1976</td>\n",
       "      <td>Rượu Champagne Duval Leroy Thierry Drapeau</td>\n",
       "      <td>1779000.0</td>\n",
       "      <td>Pháp</td>\n",
       "      <td>12.5</td>\n",
       "      <td>750.0</td>\n",
       "      <td>Chardonnay</td>\n",
       "      <td>vàng</td>\n",
       "      <td>Rượu Champagne</td>\n",
       "      <td>Champagne Duval Leroy</td>\n",
       "      <td>Champagne</td>\n",
       "    </tr>\n",
       "    <tr>\n",
       "      <th>8</th>\n",
       "      <td>VNTK3-480</td>\n",
       "      <td>Rượu Champagne JP Chenet Brut Blanc</td>\n",
       "      <td>480000.0</td>\n",
       "      <td>Pháp</td>\n",
       "      <td>13.0</td>\n",
       "      <td>750.0</td>\n",
       "      <td>Chardonnay</td>\n",
       "      <td>đỏ đậm</td>\n",
       "      <td>Rượu Vang Nổ</td>\n",
       "      <td>JP Chenet</td>\n",
       "      <td>Pays d’Oc</td>\n",
       "    </tr>\n",
       "    <tr>\n",
       "      <th>9</th>\n",
       "      <td>VNBMF-744</td>\n",
       "      <td>Rượu Champagne JP Chenet Divine Chardonnay</td>\n",
       "      <td>750000.0</td>\n",
       "      <td>Pháp</td>\n",
       "      <td>12.5</td>\n",
       "      <td>750.0</td>\n",
       "      <td>Chardonnay</td>\n",
       "      <td>vàng rơm</td>\n",
       "      <td>Rượu Vang Nổ</td>\n",
       "      <td>JP Chenet</td>\n",
       "      <td>Pays d’Oc</td>\n",
       "    </tr>\n",
       "  </tbody>\n",
       "</table>\n",
       "</div>"
      ],
      "text/plain": [
       "        Ma_sp                                         Ten_sp        Gia  \\\n",
       "0   VNPV-3958       Rượu Champagne Bottega Stardust Prosecco  3563000.0   \n",
       "1   VNPV-9463                       Rượu Champagne Carbon F1  8517000.0   \n",
       "2  VNPV1-1823  Rượu Champagne Charles Mignon Premium Reserve  1641000.0   \n",
       "3    VNPV-836              Rượu Champagne De Castellane Brut   753000.0   \n",
       "4   VNPV-4233       Rượu Champagne Delamotte Blanc De Blancs  3810000.0   \n",
       "5   VNPV-1956                  Rượu Champagne Delamotte Brut  1761000.0   \n",
       "6   VNPV-3667                  Rượu Champagne Delamotte Rose  2956000.0   \n",
       "7   VNPV-1976     Rượu Champagne Duval Leroy Thierry Drapeau  1779000.0   \n",
       "8   VNTK3-480            Rượu Champagne JP Chenet Brut Blanc   480000.0   \n",
       "9   VNBMF-744     Rượu Champagne JP Chenet Divine Chardonnay   750000.0   \n",
       "\n",
       "  Xuat_xu  Nong_do  Dung_tich                            Giong_nho  \\\n",
       "0       Ý     11.0      750.0                                Glera   \n",
       "1    Pháp     12.0      750.0  Chardonnay,Pinot meunier,Pinot Noir   \n",
       "2    Pháp     13.5      750.0  Chardonnay,Pinot meunier,Pinot Noir   \n",
       "3    Pháp     11.0      375.0                           Chardonnay   \n",
       "4    Pháp     12.5      750.0                           Chardonnay   \n",
       "5    Pháp     12.0      750.0                           Chardonnay   \n",
       "6    Pháp     12.0      750.0  Chardonnay,Pinot Noir,Pinot Meunier   \n",
       "7    Pháp     12.5      750.0                           Chardonnay   \n",
       "8    Pháp     13.0      750.0                           Chardonnay   \n",
       "9    Pháp     12.5      750.0                           Chardonnay   \n",
       "\n",
       "         Mau_sac       Loai_ruou            Thuong_hieu Vung_lam_vang  \n",
       "0  vàng rơm nhạt  Rượu Champagne                Bottega        Veneto  \n",
       "1          trắng  Rượu Champagne              Delamotte     Champagne  \n",
       "2           vàng  Rượu Champagne         Charles Mignon     Champagne  \n",
       "3      xanh nhạt  Rượu Champagne          De Castellane     Champagne  \n",
       "4    trắng trong  Rượu Champagne              Delamotte     Champagne  \n",
       "5           vàng  Rượu Champagne              Delamotte     Champagne  \n",
       "6           hồng  Rượu Champagne              Delamotte     Champagne  \n",
       "7           vàng  Rượu Champagne  Champagne Duval Leroy     Champagne  \n",
       "8        đỏ đậm  Rượu Vang Nổ              JP Chenet     Pays d’Oc  \n",
       "9       vàng rơm  Rượu Vang Nổ              JP Chenet     Pays d’Oc  "
      ]
     },
     "execution_count": 141,
     "metadata": {},
     "output_type": "execute_result"
    }
   ],
   "source": [
    "df = pd.read_csv('./dataset/champagne_info_cleaned.csv', index_col=0)\n",
    "df.head(10)"
   ]
  },
  {
   "cell_type": "code",
   "execution_count": 1745,
   "id": "2dd0fae9",
   "metadata": {},
   "outputs": [
    {
     "name": "stdout",
     "output_type": "stream",
     "text": [
      "<class 'pandas.core.frame.DataFrame'>\n",
      "Int64Index: 3934 entries, 0 to 3933\n",
      "Data columns (total 11 columns):\n",
      " #   Column         Non-Null Count  Dtype  \n",
      "---  ------         --------------  -----  \n",
      " 0   Ma_sp          3934 non-null   object \n",
      " 1   Ten_sp         3934 non-null   object \n",
      " 2   Gia            3934 non-null   float64\n",
      " 3   Xuat_xu        3934 non-null   object \n",
      " 4   Nong_do        3934 non-null   float64\n",
      " 5   Dung_tich      3934 non-null   float64\n",
      " 6   Giong_nho      3934 non-null   object \n",
      " 7   Mau_sac        3934 non-null   object \n",
      " 8   Loai_ruou      3934 non-null   object \n",
      " 9   Thuong_hieu    3934 non-null   object \n",
      " 10  Vung_lam_vang  3934 non-null   object \n",
      "dtypes: float64(3), object(8)\n",
      "memory usage: 368.8+ KB\n"
     ]
    }
   ],
   "source": [
    "df.info()"
   ]
  },
  {
   "cell_type": "markdown",
   "id": "666e6154",
   "metadata": {},
   "source": [
    "<h2 style='color:#45ccb1d4;text-align:center;font-size:25px'><b>A. Mô hình hóa dữ liệu</b></h2> "
   ]
  },
  {
   "cell_type": "markdown",
   "id": "9b695a38",
   "metadata": {},
   "source": [
    "### Import thư viện"
   ]
  },
  {
   "cell_type": "code",
   "execution_count": 142,
   "id": "7a37c950",
   "metadata": {},
   "outputs": [],
   "source": [
    "import sklearn\n",
    "from sklearn.model_selection import train_test_split\n",
    "from sklearn.preprocessing import MultiLabelBinarizer\n",
    "from sklearn.preprocessing import OneHotEncoder\n",
    "from sklearn.linear_model import LinearRegression\n",
    "from sklearn.tree import DecisionTreeRegressor\n",
    "from sklearn.ensemble import RandomForestRegressor\n",
    "from sklearn.metrics import mean_squared_error\n",
    "from sklearn.model_selection import cross_val_score\n",
    "from sklearn.model_selection import ShuffleSplit\n",
    "from sklearn.model_selection import GridSearchCV\n",
    "from sklearn import metrics\n",
    "from sklearn.metrics import accuracy_score"
   ]
  },
  {
   "cell_type": "markdown",
   "id": "ef2cb707",
   "metadata": {},
   "source": [
    "### Lựa chọn các đặc trưng để mô hình"
   ]
  },
  {
   "cell_type": "markdown",
   "id": "5e225187",
   "metadata": {},
   "source": [
    "Ta sẽ cần chọn lọc ra các đặc trưng có thể ảnh hưởng đến giá của một chai rượu, từ đó dùng các đặc trưng này để huấn luyện cho mô hình dự đoán giá rượu.  \n",
    "Các đặc trưng có khả năng tác động đến giá của một chai rượu bao gồm:\n",
    "* **Xuất xứ**\n",
    "* **Nồng độ**\n",
    "* **Dung tích**\n",
    "* **Giống nho**\n",
    "* **Màu sắc**\n",
    "* **Loại rượu**\n",
    "* **Thương hiệu**\n",
    "* **Vùng làm rượu**"
   ]
  },
  {
   "cell_type": "markdown",
   "id": "bf2658cc",
   "metadata": {},
   "source": [
    "### Tiền xử lý trước khi chạy mô hình"
   ]
  },
  {
   "cell_type": "markdown",
   "id": "8ba59d16",
   "metadata": {},
   "source": [
    "Vì `Giong_nho` hiện tại đang là 1 chuỗi và có thể chứa nhiều giống nho được phân cách bởi dấu `,` do đó ta sẽ đưa `Giong_nho` về dạng list các giống nho có trong mỗi sản phẩm."
   ]
  },
  {
   "cell_type": "code",
   "execution_count": 143,
   "id": "3d3b3ae1",
   "metadata": {},
   "outputs": [],
   "source": [
    "# Xóa ký tự khoảng trắng ở đầu và cuối mỗi giống nho\n",
    "def strip_list_string(ls):\n",
    "    new_ls = []\n",
    "    for s in ls:\n",
    "        if type(s) != float and len(s) > 1:\n",
    "            new_ls.append(s.strip())\n",
    "    return new_ls"
   ]
  },
  {
   "cell_type": "code",
   "execution_count": 144,
   "id": "34540d14",
   "metadata": {
    "scrolled": true
   },
   "outputs": [
    {
     "data": {
      "text/plain": [
       "0                                       [Glera]\n",
       "1       [Chardonnay, Pinot meunier, Pinot Noir]\n",
       "2       [Chardonnay, Pinot meunier, Pinot Noir]\n",
       "3                                  [Chardonnay]\n",
       "4                                  [Chardonnay]\n",
       "                         ...                   \n",
       "3929                               [Sangiovese]\n",
       "3930                       [Cabernet Sauvignon]\n",
       "3931                       [Cabernet Sauvignon]\n",
       "3932                                   [Shiraz]\n",
       "3933                                  [Moscato]\n",
       "Name: Giong_nho, Length: 3933, dtype: object"
      ]
     },
     "execution_count": 144,
     "metadata": {},
     "output_type": "execute_result"
    }
   ],
   "source": [
    "df['Giong_nho'] = df['Giong_nho'].str.split(',')\n",
    "df['Giong_nho'] = df['Giong_nho'].apply(strip_list_string)\n",
    "df['Giong_nho'].explode().value_counts().sum()"
   ]
  },
  {
   "cell_type": "code",
   "execution_count": 145,
   "id": "c6ac0d33",
   "metadata": {},
   "outputs": [
    {
     "data": {
      "text/plain": [
       "Cabernet Sauvignon    969\n",
       "Merlot                797\n",
       "Chardonnay            463\n",
       "Cabernet Franc        397\n",
       "Syrah                 352\n",
       "                     ... \n",
       "Rabigato                1\n",
       "Papirusia               1\n",
       "Negrette                1\n",
       "Various                 1\n",
       "Piedirosso              1\n",
       "Name: Giong_nho, Length: 303, dtype: int64"
      ]
     },
     "execution_count": 145,
     "metadata": {},
     "output_type": "execute_result"
    }
   ],
   "source": [
    "giong_nho_freq = df['Giong_nho'].explode().value_counts() "
   ]
  },
  {
   "cell_type": "code",
   "execution_count": 146,
   "id": "86f76832",
   "metadata": {},
   "outputs": [
    {
     "data": {
      "text/plain": [
       "1242    Ấn tượng đặc biệt có trong chai Rượu Vang Doma...\n",
       "Name: Giong_nho, dtype: object"
      ]
     },
     "execution_count": 146,
     "metadata": {},
     "output_type": "execute_result"
    }
   ],
   "source": [
    "giong_nho = df['Giong_nho'].explode()\n",
    "giong_nho[giong_nho.apply(lambda x : len(x) >= 100)]"
   ]
  },
  {
   "cell_type": "markdown",
   "id": "7f9e52a5",
   "metadata": {},
   "source": [
    "Có một dòng ở cột Giong_nho chứa nội dung rất dài, có thể là do gặp lỗi nhỏ trong quá trình thu nhập dữ liệu. Ta sẽ xác định index của dòng này và nó đó đi."
   ]
  },
  {
   "cell_type": "code",
   "execution_count": 147,
   "id": "a1e0c41a",
   "metadata": {},
   "outputs": [],
   "source": [
    "long_giong_nho = df['Giong_nho'].apply(lambda x : any(len(i) >= 100 for i in x))\n",
    "idx = long_giong_nho[long_giong_nho == True].index\n",
    "df = df.drop(index = idx)"
   ]
  },
  {
   "cell_type": "markdown",
   "id": "16a04312",
   "metadata": {},
   "source": [
    "## Chuyển đổi các cột phân loại về dạng số"
   ]
  },
  {
   "cell_type": "markdown",
   "id": "27b72450",
   "metadata": {},
   "source": [
    "Bởi vì các mô hình máy học không thể tự huấn luyện được khi các đặc trưng đầu vào thuộc dạng phân loại. Thế nên ta cần phải chuyển các cột này về dạng số. Phương pháp chuyển đổi sử dụng ở đây sẽ là OneHotEncoding, lý do là vì các đặc trưng ta dùng để huấn luyện không phải là dữ liệu phân loại có thứ tự"
   ]
  },
  {
   "cell_type": "markdown",
   "id": "4bd87d92",
   "metadata": {},
   "source": [
    "Do dữ liệu ở cột giống nho là một dạng danh sách các giống nho có trong rượu, ta sẽ dùng đến MultiLabelBinarizer để chuyển đổi."
   ]
  },
  {
   "cell_type": "code",
   "execution_count": 148,
   "id": "fe56ef64",
   "metadata": {},
   "outputs": [],
   "source": [
    "mlb = MultiLabelBinarizer(sparse_output=True)\n",
    "giong_nho_encoded = mlb.fit_transform(df['Giong_nho'])\n",
    "df_encoded = pd.DataFrame.sparse.from_spmatrix(giong_nho_encoded,index=df.index, columns=mlb.classes_)"
   ]
  },
  {
   "cell_type": "markdown",
   "id": "83b229f2",
   "metadata": {},
   "source": [
    "Lấy ra tên các đặc trưng còn lại"
   ]
  },
  {
   "cell_type": "code",
   "execution_count": 149,
   "id": "d032c99c",
   "metadata": {},
   "outputs": [],
   "source": [
    "column_name = [ 'Xuat_xu','Mau_sac', 'Loai_ruou', 'Thuong_hieu', 'Vung_lam_vang']"
   ]
  },
  {
   "cell_type": "markdown",
   "id": "84a3a407",
   "metadata": {},
   "source": [
    "Chuyển đổi các cột đặc trưng về dạng số bằng kĩ thuật OneHotEncoding"
   ]
  },
  {
   "cell_type": "code",
   "execution_count": 150,
   "id": "59caeb17",
   "metadata": {},
   "outputs": [],
   "source": [
    "encoder = OneHotEncoder(sparse = False, handle_unknown = 'ignore', min_frequency=0.001)\n",
    "other_categorite_encoded = encoder.fit_transform(df[column_name])\n",
    "columns_encoded = encoder.get_feature_names_out(column_name)\n",
    "df_encoded = df_encoded.join(pd.DataFrame(other_categorite_encoded,index=df.index, columns=columns_encoded))\n",
    "\n",
    "\n",
    "df_encoded = df_encoded.join(df[[ 'Nong_do', 'Dung_tich']])"
   ]
  },
  {
   "cell_type": "code",
   "execution_count": 151,
   "id": "df0554df",
   "metadata": {},
   "outputs": [
    {
     "data": {
      "text/html": [
       "<div>\n",
       "<style scoped>\n",
       "    .dataframe tbody tr th:only-of-type {\n",
       "        vertical-align: middle;\n",
       "    }\n",
       "\n",
       "    .dataframe tbody tr th {\n",
       "        vertical-align: top;\n",
       "    }\n",
       "\n",
       "    .dataframe thead th {\n",
       "        text-align: right;\n",
       "    }\n",
       "</style>\n",
       "<table border=\"1\" class=\"dataframe\">\n",
       "  <thead>\n",
       "    <tr style=\"text-align: right;\">\n",
       "      <th></th>\n",
       "      <th>10 % Hárslevlű</th>\n",
       "      <th>100 % Touriga Nacional</th>\n",
       "      <th>100% Nho Tinta De Toro</th>\n",
       "      <th>100% Verdeca</th>\n",
       "      <th>100% Viura</th>\n",
       "      <th>90 % Furmint</th>\n",
       "      <th>Aglianico</th>\n",
       "      <th>Airen</th>\n",
       "      <th>Albana</th>\n",
       "      <th>Albarino</th>\n",
       "      <th>...</th>\n",
       "      <th>Vung_lam_vang_Vin de France</th>\n",
       "      <th>Vung_lam_vang_Vino d’Italia</th>\n",
       "      <th>Vung_lam_vang_Weingut Hermann Donnhoff</th>\n",
       "      <th>Vung_lam_vang_Western Cape</th>\n",
       "      <th>Vung_lam_vang_Yarra Valley</th>\n",
       "      <th>Vung_lam_vang_Yecla</th>\n",
       "      <th>Vung_lam_vang_infrequent_sklearn</th>\n",
       "      <th>Nong_do</th>\n",
       "      <th>Dung_tich</th>\n",
       "      <th>Gia</th>\n",
       "    </tr>\n",
       "  </thead>\n",
       "  <tbody>\n",
       "    <tr>\n",
       "      <th>0</th>\n",
       "      <td>0</td>\n",
       "      <td>0</td>\n",
       "      <td>0</td>\n",
       "      <td>0</td>\n",
       "      <td>0</td>\n",
       "      <td>0</td>\n",
       "      <td>0</td>\n",
       "      <td>0</td>\n",
       "      <td>0</td>\n",
       "      <td>0</td>\n",
       "      <td>...</td>\n",
       "      <td>0.0</td>\n",
       "      <td>0.0</td>\n",
       "      <td>0.0</td>\n",
       "      <td>0.0</td>\n",
       "      <td>0.0</td>\n",
       "      <td>0.0</td>\n",
       "      <td>0.0</td>\n",
       "      <td>11.0</td>\n",
       "      <td>750.0</td>\n",
       "      <td>3563000.0</td>\n",
       "    </tr>\n",
       "    <tr>\n",
       "      <th>1</th>\n",
       "      <td>0</td>\n",
       "      <td>0</td>\n",
       "      <td>0</td>\n",
       "      <td>0</td>\n",
       "      <td>0</td>\n",
       "      <td>0</td>\n",
       "      <td>0</td>\n",
       "      <td>0</td>\n",
       "      <td>0</td>\n",
       "      <td>0</td>\n",
       "      <td>...</td>\n",
       "      <td>0.0</td>\n",
       "      <td>0.0</td>\n",
       "      <td>0.0</td>\n",
       "      <td>0.0</td>\n",
       "      <td>0.0</td>\n",
       "      <td>0.0</td>\n",
       "      <td>0.0</td>\n",
       "      <td>12.0</td>\n",
       "      <td>750.0</td>\n",
       "      <td>8517000.0</td>\n",
       "    </tr>\n",
       "    <tr>\n",
       "      <th>2</th>\n",
       "      <td>0</td>\n",
       "      <td>0</td>\n",
       "      <td>0</td>\n",
       "      <td>0</td>\n",
       "      <td>0</td>\n",
       "      <td>0</td>\n",
       "      <td>0</td>\n",
       "      <td>0</td>\n",
       "      <td>0</td>\n",
       "      <td>0</td>\n",
       "      <td>...</td>\n",
       "      <td>0.0</td>\n",
       "      <td>0.0</td>\n",
       "      <td>0.0</td>\n",
       "      <td>0.0</td>\n",
       "      <td>0.0</td>\n",
       "      <td>0.0</td>\n",
       "      <td>0.0</td>\n",
       "      <td>13.5</td>\n",
       "      <td>750.0</td>\n",
       "      <td>1641000.0</td>\n",
       "    </tr>\n",
       "    <tr>\n",
       "      <th>3</th>\n",
       "      <td>0</td>\n",
       "      <td>0</td>\n",
       "      <td>0</td>\n",
       "      <td>0</td>\n",
       "      <td>0</td>\n",
       "      <td>0</td>\n",
       "      <td>0</td>\n",
       "      <td>0</td>\n",
       "      <td>0</td>\n",
       "      <td>0</td>\n",
       "      <td>...</td>\n",
       "      <td>0.0</td>\n",
       "      <td>0.0</td>\n",
       "      <td>0.0</td>\n",
       "      <td>0.0</td>\n",
       "      <td>0.0</td>\n",
       "      <td>0.0</td>\n",
       "      <td>0.0</td>\n",
       "      <td>11.0</td>\n",
       "      <td>375.0</td>\n",
       "      <td>753000.0</td>\n",
       "    </tr>\n",
       "    <tr>\n",
       "      <th>4</th>\n",
       "      <td>0</td>\n",
       "      <td>0</td>\n",
       "      <td>0</td>\n",
       "      <td>0</td>\n",
       "      <td>0</td>\n",
       "      <td>0</td>\n",
       "      <td>0</td>\n",
       "      <td>0</td>\n",
       "      <td>0</td>\n",
       "      <td>0</td>\n",
       "      <td>...</td>\n",
       "      <td>0.0</td>\n",
       "      <td>0.0</td>\n",
       "      <td>0.0</td>\n",
       "      <td>0.0</td>\n",
       "      <td>0.0</td>\n",
       "      <td>0.0</td>\n",
       "      <td>0.0</td>\n",
       "      <td>12.5</td>\n",
       "      <td>750.0</td>\n",
       "      <td>3810000.0</td>\n",
       "    </tr>\n",
       "    <tr>\n",
       "      <th>...</th>\n",
       "      <td>...</td>\n",
       "      <td>...</td>\n",
       "      <td>...</td>\n",
       "      <td>...</td>\n",
       "      <td>...</td>\n",
       "      <td>...</td>\n",
       "      <td>...</td>\n",
       "      <td>...</td>\n",
       "      <td>...</td>\n",
       "      <td>...</td>\n",
       "      <td>...</td>\n",
       "      <td>...</td>\n",
       "      <td>...</td>\n",
       "      <td>...</td>\n",
       "      <td>...</td>\n",
       "      <td>...</td>\n",
       "      <td>...</td>\n",
       "      <td>...</td>\n",
       "      <td>...</td>\n",
       "      <td>...</td>\n",
       "      <td>...</td>\n",
       "    </tr>\n",
       "    <tr>\n",
       "      <th>3929</th>\n",
       "      <td>0</td>\n",
       "      <td>0</td>\n",
       "      <td>0</td>\n",
       "      <td>0</td>\n",
       "      <td>0</td>\n",
       "      <td>0</td>\n",
       "      <td>0</td>\n",
       "      <td>0</td>\n",
       "      <td>0</td>\n",
       "      <td>0</td>\n",
       "      <td>...</td>\n",
       "      <td>0.0</td>\n",
       "      <td>0.0</td>\n",
       "      <td>0.0</td>\n",
       "      <td>0.0</td>\n",
       "      <td>0.0</td>\n",
       "      <td>0.0</td>\n",
       "      <td>0.0</td>\n",
       "      <td>12.0</td>\n",
       "      <td>750.0</td>\n",
       "      <td>415000.0</td>\n",
       "    </tr>\n",
       "    <tr>\n",
       "      <th>3930</th>\n",
       "      <td>0</td>\n",
       "      <td>0</td>\n",
       "      <td>0</td>\n",
       "      <td>0</td>\n",
       "      <td>0</td>\n",
       "      <td>0</td>\n",
       "      <td>0</td>\n",
       "      <td>0</td>\n",
       "      <td>0</td>\n",
       "      <td>0</td>\n",
       "      <td>...</td>\n",
       "      <td>0.0</td>\n",
       "      <td>0.0</td>\n",
       "      <td>0.0</td>\n",
       "      <td>0.0</td>\n",
       "      <td>0.0</td>\n",
       "      <td>0.0</td>\n",
       "      <td>0.0</td>\n",
       "      <td>14.0</td>\n",
       "      <td>750.0</td>\n",
       "      <td>1975000.0</td>\n",
       "    </tr>\n",
       "    <tr>\n",
       "      <th>3931</th>\n",
       "      <td>0</td>\n",
       "      <td>0</td>\n",
       "      <td>0</td>\n",
       "      <td>0</td>\n",
       "      <td>0</td>\n",
       "      <td>0</td>\n",
       "      <td>0</td>\n",
       "      <td>0</td>\n",
       "      <td>0</td>\n",
       "      <td>0</td>\n",
       "      <td>...</td>\n",
       "      <td>0.0</td>\n",
       "      <td>0.0</td>\n",
       "      <td>0.0</td>\n",
       "      <td>0.0</td>\n",
       "      <td>0.0</td>\n",
       "      <td>0.0</td>\n",
       "      <td>0.0</td>\n",
       "      <td>13.5</td>\n",
       "      <td>750.0</td>\n",
       "      <td>330000.0</td>\n",
       "    </tr>\n",
       "    <tr>\n",
       "      <th>3932</th>\n",
       "      <td>0</td>\n",
       "      <td>0</td>\n",
       "      <td>0</td>\n",
       "      <td>0</td>\n",
       "      <td>0</td>\n",
       "      <td>0</td>\n",
       "      <td>0</td>\n",
       "      <td>0</td>\n",
       "      <td>0</td>\n",
       "      <td>0</td>\n",
       "      <td>...</td>\n",
       "      <td>0.0</td>\n",
       "      <td>0.0</td>\n",
       "      <td>0.0</td>\n",
       "      <td>0.0</td>\n",
       "      <td>0.0</td>\n",
       "      <td>0.0</td>\n",
       "      <td>0.0</td>\n",
       "      <td>13.5</td>\n",
       "      <td>750.0</td>\n",
       "      <td>660000.0</td>\n",
       "    </tr>\n",
       "    <tr>\n",
       "      <th>3933</th>\n",
       "      <td>0</td>\n",
       "      <td>0</td>\n",
       "      <td>0</td>\n",
       "      <td>0</td>\n",
       "      <td>0</td>\n",
       "      <td>0</td>\n",
       "      <td>0</td>\n",
       "      <td>0</td>\n",
       "      <td>0</td>\n",
       "      <td>0</td>\n",
       "      <td>...</td>\n",
       "      <td>0.0</td>\n",
       "      <td>0.0</td>\n",
       "      <td>0.0</td>\n",
       "      <td>0.0</td>\n",
       "      <td>0.0</td>\n",
       "      <td>0.0</td>\n",
       "      <td>0.0</td>\n",
       "      <td>12.5</td>\n",
       "      <td>750.0</td>\n",
       "      <td>575000.0</td>\n",
       "    </tr>\n",
       "  </tbody>\n",
       "</table>\n",
       "<p>3932 rows × 790 columns</p>\n",
       "</div>"
      ],
      "text/plain": [
       "      10 % Hárslevlű  100 % Touriga Nacional  100% Nho Tinta De Toro  \\\n",
       "0                  0                       0                       0   \n",
       "1                  0                       0                       0   \n",
       "2                  0                       0                       0   \n",
       "3                  0                       0                       0   \n",
       "4                  0                       0                       0   \n",
       "...              ...                     ...                     ...   \n",
       "3929               0                       0                       0   \n",
       "3930               0                       0                       0   \n",
       "3931               0                       0                       0   \n",
       "3932               0                       0                       0   \n",
       "3933               0                       0                       0   \n",
       "\n",
       "      100% Verdeca  100% Viura  90 % Furmint  Aglianico  Airen  Albana  \\\n",
       "0                0           0             0          0      0       0   \n",
       "1                0           0             0          0      0       0   \n",
       "2                0           0             0          0      0       0   \n",
       "3                0           0             0          0      0       0   \n",
       "4                0           0             0          0      0       0   \n",
       "...            ...         ...           ...        ...    ...     ...   \n",
       "3929             0           0             0          0      0       0   \n",
       "3930             0           0             0          0      0       0   \n",
       "3931             0           0             0          0      0       0   \n",
       "3932             0           0             0          0      0       0   \n",
       "3933             0           0             0          0      0       0   \n",
       "\n",
       "      Albarino  ...  Vung_lam_vang_Vin de France  Vung_lam_vang_Vino d’Italia  \\\n",
       "0            0  ...                          0.0                          0.0   \n",
       "1            0  ...                          0.0                          0.0   \n",
       "2            0  ...                          0.0                          0.0   \n",
       "3            0  ...                          0.0                          0.0   \n",
       "4            0  ...                          0.0                          0.0   \n",
       "...        ...  ...                          ...                          ...   \n",
       "3929         0  ...                          0.0                          0.0   \n",
       "3930         0  ...                          0.0                          0.0   \n",
       "3931         0  ...                          0.0                          0.0   \n",
       "3932         0  ...                          0.0                          0.0   \n",
       "3933         0  ...                          0.0                          0.0   \n",
       "\n",
       "      Vung_lam_vang_Weingut Hermann Donnhoff  Vung_lam_vang_Western Cape  \\\n",
       "0                                        0.0                         0.0   \n",
       "1                                        0.0                         0.0   \n",
       "2                                        0.0                         0.0   \n",
       "3                                        0.0                         0.0   \n",
       "4                                        0.0                         0.0   \n",
       "...                                      ...                         ...   \n",
       "3929                                     0.0                         0.0   \n",
       "3930                                     0.0                         0.0   \n",
       "3931                                     0.0                         0.0   \n",
       "3932                                     0.0                         0.0   \n",
       "3933                                     0.0                         0.0   \n",
       "\n",
       "      Vung_lam_vang_Yarra Valley  Vung_lam_vang_Yecla  \\\n",
       "0                            0.0                  0.0   \n",
       "1                            0.0                  0.0   \n",
       "2                            0.0                  0.0   \n",
       "3                            0.0                  0.0   \n",
       "4                            0.0                  0.0   \n",
       "...                          ...                  ...   \n",
       "3929                         0.0                  0.0   \n",
       "3930                         0.0                  0.0   \n",
       "3931                         0.0                  0.0   \n",
       "3932                         0.0                  0.0   \n",
       "3933                         0.0                  0.0   \n",
       "\n",
       "      Vung_lam_vang_infrequent_sklearn  Nong_do  Dung_tich        Gia  \n",
       "0                                  0.0     11.0      750.0  3563000.0  \n",
       "1                                  0.0     12.0      750.0  8517000.0  \n",
       "2                                  0.0     13.5      750.0  1641000.0  \n",
       "3                                  0.0     11.0      375.0   753000.0  \n",
       "4                                  0.0     12.5      750.0  3810000.0  \n",
       "...                                ...      ...        ...        ...  \n",
       "3929                               0.0     12.0      750.0   415000.0  \n",
       "3930                               0.0     14.0      750.0  1975000.0  \n",
       "3931                               0.0     13.5      750.0   330000.0  \n",
       "3932                               0.0     13.5      750.0   660000.0  \n",
       "3933                               0.0     12.5      750.0   575000.0  \n",
       "\n",
       "[3932 rows x 790 columns]"
      ]
     },
     "execution_count": 151,
     "metadata": {},
     "output_type": "execute_result"
    }
   ],
   "source": [
    "df_encoded"
   ]
  },
  {
   "cell_type": "markdown",
   "id": "d5ab88a5",
   "metadata": {},
   "source": [
    "Lấy ra cột label mà ta cần dự đoán ở đây là giá rượu"
   ]
  },
  {
   "cell_type": "code",
   "execution_count": 152,
   "id": "5b8db800",
   "metadata": {
    "scrolled": true
   },
   "outputs": [],
   "source": [
    "y = df.pop('Gia')"
   ]
  },
  {
   "cell_type": "markdown",
   "id": "58d523f9",
   "metadata": {},
   "source": [
    "Chia tập dữ liệu ban đầu thành hai tập dữ liệu với 1 tập dùng để huấn luyện cho mô hình và tập còn lại dùng để kiểm thử và đánh giá độ hiệu quả của mô hình."
   ]
  },
  {
   "cell_type": "code",
   "execution_count": 153,
   "id": "21e94327",
   "metadata": {},
   "outputs": [],
   "source": [
    "#Chia df thành tập train và test\n",
    "X_train, X_test, y_train, y_test = train_test_split(df_encoded, y, test_size=0.2, random)\n",
    "# train.to_csv(os.path.join(os.getcwd(), 'dataset', 'train.csv'),index=False)\n",
    "# test.to_csv(os.path.join(os.getcwd(), 'dataset', 'test.csv'),index=False)"
   ]
  },
  {
   "cell_type": "markdown",
   "id": "d6409274",
   "metadata": {},
   "source": [
    "## Các mô hình"
   ]
  },
  {
   "cell_type": "markdown",
   "id": "2dc20595",
   "metadata": {},
   "source": [
    "<h3 style='color:#45ccb1d4;text-align:center;font-size:20px'><b>1. Linear Regression</b></h3> "
   ]
  },
  {
   "cell_type": "code",
   "execution_count": 154,
   "id": "5940e5dd",
   "metadata": {},
   "outputs": [],
   "source": [
    "lin_reg = LinearRegression().fit(X_train, y_train)"
   ]
  },
  {
   "cell_type": "code",
   "execution_count": 155,
   "id": "2aba9e21",
   "metadata": {},
   "outputs": [],
   "source": [
    "lr_pred = lin_reg.predict(X_test)"
   ]
  },
  {
   "cell_type": "code",
   "execution_count": 164,
   "id": "204595f4",
   "metadata": {},
   "outputs": [
    {
     "data": {
      "text/plain": [
       "3965930146938.3594"
      ]
     },
     "execution_count": 164,
     "metadata": {},
     "output_type": "execute_result"
    }
   ],
   "source": [
    "mse = mean_squared_error(y_test,lr_pred)\n",
    "mse"
   ]
  },
  {
   "cell_type": "code",
   "execution_count": 165,
   "id": "6f5a9f89",
   "metadata": {},
   "outputs": [
    {
     "data": {
      "text/plain": [
       "1991464.3222860808"
      ]
     },
     "execution_count": 165,
     "metadata": {},
     "output_type": "execute_result"
    }
   ],
   "source": [
    "rmse = np.sqrt(mse)\n",
    "rmse"
   ]
  },
  {
   "cell_type": "markdown",
   "id": "62972d10",
   "metadata": {},
   "source": [
    "<h3 style='color:#45ccb1d4;text-align:center;font-size:20px'><b>2. Decision Tree Regression</b></h3> "
   ]
  },
  {
   "cell_type": "code",
   "execution_count": 46,
   "id": "1741327b",
   "metadata": {},
   "outputs": [
    {
     "name": "stderr",
     "output_type": "stream",
     "text": [
      "D:\\anconda\\lib\\site-packages\\sklearn\\utils\\validation.py:768: UserWarning: pandas.DataFrame with sparse columns found.It will be converted to a dense numpy array.\n",
      "  warnings.warn(\n"
     ]
    }
   ],
   "source": [
    "decision_tree_reg = DecisionTreeRegressor().fit(X_train, y_train)"
   ]
  },
  {
   "cell_type": "code",
   "execution_count": 168,
   "id": "494a2671",
   "metadata": {
    "scrolled": true
   },
   "outputs": [
    {
     "name": "stderr",
     "output_type": "stream",
     "text": [
      "D:\\anconda\\lib\\site-packages\\sklearn\\utils\\validation.py:768: UserWarning: pandas.DataFrame with sparse columns found.It will be converted to a dense numpy array.\n",
      "  warnings.warn(\n"
     ]
    }
   ],
   "source": [
    "y_pred = reg.predict(X_test)"
   ]
  },
  {
   "cell_type": "code",
   "execution_count": 1771,
   "id": "da4b533e",
   "metadata": {},
   "outputs": [
    {
     "data": {
      "text/plain": [
       "array([-3.34747025e+06, -9.53842250e+05,  1.72890341e+12, -4.97472375e+05,\n",
       "        6.16262500e+05,  1.21848175e+06,  2.64261975e+06,  2.21973288e+06,\n",
       "        2.17458200e+06,  1.93556275e+06,  1.81726788e+06,  2.00793799e+13,\n",
       "       -9.20339625e+05,  2.56008262e+13,  1.24600388e+06,  9.58286625e+05,\n",
       "        9.50773750e+04,  1.53522982e+13,  3.48639910e+13,  1.45224925e+06,\n",
       "       -6.54353669e+12,  3.76275625e+05,  2.59747250e+05,  3.47180450e+06,\n",
       "        5.24836125e+05, -1.88878250e+05,  2.05695025e+06,  2.85214875e+05,\n",
       "        3.08736800e+06,  6.81969500e+05,  1.33721262e+06,  1.72890408e+12,\n",
       "       -1.70500750e+05,  4.28061750e+05,  5.69598250e+05,  8.41474750e+05,\n",
       "        1.34524375e+05,  3.46751393e+13,  4.30840556e+13,  1.23178369e+13,\n",
       "        1.21121500e+06,  1.72890406e+12, -7.98255125e+05,  2.81489000e+05,\n",
       "        1.65083375e+06,  2.00483140e+13, -5.51846125e+12,  2.24669275e+06,\n",
       "        1.28780362e+06,  1.04264038e+06,  6.54289125e+05,  1.72890346e+12,\n",
       "        1.72890341e+12,  7.86083625e+05, -3.69590447e+13,  7.61289750e+05,\n",
       "        5.06558250e+05, -1.29159793e+13,  1.27141775e+06,  1.46005600e+13,\n",
       "        1.72891562e+12,  3.40284762e+06,  1.30968554e+14,  8.93407125e+05,\n",
       "        7.46029750e+05, -1.55326909e+13,  3.76601088e+06,  6.81969500e+05,\n",
       "        1.85171312e+07,  1.42480175e+06,  2.33752874e+13,  3.63794450e+06,\n",
       "        3.78322875e+05,  9.95052375e+05,  1.67414143e+13,  9.07448750e+05,\n",
       "        1.09630290e+13,  1.69129050e+06,  1.15761137e+14,  1.72890402e+12,\n",
       "       -9.62890385e+12,  2.93720125e+05,  6.52048125e+05,  1.60139325e+06,\n",
       "        2.47558550e+06,  1.15019250e+06,  1.07969075e+06, -4.65917500e+05,\n",
       "        9.56248693e+11,  1.13951300e+06,  2.42537500e+04,  1.15019250e+06,\n",
       "        1.62494450e+06,  2.22287875e+06,  1.17195285e+13,  2.24393975e+06,\n",
       "        1.38876238e+06,  1.73714050e+06,  1.72890468e+12, -5.76279725e+12,\n",
       "        2.09736500e+05,  3.54018150e+06,  2.65304682e+13,  2.12774754e+13,\n",
       "       -5.34191000e+05,  2.11727587e+13,  3.18807475e+06,  9.78098875e+05,\n",
       "        1.65286375e+05,  1.09630284e+13,  3.74465588e+13,  1.72890481e+12,\n",
       "        9.48582250e+05,  1.73714050e+06, -2.26350044e+13,  9.56245919e+11,\n",
       "        1.72890412e+12,  1.72890597e+12, -5.89035180e+12,  3.71448250e+05,\n",
       "        6.61860375e+05,  2.55569421e+13, -2.68458625e+05,  1.53285800e+06,\n",
       "        7.66834870e+13,  1.40892025e+06, -8.04506763e+14,  3.65928954e+13,\n",
       "        6.41307300e+06,  4.55957500e+04, -3.99565852e+13,  1.86483669e+13,\n",
       "        1.34566356e+14,  7.20550500e+05,  1.40105119e+13,  4.06291850e+06,\n",
       "        1.49258778e+13,  2.34741100e+06,  1.72891648e+12,  6.16096625e+05,\n",
       "        9.07707500e+05, -1.97388092e+12,  8.06911784e+12,  9.56245573e+11,\n",
       "        2.36219683e+13, -1.52849359e+13,  1.16427900e+06,  8.98921250e+05,\n",
       "        1.40954750e+06,  1.72890478e+12,  1.72890341e+12,  6.86449000e+05,\n",
       "        2.92266900e+06, -3.25927500e+04, -5.28540375e+05,  1.72890415e+12,\n",
       "        3.39479162e+06,  5.48528212e+06,  3.45092275e+06,  3.25461575e+06,\n",
       "        4.56354125e+05,  3.91107750e+05,  2.33752880e+13,  1.91305400e+06,\n",
       "        9.57830500e+05,  1.72890356e+12,  6.62487750e+05, -8.96117794e+12,\n",
       "        2.60522175e+06, -1.37282100e+13,  4.20898200e+06, -3.68303048e+15,\n",
       "       -1.91547738e+06,  1.19698088e+06,  2.36219686e+13,  2.09299500e+05,\n",
       "        5.17238250e+05,  2.21961050e+06,  5.44743250e+05,  1.00484325e+06,\n",
       "        2.52967700e+06,  8.76901336e+12,  1.48322075e+06,  6.60983625e+05,\n",
       "        6.46729250e+05,  1.72890339e+12,  8.60623300e+06,  7.27543125e+05,\n",
       "        2.74101025e+06,  8.61206500e+05,  1.55011875e+06,  8.41921125e+06,\n",
       "        1.72890435e+12,  1.22136712e+06,  6.42452250e+05,  2.93452150e+12,\n",
       "        3.48639974e+13,  1.11441438e+06,  2.47499900e+06, -1.53350888e+06,\n",
       "        6.31470125e+05,  3.07138125e+05,  8.59782125e+05,  9.56247062e+11,\n",
       "        3.89325250e+05,  3.48639976e+13,  1.52482925e+06,  1.62704925e+06,\n",
       "        4.49387312e+06,  2.88783479e+13, -2.41089808e+13, -1.96785712e+13,\n",
       "        4.62091750e+06,  6.73000375e+05,  6.60648250e+05,  1.14101325e+06,\n",
       "        3.43278125e+05,  1.72890436e+12,  9.56246525e+11,  4.30826906e+13,\n",
       "        1.72890784e+12,  1.59028500e+05,  3.80545925e+06,  1.07888125e+06,\n",
       "        5.33072000e+05,  2.82627175e+06,  8.63833750e+05,  1.54480315e+13,\n",
       "        1.51469888e+13,  1.72891284e+12,  1.05153525e+06,  1.45227612e+06,\n",
       "        2.96046500e+05,  9.56245940e+11, -2.41089808e+13,  2.74395312e+06,\n",
       "        1.56199675e+06,  1.72890647e+12,  1.72890374e+12,  2.93401858e+12,\n",
       "       -1.89462000e+05, -2.29388267e+13, -8.04208750e+04,  1.72890465e+12,\n",
       "       -4.97075000e+04,  1.45391038e+06,  4.01864275e+06,  1.40690406e+13,\n",
       "        1.60686062e+06, -1.22780875e+05,  3.62785100e+06,  4.69876388e+12,\n",
       "        1.72890369e+12,  1.72890467e+12,  2.44386825e+06, -2.44202500e+05,\n",
       "        1.82629275e+06,  9.56246293e+11,  3.48337875e+05, -2.50652259e+13,\n",
       "       -2.51498750e+04,  1.91376225e+06,  4.48664750e+05,  1.72890438e+12,\n",
       "        1.72890341e+12,  1.72890378e+12,  1.01600812e+13,  9.56246166e+11,\n",
       "        1.72890292e+12,  1.72890637e+12, -1.93114575e+06, -2.02168150e+06,\n",
       "        6.34102500e+05,  1.72890419e+12,  8.33738125e+05,  6.52530188e+06,\n",
       "        7.76563035e+12, -1.92104750e+05,  2.05495450e+06,  3.23212850e+06,\n",
       "        6.65316750e+05,  4.85385475e+06,  3.50464548e+13, -2.10923178e+13,\n",
       "        5.42542000e+06, -4.84488510e+13,  1.92416225e+06,  1.95144425e+06,\n",
       "        2.18354875e+05,  1.21100585e+13,  1.61047675e+06,  1.20699523e+13,\n",
       "        1.27707100e+06,  2.31803875e+06,  4.12548570e+13,  9.19120500e+05,\n",
       "        6.19958000e+05,  3.52426000e+05,  1.72890376e+12,  6.63380091e+10,\n",
       "        9.69819000e+05,  1.03465150e+06,  1.25909475e+06,  4.22997903e+13,\n",
       "        4.39827500e+05,  2.96314750e+05,  9.84843500e+05,  1.72890429e+12,\n",
       "        8.29283250e+05,  2.60488625e+05,  2.71141500e+05,  3.94868875e+06,\n",
       "        1.49219625e+05,  2.48308550e+06,  3.45092275e+06,  1.39898275e+06,\n",
       "        1.40105130e+13,  1.21546350e+06,  1.72890424e+12,  9.13760125e+05,\n",
       "        3.09776100e+06,  1.83343588e+06, -2.91641394e+13,  1.52001500e+06,\n",
       "       -2.70066575e+13,  3.39626838e+06,  1.72890487e+12,  2.25509000e+06,\n",
       "        6.40303250e+05,  1.62328321e+13,  1.72890532e+12,  7.61289750e+05,\n",
       "        4.30826923e+13,  6.65280375e+05,  4.45575125e+05,  5.21692875e+05,\n",
       "        2.24694725e+06,  3.74682300e+06,  9.65942375e+05,  6.28869125e+05,\n",
       "        1.51469924e+13,  1.10731796e+13,  7.33070000e+04,  1.72890397e+12,\n",
       "        3.01489812e+06,  1.95321899e+13,  7.12972875e+05, -5.62745568e+12,\n",
       "        8.08673375e+05,  2.53237250e+05,  1.40690424e+13,  2.88955207e+13,\n",
       "        2.43182775e+06, -3.52436343e+13,  2.85407162e+06, -2.04219500e+05,\n",
       "        2.74146975e+06,  8.60406500e+05,  1.72890343e+12,  9.56246151e+11,\n",
       "        9.56245856e+11,  1.72891518e+12,  2.42472820e+13,  1.72890314e+12,\n",
       "        5.17407750e+05,  5.06762750e+05,  4.18410100e+06, -4.51126632e+12,\n",
       "        1.72890358e+12,  1.91004988e+06,  1.34403112e+06,  3.64816712e+06,\n",
       "        2.74552250e+05,  4.72167125e+05,  1.05347400e+06,  1.40105131e+13,\n",
       "        1.72890292e+12,  1.72818250e+05,  4.67835975e+06,  2.62918000e+05,\n",
       "        1.16589125e+06,  1.09987338e+06,  7.06385375e+05,  1.72890408e+12,\n",
       "        1.06932100e+06,  3.70161162e+06,  1.13957950e+06,  7.19788086e+13,\n",
       "        9.56245589e+11,  1.72890413e+12,  2.32818862e+06,  6.57611750e+05,\n",
       "        1.29176575e+06,  3.06691125e+05, -1.79959372e+13,  1.84243388e+06,\n",
       "        4.16835475e+06, -8.64811250e+05,  2.28071562e+06,  4.84959394e+15,\n",
       "        1.98677661e+13, -3.87827750e+05,  4.33834425e+06,  1.72890473e+12,\n",
       "        3.96613838e+06,  6.98188000e+05,  1.23823375e+06,  1.16099188e+06,\n",
       "       -2.58763016e+13,  1.81065900e+06, -7.74217632e+13,  1.19792500e+04,\n",
       "        9.73345000e+04,  9.87091125e+05,  2.25341827e+13, -7.96019375e+05,\n",
       "        2.33752879e+13,  5.71682150e+06,  9.74021875e+05, -1.64630934e+13,\n",
       "        1.15203354e+13,  4.72043804e+13,  1.72890335e+12,  4.07169288e+06,\n",
       "        4.15501125e+05,  9.97959750e+05,  2.37904600e+06,  1.98677577e+13,\n",
       "        1.72890313e+12,  1.72890369e+12, -5.25519763e+13, -4.56695858e+13,\n",
       "        9.56246533e+11, -9.43239455e+12,  5.96526575e+06,  2.93401877e+12,\n",
       "        1.72890460e+12,  5.60216375e+05, -1.88220500e+05,  3.95465800e+06,\n",
       "        9.96433236e+12,  1.62328368e+13,  1.13508888e+06,  7.89194750e+05,\n",
       "        1.04104000e+06,  5.73190250e+05,  2.52541425e+06,  9.56246764e+11,\n",
       "        9.56246471e+11,  2.02840375e+06,  1.72709875e+06, -2.01823781e+13,\n",
       "        1.24899338e+06, -1.23543227e+13,  2.67002250e+06,  4.70973340e+13,\n",
       "        2.93465325e+06, -1.24582589e+13,  2.47526050e+06,  2.19621300e+06,\n",
       "        1.72890405e+12,  1.10004325e+06,  1.05837150e+06,  2.98517650e+13,\n",
       "       -3.69590446e+13,  1.72890377e+12,  1.74013600e+06,  1.15175688e+06,\n",
       "        7.19788091e+13,  2.13241962e+07,  1.72890395e+12, -8.77898775e+06,\n",
       "        2.57197750e+06,  8.99673250e+05,  1.82754763e+12,  9.67142375e+05,\n",
       "        1.22136712e+06,  5.22121195e+12,  2.71439200e+06,  5.59208750e+05,\n",
       "        8.53914625e+05,  1.72890453e+12,  3.27087525e+06,  1.08534888e+06,\n",
       "        2.20064362e+06,  9.56246106e+11,  1.72890444e+12, -7.98251500e+05,\n",
       "        2.60343425e+06,  9.40392675e+12,  1.24049625e+06, -2.52334625e+05,\n",
       "        7.04913375e+05,  2.10194500e+06,  2.82964150e+06,  1.19828712e+06,\n",
       "        2.42282750e+05,  1.03179204e+13,  3.87445812e+06,  3.42237300e+06,\n",
       "        1.72890621e+12,  8.52754750e+05,  9.33691988e+06,  9.64710500e+05,\n",
       "        4.97524125e+05,  1.51469899e+13,  1.72890414e+12,  1.33014950e+06,\n",
       "        1.14101325e+06,  9.33664750e+05,  1.91426850e+06,  1.72890357e+12,\n",
       "        3.55557250e+05,  1.51469951e+13,  2.95085150e+06,  1.72890446e+12,\n",
       "        6.23026375e+05,  2.12834088e+06,  1.37768875e+06,  3.22497525e+06,\n",
       "        2.90012500e+04,  6.37457250e+05,  3.00572675e+06,  7.49024750e+05,\n",
       "        1.84792706e+13,  2.08176250e+05,  1.62339962e+06, -2.41089850e+13,\n",
       "        9.56247062e+11,  6.68189875e+05,  7.91652500e+04,  1.40105129e+13,\n",
       "       -1.28228888e+06,  1.51469858e+13,  3.76895012e+06,  5.48391912e+06,\n",
       "        8.37932250e+05,  5.51519750e+05,  1.45227612e+06,  1.21821925e+06,\n",
       "        1.72890448e+12,  2.36219684e+13, -5.21569500e+05,  3.28211244e+13,\n",
       "        1.72890458e+12,  1.29790575e+06,  9.56245576e+11,  5.51519750e+05,\n",
       "        1.92731212e+06,  2.36219685e+13,  3.45092275e+06, -4.57333250e+05,\n",
       "        1.04038300e+06,  1.09293000e+05,  1.13009625e+06, -6.21285750e+05,\n",
       "        1.44637962e+06,  1.38759175e+06,  1.81349904e+13,  1.41867400e+06,\n",
       "        1.10777413e+13,  3.45092275e+06,  4.30826910e+13, -5.10094250e+05,\n",
       "        2.71990100e+06,  3.24259750e+05,  1.72890320e+12, -2.78848750e+04,\n",
       "        1.57908025e+06,  2.66920700e+06,  9.56245856e+11,  8.18491875e+05,\n",
       "        1.72890475e+12,  3.76166700e+06,  2.00793818e+13, -1.24582632e+13,\n",
       "        1.37554950e+06,  2.48078800e+06, -3.69590441e+13,  1.44500150e+06,\n",
       "        1.03964100e+06, -7.53663500e+05, -5.25519754e+13,  7.81586750e+05,\n",
       "        3.51638775e+06,  9.56245679e+11,  2.88184250e+05,  1.20644950e+06,\n",
       "        2.28645420e+13, -1.71419192e+13, -1.36342895e+13, -2.53325925e+06,\n",
       "        1.72890391e+12,  2.31763100e+06,  1.72890522e+12,  7.44378375e+05,\n",
       "        1.01951762e+06, -1.01020074e+13,  8.45658500e+05,  5.47909500e+05,\n",
       "       -3.04746141e+14,  3.72437625e+06,  1.16781125e+06,  1.06435538e+06,\n",
       "       -1.85827500e+04,  1.08895712e+06, -2.21453250e+05,  2.80409500e+05,\n",
       "        1.72890442e+12,  5.48526125e+05,  7.93154750e+05,  9.56247095e+11,\n",
       "        7.20212000e+05,  5.71487750e+05,  4.45353750e+05,  2.98517639e+13,\n",
       "        1.29558425e+06,  1.72890341e+12,  2.17767888e+06, -8.04506761e+14,\n",
       "        3.48639825e+13,  6.76245169e+12,  3.08513900e+06,  3.68202875e+05,\n",
       "        1.72890381e+12,  1.40105159e+13,  1.00791875e+06,  3.65928947e+13,\n",
       "        2.02029500e+05,  5.61800875e+05, -4.30714250e+05,  1.19481138e+06,\n",
       "        1.43057788e+06,  3.23212850e+06,  3.65928940e+13, -1.69406000e+05,\n",
       "       -1.36233787e+13,  1.49647988e+06, -7.20610375e+05,  1.73355012e+06,\n",
       "        7.33122750e+05,  1.76479825e+06,  1.72890473e+12,  1.19532862e+06,\n",
       "        1.58499450e+06, -1.61688768e+13,  2.76353212e+06,  2.99297700e+06,\n",
       "        3.49959900e+06,  3.61315625e+05,  1.12643100e+06,  4.68880325e+06,\n",
       "        2.96825900e+06,  1.51505675e+06,  5.53620625e+05,  1.36890000e+06,\n",
       "        6.81969500e+05,  2.63588125e+06,  1.72890339e+12,  2.48384562e+06,\n",
       "        1.47365825e+06, -2.41089808e+13,  6.26662500e+04, -1.69069145e+13,\n",
       "        7.16401125e+05,  1.72890395e+12,  7.03545625e+05,  8.54496875e+05,\n",
       "       -5.38699303e+14,  7.44378375e+05,  3.63794450e+06,  4.85983183e+13,\n",
       "       -8.00111250e+04,  3.93564750e+05, -1.26328625e+05,  7.57843000e+05,\n",
       "       -2.08332500e+05, -3.06186339e+13,  3.55844800e+06,  4.51963062e+06,\n",
       "        1.07820575e+06,  3.05254438e+06,  2.99243675e+06,  1.43164788e+06,\n",
       "        1.53447125e+05,  4.08487401e+13,  2.79384250e+05, -9.41708500e+05,\n",
       "        9.56245088e+11,  1.71338725e+06,  1.72890307e+12,  7.82341000e+05,\n",
       "        2.57871000e+06, -2.77770742e+12,  1.75544350e+06,  1.30483375e+05,\n",
       "        9.56244534e+11,  3.49369500e+05,  2.70571350e+06,  1.40652022e+07,\n",
       "        2.26408438e+06, -3.23540625e+05,  1.72890402e+12,  2.86518350e+06,\n",
       "        1.86320800e+06,  9.56246012e+11,  4.03838750e+06,  1.44364375e+05,\n",
       "        2.99865988e+06,  1.40105162e+13,  1.72890452e+12,  1.72890358e+12,\n",
       "        1.17150750e+06,  2.48985450e+06,  1.72890355e+12,  1.07823262e+06,\n",
       "        6.99597625e+05, -2.69724625e+05,  1.77399225e+06,  1.72890570e+12,\n",
       "        8.82781000e+05,  9.05920250e+05,  5.14638875e+05,  4.51260250e+05,\n",
       "        1.70039150e+06,  3.56755250e+05,  1.11947475e+06,  1.72890447e+12,\n",
       "        1.05013250e+05,  1.95529288e+06,  1.76124462e+06,  1.26810800e+06,\n",
       "        3.52446000e+05,  1.39797275e+06,  1.89284575e+06,  2.59363750e+06,\n",
       "        1.72890320e+12,  9.37628625e+05, -1.90704775e+06,  1.72890585e+12,\n",
       "        1.91768162e+06, -4.90543351e+13,  1.82629275e+06,  4.97305556e+13,\n",
       "        2.30974150e+06,  2.44227862e+06,  6.79069375e+05,  2.36665275e+06,\n",
       "        3.65928956e+13,  3.65928935e+13,  2.23437750e+06,  1.20361075e+06,\n",
       "        2.53883625e+06,  7.71876875e+05,  5.33595000e+05,  1.72890492e+12,\n",
       "        9.99182500e+05,  9.21683750e+05,  4.84407200e+06,  1.08096725e+06,\n",
       "        1.72890435e+12,  1.72890395e+12,  8.15421250e+05,  7.99604500e+05,\n",
       "        1.72890415e+12, -2.37021500e+05,  1.13640938e+07,  2.43153475e+06,\n",
       "        1.35105100e+06,  3.48639974e+13, -2.21453250e+05,  1.89072462e+06,\n",
       "        6.89934538e+06,  6.41028999e+11,  2.21961050e+06,  4.90355474e+12,\n",
       "        3.81559388e+06,  1.98717025e+06, -2.38188599e+13,  2.66202075e+06,\n",
       "        4.69041750e+05,  1.72890423e+12,  2.48675525e+06,  9.48311500e+05,\n",
       "        3.48639974e+13,  1.72890331e+12,  3.21663000e+05])"
      ]
     },
     "execution_count": 1771,
     "metadata": {},
     "output_type": "execute_result"
    }
   ],
   "source": [
    "dt_pred = decision_tree_reg.predict(X_test)"
   ]
  },
  {
   "cell_type": "code",
   "execution_count": 169,
   "id": "cb2fad1e",
   "metadata": {},
   "outputs": [
    {
     "data": {
      "text/plain": [
       "1185482256077.2559"
      ]
     },
     "execution_count": 169,
     "metadata": {},
     "output_type": "execute_result"
    }
   ],
   "source": [
    "mse = mean_squared_error(y_test,dt_pred)\n",
    "mse"
   ]
  },
  {
   "cell_type": "code",
   "execution_count": 170,
   "id": "b599df57",
   "metadata": {},
   "outputs": [
    {
     "data": {
      "text/plain": [
       "1088798.5378743194"
      ]
     },
     "execution_count": 170,
     "metadata": {},
     "output_type": "execute_result"
    }
   ],
   "source": [
    "rmse = mean_squared_error(y_test, dt_pred, squared=False)\n",
    "rmse"
   ]
  },
  {
   "cell_type": "markdown",
   "id": "56f8ebd8",
   "metadata": {},
   "source": [
    "<h3 style='color:#45ccb1d4;text-align:center;font-size:20px'><b>3. Random Forest Regression</b></h3> "
   ]
  },
  {
   "cell_type": "code",
   "execution_count": 171,
   "id": "dda42922",
   "metadata": {},
   "outputs": [],
   "source": [
    "rf_reg = RandomForestRegressor(max_depth = 5).fit(X_train, y_train)"
   ]
  },
  {
   "cell_type": "code",
   "execution_count": 172,
   "id": "cb1c2fcd",
   "metadata": {},
   "outputs": [],
   "source": [
    "rf_pred = rf_reg.predict(X_test)"
   ]
  },
  {
   "cell_type": "code",
   "execution_count": 173,
   "id": "715efe71",
   "metadata": {},
   "outputs": [
    {
     "data": {
      "text/plain": [
       "2994147304391.466"
      ]
     },
     "execution_count": 173,
     "metadata": {},
     "output_type": "execute_result"
    }
   ],
   "source": [
    "mse = mean_squared_error(y_test, rf_pred)\n",
    "mse"
   ]
  },
  {
   "cell_type": "code",
   "execution_count": 174,
   "id": "ed2f5825",
   "metadata": {},
   "outputs": [
    {
     "data": {
      "text/plain": [
       "2125829.4194793045"
      ]
     },
     "execution_count": 174,
     "metadata": {},
     "output_type": "execute_result"
    }
   ],
   "source": [
    "rmse = mean_squared_error(y_test, y_pred, squared=False)\n",
    "rmse"
   ]
  },
  {
   "cell_type": "markdown",
   "id": "1f787c89",
   "metadata": {},
   "source": [
    "<h2 style='color:#45ccb1d4;text-align:center;font-size:25px'><b>B. Đánh giá mô hình</b></h2> "
   ]
  },
  {
   "cell_type": "markdown",
   "id": "6da9459a",
   "metadata": {},
   "source": [
    "<h3 style='color:#45ccb1d4;text-align:left;font-size:20px'><b>1. Linear Regression</b></h3> "
   ]
  },
  {
   "cell_type": "markdown",
   "id": "fdc8fb31",
   "metadata": {},
   "source": [
    "#### Cross-validation"
   ]
  },
  {
   "cell_type": "code",
   "execution_count": 158,
   "id": "34bec007",
   "metadata": {},
   "outputs": [],
   "source": [
    "cv = ShuffleSplit(n_splits=5, test_size=0.2, random_state=0)"
   ]
  },
  {
   "cell_type": "code",
   "execution_count": 159,
   "id": "e399cefd",
   "metadata": {},
   "outputs": [
    {
     "name": "stdout",
     "output_type": "stream",
     "text": [
      "[-3.62786744e+12 -1.23637770e+31 -3.96629689e+12 -1.30766016e+30\n",
      " -5.29782859e+12] \n",
      " -2.7342874392040006e+30\n"
     ]
    }
   ],
   "source": [
    "scores = cross_val_score(lin_reg, df_encoded, y, scoring='neg_mean_squared_error', cv=cv)\n",
    "print(scores,'\\n', np.mean(scores))"
   ]
  },
  {
   "cell_type": "code",
   "execution_count": 160,
   "id": "6b9f539b",
   "metadata": {},
   "outputs": [
    {
     "name": "stdout",
     "output_type": "stream",
     "text": [
      "[3.62786744e+12 1.23637770e+31 3.96629689e+12 1.30766016e+30\n",
      " 5.29782859e+12] \n",
      " 2.7342874392040006e+30\n"
     ]
    }
   ],
   "source": [
    "lr_mse_scores=-scores\n",
    "print(lr_mse_scores,'\\n', np.mean(lr_mse_scores))"
   ]
  },
  {
   "cell_type": "code",
   "execution_count": 161,
   "id": "3b411bc8",
   "metadata": {},
   "outputs": [
    {
     "name": "stdout",
     "output_type": "stream",
     "text": [
      "[1.90469615e+06 3.51621630e+15 1.99155640e+06 1.14352969e+15\n",
      " 2.30170124e+06] \n",
      " 931949198892439.4\n"
     ]
    }
   ],
   "source": [
    "lr_rmse_scores = np.sqrt(lr_mse_scores)\n",
    "print(lr_rmse_scores,'\\n', np.mean(lr_rmse_scores))"
   ]
  },
  {
   "cell_type": "markdown",
   "id": "1ad1d979",
   "metadata": {},
   "source": [
    "#### Minh hoạ mô hình"
   ]
  },
  {
   "cell_type": "code",
   "execution_count": 175,
   "id": "2d955fe8",
   "metadata": {},
   "outputs": [
    {
     "data": {
      "text/plain": [
       "Text(0.5, 0, 'Giá rượu (triệu VNĐ)')"
      ]
     },
     "execution_count": 175,
     "metadata": {},
     "output_type": "execute_result"
    },
    {
     "data": {
      "image/png": "[encoded data removed]",
      "text/plain": [
       "<Figure size 720x432 with 1 Axes>"
      ]
     },
     "metadata": {},
     "output_type": "display_data"
    }
   ],
   "source": [
    "plt.figure(figsize=(10,6));\n",
    "sns.regplot(x=y_test,y=lr_pred,ci=None, scatter_kws={\"color\": \"blue\"}, line_kws={\"color\": \"red\"});\n",
    "plt.title('Linear Regression', fontsize=14)\n",
    "plt.xlabel('Giá rượu (triệu VNĐ)', fontsize=14)"
   ]
  },
  {
   "cell_type": "markdown",
   "id": "0f8e55ed",
   "metadata": {},
   "source": [
    "<h3 style='color:#45ccb1d4;font-size:20px'><b>2. Decision Tree Regression</b></h3> "
   ]
  },
  {
   "cell_type": "markdown",
   "id": "0e53cdb3",
   "metadata": {},
   "source": [
    "#### Cross-validation"
   ]
  },
  {
   "cell_type": "code",
   "execution_count": 35,
   "id": "963f60a5",
   "metadata": {},
   "outputs": [
    {
     "data": {
      "text/plain": [
       "array([-0.32119072, -0.41118965, -0.08873732, -0.10588448,  0.14556822,\n",
       "        0.16988019,  0.12129275,  0.00987914,  0.09416919, -0.58070611])"
      ]
     },
     "execution_count": 35,
     "metadata": {},
     "output_type": "execute_result"
    }
   ],
   "source": [
    "scores = cross_val_score(decision_tree_reg,X_train, y_train,cv = 10)\n",
    "scores"
   ]
  },
  {
   "cell_type": "code",
   "execution_count": 36,
   "id": "568d5368",
   "metadata": {},
   "outputs": [
    {
     "data": {
      "text/plain": [
       "-0.09669187992860583"
      ]
     },
     "execution_count": 36,
     "metadata": {},
     "output_type": "execute_result"
    }
   ],
   "source": [
    "scores.mean()"
   ]
  },
  {
   "cell_type": "code",
   "execution_count": 1773,
   "id": "bbbbff60",
   "metadata": {},
   "outputs": [
    {
     "name": "stdout",
     "output_type": "stream",
     "text": [
      "4.946167362317748e+28\n"
     ]
    }
   ],
   "source": [
    "mse = sklearn.metrics.mean_squared_error(y_test, y_pred)\n",
    "print(mse)"
   ]
  },
  {
   "cell_type": "code",
   "execution_count": 1774,
   "id": "d1d37185",
   "metadata": {},
   "outputs": [
    {
     "data": {
      "text/plain": [
       "4228569079169.5444"
      ]
     },
     "execution_count": 1774,
     "metadata": {},
     "output_type": "execute_result"
    }
   ],
   "source": [
    "4228569079169.5444"
   ]
  },
  {
   "cell_type": "code",
   "execution_count": 1775,
   "id": "e32e514f",
   "metadata": {},
   "outputs": [
    {
     "data": {
      "text/plain": [
       "<matplotlib.collections.PathCollection at 0x22c04e85e20>"
      ]
     },
     "execution_count": 1775,
     "metadata": {},
     "output_type": "execute_result"
    },
    {
     "data": {
      "image/png": "[encoded data removed]",
      "text/plain": [
       "<Figure size 432x288 with 1 Axes>"
      ]
     },
     "metadata": {},
     "output_type": "display_data"
    }
   ],
   "source": [
    "plt.scatter(y_pred[:10], y_test[:10])"
   ]
  },
  {
   "cell_type": "code",
   "execution_count": null,
   "id": "459ff14b",
   "metadata": {},
   "outputs": [],
   "source": []
  },
  {
   "cell_type": "code",
   "execution_count": null,
   "id": "e27bf7f2",
   "metadata": {},
   "outputs": [],
   "source": []
  },
  {
   "cell_type": "markdown",
   "id": "c2a02d6d",
   "metadata": {},
   "source": [
    "<h3 style='color:#45ccb1d4;font-size:20px'><b>3. Random Forest Regression</b></h3> "
   ]
  },
  {
   "cell_type": "markdown",
   "id": "c3e1b9f8",
   "metadata": {},
   "source": [
    "#### Cross-validation"
   ]
  },
  {
   "cell_type": "code",
   "execution_count": 37,
   "id": "b8a8e53c",
   "metadata": {},
   "outputs": [
    {
     "data": {
      "text/plain": [
       "array([ 0.00676593, -0.5498377 , -0.08994844, -0.0305511 , -0.00561003,\n",
       "        0.17951719, -0.02535724, -0.23201733,  0.11088961, -0.58442604])"
      ]
     },
     "execution_count": 37,
     "metadata": {},
     "output_type": "execute_result"
    }
   ],
   "source": [
    "scores = cross_val_score(decision_tree_reg,X_train, y_train,cv = 10)\n",
    "scores"
   ]
  },
  {
   "cell_type": "code",
   "execution_count": 38,
   "id": "2d36f40b",
   "metadata": {},
   "outputs": [
    {
     "data": {
      "text/plain": [
       "-0.12205751509333802"
      ]
     },
     "execution_count": 38,
     "metadata": {},
     "output_type": "execute_result"
    }
   ],
   "source": [
    "scores.mean()"
   ]
  },
  {
   "cell_type": "markdown",
   "id": "124bcef0",
   "metadata": {},
   "source": [
    "#### Tinh chỉnh mô hình"
   ]
  },
  {
   "cell_type": "code",
   "execution_count": 67,
   "id": "5868de64",
   "metadata": {},
   "outputs": [],
   "source": [
    "param_grid = {\n",
    "    'bootstrap': [True, False],\n",
    "    'max_depth': [5, 10, 15],\n",
    "    'max_features': ['auto', 'sqrt'],\n",
    "    'min_samples_leaf': [1, 2, 3, 4],\n",
    "    'min_samples_split': [2, 4, 6],\n",
    "    'n_estimators': [5, 10, 15, 20]\n",
    "}"
   ]
  },
  {
   "cell_type": "code",
   "execution_count": 68,
   "id": "d63c660d",
   "metadata": {},
   "outputs": [],
   "source": [
    "grid_search = GridSearchCV(estimator = rf_reg, param_grid = param_grid, cv = 5)"
   ]
  },
  {
   "cell_type": "code",
   "execution_count": 69,
   "id": "e667fb2d",
   "metadata": {},
   "outputs": [
    {
     "data": {
      "text/html": [
       "<style>#sk-container-id-2 {color: black;background-color: white;}#sk-container-id-2 pre{padding: 0;}#sk-container-id-2 div.sk-toggleable {background-color: white;}#sk-container-id-2 label.sk-toggleable__label {cursor: pointer;display: block;width: 100%;margin-bottom: 0;padding: 0.3em;box-sizing: border-box;text-align: center;}#sk-container-id-2 label.sk-toggleable__label-arrow:before {content: \"▸\";float: left;margin-right: 0.25em;color: #696969;}#sk-container-id-2 label.sk-toggleable__label-arrow:hover:before {color: black;}#sk-container-id-2 div.sk-estimator:hover label.sk-toggleable__label-arrow:before {color: black;}#sk-container-id-2 div.sk-toggleable__content {max-height: 0;max-width: 0;overflow: hidden;text-align: left;background-color: #f0f8ff;}#sk-container-id-2 div.sk-toggleable__content pre {margin: 0.2em;color: black;border-radius: 0.25em;background-color: #f0f8ff;}#sk-container-id-2 input.sk-toggleable__control:checked~div.sk-toggleable__content {max-height: 200px;max-width: 100%;overflow: auto;}#sk-container-id-2 input.sk-toggleable__control:checked~label.sk-toggleable__label-arrow:before {content: \"▾\";}#sk-container-id-2 div.sk-estimator input.sk-toggleable__control:checked~label.sk-toggleable__label {background-color: #d4ebff;}#sk-container-id-2 div.sk-label input.sk-toggleable__control:checked~label.sk-toggleable__label {background-color: #d4ebff;}#sk-container-id-2 input.sk-hidden--visually {border: 0;clip: rect(1px 1px 1px 1px);clip: rect(1px, 1px, 1px, 1px);height: 1px;margin: -1px;overflow: hidden;padding: 0;position: absolute;width: 1px;}#sk-container-id-2 div.sk-estimator {font-family: monospace;background-color: #f0f8ff;border: 1px dotted black;border-radius: 0.25em;box-sizing: border-box;margin-bottom: 0.5em;}#sk-container-id-2 div.sk-estimator:hover {background-color: #d4ebff;}#sk-container-id-2 div.sk-parallel-item::after {content: \"\";width: 100%;border-bottom: 1px solid gray;flex-grow: 1;}#sk-container-id-2 div.sk-label:hover label.sk-toggleable__label {background-color: #d4ebff;}#sk-container-id-2 div.sk-serial::before {content: \"\";position: absolute;border-left: 1px solid gray;box-sizing: border-box;top: 0;bottom: 0;left: 50%;z-index: 0;}#sk-container-id-2 div.sk-serial {display: flex;flex-direction: column;align-items: center;background-color: white;padding-right: 0.2em;padding-left: 0.2em;position: relative;}#sk-container-id-2 div.sk-item {position: relative;z-index: 1;}#sk-container-id-2 div.sk-parallel {display: flex;align-items: stretch;justify-content: center;background-color: white;position: relative;}#sk-container-id-2 div.sk-item::before, #sk-container-id-2 div.sk-parallel-item::before {content: \"\";position: absolute;border-left: 1px solid gray;box-sizing: border-box;top: 0;bottom: 0;left: 50%;z-index: -1;}#sk-container-id-2 div.sk-parallel-item {display: flex;flex-direction: column;z-index: 1;position: relative;background-color: white;}#sk-container-id-2 div.sk-parallel-item:first-child::after {align-self: flex-end;width: 50%;}#sk-container-id-2 div.sk-parallel-item:last-child::after {align-self: flex-start;width: 50%;}#sk-container-id-2 div.sk-parallel-item:only-child::after {width: 0;}#sk-container-id-2 div.sk-dashed-wrapped {border: 1px dashed gray;margin: 0 0.4em 0.5em 0.4em;box-sizing: border-box;padding-bottom: 0.4em;background-color: white;}#sk-container-id-2 div.sk-label label {font-family: monospace;font-weight: bold;display: inline-block;line-height: 1.2em;}#sk-container-id-2 div.sk-label-container {text-align: center;}#sk-container-id-2 div.sk-container {/* jupyter's `normalize.less` sets `[hidden] { display: none; }` but bootstrap.min.css set `[hidden] { display: none !important; }` so we also need the `!important` here to be able to override the default hidden behavior on the sphinx rendered scikit-learn.org. See: https://github.com/scikit-learn/scikit-learn/issues/21755 */display: inline-block !important;position: relative;}#sk-container-id-2 div.sk-text-repr-fallback {display: none;}</style><div id=\"sk-container-id-2\" class=\"sk-top-container\"><div class=\"sk-text-repr-fallback\"><pre>GridSearchCV(cv=5, estimator=RandomForestRegressor(max_depth=5),\n",
       "             param_grid={&#x27;bootstrap&#x27;: [True, False], &#x27;max_depth&#x27;: [5, 10, 15],\n",
       "                         &#x27;max_features&#x27;: [&#x27;auto&#x27;, &#x27;sqrt&#x27;],\n",
       "                         &#x27;min_samples_leaf&#x27;: [1, 2, 3, 4],\n",
       "                         &#x27;min_samples_split&#x27;: [2, 4, 6],\n",
       "                         &#x27;n_estimators&#x27;: [5, 10, 15, 20]})</pre><b>In a Jupyter environment, please rerun this cell to show the HTML representation or trust the notebook. <br />On GitHub, the HTML representation is unable to render, please try loading this page with nbviewer.org.</b></div><div class=\"sk-container\" hidden><div class=\"sk-item sk-dashed-wrapped\"><div class=\"sk-label-container\"><div class=\"sk-label sk-toggleable\"><input class=\"sk-toggleable__control sk-hidden--visually\" id=\"sk-estimator-id-4\" type=\"checkbox\" ><label for=\"sk-estimator-id-4\" class=\"sk-toggleable__label sk-toggleable__label-arrow\">GridSearchCV</label><div class=\"sk-toggleable__content\"><pre>GridSearchCV(cv=5, estimator=RandomForestRegressor(max_depth=5),\n",
       "             param_grid={&#x27;bootstrap&#x27;: [True, False], &#x27;max_depth&#x27;: [5, 10, 15],\n",
       "                         &#x27;max_features&#x27;: [&#x27;auto&#x27;, &#x27;sqrt&#x27;],\n",
       "                         &#x27;min_samples_leaf&#x27;: [1, 2, 3, 4],\n",
       "                         &#x27;min_samples_split&#x27;: [2, 4, 6],\n",
       "                         &#x27;n_estimators&#x27;: [5, 10, 15, 20]})</pre></div></div></div><div class=\"sk-parallel\"><div class=\"sk-parallel-item\"><div class=\"sk-item\"><div class=\"sk-label-container\"><div class=\"sk-label sk-toggleable\"><input class=\"sk-toggleable__control sk-hidden--visually\" id=\"sk-estimator-id-5\" type=\"checkbox\" ><label for=\"sk-estimator-id-5\" class=\"sk-toggleable__label sk-toggleable__label-arrow\">estimator: RandomForestRegressor</label><div class=\"sk-toggleable__content\"><pre>RandomForestRegressor(max_depth=5)</pre></div></div></div><div class=\"sk-serial\"><div class=\"sk-item\"><div class=\"sk-estimator sk-toggleable\"><input class=\"sk-toggleable__control sk-hidden--visually\" id=\"sk-estimator-id-6\" type=\"checkbox\" ><label for=\"sk-estimator-id-6\" class=\"sk-toggleable__label sk-toggleable__label-arrow\">RandomForestRegressor</label><div class=\"sk-toggleable__content\"><pre>RandomForestRegressor(max_depth=5)</pre></div></div></div></div></div></div></div></div></div></div>"
      ],
      "text/plain": [
       "GridSearchCV(cv=5, estimator=RandomForestRegressor(max_depth=5),\n",
       "             param_grid={'bootstrap': [True, False], 'max_depth': [5, 10, 15],\n",
       "                         'max_features': ['auto', 'sqrt'],\n",
       "                         'min_samples_leaf': [1, 2, 3, 4],\n",
       "                         'min_samples_split': [2, 4, 6],\n",
       "                         'n_estimators': [5, 10, 15, 20]})"
      ]
     },
     "execution_count": 69,
     "metadata": {},
     "output_type": "execute_result"
    }
   ],
   "source": [
    "grid_search.fit(X_train, y_train)"
   ]
  },
  {
   "cell_type": "markdown",
   "id": "55c67783",
   "metadata": {},
   "source": [
    "#### Chọn mô hình tốt nhất"
   ]
  },
  {
   "cell_type": "code",
   "execution_count": 72,
   "id": "e38a9690",
   "metadata": {},
   "outputs": [
    {
     "data": {
      "text/plain": [
       "{'bootstrap': False,\n",
       " 'max_depth': 15,\n",
       " 'max_features': 'sqrt',\n",
       " 'min_samples_leaf': 1,\n",
       " 'min_samples_split': 4,\n",
       " 'n_estimators': 20}"
      ]
     },
     "execution_count": 72,
     "metadata": {},
     "output_type": "execute_result"
    }
   ],
   "source": [
    "grid_search.best_params_"
   ]
  },
  {
   "cell_type": "code",
   "execution_count": 83,
   "id": "5dbb82ed",
   "metadata": {},
   "outputs": [
    {
     "data": {
      "text/html": [
       "<style>#sk-container-id-4 {color: black;background-color: white;}#sk-container-id-4 pre{padding: 0;}#sk-container-id-4 div.sk-toggleable {background-color: white;}#sk-container-id-4 label.sk-toggleable__label {cursor: pointer;display: block;width: 100%;margin-bottom: 0;padding: 0.3em;box-sizing: border-box;text-align: center;}#sk-container-id-4 label.sk-toggleable__label-arrow:before {content: \"▸\";float: left;margin-right: 0.25em;color: #696969;}#sk-container-id-4 label.sk-toggleable__label-arrow:hover:before {color: black;}#sk-container-id-4 div.sk-estimator:hover label.sk-toggleable__label-arrow:before {color: black;}#sk-container-id-4 div.sk-toggleable__content {max-height: 0;max-width: 0;overflow: hidden;text-align: left;background-color: #f0f8ff;}#sk-container-id-4 div.sk-toggleable__content pre {margin: 0.2em;color: black;border-radius: 0.25em;background-color: #f0f8ff;}#sk-container-id-4 input.sk-toggleable__control:checked~div.sk-toggleable__content {max-height: 200px;max-width: 100%;overflow: auto;}#sk-container-id-4 input.sk-toggleable__control:checked~label.sk-toggleable__label-arrow:before {content: \"▾\";}#sk-container-id-4 div.sk-estimator input.sk-toggleable__control:checked~label.sk-toggleable__label {background-color: #d4ebff;}#sk-container-id-4 div.sk-label input.sk-toggleable__control:checked~label.sk-toggleable__label {background-color: #d4ebff;}#sk-container-id-4 input.sk-hidden--visually {border: 0;clip: rect(1px 1px 1px 1px);clip: rect(1px, 1px, 1px, 1px);height: 1px;margin: -1px;overflow: hidden;padding: 0;position: absolute;width: 1px;}#sk-container-id-4 div.sk-estimator {font-family: monospace;background-color: #f0f8ff;border: 1px dotted black;border-radius: 0.25em;box-sizing: border-box;margin-bottom: 0.5em;}#sk-container-id-4 div.sk-estimator:hover {background-color: #d4ebff;}#sk-container-id-4 div.sk-parallel-item::after {content: \"\";width: 100%;border-bottom: 1px solid gray;flex-grow: 1;}#sk-container-id-4 div.sk-label:hover label.sk-toggleable__label {background-color: #d4ebff;}#sk-container-id-4 div.sk-serial::before {content: \"\";position: absolute;border-left: 1px solid gray;box-sizing: border-box;top: 0;bottom: 0;left: 50%;z-index: 0;}#sk-container-id-4 div.sk-serial {display: flex;flex-direction: column;align-items: center;background-color: white;padding-right: 0.2em;padding-left: 0.2em;position: relative;}#sk-container-id-4 div.sk-item {position: relative;z-index: 1;}#sk-container-id-4 div.sk-parallel {display: flex;align-items: stretch;justify-content: center;background-color: white;position: relative;}#sk-container-id-4 div.sk-item::before, #sk-container-id-4 div.sk-parallel-item::before {content: \"\";position: absolute;border-left: 1px solid gray;box-sizing: border-box;top: 0;bottom: 0;left: 50%;z-index: -1;}#sk-container-id-4 div.sk-parallel-item {display: flex;flex-direction: column;z-index: 1;position: relative;background-color: white;}#sk-container-id-4 div.sk-parallel-item:first-child::after {align-self: flex-end;width: 50%;}#sk-container-id-4 div.sk-parallel-item:last-child::after {align-self: flex-start;width: 50%;}#sk-container-id-4 div.sk-parallel-item:only-child::after {width: 0;}#sk-container-id-4 div.sk-dashed-wrapped {border: 1px dashed gray;margin: 0 0.4em 0.5em 0.4em;box-sizing: border-box;padding-bottom: 0.4em;background-color: white;}#sk-container-id-4 div.sk-label label {font-family: monospace;font-weight: bold;display: inline-block;line-height: 1.2em;}#sk-container-id-4 div.sk-label-container {text-align: center;}#sk-container-id-4 div.sk-container {/* jupyter's `normalize.less` sets `[hidden] { display: none; }` but bootstrap.min.css set `[hidden] { display: none !important; }` so we also need the `!important` here to be able to override the default hidden behavior on the sphinx rendered scikit-learn.org. See: https://github.com/scikit-learn/scikit-learn/issues/21755 */display: inline-block !important;position: relative;}#sk-container-id-4 div.sk-text-repr-fallback {display: none;}</style><div id=\"sk-container-id-4\" class=\"sk-top-container\"><div class=\"sk-text-repr-fallback\"><pre>RandomForestRegressor(bootstrap=False, max_depth=15, max_features=&#x27;sqrt&#x27;,\n",
       "                      min_samples_split=4, n_estimators=20)</pre><b>In a Jupyter environment, please rerun this cell to show the HTML representation or trust the notebook. <br />On GitHub, the HTML representation is unable to render, please try loading this page with nbviewer.org.</b></div><div class=\"sk-container\" hidden><div class=\"sk-item\"><div class=\"sk-estimator sk-toggleable\"><input class=\"sk-toggleable__control sk-hidden--visually\" id=\"sk-estimator-id-8\" type=\"checkbox\" checked><label for=\"sk-estimator-id-8\" class=\"sk-toggleable__label sk-toggleable__label-arrow\">RandomForestRegressor</label><div class=\"sk-toggleable__content\"><pre>RandomForestRegressor(bootstrap=False, max_depth=15, max_features=&#x27;sqrt&#x27;,\n",
       "                      min_samples_split=4, n_estimators=20)</pre></div></div></div></div></div>"
      ],
      "text/plain": [
       "RandomForestRegressor(bootstrap=False, max_depth=15, max_features='sqrt',\n",
       "                      min_samples_split=4, n_estimators=20)"
      ]
     },
     "execution_count": 83,
     "metadata": {},
     "output_type": "execute_result"
    }
   ],
   "source": [
    "rf = RandomForestRegressor(n_estimators=20, bootstrap=False, max_depth=15, max_features='sqrt', min_samples_leaf=1, min_samples_split=4)\n",
    "rf.fit(X_train, y_train)"
   ]
  },
  {
   "cell_type": "code",
   "execution_count": 90,
   "id": "9c277543",
   "metadata": {},
   "outputs": [],
   "source": [
    "rf_pred = rf.predict(X_test)"
   ]
  },
  {
   "cell_type": "code",
   "execution_count": 91,
   "id": "571b0486",
   "metadata": {},
   "outputs": [
    {
     "data": {
      "text/plain": [
       "4603617996239.164"
      ]
     },
     "execution_count": 91,
     "metadata": {},
     "output_type": "execute_result"
    }
   ],
   "source": [
    "mse = mean_squared_error(y_test, y_pred)\n",
    "mse"
   ]
  },
  {
   "cell_type": "code",
   "execution_count": 92,
   "id": "b6ee0a09",
   "metadata": {},
   "outputs": [
    {
     "data": {
      "text/plain": [
       "2145604.3428925015"
      ]
     },
     "execution_count": 92,
     "metadata": {},
     "output_type": "execute_result"
    }
   ],
   "source": [
    "rmse = mean_squared_error(y_test, y_pred, squared=False)\n",
    "rmse"
   ]
  }
 ],
 "metadata": {
  "kernelspec": {
   "display_name": "Python 3 (ipykernel)",
   "language": "python",
   "name": "python3"
  },
  "language_info": {
   "codemirror_mode": {
    "name": "ipython",
    "version": 3
   },
   "file_extension": ".py",
   "mimetype": "text/x-python",
   "name": "python",
   "nbconvert_exporter": "python",
   "pygments_lexer": "ipython3",
   "version": "3.9.12"
  }
 },
 "nbformat": 4,
 "nbformat_minor": 5
}
