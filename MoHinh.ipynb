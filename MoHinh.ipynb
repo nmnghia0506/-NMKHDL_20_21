{
 "cells": [
  {
   "cell_type": "markdown",
   "id": "ac3e8fcd",
   "metadata": {},
   "source": [
    "# <h2><b> Đồ án thực hành </b></h2>\n",
    "<h1 style='color:red;text-align:center;font-size:35px'><b>Chủ đề: Dự đoán giá rượu vang</b></h1>"
   ]
  },
  {
   "cell_type": "markdown",
   "id": "7c0d5b36",
   "metadata": {},
   "source": [
    "# <h1 style='color:blue;text-align:center;font-size:30px'><b>Phần II</b></h1>"
   ]
  },
  {
   "cell_type": "markdown",
   "id": "469fd4ad",
   "metadata": {},
   "source": [
    "# <h3>Các thành viên trong nhóm</h3>\n",
    "<li> Phan Xuân Hoài - 20120481 </li>\n",
    "<li> Lê Kinh Luân - 1612355 </li>\n",
    "<li> Nguyễn Minh Nghĩa - 20120534</li>\n",
    "<li> Phạm Quốc Hưng - 19120522</li>"
   ]
  },
  {
   "cell_type": "markdown",
   "id": "47a5cd2e",
   "metadata": {},
   "source": [
    "### Import những thư viện cần thiết"
   ]
  },
  {
   "cell_type": "code",
   "execution_count": 1,
   "id": "d97b7426",
   "metadata": {},
   "outputs": [],
   "source": [
    "%matplotlib inline\n",
    "import matplotlib.pyplot as plt\n",
    "import numpy as np\n",
    "import pandas as pd \n",
    "import seaborn as sns\n",
    "sns.set_theme()\n",
    "\n",
    "import os\n",
    "import re\n",
    "import statistics\n",
    "sns.set(rc={'axes.facecolor':'lightblue', 'figure.facecolor':'lightgray'})"
   ]
  },
  {
   "cell_type": "code",
   "execution_count": 2,
   "id": "76b7cc70",
   "metadata": {},
   "outputs": [
    {
     "data": {
      "text/plain": [
       "'d:\\\\Python\\\\python.exe'"
      ]
     },
     "execution_count": 2,
     "metadata": {},
     "output_type": "execute_result"
    }
   ],
   "source": [
    "import sys\n",
    "sys.executable"
   ]
  },
  {
   "cell_type": "code",
   "execution_count": 3,
   "id": "8216f52e",
   "metadata": {},
   "outputs": [
    {
     "name": "stdout",
     "output_type": "stream",
     "text": [
      "c:\\Users\\PC\\Desktop\\Into Data Science\\Seminar\\-NMKHDL_20_21\\champagne\\champagne\n"
     ]
    }
   ],
   "source": [
    "cd champagne/champagne"
   ]
  },
  {
   "cell_type": "markdown",
   "id": "d935160c",
   "metadata": {},
   "source": [
    "### Đọc file 'champagnes_info_cleaned.csv' vào dataframe df"
   ]
  },
  {
   "cell_type": "code",
   "execution_count": 4,
   "id": "a0c9abfc",
   "metadata": {
    "scrolled": true
   },
   "outputs": [
    {
     "data": {
      "text/html": [
       "<div>\n",
       "<style scoped>\n",
       "    .dataframe tbody tr th:only-of-type {\n",
       "        vertical-align: middle;\n",
       "    }\n",
       "\n",
       "    .dataframe tbody tr th {\n",
       "        vertical-align: top;\n",
       "    }\n",
       "\n",
       "    .dataframe thead th {\n",
       "        text-align: right;\n",
       "    }\n",
       "</style>\n",
       "<table border=\"1\" class=\"dataframe\">\n",
       "  <thead>\n",
       "    <tr style=\"text-align: right;\">\n",
       "      <th></th>\n",
       "      <th>Ma_sp</th>\n",
       "      <th>Ten_sp</th>\n",
       "      <th>Gia</th>\n",
       "      <th>Xuat_xu</th>\n",
       "      <th>Nong_do</th>\n",
       "      <th>Dung_tich</th>\n",
       "      <th>Giong_nho</th>\n",
       "      <th>Mau_sac</th>\n",
       "      <th>Loai_ruou</th>\n",
       "      <th>Thuong_hieu</th>\n",
       "      <th>Vung_lam_vang</th>\n",
       "    </tr>\n",
       "  </thead>\n",
       "  <tbody>\n",
       "    <tr>\n",
       "      <th>0</th>\n",
       "      <td>VNPV-3958</td>\n",
       "      <td>Rượu Champagne Bottega Stardust Prosecco</td>\n",
       "      <td>3563000.0</td>\n",
       "      <td>Ý</td>\n",
       "      <td>11.0</td>\n",
       "      <td>750.0</td>\n",
       "      <td>Glera</td>\n",
       "      <td>vàng rơm nhạt</td>\n",
       "      <td>Rượu Champagne</td>\n",
       "      <td>Bottega</td>\n",
       "      <td>Veneto</td>\n",
       "    </tr>\n",
       "    <tr>\n",
       "      <th>1</th>\n",
       "      <td>VNPV-9463</td>\n",
       "      <td>Rượu Champagne Carbon F1</td>\n",
       "      <td>8517000.0</td>\n",
       "      <td>Pháp</td>\n",
       "      <td>12.0</td>\n",
       "      <td>750.0</td>\n",
       "      <td>Chardonnay,Pinot meunier,Pinot Noir</td>\n",
       "      <td>trắng</td>\n",
       "      <td>Rượu Champagne</td>\n",
       "      <td>Delamotte</td>\n",
       "      <td>Champagne</td>\n",
       "    </tr>\n",
       "    <tr>\n",
       "      <th>2</th>\n",
       "      <td>VNPV1-1823</td>\n",
       "      <td>Rượu Champagne Charles Mignon Premium Reserve</td>\n",
       "      <td>1641000.0</td>\n",
       "      <td>Pháp</td>\n",
       "      <td>13.5</td>\n",
       "      <td>750.0</td>\n",
       "      <td>Chardonnay,Pinot meunier,Pinot Noir</td>\n",
       "      <td>vàng</td>\n",
       "      <td>Rượu Champagne</td>\n",
       "      <td>Charles Mignon</td>\n",
       "      <td>Champagne</td>\n",
       "    </tr>\n",
       "    <tr>\n",
       "      <th>3</th>\n",
       "      <td>VNPV-836</td>\n",
       "      <td>Rượu Champagne De Castellane Brut</td>\n",
       "      <td>753000.0</td>\n",
       "      <td>Pháp</td>\n",
       "      <td>11.0</td>\n",
       "      <td>375.0</td>\n",
       "      <td>Chardonnay</td>\n",
       "      <td>xanh nhạt</td>\n",
       "      <td>Rượu Champagne</td>\n",
       "      <td>De Castellane</td>\n",
       "      <td>Champagne</td>\n",
       "    </tr>\n",
       "    <tr>\n",
       "      <th>4</th>\n",
       "      <td>VNPV-4233</td>\n",
       "      <td>Rượu Champagne Delamotte Blanc De Blancs</td>\n",
       "      <td>3810000.0</td>\n",
       "      <td>Pháp</td>\n",
       "      <td>12.5</td>\n",
       "      <td>750.0</td>\n",
       "      <td>Chardonnay</td>\n",
       "      <td>trắng trong</td>\n",
       "      <td>Rượu Champagne</td>\n",
       "      <td>Delamotte</td>\n",
       "      <td>Champagne</td>\n",
       "    </tr>\n",
       "    <tr>\n",
       "      <th>5</th>\n",
       "      <td>VNPV-1956</td>\n",
       "      <td>Rượu Champagne Delamotte Brut</td>\n",
       "      <td>1761000.0</td>\n",
       "      <td>Pháp</td>\n",
       "      <td>12.0</td>\n",
       "      <td>750.0</td>\n",
       "      <td>Chardonnay</td>\n",
       "      <td>vàng</td>\n",
       "      <td>Rượu Champagne</td>\n",
       "      <td>Delamotte</td>\n",
       "      <td>Champagne</td>\n",
       "    </tr>\n",
       "    <tr>\n",
       "      <th>6</th>\n",
       "      <td>VNPV-3667</td>\n",
       "      <td>Rượu Champagne Delamotte Rose</td>\n",
       "      <td>2956000.0</td>\n",
       "      <td>Pháp</td>\n",
       "      <td>12.0</td>\n",
       "      <td>750.0</td>\n",
       "      <td>Chardonnay,Pinot Noir,Pinot Meunier</td>\n",
       "      <td>hồng</td>\n",
       "      <td>Rượu Champagne</td>\n",
       "      <td>Delamotte</td>\n",
       "      <td>Champagne</td>\n",
       "    </tr>\n",
       "    <tr>\n",
       "      <th>7</th>\n",
       "      <td>VNPV-1976</td>\n",
       "      <td>Rượu Champagne Duval Leroy Thierry Drapeau</td>\n",
       "      <td>1779000.0</td>\n",
       "      <td>Pháp</td>\n",
       "      <td>12.5</td>\n",
       "      <td>750.0</td>\n",
       "      <td>Chardonnay</td>\n",
       "      <td>vàng</td>\n",
       "      <td>Rượu Champagne</td>\n",
       "      <td>Champagne Duval Leroy</td>\n",
       "      <td>Champagne</td>\n",
       "    </tr>\n",
       "    <tr>\n",
       "      <th>8</th>\n",
       "      <td>VNTK3-480</td>\n",
       "      <td>Rượu Champagne JP Chenet Brut Blanc</td>\n",
       "      <td>480000.0</td>\n",
       "      <td>Pháp</td>\n",
       "      <td>13.0</td>\n",
       "      <td>750.0</td>\n",
       "      <td>Chardonnay</td>\n",
       "      <td>đỏ đậm</td>\n",
       "      <td>Rượu Vang Nổ</td>\n",
       "      <td>JP Chenet</td>\n",
       "      <td>Pays d’Oc</td>\n",
       "    </tr>\n",
       "    <tr>\n",
       "      <th>9</th>\n",
       "      <td>VNBMF-744</td>\n",
       "      <td>Rượu Champagne JP Chenet Divine Chardonnay</td>\n",
       "      <td>750000.0</td>\n",
       "      <td>Pháp</td>\n",
       "      <td>12.5</td>\n",
       "      <td>750.0</td>\n",
       "      <td>Chardonnay</td>\n",
       "      <td>vàng rơm</td>\n",
       "      <td>Rượu Vang Nổ</td>\n",
       "      <td>JP Chenet</td>\n",
       "      <td>Pays d’Oc</td>\n",
       "    </tr>\n",
       "  </tbody>\n",
       "</table>\n",
       "</div>"
      ],
      "text/plain": [
       "        Ma_sp                                         Ten_sp        Gia  \\\n",
       "0   VNPV-3958       Rượu Champagne Bottega Stardust Prosecco  3563000.0   \n",
       "1   VNPV-9463                       Rượu Champagne Carbon F1  8517000.0   \n",
       "2  VNPV1-1823  Rượu Champagne Charles Mignon Premium Reserve  1641000.0   \n",
       "3    VNPV-836              Rượu Champagne De Castellane Brut   753000.0   \n",
       "4   VNPV-4233       Rượu Champagne Delamotte Blanc De Blancs  3810000.0   \n",
       "5   VNPV-1956                  Rượu Champagne Delamotte Brut  1761000.0   \n",
       "6   VNPV-3667                  Rượu Champagne Delamotte Rose  2956000.0   \n",
       "7   VNPV-1976     Rượu Champagne Duval Leroy Thierry Drapeau  1779000.0   \n",
       "8   VNTK3-480            Rượu Champagne JP Chenet Brut Blanc   480000.0   \n",
       "9   VNBMF-744     Rượu Champagne JP Chenet Divine Chardonnay   750000.0   \n",
       "\n",
       "  Xuat_xu  Nong_do  Dung_tich                            Giong_nho  \\\n",
       "0       Ý     11.0      750.0                                Glera   \n",
       "1    Pháp     12.0      750.0  Chardonnay,Pinot meunier,Pinot Noir   \n",
       "2    Pháp     13.5      750.0  Chardonnay,Pinot meunier,Pinot Noir   \n",
       "3    Pháp     11.0      375.0                           Chardonnay   \n",
       "4    Pháp     12.5      750.0                           Chardonnay   \n",
       "5    Pháp     12.0      750.0                           Chardonnay   \n",
       "6    Pháp     12.0      750.0  Chardonnay,Pinot Noir,Pinot Meunier   \n",
       "7    Pháp     12.5      750.0                           Chardonnay   \n",
       "8    Pháp     13.0      750.0                           Chardonnay   \n",
       "9    Pháp     12.5      750.0                           Chardonnay   \n",
       "\n",
       "         Mau_sac       Loai_ruou            Thuong_hieu Vung_lam_vang  \n",
       "0  vàng rơm nhạt  Rượu Champagne                Bottega        Veneto  \n",
       "1          trắng  Rượu Champagne              Delamotte     Champagne  \n",
       "2           vàng  Rượu Champagne         Charles Mignon     Champagne  \n",
       "3      xanh nhạt  Rượu Champagne          De Castellane     Champagne  \n",
       "4    trắng trong  Rượu Champagne              Delamotte     Champagne  \n",
       "5           vàng  Rượu Champagne              Delamotte     Champagne  \n",
       "6           hồng  Rượu Champagne              Delamotte     Champagne  \n",
       "7           vàng  Rượu Champagne  Champagne Duval Leroy     Champagne  \n",
       "8        đỏ đậm  Rượu Vang Nổ              JP Chenet     Pays d’Oc  \n",
       "9       vàng rơm  Rượu Vang Nổ              JP Chenet     Pays d’Oc  "
      ]
     },
     "execution_count": 4,
     "metadata": {},
     "output_type": "execute_result"
    }
   ],
   "source": [
    "df = pd.read_csv('./dataset/champagne_info_cleaned.csv', index_col=0)\n",
    "df.head(10)"
   ]
  },
  {
   "cell_type": "markdown",
   "id": "dee2eb8a",
   "metadata": {},
   "source": [
    "<h2 style='color:#45ccb1d4;text-align:center;font-size:25px'><b>A. Mô hình hóa dữ liệu</b></h2> "
   ]
  },
  {
   "cell_type": "markdown",
   "id": "b0c3805a",
   "metadata": {},
   "source": [
    "### Import thư viện"
   ]
  },
  {
   "cell_type": "code",
   "execution_count": 5,
   "id": "0a60a4d3",
   "metadata": {},
   "outputs": [],
   "source": [
    "from sklearn.model_selection import train_test_split\n",
    "from sklearn.preprocessing import MultiLabelBinarizer\n",
    "from sklearn.preprocessing import OneHotEncoder\n",
    "from sklearn.linear_model import LinearRegression\n",
    "from sklearn.tree import DecisionTreeRegressor\n",
    "from sklearn.ensemble import RandomForestRegressor\n",
    "from sklearn.metrics import mean_squared_error"
   ]
  },
  {
   "cell_type": "markdown",
   "id": "8e552272",
   "metadata": {},
   "source": [
    "### Lựa chọn các đặc trưng để mô hình"
   ]
  },
  {
   "attachments": {},
   "cell_type": "markdown",
   "id": "56d849df",
   "metadata": {},
   "source": [
    "Ta sẽ cần chọn lọc ra các đặc trưng có thể ảnh hưởng đến giá của một chai rượu, từ đó dùng các đặc trưng này để huấn luyện cho mô hình dự đoán giá rượu.  \n",
    "Các đặc trưng có khả năng tác động đến giá của một chai rượu bao gồm:\n",
    "* **Xuất xứ**\n",
    "* **Nồng độ**\n",
    "* **Dung tích**\n",
    "* **Giống nho**\n",
    "* **Màu sắc**\n",
    "* **Loại rượu**\n",
    "* **Thương hiệu**\n",
    "* **Vùng làm rượu**"
   ]
  },
  {
   "cell_type": "markdown",
   "id": "b7219e4b",
   "metadata": {},
   "source": [
    "### Tiền xử lý trước khi chạy mô hình"
   ]
  },
  {
   "cell_type": "code",
   "execution_count": 6,
   "id": "679a15e2",
   "metadata": {},
   "outputs": [],
   "source": [
    "def strip_list_string(ls):\n",
    "    new_ls = []\n",
    "    for s in ls:\n",
    "        if type(s) != float and len(s) > 1:\n",
    "            new_ls.append(s.strip())\n",
    "    return new_ls"
   ]
  },
  {
   "cell_type": "code",
   "execution_count": 7,
   "id": "7a28afef",
   "metadata": {
    "scrolled": true
   },
   "outputs": [
    {
     "data": {
      "text/plain": [
       "0                                       [Glera]\n",
       "1       [Chardonnay, Pinot meunier, Pinot Noir]\n",
       "2       [Chardonnay, Pinot meunier, Pinot Noir]\n",
       "3                                  [Chardonnay]\n",
       "4                                  [Chardonnay]\n",
       "                         ...                   \n",
       "3929                               [Sangiovese]\n",
       "3930                       [Cabernet Sauvignon]\n",
       "3931                       [Cabernet Sauvignon]\n",
       "3932                                   [Shiraz]\n",
       "3933                                  [Moscato]\n",
       "Name: Giong_nho, Length: 3933, dtype: object"
      ]
     },
     "execution_count": 7,
     "metadata": {},
     "output_type": "execute_result"
    }
   ],
   "source": [
    "df['Giong_nho'] = df['Giong_nho'].str.split(',')\n",
    "df['Giong_nho'] = df['Giong_nho'].apply(strip_list_string)\n",
    "df['Giong_nho']"
   ]
  },
  {
   "cell_type": "code",
   "execution_count": 8,
   "id": "db09144d",
   "metadata": {},
   "outputs": [
    {
     "data": {
      "text/plain": [
       "Cabernet Sauvignon       969\n",
       "Merlot                   797\n",
       "Chardonnay               463\n",
       "Cabernet Franc           397\n",
       "Syrah                    352\n",
       "                        ... \n",
       "Piedirosso                 1\n",
       "Teroldego                  1\n",
       "Coda di Volpe Biancha      1\n",
       "Malvasia nera              1\n",
       "Nerello Mascalese          1\n",
       "Name: Giong_nho, Length: 303, dtype: int64"
      ]
     },
     "execution_count": 8,
     "metadata": {},
     "output_type": "execute_result"
    }
   ],
   "source": [
    "df['Giong_nho'].explode().value_counts()"
   ]
  },
  {
   "cell_type": "code",
   "execution_count": 9,
   "id": "16badaaa",
   "metadata": {},
   "outputs": [
    {
     "data": {
      "text/plain": [
       "1242    Ấn tượng đặc biệt có trong chai Rượu Vang Doma...\n",
       "Name: Giong_nho, dtype: object"
      ]
     },
     "execution_count": 9,
     "metadata": {},
     "output_type": "execute_result"
    }
   ],
   "source": [
    "giong_nho = df['Giong_nho'].explode()\n",
    "giong_nho[giong_nho.apply(lambda x : len(x) >= 100)]"
   ]
  },
  {
   "attachments": {},
   "cell_type": "markdown",
   "id": "25be4fa6",
   "metadata": {},
   "source": [
    "Có một dòng ở cột Giong_nho chứa nội dung rất dài, có thể là do gặp lỗi nhỏ trong quá trình thu nhập dữ liệu. Ta sẽ xác định index của dòng này và nó đó đi."
   ]
  },
  {
   "cell_type": "code",
   "execution_count": 10,
   "id": "15bd509a",
   "metadata": {},
   "outputs": [],
   "source": [
    "long_giong_nho = df['Giong_nho'].apply(lambda x : any(len(i) >= 100 for i in x))\n",
    "idx = long_giong_nho[long_giong_nho == True].index\n",
    "df = df.drop(index = idx)"
   ]
  },
  {
   "attachments": {},
   "cell_type": "markdown",
   "id": "3cdf3c71",
   "metadata": {},
   "source": [
    "## Chuyển đổi các cột phân loại về dạng số"
   ]
  },
  {
   "attachments": {},
   "cell_type": "markdown",
   "id": "13c854b2",
   "metadata": {},
   "source": [
    "Bởi vì các mô hình máy học không thể tự huấn luyện được khi các đặc trưng đầu vào thuộc dạng phân loại. Thế nên ta cần phải chuyển các cột này về dạng số. Phương pháp chuyển đổi sử dụng ở đây sẽ là OneHotEncoding, lý do là vì các đặc trưng ta dùng để huấn luyện không phải là dữ liệu phân loại có thứ tự"
   ]
  },
  {
   "attachments": {},
   "cell_type": "markdown",
   "id": "31331ce3",
   "metadata": {},
   "source": [
    "Do dữ liệu ở cột giống nho là một dạng danh sách các giống nho có trong rượu, ta sẽ dùng đến MultiLabelBinarizer để chuyển đổi."
   ]
  },
  {
   "cell_type": "code",
   "execution_count": 11,
   "id": "bbd27f3d",
   "metadata": {},
   "outputs": [],
   "source": [
    "mlb = MultiLabelBinarizer(sparse_output=True)\n",
    "giong_nho_encoded = mlb.fit_transform(df['Giong_nho'])\n",
    "df_encoded = pd.DataFrame.sparse.from_spmatrix(giong_nho_encoded,index=df.index, columns=mlb.classes_)"
   ]
  },
  {
   "attachments": {},
   "cell_type": "markdown",
   "id": "d59729ef",
   "metadata": {},
   "source": [
    "Lấy ra tên các đặc trưng còn lại"
   ]
  },
  {
   "cell_type": "code",
   "execution_count": 12,
   "id": "1dafe750",
   "metadata": {},
   "outputs": [],
   "source": [
    "column_name = [ 'Xuat_xu','Mau_sac', 'Loai_ruou', 'Thuong_hieu', 'Vung_lam_vang']"
   ]
  },
  {
   "attachments": {},
   "cell_type": "markdown",
   "id": "44980545",
   "metadata": {},
   "source": [
    "Chuyển đổi các cột đặc trưng về dạng số bằng kĩ thuật OneHotEncoding"
   ]
  },
  {
   "cell_type": "code",
   "execution_count": 13,
   "id": "7cb457a3",
   "metadata": {},
   "outputs": [
    {
     "name": "stderr",
     "output_type": "stream",
     "text": [
      "d:\\Python\\lib\\site-packages\\sklearn\\preprocessing\\_encoders.py:808: FutureWarning: `sparse` was renamed to `sparse_output` in version 1.2 and will be removed in 1.4. `sparse_output` is ignored unless you leave `sparse` to its default value.\n",
      "  warnings.warn(\n"
     ]
    }
   ],
   "source": [
    "encoder = OneHotEncoder(sparse = False, handle_unknown = 'ignore')\n",
    "other_categorite_encoded = encoder.fit_transform(df[column_name])\n",
    "columns_encoded = encoder.get_feature_names_out(column_name)\n",
    "df_encoded = df_encoded.join(pd.DataFrame(other_categorite_encoded,index=df.index, columns=columns_encoded))\n",
    "df_encoded = df_encoded.join(df[[ 'Nong_do', 'Dung_tich','Gia']])"
   ]
  },
  {
   "cell_type": "code",
   "execution_count": 14,
   "id": "ed121d04",
   "metadata": {},
   "outputs": [
    {
     "data": {
      "text/html": [
       "<div>\n",
       "<style scoped>\n",
       "    .dataframe tbody tr th:only-of-type {\n",
       "        vertical-align: middle;\n",
       "    }\n",
       "\n",
       "    .dataframe tbody tr th {\n",
       "        vertical-align: top;\n",
       "    }\n",
       "\n",
       "    .dataframe thead th {\n",
       "        text-align: right;\n",
       "    }\n",
       "</style>\n",
       "<table border=\"1\" class=\"dataframe\">\n",
       "  <thead>\n",
       "    <tr style=\"text-align: right;\">\n",
       "      <th></th>\n",
       "      <th>10 % Hárslevlű</th>\n",
       "      <th>100 % Touriga Nacional</th>\n",
       "      <th>100% Nho Tinta De Toro</th>\n",
       "      <th>100% Verdeca</th>\n",
       "      <th>100% Viura</th>\n",
       "      <th>90 % Furmint</th>\n",
       "      <th>Aglianico</th>\n",
       "      <th>Airen</th>\n",
       "      <th>Albana</th>\n",
       "      <th>Albarino</th>\n",
       "      <th>...</th>\n",
       "      <th>Vung_lam_vang_Vins De Pays</th>\n",
       "      <th>Vung_lam_vang_Weingut Hermann Donnhoff</th>\n",
       "      <th>Vung_lam_vang_Western Cape</th>\n",
       "      <th>Vung_lam_vang_Yarra Valley</th>\n",
       "      <th>Vung_lam_vang_Yecla</th>\n",
       "      <th>Vung_lam_vang_d’Asti</th>\n",
       "      <th>Vung_lam_vang_Đảo Sardinia – Italia</th>\n",
       "      <th>Nong_do</th>\n",
       "      <th>Dung_tich</th>\n",
       "      <th>Gia</th>\n",
       "    </tr>\n",
       "  </thead>\n",
       "  <tbody>\n",
       "    <tr>\n",
       "      <th>0</th>\n",
       "      <td>0</td>\n",
       "      <td>0</td>\n",
       "      <td>0</td>\n",
       "      <td>0</td>\n",
       "      <td>0</td>\n",
       "      <td>0</td>\n",
       "      <td>0</td>\n",
       "      <td>0</td>\n",
       "      <td>0</td>\n",
       "      <td>0</td>\n",
       "      <td>...</td>\n",
       "      <td>0.0</td>\n",
       "      <td>0.0</td>\n",
       "      <td>0.0</td>\n",
       "      <td>0.0</td>\n",
       "      <td>0.0</td>\n",
       "      <td>0.0</td>\n",
       "      <td>0.0</td>\n",
       "      <td>11.0</td>\n",
       "      <td>750.0</td>\n",
       "      <td>3563000.0</td>\n",
       "    </tr>\n",
       "    <tr>\n",
       "      <th>1</th>\n",
       "      <td>0</td>\n",
       "      <td>0</td>\n",
       "      <td>0</td>\n",
       "      <td>0</td>\n",
       "      <td>0</td>\n",
       "      <td>0</td>\n",
       "      <td>0</td>\n",
       "      <td>0</td>\n",
       "      <td>0</td>\n",
       "      <td>0</td>\n",
       "      <td>...</td>\n",
       "      <td>0.0</td>\n",
       "      <td>0.0</td>\n",
       "      <td>0.0</td>\n",
       "      <td>0.0</td>\n",
       "      <td>0.0</td>\n",
       "      <td>0.0</td>\n",
       "      <td>0.0</td>\n",
       "      <td>12.0</td>\n",
       "      <td>750.0</td>\n",
       "      <td>8517000.0</td>\n",
       "    </tr>\n",
       "    <tr>\n",
       "      <th>2</th>\n",
       "      <td>0</td>\n",
       "      <td>0</td>\n",
       "      <td>0</td>\n",
       "      <td>0</td>\n",
       "      <td>0</td>\n",
       "      <td>0</td>\n",
       "      <td>0</td>\n",
       "      <td>0</td>\n",
       "      <td>0</td>\n",
       "      <td>0</td>\n",
       "      <td>...</td>\n",
       "      <td>0.0</td>\n",
       "      <td>0.0</td>\n",
       "      <td>0.0</td>\n",
       "      <td>0.0</td>\n",
       "      <td>0.0</td>\n",
       "      <td>0.0</td>\n",
       "      <td>0.0</td>\n",
       "      <td>13.5</td>\n",
       "      <td>750.0</td>\n",
       "      <td>1641000.0</td>\n",
       "    </tr>\n",
       "    <tr>\n",
       "      <th>3</th>\n",
       "      <td>0</td>\n",
       "      <td>0</td>\n",
       "      <td>0</td>\n",
       "      <td>0</td>\n",
       "      <td>0</td>\n",
       "      <td>0</td>\n",
       "      <td>0</td>\n",
       "      <td>0</td>\n",
       "      <td>0</td>\n",
       "      <td>0</td>\n",
       "      <td>...</td>\n",
       "      <td>0.0</td>\n",
       "      <td>0.0</td>\n",
       "      <td>0.0</td>\n",
       "      <td>0.0</td>\n",
       "      <td>0.0</td>\n",
       "      <td>0.0</td>\n",
       "      <td>0.0</td>\n",
       "      <td>11.0</td>\n",
       "      <td>375.0</td>\n",
       "      <td>753000.0</td>\n",
       "    </tr>\n",
       "    <tr>\n",
       "      <th>4</th>\n",
       "      <td>0</td>\n",
       "      <td>0</td>\n",
       "      <td>0</td>\n",
       "      <td>0</td>\n",
       "      <td>0</td>\n",
       "      <td>0</td>\n",
       "      <td>0</td>\n",
       "      <td>0</td>\n",
       "      <td>0</td>\n",
       "      <td>0</td>\n",
       "      <td>...</td>\n",
       "      <td>0.0</td>\n",
       "      <td>0.0</td>\n",
       "      <td>0.0</td>\n",
       "      <td>0.0</td>\n",
       "      <td>0.0</td>\n",
       "      <td>0.0</td>\n",
       "      <td>0.0</td>\n",
       "      <td>12.5</td>\n",
       "      <td>750.0</td>\n",
       "      <td>3810000.0</td>\n",
       "    </tr>\n",
       "    <tr>\n",
       "      <th>...</th>\n",
       "      <td>...</td>\n",
       "      <td>...</td>\n",
       "      <td>...</td>\n",
       "      <td>...</td>\n",
       "      <td>...</td>\n",
       "      <td>...</td>\n",
       "      <td>...</td>\n",
       "      <td>...</td>\n",
       "      <td>...</td>\n",
       "      <td>...</td>\n",
       "      <td>...</td>\n",
       "      <td>...</td>\n",
       "      <td>...</td>\n",
       "      <td>...</td>\n",
       "      <td>...</td>\n",
       "      <td>...</td>\n",
       "      <td>...</td>\n",
       "      <td>...</td>\n",
       "      <td>...</td>\n",
       "      <td>...</td>\n",
       "      <td>...</td>\n",
       "    </tr>\n",
       "    <tr>\n",
       "      <th>3929</th>\n",
       "      <td>0</td>\n",
       "      <td>0</td>\n",
       "      <td>0</td>\n",
       "      <td>0</td>\n",
       "      <td>0</td>\n",
       "      <td>0</td>\n",
       "      <td>0</td>\n",
       "      <td>0</td>\n",
       "      <td>0</td>\n",
       "      <td>0</td>\n",
       "      <td>...</td>\n",
       "      <td>0.0</td>\n",
       "      <td>0.0</td>\n",
       "      <td>0.0</td>\n",
       "      <td>0.0</td>\n",
       "      <td>0.0</td>\n",
       "      <td>0.0</td>\n",
       "      <td>0.0</td>\n",
       "      <td>12.0</td>\n",
       "      <td>750.0</td>\n",
       "      <td>415000.0</td>\n",
       "    </tr>\n",
       "    <tr>\n",
       "      <th>3930</th>\n",
       "      <td>0</td>\n",
       "      <td>0</td>\n",
       "      <td>0</td>\n",
       "      <td>0</td>\n",
       "      <td>0</td>\n",
       "      <td>0</td>\n",
       "      <td>0</td>\n",
       "      <td>0</td>\n",
       "      <td>0</td>\n",
       "      <td>0</td>\n",
       "      <td>...</td>\n",
       "      <td>0.0</td>\n",
       "      <td>0.0</td>\n",
       "      <td>0.0</td>\n",
       "      <td>0.0</td>\n",
       "      <td>0.0</td>\n",
       "      <td>0.0</td>\n",
       "      <td>0.0</td>\n",
       "      <td>14.0</td>\n",
       "      <td>750.0</td>\n",
       "      <td>1975000.0</td>\n",
       "    </tr>\n",
       "    <tr>\n",
       "      <th>3931</th>\n",
       "      <td>0</td>\n",
       "      <td>0</td>\n",
       "      <td>0</td>\n",
       "      <td>0</td>\n",
       "      <td>0</td>\n",
       "      <td>0</td>\n",
       "      <td>0</td>\n",
       "      <td>0</td>\n",
       "      <td>0</td>\n",
       "      <td>0</td>\n",
       "      <td>...</td>\n",
       "      <td>0.0</td>\n",
       "      <td>0.0</td>\n",
       "      <td>0.0</td>\n",
       "      <td>0.0</td>\n",
       "      <td>0.0</td>\n",
       "      <td>0.0</td>\n",
       "      <td>0.0</td>\n",
       "      <td>13.5</td>\n",
       "      <td>750.0</td>\n",
       "      <td>330000.0</td>\n",
       "    </tr>\n",
       "    <tr>\n",
       "      <th>3932</th>\n",
       "      <td>0</td>\n",
       "      <td>0</td>\n",
       "      <td>0</td>\n",
       "      <td>0</td>\n",
       "      <td>0</td>\n",
       "      <td>0</td>\n",
       "      <td>0</td>\n",
       "      <td>0</td>\n",
       "      <td>0</td>\n",
       "      <td>0</td>\n",
       "      <td>...</td>\n",
       "      <td>0.0</td>\n",
       "      <td>0.0</td>\n",
       "      <td>0.0</td>\n",
       "      <td>0.0</td>\n",
       "      <td>0.0</td>\n",
       "      <td>0.0</td>\n",
       "      <td>0.0</td>\n",
       "      <td>13.5</td>\n",
       "      <td>750.0</td>\n",
       "      <td>660000.0</td>\n",
       "    </tr>\n",
       "    <tr>\n",
       "      <th>3933</th>\n",
       "      <td>0</td>\n",
       "      <td>0</td>\n",
       "      <td>0</td>\n",
       "      <td>0</td>\n",
       "      <td>0</td>\n",
       "      <td>0</td>\n",
       "      <td>0</td>\n",
       "      <td>0</td>\n",
       "      <td>0</td>\n",
       "      <td>0</td>\n",
       "      <td>...</td>\n",
       "      <td>0.0</td>\n",
       "      <td>0.0</td>\n",
       "      <td>0.0</td>\n",
       "      <td>0.0</td>\n",
       "      <td>0.0</td>\n",
       "      <td>0.0</td>\n",
       "      <td>0.0</td>\n",
       "      <td>12.5</td>\n",
       "      <td>750.0</td>\n",
       "      <td>575000.0</td>\n",
       "    </tr>\n",
       "  </tbody>\n",
       "</table>\n",
       "<p>3932 rows × 2222 columns</p>\n",
       "</div>"
      ],
      "text/plain": [
       "      10 % Hárslevlű  100 % Touriga Nacional  100% Nho Tinta De Toro  \\\n",
       "0                  0                       0                       0   \n",
       "1                  0                       0                       0   \n",
       "2                  0                       0                       0   \n",
       "3                  0                       0                       0   \n",
       "4                  0                       0                       0   \n",
       "...              ...                     ...                     ...   \n",
       "3929               0                       0                       0   \n",
       "3930               0                       0                       0   \n",
       "3931               0                       0                       0   \n",
       "3932               0                       0                       0   \n",
       "3933               0                       0                       0   \n",
       "\n",
       "      100% Verdeca  100% Viura  90 % Furmint  Aglianico  Airen  Albana  \\\n",
       "0                0           0             0          0      0       0   \n",
       "1                0           0             0          0      0       0   \n",
       "2                0           0             0          0      0       0   \n",
       "3                0           0             0          0      0       0   \n",
       "4                0           0             0          0      0       0   \n",
       "...            ...         ...           ...        ...    ...     ...   \n",
       "3929             0           0             0          0      0       0   \n",
       "3930             0           0             0          0      0       0   \n",
       "3931             0           0             0          0      0       0   \n",
       "3932             0           0             0          0      0       0   \n",
       "3933             0           0             0          0      0       0   \n",
       "\n",
       "      Albarino  ...  Vung_lam_vang_Vins De Pays  \\\n",
       "0            0  ...                         0.0   \n",
       "1            0  ...                         0.0   \n",
       "2            0  ...                         0.0   \n",
       "3            0  ...                         0.0   \n",
       "4            0  ...                         0.0   \n",
       "...        ...  ...                         ...   \n",
       "3929         0  ...                         0.0   \n",
       "3930         0  ...                         0.0   \n",
       "3931         0  ...                         0.0   \n",
       "3932         0  ...                         0.0   \n",
       "3933         0  ...                         0.0   \n",
       "\n",
       "      Vung_lam_vang_Weingut Hermann Donnhoff  Vung_lam_vang_Western Cape  \\\n",
       "0                                        0.0                         0.0   \n",
       "1                                        0.0                         0.0   \n",
       "2                                        0.0                         0.0   \n",
       "3                                        0.0                         0.0   \n",
       "4                                        0.0                         0.0   \n",
       "...                                      ...                         ...   \n",
       "3929                                     0.0                         0.0   \n",
       "3930                                     0.0                         0.0   \n",
       "3931                                     0.0                         0.0   \n",
       "3932                                     0.0                         0.0   \n",
       "3933                                     0.0                         0.0   \n",
       "\n",
       "      Vung_lam_vang_Yarra Valley  Vung_lam_vang_Yecla  Vung_lam_vang_d’Asti  \\\n",
       "0                            0.0                  0.0                   0.0   \n",
       "1                            0.0                  0.0                   0.0   \n",
       "2                            0.0                  0.0                   0.0   \n",
       "3                            0.0                  0.0                   0.0   \n",
       "4                            0.0                  0.0                   0.0   \n",
       "...                          ...                  ...                   ...   \n",
       "3929                         0.0                  0.0                   0.0   \n",
       "3930                         0.0                  0.0                   0.0   \n",
       "3931                         0.0                  0.0                   0.0   \n",
       "3932                         0.0                  0.0                   0.0   \n",
       "3933                         0.0                  0.0                   0.0   \n",
       "\n",
       "      Vung_lam_vang_Đảo Sardinia – Italia  Nong_do  Dung_tich        Gia  \n",
       "0                                     0.0     11.0      750.0  3563000.0  \n",
       "1                                     0.0     12.0      750.0  8517000.0  \n",
       "2                                     0.0     13.5      750.0  1641000.0  \n",
       "3                                     0.0     11.0      375.0   753000.0  \n",
       "4                                     0.0     12.5      750.0  3810000.0  \n",
       "...                                   ...      ...        ...        ...  \n",
       "3929                                  0.0     12.0      750.0   415000.0  \n",
       "3930                                  0.0     14.0      750.0  1975000.0  \n",
       "3931                                  0.0     13.5      750.0   330000.0  \n",
       "3932                                  0.0     13.5      750.0   660000.0  \n",
       "3933                                  0.0     12.5      750.0   575000.0  \n",
       "\n",
       "[3932 rows x 2222 columns]"
      ]
     },
     "execution_count": 14,
     "metadata": {},
     "output_type": "execute_result"
    }
   ],
   "source": [
    "df_encoded"
   ]
  },
  {
   "attachments": {},
   "cell_type": "markdown",
   "id": "09ca6a1e",
   "metadata": {},
   "source": [
    "Lấy ra cột label mà ta cần dự đoán ở đây là giá rượu"
   ]
  },
  {
   "cell_type": "code",
   "execution_count": 15,
   "id": "b446e19f",
   "metadata": {
    "scrolled": true
   },
   "outputs": [],
   "source": [
    "y = df_encoded.pop('Gia')"
   ]
  },
  {
   "attachments": {},
   "cell_type": "markdown",
   "id": "f613994c",
   "metadata": {},
   "source": [
    "Chia tập dữ liệu ban đầu thành hai tập dữ liệu với 1 tập dùng để huấn luyện cho mô hình và tập còn lại dùng để kiểm thử và đánh giá độ hiệu quả của mô hình."
   ]
  },
  {
   "cell_type": "code",
   "execution_count": 16,
   "id": "212c291f",
   "metadata": {},
   "outputs": [],
   "source": [
    "#Chia df thành tập train và test\n",
    "X_train, X_test, y_train, y_test = train_test_split(df_encoded, y, test_size=0.2)\n",
    "# train.to_csv(os.path.join(os.getcwd(), 'dataset', 'train.csv'),index=False)\n",
    "# test.to_csv(os.path.join(os.getcwd(), 'dataset', 'test.csv'),index=False)"
   ]
  },
  {
   "attachments": {},
   "cell_type": "markdown",
   "id": "818abc3e",
   "metadata": {},
   "source": [
    "## Các mô hình"
   ]
  },
  {
   "cell_type": "markdown",
   "id": "b36ca404",
   "metadata": {},
   "source": [
    "<h3 style='color:#45ccb1d4;text-align:center;font-size:20px'><b>1.Linear Regression</b></h3> "
   ]
  },
  {
   "cell_type": "code",
   "execution_count": 33,
   "id": "1741327b",
   "metadata": {},
   "outputs": [
    {
     "name": "stderr",
     "output_type": "stream",
     "text": [
      "C:\\Users\\LUAN\\anaconda3\\lib\\site-packages\\sklearn\\utils\\validation.py:768: UserWarning: pandas.DataFrame with sparse columns found.It will be converted to a dense numpy array.\n",
      "  warnings.warn(\n"
     ]
    }
   ],
   "source": [
    "reg = LinearRegression().fit(X_train, y_train)"
   ]
  },
  {
   "cell_type": "code",
   "execution_count": 34,
   "id": "494a2671",
   "metadata": {},
   "outputs": [
    {
     "name": "stderr",
     "output_type": "stream",
     "text": [
      "C:\\Users\\LUAN\\anaconda3\\lib\\site-packages\\sklearn\\utils\\validation.py:768: UserWarning: pandas.DataFrame with sparse columns found.It will be converted to a dense numpy array.\n",
      "  warnings.warn(\n"
     ]
    },
    {
     "data": {
      "text/plain": [
       "array([ 3.24405750e+06,  8.11949500e+05,  5.09061150e+06,  1.38277400e+06,\n",
       "        7.91671250e+05,  7.08657000e+05,  1.28855000e+05,  2.79434750e+05,\n",
       "       -5.63529500e+05,  2.97272500e+05,  6.00465000e+05,  1.55989550e+06,\n",
       "        5.27822675e+06,  1.17244675e+06,  8.42364325e+06,  5.99755000e+05,\n",
       "        1.85406050e+06,  5.83020500e+05,  5.24705375e+06,  2.13236250e+06,\n",
       "        5.50646750e+05,  6.10480000e+05,  1.84557175e+06,  6.89432250e+05,\n",
       "        2.65108500e+05,  9.48156750e+05,  4.17326650e+06,  5.45798350e+06,\n",
       "        9.26371750e+05,  6.21298000e+05,  2.82918150e+06,  1.64975000e+06,\n",
       "        1.50027100e+06,  1.53788525e+06,  3.00416500e+05,  3.21481400e+06,\n",
       "        4.50616500e+05,  5.89486750e+05,  5.14033000e+05,  1.24861800e+06,\n",
       "        3.89940325e+06,  6.83306500e+05, -3.37236500e+05,  1.08390650e+06,\n",
       "        1.60567150e+06,  2.48170000e+05,  4.50570500e+05,  1.31724250e+05,\n",
       "        1.49968625e+06,  4.49525500e+05,  3.38857500e+05,  1.09190400e+06,\n",
       "        9.98437000e+05,  1.09894550e+06,  2.09968050e+06,  5.83246000e+05,\n",
       "        5.12935000e+05,  2.00027450e+06,  6.02126150e+06,  8.07758500e+05,\n",
       "        5.36964750e+06,  6.64800750e+05,  7.31996000e+06,  5.95534500e+05,\n",
       "        1.76264800e+06,  1.64418350e+06,  2.72843200e+06,  2.61499900e+06,\n",
       "        8.68763750e+05,  2.94846250e+05,  2.96360250e+05,  7.99971000e+05,\n",
       "        7.04206500e+05,  2.49644500e+05,  3.45061000e+05,  4.98254750e+05,\n",
       "        1.26012850e+06,  1.24966650e+06,  1.06472900e+06,  8.56293500e+05,\n",
       "        7.99854000e+05,  3.07952000e+05,  1.28305250e+06,  3.96024500e+05,\n",
       "        3.77123000e+05,  2.79542500e+06,  3.23770250e+05,  9.26420000e+04,\n",
       "        6.34655000e+05,  7.99185500e+05,  1.36976600e+06,  1.86384750e+05,\n",
       "        3.06966250e+05,  1.25038000e+06,  1.15572550e+06,  3.45976400e+06,\n",
       "        5.20376750e+05,  4.13438450e+06,  4.63469500e+05,  1.21342300e+06,\n",
       "        7.98475000e+04,  7.00589500e+05,  8.54900750e+05,  4.97930275e+06,\n",
       "        8.06428100e+06,  9.40155000e+05,  1.25238450e+06,  2.57527800e+06,\n",
       "        3.83002000e+05,  3.72240750e+05,  1.94972200e+06,  8.60521000e+05,\n",
       "        4.14126300e+06,  2.14918000e+05, -1.47298000e+05,  3.96843250e+05,\n",
       "        2.75165250e+05,  5.51321500e+05,  6.49101500e+05,  3.44837100e+06,\n",
       "        1.18524875e+06,  1.37694850e+06,  3.19837500e+05,  2.79229500e+05,\n",
       "        6.74742000e+05,  8.99316750e+05,  1.71853675e+06,  5.65975000e+05,\n",
       "        4.13414000e+05,  8.60834250e+05,  4.29017000e+05,  1.49105000e+06,\n",
       "        2.10534750e+05,  1.27822300e+06,  7.47226500e+05,  2.89495175e+06,\n",
       "        3.78543250e+05,  6.59860000e+05,  5.03679500e+05,  4.60839775e+06,\n",
       "        8.21207500e+05,  8.71063000e+05,  3.50035650e+06,  6.20572250e+05,\n",
       "        8.99107000e+05,  2.13850075e+06, -7.38950500e+05,  6.10717250e+05,\n",
       "        1.25019925e+06,  1.53390050e+06,  1.87423600e+06,  1.55128550e+06,\n",
       "        1.49925925e+06,  1.35687300e+06,  7.91304500e+05,  8.13039000e+05,\n",
       "        1.49073750e+06,  2.95035050e+06,  3.34392000e+05,  2.07533690e+07,\n",
       "        4.93293000e+05,  7.66189000e+05,  8.58516500e+05,  4.50301000e+05,\n",
       "        1.35786175e+06,  3.81253775e+06,  7.31097500e+05,  7.30653500e+05,\n",
       "        3.84367500e+05,  3.06414000e+05,  6.07878400e+06,  3.73238250e+05,\n",
       "        1.07557475e+06,  1.06548800e+06,  1.82380200e+06,  8.00346000e+05,\n",
       "        2.58659575e+06,  2.24977700e+06,  1.62521500e+06,  2.88364450e+06,\n",
       "        1.24772500e+05,  1.45046400e+06,  9.19521500e+05,  7.97489000e+05,\n",
       "        2.63603500e+05,  1.61909750e+06,  1.16573200e+06,  3.95911250e+05,\n",
       "        2.14211475e+06,  1.64979575e+06,  7.69022000e+05,  1.04905275e+06,\n",
       "        3.68801000e+05,  4.52210500e+05,  1.18375100e+06,  2.73844300e+06,\n",
       "        8.30223000e+05,  2.59590000e+06,  1.15037350e+06,  1.49073750e+06,\n",
       "        4.39991650e+06,  2.46397200e+06,  6.43910700e+06,  1.21539050e+06,\n",
       "        9.70248500e+05,  2.19537850e+06,  1.13926125e+06,  2.60895175e+06,\n",
       "        3.97753000e+05,  5.95534500e+05,  5.02919500e+05,  6.53385500e+05,\n",
       "        1.17078600e+06,  8.15347250e+05,  3.94863250e+05,  1.01213925e+06,\n",
       "        6.09217500e+05,  4.58099750e+05,  7.15336000e+05,  8.42800000e+05,\n",
       "        6.08892000e+05,  1.79813250e+06,  6.14044500e+05,  1.53938800e+06,\n",
       "        7.28591550e+06,  1.97883675e+06,  6.40072500e+05,  3.81897500e+04,\n",
       "        4.50564750e+05,  6.71320750e+05,  3.98075500e+05, -2.19070000e+04,\n",
       "        1.49536000e+06, -2.06429500e+05,  2.93989500e+05, -1.28655000e+05,\n",
       "        1.25128800e+06,  3.82147000e+05,  4.95679925e+06,  1.72533500e+05,\n",
       "        4.66776300e+06,  3.50098000e+05,  2.78137200e+06,  1.90309700e+06,\n",
       "        1.49536000e+06,  8.23661500e+05,  8.94612750e+05,  1.44657500e+06,\n",
       "        6.76739500e+05,  8.39425000e+05,  1.42691500e+06,  5.89962750e+05,\n",
       "        3.07229500e+05,  1.15484600e+06,  1.65751325e+06,  5.50220250e+05,\n",
       "        3.95543500e+05,  5.05367000e+05,  1.23770100e+06,  8.23572500e+05,\n",
       "        2.79784400e+06,  1.58833550e+06,  7.15397250e+05,  8.46252000e+05,\n",
       "        1.86982225e+06,  6.32448500e+05,  2.75470750e+05,  1.58946250e+05,\n",
       "        1.48368500e+05,  3.60065500e+05,  7.74642500e+05,  6.47152750e+05,\n",
       "        6.49593750e+05,  9.33018000e+05,  4.39991650e+06,  5.90013750e+05,\n",
       "        7.85380500e+05,  9.19869750e+05,  5.75347550e+06,  2.04771325e+06,\n",
       "        1.53920225e+06,  2.23988400e+06,  2.45348400e+06,  4.49740500e+05,\n",
       "        2.80329000e+05,  4.60040400e+06,  4.05271500e+05,  3.71201000e+05,\n",
       "        6.80297000e+05,  3.22535550e+06,  7.66953000e+05,  3.61452000e+05,\n",
       "        1.08828275e+06,  6.63131000e+05,  3.26940000e+04,  4.38127750e+05,\n",
       "        4.94902000e+05,  4.85258750e+06,  8.21207500e+05,  2.65409500e+05,\n",
       "        7.42009750e+05,  1.24997150e+06,  4.05471250e+05,  6.20742000e+05,\n",
       "        9.85905500e+05,  9.29620750e+05,  7.49419750e+05,  3.18967600e+06,\n",
       "        6.13939750e+05,  4.74026000e+05,  5.39887750e+05,  3.85236000e+05,\n",
       "        4.45634000e+05,  9.76394750e+05,  4.29830500e+05,  6.60387250e+05,\n",
       "        1.07520750e+06,  4.87230000e+04,  1.01153025e+06,  1.84959075e+06,\n",
       "        6.58938500e+05,  8.01420025e+06,  1.66727750e+06,  1.97977950e+06,\n",
       "        6.87907750e+05,  1.24333500e+05,  1.39259400e+06,  9.71999000e+05,\n",
       "        1.40651792e+07,  9.62639000e+05,  7.24776500e+05,  1.49850350e+06,\n",
       "        4.54206250e+05,  2.77772250e+05,  3.39666500e+06,  5.85911000e+05,\n",
       "        3.50368250e+05,  6.44915000e+04,  4.82130500e+05,  2.01901700e+06,\n",
       "        4.50128000e+05,  1.44981700e+06,  5.73603500e+05,  4.39991550e+06,\n",
       "        9.80006500e+05,  8.22672500e+05,  3.50039900e+06,  5.51443500e+05,\n",
       "        6.11388850e+06,  2.80282500e+05,  7.68061250e+05,  2.53498000e+05,\n",
       "        6.90190500e+05,  4.03714450e+06,  7.00354500e+05,  4.30324000e+05,\n",
       "        1.15833950e+06,  8.48869500e+05,  4.50004250e+05,  2.62482500e+05,\n",
       "        1.87057550e+06, -1.11553000e+05,  1.11426900e+06,  5.41606000e+05,\n",
       "        5.05975250e+05,  6.35244000e+05,  3.22249250e+06,  2.43077000e+05,\n",
       "        1.18908425e+06,  3.61080500e+05,  1.58375500e+06,  7.69094500e+05,\n",
       "        5.20914400e+06,  1.48480225e+06,  1.46074875e+06,  3.98997750e+05,\n",
       "        8.59579500e+05,  7.52820000e+05,  8.63667500e+05,  2.34298675e+06,\n",
       "        7.70019500e+05,  1.46636600e+06,  8.27413250e+05,  7.55372250e+05,\n",
       "        4.54331700e+06,  9.36029000e+05,  1.32246700e+06,  3.47435750e+05,\n",
       "        1.39511100e+06,  1.50020550e+06,  1.75547200e+06,  4.94497000e+05,\n",
       "        5.91784775e+06,  2.76346250e+05,  1.57056850e+06,  1.58939350e+06,\n",
       "       -3.25158500e+05,  5.23432000e+05,  1.87056450e+06,  1.67391000e+05,\n",
       "        3.19729000e+05,  1.26256245e+07,  2.81558775e+06,  7.33406000e+06,\n",
       "        5.50970275e+06,  7.88597250e+05,  1.03522000e+06,  4.02832000e+05,\n",
       "        1.02320650e+06,  3.53933925e+06,  9.18007500e+05,  8.97719500e+05,\n",
       "        4.49380500e+05,  7.52256500e+05,  1.39336500e+06,  3.35387250e+05,\n",
       "        2.56745050e+06,  2.15974550e+06,  8.86514500e+05,  7.50613000e+05,\n",
       "       -3.05233000e+05,  1.58526000e+06,  3.49312750e+05,  4.02695300e+06,\n",
       "        8.56101750e+05,  3.89969400e+06,  8.50310000e+05,  4.38701500e+06,\n",
       "        6.50395500e+05,  4.15211500e+05,  1.24994400e+06,  2.69596000e+05,\n",
       "        1.16124750e+05,  1.10485550e+06,  6.35933000e+05,  1.34940500e+06,\n",
       "        6.32448500e+05,  4.30780000e+05,  1.98042800e+06,  9.79159000e+05,\n",
       "        5.54142000e+05,  1.04954400e+06,  3.81819050e+06,  4.71430750e+05,\n",
       "        2.49997050e+06,  2.60730450e+06,  5.60804050e+06,  1.66773850e+06,\n",
       "        6.07878400e+06,  8.75415000e+05,  5.76259000e+06,  5.01004750e+05,\n",
       "        1.99889450e+06,  1.98565750e+06,  1.23139750e+05,  1.33759100e+06,\n",
       "        7.19730000e+05,  5.94599750e+05,  1.00548700e+06,  6.01889000e+05,\n",
       "        1.44651850e+06,  1.92866625e+06,  7.71136925e+06,  8.10220000e+05,\n",
       "        1.09275250e+06,  2.43371500e+05,  4.95527500e+05,  4.49747500e+05,\n",
       "        2.61404125e+06,  3.74369000e+05,  5.71958500e+05,  8.99937250e+05,\n",
       "        1.42656550e+06,  6.97620500e+05,  6.85584250e+05,  3.93780175e+06,\n",
       "        1.20031875e+06,  1.52297675e+06,  2.85392250e+06,  5.05766000e+05,\n",
       "        6.90079000e+05,  2.01177900e+06,  3.60710500e+05,  1.76039400e+06,\n",
       "        9.33182250e+05,  7.78022750e+05,  5.53044000e+05,  6.40291000e+05,\n",
       "        1.19992850e+06,  1.89038800e+06,  3.06229400e+06,  2.64009750e+05,\n",
       "        1.19998725e+06,  4.79961500e+05,  9.97305000e+05,  5.84166750e+05,\n",
       "        7.19580000e+05,  6.50890750e+05,  1.18792775e+06,  3.76837000e+05,\n",
       "        1.27553950e+06,  4.76270750e+05,  1.76808750e+06,  8.00370000e+04,\n",
       "        5.49294500e+05,  6.00354000e+05,  4.99270000e+05,  8.40811000e+05,\n",
       "        1.58653500e+05,  3.05504000e+05,  7.88912750e+05,  1.19965950e+06,\n",
       "        1.29946100e+06,  5.37940250e+05,  7.21098500e+05,  1.64990300e+06,\n",
       "        1.43046300e+06,  5.14356500e+06,  7.33794500e+05,  1.00020200e+06,\n",
       "        1.03031275e+06,  6.19112500e+05,  1.11711000e+06,  7.08114000e+05,\n",
       "        4.08666500e+05,  1.04890475e+06,  1.80051475e+06,  1.01856500e+05,\n",
       "        3.34531450e+06,  8.79531750e+05,  9.07564000e+05,  1.69858100e+06,\n",
       "        3.65736250e+05,  4.89442750e+05,  1.35141400e+06,  2.81048000e+05,\n",
       "        2.99114250e+05,  2.00661950e+06,  1.54821300e+06,  1.51292150e+06,\n",
       "        4.58995500e+05,  2.64829425e+06,  1.59370175e+06,  4.18326750e+05,\n",
       "        7.74092000e+05,  6.61701500e+05, -9.03532500e+04,  5.51930000e+05,\n",
       "        3.90450100e+06,  4.81516250e+05,  4.50968250e+05,  1.19041675e+06,\n",
       "       -1.98249500e+05,  1.11474900e+06,  1.65003950e+06,  5.42924000e+05,\n",
       "        1.79985850e+06,  5.20031250e+05,  1.42660375e+06,  1.19610700e+06,\n",
       "        7.50326500e+05,  5.40453750e+05,  5.50578000e+05,  8.78584750e+05,\n",
       "        1.38141350e+06,  1.49938850e+06,  1.59661050e+06,  1.21440450e+06,\n",
       "        2.44839550e+06,  9.96175000e+05,  4.72014500e+05,  6.48936500e+05,\n",
       "       -7.04553000e+05,  1.28041650e+06,  7.79531250e+05,  9.80808000e+06,\n",
       "        2.15122950e+06,  1.27214150e+06,  1.65040000e+06,  4.05773750e+06,\n",
       "        4.89987075e+06,  8.99959000e+05,  1.17067350e+06,  1.45001275e+06,\n",
       "        1.66175500e+06,  3.85834500e+05,  5.15702000e+05,  4.50493000e+05,\n",
       "        2.91968450e+06,  3.60476000e+05,  2.80712250e+05,  1.84992825e+06,\n",
       "        3.87880250e+05,  3.96453500e+05,  2.00366925e+06,  7.10290500e+05,\n",
       "        1.45001500e+06,  4.60348250e+05,  5.78086675e+06, -1.11182250e+05,\n",
       "        8.51696450e+06,  4.24252000e+05,  2.50383750e+05,  1.87960800e+06,\n",
       "        3.49446750e+05,  7.20067500e+05,  9.14641500e+05,  2.07676100e+06,\n",
       "        1.65853625e+06,  6.31610000e+04,  7.89806250e+05,  7.49225000e+05,\n",
       "        4.02832000e+05,  1.27888025e+06,  3.32484350e+06,  1.09950525e+06,\n",
       "        3.49861275e+06,  2.79925200e+06,  1.70878800e+06,  1.37908300e+06,\n",
       "        3.97431250e+05,  3.96041500e+05,  1.42144625e+06,  5.94737500e+05,\n",
       "        3.78233750e+05,  4.49901500e+05,  7.48312250e+05,  3.90450100e+06,\n",
       "        6.19567500e+05,  5.19633500e+05,  5.39928500e+05,  9.84132250e+05,\n",
       "       -3.95757250e+05,  6.00197500e+05,  7.20589500e+05,  1.52004400e+06,\n",
       "        1.18623050e+06,  3.85553325e+06,  2.80344000e+05,  1.06472900e+06,\n",
       "        3.05494625e+06,  1.01242740e+07,  3.24932225e+06,  5.02736250e+05,\n",
       "        4.94345750e+05,  3.03366750e+05,  5.25104000e+05,  4.55984500e+05,\n",
       "        1.89455850e+06,  4.65707050e+06,  2.44934850e+06,  9.00126000e+05,\n",
       "        3.99725000e+05,  1.44950950e+06,  1.58951250e+05,  8.15095500e+05,\n",
       "       -3.03689000e+05,  3.46715625e+06,  6.12031750e+05,  1.08821050e+06,\n",
       "        7.61899750e+05,  2.24567800e+06,  2.88364450e+06,  3.88902500e+05,\n",
       "        3.42656500e+05,  7.46792000e+05,  2.60189500e+05,  1.31915950e+06,\n",
       "        4.73098000e+05,  8.68777250e+05,  1.59594200e+06,  1.22250850e+06,\n",
       "        3.28214000e+05,  1.05508725e+06,  9.80018750e+05, -6.67924000e+05,\n",
       "        2.64979150e+06,  2.43428250e+05,  1.19932650e+06,  2.05097675e+06,\n",
       "        6.18916250e+05,  2.75982075e+06,  1.98031875e+06,  3.98940250e+05,\n",
       "        3.29179500e+05,  1.34974250e+06,  5.29912000e+05,  6.39753500e+05,\n",
       "        1.43229100e+06,  1.20189400e+06,  1.50760800e+06,  4.39944750e+05,\n",
       "        1.34980750e+06,  4.21499000e+05,  1.74962550e+06,  5.85978000e+05,\n",
       "        1.68884250e+05,  1.59889500e+06,  2.07992325e+06,  1.56397250e+06,\n",
       "        5.48095500e+05,  4.69073750e+05,  2.96637500e+05,  6.54540000e+04,\n",
       "        1.80080350e+06,  1.89941050e+06,  1.18626350e+06,  1.58433075e+06,\n",
       "        3.64829450e+06,  5.49944500e+05,  1.78282200e+06,  4.39991650e+06,\n",
       "        1.07115800e+06,  1.49073750e+06,  2.69988700e+06,  4.37203500e+05,\n",
       "        6.11740250e+05,  1.25238450e+06,  2.36375750e+05,  3.56400400e+06,\n",
       "        1.18350650e+06,  1.29506550e+06,  8.40283000e+05,  3.60116500e+05,\n",
       "        2.31762200e+06,  2.16340500e+06,  5.80014000e+05,  6.48524250e+05,\n",
       "        8.40006500e+05,  1.55804200e+06,  5.71231500e+05,  7.50321000e+05,\n",
       "        2.50021750e+06,  3.18862500e+05,  5.48833000e+05,  1.24777850e+06,\n",
       "        1.02240375e+06,  7.28761000e+05,  1.74962550e+06,  5.65975000e+05,\n",
       "        2.93983750e+05,  3.23734250e+05,  5.52133000e+05,  5.19973500e+05,\n",
       "        3.65010200e+06,  1.64418350e+06,  1.10019825e+06,  3.79342500e+05,\n",
       "        5.39304500e+05,  6.69010500e+05,  7.60902250e+05,  3.81253775e+06,\n",
       "        4.75018750e+05,  8.21207500e+05,  8.40539750e+05,  8.30737500e+05,\n",
       "        5.47873250e+06,  7.59449500e+06,  8.90270000e+05,  7.66095500e+05,\n",
       "        1.49073750e+06,  3.70200000e+05,  1.39681550e+06,  1.99764450e+06,\n",
       "        4.55023000e+05,  5.76259000e+06,  5.80543000e+05,  4.08776000e+05,\n",
       "        1.33659450e+06,  6.67405925e+06,  2.95594050e+06,  5.50970275e+06,\n",
       "        4.30155250e+05,  3.25329475e+06,  6.32448500e+05,  3.96140250e+05,\n",
       "        1.13883600e+06,  6.43151500e+05,  1.87944650e+06,  2.69082825e+07,\n",
       "        5.79073000e+05,  7.50323000e+05,  8.48169750e+05,  1.99996350e+06,\n",
       "        3.82389300e+06,  8.74808500e+05,  6.54651000e+05])"
      ]
     },
     "execution_count": 34,
     "metadata": {},
     "output_type": "execute_result"
    }
   ],
   "source": [
    "y_pred = reg.predict(X_test)"
   ]
  },
  {
   "cell_type": "code",
   "execution_count": 19,
   "id": "cb2fad1e",
   "metadata": {},
   "outputs": [
    {
     "data": {
      "text/plain": [
       "1.0938394407413901e+33"
      ]
     },
     "execution_count": 19,
     "metadata": {},
     "output_type": "execute_result"
    }
   ],
   "source": [
    "mse = mean_squared_error(y_test,y_pred)\n",
    "mse"
   ]
  },
  {
   "attachments": {},
   "cell_type": "markdown",
   "id": "7ecc8d44",
   "metadata": {},
   "source": [
    "<h3 style='color:#45ccb1d4;text-align:center;font-size:20px'><b>2. Decision Tree Regression</b></h3> "
   ]
  },
  {
   "cell_type": "code",
   "execution_count": null,
   "id": "dda42922",
   "metadata": {},
   "outputs": [],
   "source": [
    "decision_tree_reg = DecisionTreeRegressor().fit(X_train, y_train)\n"
   ]
  },
  {
   "cell_type": "code",
   "execution_count": null,
   "id": "cb1c2fcd",
   "metadata": {},
   "outputs": [],
   "source": [
    "y_pred = decision_tree_reg.predict(X_test)"
   ]
  },
  {
   "cell_type": "code",
   "execution_count": 22,
   "id": "aaec672f",
   "metadata": {},
   "outputs": [
    {
     "data": {
      "text/plain": [
       "2904882353586.4043"
      ]
     },
     "execution_count": 22,
     "metadata": {},
     "output_type": "execute_result"
    }
   ],
   "source": [
    "mse = mean_squared_error(y_test,y_pred)\n",
    "mse"
   ]
  },
  {
   "attachments": {},
   "cell_type": "markdown",
   "id": "6d652c7a",
   "metadata": {},
   "source": [
    "<h3 style='color:#45ccb1d4;text-align:center;font-size:20px'><b>3. Random Forest Regression</b></h3> "
   ]
  },
  {
   "cell_type": "code",
   "execution_count": null,
   "id": "34bec007",
   "metadata": {},
   "outputs": [],
   "source": [
    "rd_forest_reg = RandomForestRegressor(max_depth = 5).fit(X_train, y_train)"
   ]
  },
  {
   "cell_type": "code",
   "execution_count": null,
   "id": "e399cefd",
   "metadata": {},
   "outputs": [],
   "source": [
    "y_pred = rd_forest_reg.predict(X_test)"
   ]
  },
  {
   "cell_type": "code",
   "execution_count": 25,
   "id": "f0577c00",
   "metadata": {},
   "outputs": [
    {
     "data": {
      "text/plain": [
       "2743986710704.3096"
      ]
     },
     "execution_count": 25,
     "metadata": {},
     "output_type": "execute_result"
    }
   ],
   "source": [
    "mse = mean_squared_error(y_test, y_pred)\n",
    "mse"
   ]
  }
 ],
 "metadata": {
  "kernelspec": {
   "display_name": "Python 3",
   "language": "python",
   "name": "python3"
  },
  "language_info": {
   "codemirror_mode": {
    "name": "ipython",
    "version": 3
   },
   "file_extension": ".py",
   "mimetype": "text/x-python",
   "name": "python",
   "nbconvert_exporter": "python",
   "pygments_lexer": "ipython3",
   "version": "3.8.8"
  }
 },
 "nbformat": 4,
 "nbformat_minor": 5
}
