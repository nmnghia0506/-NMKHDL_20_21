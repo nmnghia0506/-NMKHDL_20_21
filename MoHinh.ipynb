{
 "cells": [
  {
   "cell_type": "markdown",
   "id": "fbee8bc0",
   "metadata": {},
   "source": [
    "# <h2><b> Đồ án thực hành </b></h2>\n",
    "<h1 style='color:red;text-align:center;font-size:35px'><b>Chủ đề: Dự đoán giá rượu vang</b></h1>"
   ]
  },
  {
   "cell_type": "markdown",
   "id": "dcbe285b",
   "metadata": {},
   "source": [
    "# <h1 style='color:blue;text-align:center;font-size:30px'><b>Phần II</b></h1>"
   ]
  },
  {
   "cell_type": "markdown",
   "id": "7d59d740",
   "metadata": {},
   "source": [
    "# <h3>Các thành viên trong nhóm</h3>\n",
    "<li> Phan Xuân Hoài - 20120481 </li>\n",
    "<li> Lê Kinh Luân - 1612355 </li>\n",
    "<li> Nguyễn Minh Nghĩa - 20120534</li>\n",
    "<li> Phạm Quốc Hưng - 19120522</li>"
   ]
  },
  {
   "cell_type": "markdown",
   "id": "df1f97fe",
   "metadata": {},
   "source": [
    "### Import những thư viện cần thiết"
   ]
  },
  {
   "cell_type": "code",
   "execution_count": 1,
   "id": "8b88e09d",
   "metadata": {},
   "outputs": [],
   "source": [
    "%matplotlib inline\n",
    "import matplotlib.pyplot as plt\n",
    "import numpy as np\n",
    "import pandas as pd \n",
    "import seaborn as sns\n",
    "sns.set_theme()\n",
    "\n",
    "import os\n",
    "import re\n",
    "import statistics\n",
    "sns.set(rc={'axes.facecolor':'lightblue', 'figure.facecolor':'lightgray'})\n",
    "import math\n",
    "import warnings\n",
    "warnings.filterwarnings('ignore')"
   ]
  },
  {
   "cell_type": "code",
   "execution_count": 2,
   "id": "8ed38e09",
   "metadata": {},
   "outputs": [
    {
     "data": {
      "text/plain": [
       "'C:\\\\Users\\\\Admin\\\\AppData\\\\Local\\\\Programs\\\\Python\\\\Python310\\\\python.exe'"
      ]
     },
     "execution_count": 2,
     "metadata": {},
     "output_type": "execute_result"
    }
   ],
   "source": [
    "import sys\n",
    "sys.executable"
   ]
  },
  {
   "cell_type": "code",
   "execution_count": 3,
   "id": "d785e6a8",
   "metadata": {},
   "outputs": [
    {
     "name": "stdout",
     "output_type": "stream",
     "text": [
      "C:\\Users\\Admin\\Desktop\\-NMKHDL_20_21\\champagne\\champagne\n"
     ]
    }
   ],
   "source": [
    "cd champagne/champagne"
   ]
  },
  {
   "cell_type": "markdown",
   "id": "07fdee3b",
   "metadata": {},
   "source": [
    "### Đọc file 'champagnes_info_cleaned.csv' vào dataframe df"
   ]
  },
  {
   "cell_type": "code",
   "execution_count": 4,
   "id": "43cdb7da",
   "metadata": {
    "scrolled": true
   },
   "outputs": [
    {
     "data": {
      "text/html": [
       "<div>\n",
       "<style scoped>\n",
       "    .dataframe tbody tr th:only-of-type {\n",
       "        vertical-align: middle;\n",
       "    }\n",
       "\n",
       "    .dataframe tbody tr th {\n",
       "        vertical-align: top;\n",
       "    }\n",
       "\n",
       "    .dataframe thead th {\n",
       "        text-align: right;\n",
       "    }\n",
       "</style>\n",
       "<table border=\"1\" class=\"dataframe\">\n",
       "  <thead>\n",
       "    <tr style=\"text-align: right;\">\n",
       "      <th></th>\n",
       "      <th>Ma_sp</th>\n",
       "      <th>Ten_sp</th>\n",
       "      <th>Gia</th>\n",
       "      <th>Xuat_xu</th>\n",
       "      <th>Nong_do</th>\n",
       "      <th>Dung_tich</th>\n",
       "      <th>Giong_nho</th>\n",
       "      <th>Mau_sac</th>\n",
       "      <th>Loai_ruou</th>\n",
       "      <th>Thuong_hieu</th>\n",
       "      <th>Vung_lam_vang</th>\n",
       "    </tr>\n",
       "  </thead>\n",
       "  <tbody>\n",
       "    <tr>\n",
       "      <th>0</th>\n",
       "      <td>VNPV-3958</td>\n",
       "      <td>Rượu Champagne Bottega Stardust Prosecco</td>\n",
       "      <td>3563000.0</td>\n",
       "      <td>Ý</td>\n",
       "      <td>11.0</td>\n",
       "      <td>750.0</td>\n",
       "      <td>Glera</td>\n",
       "      <td>vàng rơm nhạt</td>\n",
       "      <td>Rượu Champagne</td>\n",
       "      <td>Bottega</td>\n",
       "      <td>Veneto</td>\n",
       "    </tr>\n",
       "    <tr>\n",
       "      <th>1</th>\n",
       "      <td>VNPV-9463</td>\n",
       "      <td>Rượu Champagne Carbon F1</td>\n",
       "      <td>8517000.0</td>\n",
       "      <td>Pháp</td>\n",
       "      <td>12.0</td>\n",
       "      <td>750.0</td>\n",
       "      <td>Chardonnay,Pinot meunier,Pinot Noir</td>\n",
       "      <td>trắng</td>\n",
       "      <td>Rượu Champagne</td>\n",
       "      <td>Delamotte</td>\n",
       "      <td>Champagne</td>\n",
       "    </tr>\n",
       "    <tr>\n",
       "      <th>2</th>\n",
       "      <td>VNPV1-1823</td>\n",
       "      <td>Rượu Champagne Charles Mignon Premium Reserve</td>\n",
       "      <td>1641000.0</td>\n",
       "      <td>Pháp</td>\n",
       "      <td>13.5</td>\n",
       "      <td>750.0</td>\n",
       "      <td>Chardonnay,Pinot meunier,Pinot Noir</td>\n",
       "      <td>vàng</td>\n",
       "      <td>Rượu Champagne</td>\n",
       "      <td>Charles Mignon</td>\n",
       "      <td>Champagne</td>\n",
       "    </tr>\n",
       "    <tr>\n",
       "      <th>3</th>\n",
       "      <td>VNPV-836</td>\n",
       "      <td>Rượu Champagne De Castellane Brut</td>\n",
       "      <td>753000.0</td>\n",
       "      <td>Pháp</td>\n",
       "      <td>11.0</td>\n",
       "      <td>375.0</td>\n",
       "      <td>Chardonnay</td>\n",
       "      <td>xanh nhạt</td>\n",
       "      <td>Rượu Champagne</td>\n",
       "      <td>De Castellane</td>\n",
       "      <td>Champagne</td>\n",
       "    </tr>\n",
       "    <tr>\n",
       "      <th>4</th>\n",
       "      <td>VNPV-4233</td>\n",
       "      <td>Rượu Champagne Delamotte Blanc De Blancs</td>\n",
       "      <td>3810000.0</td>\n",
       "      <td>Pháp</td>\n",
       "      <td>12.5</td>\n",
       "      <td>750.0</td>\n",
       "      <td>Chardonnay</td>\n",
       "      <td>trắng trong</td>\n",
       "      <td>Rượu Champagne</td>\n",
       "      <td>Delamotte</td>\n",
       "      <td>Champagne</td>\n",
       "    </tr>\n",
       "    <tr>\n",
       "      <th>5</th>\n",
       "      <td>VNPV-1956</td>\n",
       "      <td>Rượu Champagne Delamotte Brut</td>\n",
       "      <td>1761000.0</td>\n",
       "      <td>Pháp</td>\n",
       "      <td>12.0</td>\n",
       "      <td>750.0</td>\n",
       "      <td>Chardonnay</td>\n",
       "      <td>vàng</td>\n",
       "      <td>Rượu Champagne</td>\n",
       "      <td>Delamotte</td>\n",
       "      <td>Champagne</td>\n",
       "    </tr>\n",
       "    <tr>\n",
       "      <th>6</th>\n",
       "      <td>VNPV-3667</td>\n",
       "      <td>Rượu Champagne Delamotte Rose</td>\n",
       "      <td>2956000.0</td>\n",
       "      <td>Pháp</td>\n",
       "      <td>12.0</td>\n",
       "      <td>750.0</td>\n",
       "      <td>Chardonnay,Pinot Noir,Pinot Meunier</td>\n",
       "      <td>hồng</td>\n",
       "      <td>Rượu Champagne</td>\n",
       "      <td>Delamotte</td>\n",
       "      <td>Champagne</td>\n",
       "    </tr>\n",
       "    <tr>\n",
       "      <th>7</th>\n",
       "      <td>VNPV-1976</td>\n",
       "      <td>Rượu Champagne Duval Leroy Thierry Drapeau</td>\n",
       "      <td>1779000.0</td>\n",
       "      <td>Pháp</td>\n",
       "      <td>12.5</td>\n",
       "      <td>750.0</td>\n",
       "      <td>Chardonnay</td>\n",
       "      <td>vàng</td>\n",
       "      <td>Rượu Champagne</td>\n",
       "      <td>Champagne Duval Leroy</td>\n",
       "      <td>Champagne</td>\n",
       "    </tr>\n",
       "    <tr>\n",
       "      <th>8</th>\n",
       "      <td>VNTK3-480</td>\n",
       "      <td>Rượu Champagne JP Chenet Brut Blanc</td>\n",
       "      <td>480000.0</td>\n",
       "      <td>Pháp</td>\n",
       "      <td>13.0</td>\n",
       "      <td>750.0</td>\n",
       "      <td>Chardonnay</td>\n",
       "      <td>đỏ đậm</td>\n",
       "      <td>Rượu Vang Nổ</td>\n",
       "      <td>JP Chenet</td>\n",
       "      <td>Pays d’Oc</td>\n",
       "    </tr>\n",
       "    <tr>\n",
       "      <th>9</th>\n",
       "      <td>VNBMF-744</td>\n",
       "      <td>Rượu Champagne JP Chenet Divine Chardonnay</td>\n",
       "      <td>750000.0</td>\n",
       "      <td>Pháp</td>\n",
       "      <td>12.5</td>\n",
       "      <td>750.0</td>\n",
       "      <td>Chardonnay</td>\n",
       "      <td>vàng rơm</td>\n",
       "      <td>Rượu Vang Nổ</td>\n",
       "      <td>JP Chenet</td>\n",
       "      <td>Pays d’Oc</td>\n",
       "    </tr>\n",
       "  </tbody>\n",
       "</table>\n",
       "</div>"
      ],
      "text/plain": [
       "        Ma_sp                                         Ten_sp        Gia  \\\n",
       "0   VNPV-3958       Rượu Champagne Bottega Stardust Prosecco  3563000.0   \n",
       "1   VNPV-9463                       Rượu Champagne Carbon F1  8517000.0   \n",
       "2  VNPV1-1823  Rượu Champagne Charles Mignon Premium Reserve  1641000.0   \n",
       "3    VNPV-836              Rượu Champagne De Castellane Brut   753000.0   \n",
       "4   VNPV-4233       Rượu Champagne Delamotte Blanc De Blancs  3810000.0   \n",
       "5   VNPV-1956                  Rượu Champagne Delamotte Brut  1761000.0   \n",
       "6   VNPV-3667                  Rượu Champagne Delamotte Rose  2956000.0   \n",
       "7   VNPV-1976     Rượu Champagne Duval Leroy Thierry Drapeau  1779000.0   \n",
       "8   VNTK3-480            Rượu Champagne JP Chenet Brut Blanc   480000.0   \n",
       "9   VNBMF-744     Rượu Champagne JP Chenet Divine Chardonnay   750000.0   \n",
       "\n",
       "  Xuat_xu  Nong_do  Dung_tich                            Giong_nho  \\\n",
       "0       Ý     11.0      750.0                                Glera   \n",
       "1    Pháp     12.0      750.0  Chardonnay,Pinot meunier,Pinot Noir   \n",
       "2    Pháp     13.5      750.0  Chardonnay,Pinot meunier,Pinot Noir   \n",
       "3    Pháp     11.0      375.0                           Chardonnay   \n",
       "4    Pháp     12.5      750.0                           Chardonnay   \n",
       "5    Pháp     12.0      750.0                           Chardonnay   \n",
       "6    Pháp     12.0      750.0  Chardonnay,Pinot Noir,Pinot Meunier   \n",
       "7    Pháp     12.5      750.0                           Chardonnay   \n",
       "8    Pháp     13.0      750.0                           Chardonnay   \n",
       "9    Pháp     12.5      750.0                           Chardonnay   \n",
       "\n",
       "         Mau_sac       Loai_ruou            Thuong_hieu Vung_lam_vang  \n",
       "0  vàng rơm nhạt  Rượu Champagne                Bottega        Veneto  \n",
       "1          trắng  Rượu Champagne              Delamotte     Champagne  \n",
       "2           vàng  Rượu Champagne         Charles Mignon     Champagne  \n",
       "3      xanh nhạt  Rượu Champagne          De Castellane     Champagne  \n",
       "4    trắng trong  Rượu Champagne              Delamotte     Champagne  \n",
       "5           vàng  Rượu Champagne              Delamotte     Champagne  \n",
       "6           hồng  Rượu Champagne              Delamotte     Champagne  \n",
       "7           vàng  Rượu Champagne  Champagne Duval Leroy     Champagne  \n",
       "8        đỏ đậm  Rượu Vang Nổ              JP Chenet     Pays d’Oc  \n",
       "9       vàng rơm  Rượu Vang Nổ              JP Chenet     Pays d’Oc  "
      ]
     },
     "execution_count": 4,
     "metadata": {},
     "output_type": "execute_result"
    }
   ],
   "source": [
    "df = pd.read_csv('./dataset/champagne_info_cleaned.csv', index_col=0)\n",
    "df.head(10)"
   ]
  },
  {
   "cell_type": "markdown",
   "id": "666e6154",
   "metadata": {},
   "source": [
    "<h2 style='color:#45ccb1d4;text-align:center;font-size:25px'><b>A. Mô hình hóa dữ liệu</b></h2> "
   ]
  },
  {
   "cell_type": "markdown",
   "id": "9b695a38",
   "metadata": {},
   "source": [
    "### Import thư viện"
   ]
  },
  {
   "cell_type": "code",
   "execution_count": 5,
   "id": "7a37c950",
   "metadata": {},
   "outputs": [],
   "source": [
    "from sklearn.model_selection import train_test_split\n",
    "from sklearn.preprocessing import MultiLabelBinarizer\n",
    "from sklearn.preprocessing import OneHotEncoder\n",
    "from sklearn.linear_model import LinearRegression\n",
    "from sklearn.tree import DecisionTreeRegressor\n",
    "from sklearn.ensemble import RandomForestRegressor\n",
    "from sklearn.metrics import mean_squared_error\n",
    "from sklearn.model_selection import cross_val_score\n",
    "from sklearn.model_selection import ShuffleSplit\n",
    "from sklearn.model_selection import GridSearchCV\n",
    "from sklearn import metrics\n",
    "from sklearn.metrics import accuracy_score"
   ]
  },
  {
   "cell_type": "markdown",
   "id": "ef2cb707",
   "metadata": {},
   "source": [
    "### Lựa chọn các đặc trưng để mô hình"
   ]
  },
  {
   "cell_type": "markdown",
   "id": "5e225187",
   "metadata": {},
   "source": [
    "Ta sẽ cần chọn lọc ra các đặc trưng có thể ảnh hưởng đến giá của một chai rượu, từ đó dùng các đặc trưng này để huấn luyện cho mô hình dự đoán giá rượu.  \n",
    "Các đặc trưng có khả năng tác động đến giá của một chai rượu bao gồm:\n",
    "* **Xuất xứ**\n",
    "* **Nồng độ**\n",
    "* **Dung tích**\n",
    "* **Giống nho**\n",
    "* **Màu sắc**\n",
    "* **Loại rượu**\n",
    "* **Thương hiệu**\n",
    "* **Vùng làm rượu**"
   ]
  },
  {
   "cell_type": "markdown",
   "id": "bf2658cc",
   "metadata": {},
   "source": [
    "### Tiền xử lý trước khi chạy mô hình"
   ]
  },
  {
   "cell_type": "code",
   "execution_count": 6,
   "id": "3d3b3ae1",
   "metadata": {},
   "outputs": [],
   "source": [
    "def strip_list_string(ls):\n",
    "    new_ls = []\n",
    "    for s in ls:\n",
    "        if type(s) != float and len(s) > 1:\n",
    "            new_ls.append(s.strip())\n",
    "    return new_ls"
   ]
  },
  {
   "cell_type": "code",
   "execution_count": 7,
   "id": "34540d14",
   "metadata": {
    "scrolled": true
   },
   "outputs": [
    {
     "data": {
      "text/plain": [
       "0                                       [Glera]\n",
       "1       [Chardonnay, Pinot meunier, Pinot Noir]\n",
       "2       [Chardonnay, Pinot meunier, Pinot Noir]\n",
       "3                                  [Chardonnay]\n",
       "4                                  [Chardonnay]\n",
       "                         ...                   \n",
       "3929                               [Sangiovese]\n",
       "3930                       [Cabernet Sauvignon]\n",
       "3931                       [Cabernet Sauvignon]\n",
       "3932                                   [Shiraz]\n",
       "3933                                  [Moscato]\n",
       "Name: Giong_nho, Length: 3933, dtype: object"
      ]
     },
     "execution_count": 7,
     "metadata": {},
     "output_type": "execute_result"
    }
   ],
   "source": [
    "df['Giong_nho'] = df['Giong_nho'].str.split(',')\n",
    "df['Giong_nho'] = df['Giong_nho'].apply(strip_list_string)\n",
    "df['Giong_nho']"
   ]
  },
  {
   "cell_type": "code",
   "execution_count": 8,
   "id": "c6ac0d33",
   "metadata": {},
   "outputs": [
    {
     "data": {
      "text/plain": [
       "Cabernet Sauvignon       969\n",
       "Merlot                   797\n",
       "Chardonnay               463\n",
       "Cabernet Franc           397\n",
       "Syrah                    352\n",
       "                        ... \n",
       "Piedirosso                 1\n",
       "Teroldego                  1\n",
       "Coda di Volpe Biancha      1\n",
       "Malvasia nera              1\n",
       "Nerello Mascalese          1\n",
       "Name: Giong_nho, Length: 303, dtype: int64"
      ]
     },
     "execution_count": 8,
     "metadata": {},
     "output_type": "execute_result"
    }
   ],
   "source": [
    "df['Giong_nho'].explode().value_counts()"
   ]
  },
  {
   "cell_type": "code",
   "execution_count": 9,
   "id": "86f76832",
   "metadata": {},
   "outputs": [
    {
     "data": {
      "text/plain": [
       "1242    Ấn tượng đặc biệt có trong chai Rượu Vang Doma...\n",
       "Name: Giong_nho, dtype: object"
      ]
     },
     "execution_count": 9,
     "metadata": {},
     "output_type": "execute_result"
    }
   ],
   "source": [
    "giong_nho = df['Giong_nho'].explode()\n",
    "giong_nho[giong_nho.apply(lambda x : len(x) >= 100)]"
   ]
  },
  {
   "cell_type": "markdown",
   "id": "7f9e52a5",
   "metadata": {},
   "source": [
    "Có một dòng ở cột Giong_nho chứa nội dung rất dài, có thể là do gặp lỗi nhỏ trong quá trình thu nhập dữ liệu. Ta sẽ xác định index của dòng này và nó đó đi."
   ]
  },
  {
   "cell_type": "code",
   "execution_count": 10,
   "id": "a1e0c41a",
   "metadata": {},
   "outputs": [],
   "source": [
    "long_giong_nho = df['Giong_nho'].apply(lambda x : any(len(i) >= 100 for i in x))\n",
    "idx = long_giong_nho[long_giong_nho == True].index\n",
    "df = df.drop(index = idx)"
   ]
  },
  {
   "cell_type": "markdown",
   "id": "16a04312",
   "metadata": {},
   "source": [
    "## Chuyển đổi các cột phân loại về dạng số"
   ]
  },
  {
   "cell_type": "markdown",
   "id": "27b72450",
   "metadata": {},
   "source": [
    "Bởi vì các mô hình máy học không thể tự huấn luyện được khi các đặc trưng đầu vào thuộc dạng phân loại. Thế nên ta cần phải chuyển các cột này về dạng số. Phương pháp chuyển đổi sử dụng ở đây sẽ là OneHotEncoding, lý do là vì các đặc trưng ta dùng để huấn luyện không phải là dữ liệu phân loại có thứ tự"
   ]
  },
  {
   "cell_type": "markdown",
   "id": "4bd87d92",
   "metadata": {},
   "source": [
    "Do dữ liệu ở cột giống nho là một dạng danh sách các giống nho có trong rượu, ta sẽ dùng đến MultiLabelBinarizer để chuyển đổi."
   ]
  },
  {
   "cell_type": "code",
   "execution_count": 11,
   "id": "fe56ef64",
   "metadata": {},
   "outputs": [],
   "source": [
    "mlb = MultiLabelBinarizer(sparse_output=True)\n",
    "giong_nho_encoded = mlb.fit_transform(df['Giong_nho'])\n",
    "df_encoded = pd.DataFrame.sparse.from_spmatrix(giong_nho_encoded,index=df.index, columns=mlb.classes_)"
   ]
  },
  {
   "cell_type": "markdown",
   "id": "83b229f2",
   "metadata": {},
   "source": [
    "Lấy ra tên các đặc trưng còn lại"
   ]
  },
  {
   "cell_type": "code",
   "execution_count": 12,
   "id": "d032c99c",
   "metadata": {},
   "outputs": [],
   "source": [
    "column_name = [ 'Xuat_xu','Mau_sac', 'Loai_ruou', 'Thuong_hieu', 'Vung_lam_vang']"
   ]
  },
  {
   "cell_type": "markdown",
   "id": "84a3a407",
   "metadata": {},
   "source": [
    "Chuyển đổi các cột đặc trưng về dạng số bằng kĩ thuật OneHotEncoding"
   ]
  },
  {
   "cell_type": "code",
   "execution_count": 13,
   "id": "59caeb17",
   "metadata": {},
   "outputs": [],
   "source": [
    "encoder = OneHotEncoder(sparse = False, handle_unknown = 'ignore', min_frequency=0.001)\n",
    "other_categorite_encoded = encoder.fit_transform(df[column_name])\n",
    "columns_encoded = encoder.get_feature_names_out(column_name)\n",
    "df_encoded = df_encoded.join(pd.DataFrame(other_categorite_encoded,index=df.index, columns=columns_encoded))\n",
    "df_encoded = df_encoded.join(df[[ 'Nong_do', 'Dung_tich','Gia']])"
   ]
  },
  {
   "cell_type": "code",
   "execution_count": 14,
   "id": "df0554df",
   "metadata": {},
   "outputs": [
    {
     "data": {
      "text/html": [
       "<div>\n",
       "<style scoped>\n",
       "    .dataframe tbody tr th:only-of-type {\n",
       "        vertical-align: middle;\n",
       "    }\n",
       "\n",
       "    .dataframe tbody tr th {\n",
       "        vertical-align: top;\n",
       "    }\n",
       "\n",
       "    .dataframe thead th {\n",
       "        text-align: right;\n",
       "    }\n",
       "</style>\n",
       "<table border=\"1\" class=\"dataframe\">\n",
       "  <thead>\n",
       "    <tr style=\"text-align: right;\">\n",
       "      <th></th>\n",
       "      <th>10 % Hárslevlű</th>\n",
       "      <th>100 % Touriga Nacional</th>\n",
       "      <th>100% Nho Tinta De Toro</th>\n",
       "      <th>100% Verdeca</th>\n",
       "      <th>100% Viura</th>\n",
       "      <th>90 % Furmint</th>\n",
       "      <th>Aglianico</th>\n",
       "      <th>Airen</th>\n",
       "      <th>Albana</th>\n",
       "      <th>Albarino</th>\n",
       "      <th>...</th>\n",
       "      <th>Vung_lam_vang_Vin de France</th>\n",
       "      <th>Vung_lam_vang_Vino d’Italia</th>\n",
       "      <th>Vung_lam_vang_Weingut Hermann Donnhoff</th>\n",
       "      <th>Vung_lam_vang_Western Cape</th>\n",
       "      <th>Vung_lam_vang_Yarra Valley</th>\n",
       "      <th>Vung_lam_vang_Yecla</th>\n",
       "      <th>Vung_lam_vang_infrequent_sklearn</th>\n",
       "      <th>Nong_do</th>\n",
       "      <th>Dung_tich</th>\n",
       "      <th>Gia</th>\n",
       "    </tr>\n",
       "  </thead>\n",
       "  <tbody>\n",
       "    <tr>\n",
       "      <th>0</th>\n",
       "      <td>0</td>\n",
       "      <td>0</td>\n",
       "      <td>0</td>\n",
       "      <td>0</td>\n",
       "      <td>0</td>\n",
       "      <td>0</td>\n",
       "      <td>0</td>\n",
       "      <td>0</td>\n",
       "      <td>0</td>\n",
       "      <td>0</td>\n",
       "      <td>...</td>\n",
       "      <td>0.0</td>\n",
       "      <td>0.0</td>\n",
       "      <td>0.0</td>\n",
       "      <td>0.0</td>\n",
       "      <td>0.0</td>\n",
       "      <td>0.0</td>\n",
       "      <td>0.0</td>\n",
       "      <td>11.0</td>\n",
       "      <td>750.0</td>\n",
       "      <td>3563000.0</td>\n",
       "    </tr>\n",
       "    <tr>\n",
       "      <th>1</th>\n",
       "      <td>0</td>\n",
       "      <td>0</td>\n",
       "      <td>0</td>\n",
       "      <td>0</td>\n",
       "      <td>0</td>\n",
       "      <td>0</td>\n",
       "      <td>0</td>\n",
       "      <td>0</td>\n",
       "      <td>0</td>\n",
       "      <td>0</td>\n",
       "      <td>...</td>\n",
       "      <td>0.0</td>\n",
       "      <td>0.0</td>\n",
       "      <td>0.0</td>\n",
       "      <td>0.0</td>\n",
       "      <td>0.0</td>\n",
       "      <td>0.0</td>\n",
       "      <td>0.0</td>\n",
       "      <td>12.0</td>\n",
       "      <td>750.0</td>\n",
       "      <td>8517000.0</td>\n",
       "    </tr>\n",
       "    <tr>\n",
       "      <th>2</th>\n",
       "      <td>0</td>\n",
       "      <td>0</td>\n",
       "      <td>0</td>\n",
       "      <td>0</td>\n",
       "      <td>0</td>\n",
       "      <td>0</td>\n",
       "      <td>0</td>\n",
       "      <td>0</td>\n",
       "      <td>0</td>\n",
       "      <td>0</td>\n",
       "      <td>...</td>\n",
       "      <td>0.0</td>\n",
       "      <td>0.0</td>\n",
       "      <td>0.0</td>\n",
       "      <td>0.0</td>\n",
       "      <td>0.0</td>\n",
       "      <td>0.0</td>\n",
       "      <td>0.0</td>\n",
       "      <td>13.5</td>\n",
       "      <td>750.0</td>\n",
       "      <td>1641000.0</td>\n",
       "    </tr>\n",
       "    <tr>\n",
       "      <th>3</th>\n",
       "      <td>0</td>\n",
       "      <td>0</td>\n",
       "      <td>0</td>\n",
       "      <td>0</td>\n",
       "      <td>0</td>\n",
       "      <td>0</td>\n",
       "      <td>0</td>\n",
       "      <td>0</td>\n",
       "      <td>0</td>\n",
       "      <td>0</td>\n",
       "      <td>...</td>\n",
       "      <td>0.0</td>\n",
       "      <td>0.0</td>\n",
       "      <td>0.0</td>\n",
       "      <td>0.0</td>\n",
       "      <td>0.0</td>\n",
       "      <td>0.0</td>\n",
       "      <td>0.0</td>\n",
       "      <td>11.0</td>\n",
       "      <td>375.0</td>\n",
       "      <td>753000.0</td>\n",
       "    </tr>\n",
       "    <tr>\n",
       "      <th>4</th>\n",
       "      <td>0</td>\n",
       "      <td>0</td>\n",
       "      <td>0</td>\n",
       "      <td>0</td>\n",
       "      <td>0</td>\n",
       "      <td>0</td>\n",
       "      <td>0</td>\n",
       "      <td>0</td>\n",
       "      <td>0</td>\n",
       "      <td>0</td>\n",
       "      <td>...</td>\n",
       "      <td>0.0</td>\n",
       "      <td>0.0</td>\n",
       "      <td>0.0</td>\n",
       "      <td>0.0</td>\n",
       "      <td>0.0</td>\n",
       "      <td>0.0</td>\n",
       "      <td>0.0</td>\n",
       "      <td>12.5</td>\n",
       "      <td>750.0</td>\n",
       "      <td>3810000.0</td>\n",
       "    </tr>\n",
       "    <tr>\n",
       "      <th>...</th>\n",
       "      <td>...</td>\n",
       "      <td>...</td>\n",
       "      <td>...</td>\n",
       "      <td>...</td>\n",
       "      <td>...</td>\n",
       "      <td>...</td>\n",
       "      <td>...</td>\n",
       "      <td>...</td>\n",
       "      <td>...</td>\n",
       "      <td>...</td>\n",
       "      <td>...</td>\n",
       "      <td>...</td>\n",
       "      <td>...</td>\n",
       "      <td>...</td>\n",
       "      <td>...</td>\n",
       "      <td>...</td>\n",
       "      <td>...</td>\n",
       "      <td>...</td>\n",
       "      <td>...</td>\n",
       "      <td>...</td>\n",
       "      <td>...</td>\n",
       "    </tr>\n",
       "    <tr>\n",
       "      <th>3929</th>\n",
       "      <td>0</td>\n",
       "      <td>0</td>\n",
       "      <td>0</td>\n",
       "      <td>0</td>\n",
       "      <td>0</td>\n",
       "      <td>0</td>\n",
       "      <td>0</td>\n",
       "      <td>0</td>\n",
       "      <td>0</td>\n",
       "      <td>0</td>\n",
       "      <td>...</td>\n",
       "      <td>0.0</td>\n",
       "      <td>0.0</td>\n",
       "      <td>0.0</td>\n",
       "      <td>0.0</td>\n",
       "      <td>0.0</td>\n",
       "      <td>0.0</td>\n",
       "      <td>0.0</td>\n",
       "      <td>12.0</td>\n",
       "      <td>750.0</td>\n",
       "      <td>415000.0</td>\n",
       "    </tr>\n",
       "    <tr>\n",
       "      <th>3930</th>\n",
       "      <td>0</td>\n",
       "      <td>0</td>\n",
       "      <td>0</td>\n",
       "      <td>0</td>\n",
       "      <td>0</td>\n",
       "      <td>0</td>\n",
       "      <td>0</td>\n",
       "      <td>0</td>\n",
       "      <td>0</td>\n",
       "      <td>0</td>\n",
       "      <td>...</td>\n",
       "      <td>0.0</td>\n",
       "      <td>0.0</td>\n",
       "      <td>0.0</td>\n",
       "      <td>0.0</td>\n",
       "      <td>0.0</td>\n",
       "      <td>0.0</td>\n",
       "      <td>0.0</td>\n",
       "      <td>14.0</td>\n",
       "      <td>750.0</td>\n",
       "      <td>1975000.0</td>\n",
       "    </tr>\n",
       "    <tr>\n",
       "      <th>3931</th>\n",
       "      <td>0</td>\n",
       "      <td>0</td>\n",
       "      <td>0</td>\n",
       "      <td>0</td>\n",
       "      <td>0</td>\n",
       "      <td>0</td>\n",
       "      <td>0</td>\n",
       "      <td>0</td>\n",
       "      <td>0</td>\n",
       "      <td>0</td>\n",
       "      <td>...</td>\n",
       "      <td>0.0</td>\n",
       "      <td>0.0</td>\n",
       "      <td>0.0</td>\n",
       "      <td>0.0</td>\n",
       "      <td>0.0</td>\n",
       "      <td>0.0</td>\n",
       "      <td>0.0</td>\n",
       "      <td>13.5</td>\n",
       "      <td>750.0</td>\n",
       "      <td>330000.0</td>\n",
       "    </tr>\n",
       "    <tr>\n",
       "      <th>3932</th>\n",
       "      <td>0</td>\n",
       "      <td>0</td>\n",
       "      <td>0</td>\n",
       "      <td>0</td>\n",
       "      <td>0</td>\n",
       "      <td>0</td>\n",
       "      <td>0</td>\n",
       "      <td>0</td>\n",
       "      <td>0</td>\n",
       "      <td>0</td>\n",
       "      <td>...</td>\n",
       "      <td>0.0</td>\n",
       "      <td>0.0</td>\n",
       "      <td>0.0</td>\n",
       "      <td>0.0</td>\n",
       "      <td>0.0</td>\n",
       "      <td>0.0</td>\n",
       "      <td>0.0</td>\n",
       "      <td>13.5</td>\n",
       "      <td>750.0</td>\n",
       "      <td>660000.0</td>\n",
       "    </tr>\n",
       "    <tr>\n",
       "      <th>3933</th>\n",
       "      <td>0</td>\n",
       "      <td>0</td>\n",
       "      <td>0</td>\n",
       "      <td>0</td>\n",
       "      <td>0</td>\n",
       "      <td>0</td>\n",
       "      <td>0</td>\n",
       "      <td>0</td>\n",
       "      <td>0</td>\n",
       "      <td>0</td>\n",
       "      <td>...</td>\n",
       "      <td>0.0</td>\n",
       "      <td>0.0</td>\n",
       "      <td>0.0</td>\n",
       "      <td>0.0</td>\n",
       "      <td>0.0</td>\n",
       "      <td>0.0</td>\n",
       "      <td>0.0</td>\n",
       "      <td>12.5</td>\n",
       "      <td>750.0</td>\n",
       "      <td>575000.0</td>\n",
       "    </tr>\n",
       "  </tbody>\n",
       "</table>\n",
       "<p>3932 rows × 790 columns</p>\n",
       "</div>"
      ],
      "text/plain": [
       "      10 % Hárslevlű  100 % Touriga Nacional  100% Nho Tinta De Toro  \\\n",
       "0                  0                       0                       0   \n",
       "1                  0                       0                       0   \n",
       "2                  0                       0                       0   \n",
       "3                  0                       0                       0   \n",
       "4                  0                       0                       0   \n",
       "...              ...                     ...                     ...   \n",
       "3929               0                       0                       0   \n",
       "3930               0                       0                       0   \n",
       "3931               0                       0                       0   \n",
       "3932               0                       0                       0   \n",
       "3933               0                       0                       0   \n",
       "\n",
       "      100% Verdeca  100% Viura  90 % Furmint  Aglianico  Airen  Albana  \\\n",
       "0                0           0             0          0      0       0   \n",
       "1                0           0             0          0      0       0   \n",
       "2                0           0             0          0      0       0   \n",
       "3                0           0             0          0      0       0   \n",
       "4                0           0             0          0      0       0   \n",
       "...            ...         ...           ...        ...    ...     ...   \n",
       "3929             0           0             0          0      0       0   \n",
       "3930             0           0             0          0      0       0   \n",
       "3931             0           0             0          0      0       0   \n",
       "3932             0           0             0          0      0       0   \n",
       "3933             0           0             0          0      0       0   \n",
       "\n",
       "      Albarino  ...  Vung_lam_vang_Vin de France  Vung_lam_vang_Vino d’Italia  \\\n",
       "0            0  ...                          0.0                          0.0   \n",
       "1            0  ...                          0.0                          0.0   \n",
       "2            0  ...                          0.0                          0.0   \n",
       "3            0  ...                          0.0                          0.0   \n",
       "4            0  ...                          0.0                          0.0   \n",
       "...        ...  ...                          ...                          ...   \n",
       "3929         0  ...                          0.0                          0.0   \n",
       "3930         0  ...                          0.0                          0.0   \n",
       "3931         0  ...                          0.0                          0.0   \n",
       "3932         0  ...                          0.0                          0.0   \n",
       "3933         0  ...                          0.0                          0.0   \n",
       "\n",
       "      Vung_lam_vang_Weingut Hermann Donnhoff  Vung_lam_vang_Western Cape  \\\n",
       "0                                        0.0                         0.0   \n",
       "1                                        0.0                         0.0   \n",
       "2                                        0.0                         0.0   \n",
       "3                                        0.0                         0.0   \n",
       "4                                        0.0                         0.0   \n",
       "...                                      ...                         ...   \n",
       "3929                                     0.0                         0.0   \n",
       "3930                                     0.0                         0.0   \n",
       "3931                                     0.0                         0.0   \n",
       "3932                                     0.0                         0.0   \n",
       "3933                                     0.0                         0.0   \n",
       "\n",
       "      Vung_lam_vang_Yarra Valley  Vung_lam_vang_Yecla  \\\n",
       "0                            0.0                  0.0   \n",
       "1                            0.0                  0.0   \n",
       "2                            0.0                  0.0   \n",
       "3                            0.0                  0.0   \n",
       "4                            0.0                  0.0   \n",
       "...                          ...                  ...   \n",
       "3929                         0.0                  0.0   \n",
       "3930                         0.0                  0.0   \n",
       "3931                         0.0                  0.0   \n",
       "3932                         0.0                  0.0   \n",
       "3933                         0.0                  0.0   \n",
       "\n",
       "      Vung_lam_vang_infrequent_sklearn  Nong_do  Dung_tich        Gia  \n",
       "0                                  0.0     11.0      750.0  3563000.0  \n",
       "1                                  0.0     12.0      750.0  8517000.0  \n",
       "2                                  0.0     13.5      750.0  1641000.0  \n",
       "3                                  0.0     11.0      375.0   753000.0  \n",
       "4                                  0.0     12.5      750.0  3810000.0  \n",
       "...                                ...      ...        ...        ...  \n",
       "3929                               0.0     12.0      750.0   415000.0  \n",
       "3930                               0.0     14.0      750.0  1975000.0  \n",
       "3931                               0.0     13.5      750.0   330000.0  \n",
       "3932                               0.0     13.5      750.0   660000.0  \n",
       "3933                               0.0     12.5      750.0   575000.0  \n",
       "\n",
       "[3932 rows x 790 columns]"
      ]
     },
     "execution_count": 14,
     "metadata": {},
     "output_type": "execute_result"
    }
   ],
   "source": [
    "df_encoded"
   ]
  },
  {
   "cell_type": "markdown",
   "id": "d5ab88a5",
   "metadata": {},
   "source": [
    "Lấy ra cột label mà ta cần dự đoán ở đây là giá rượu"
   ]
  },
  {
   "cell_type": "code",
   "execution_count": 15,
   "id": "5b8db800",
   "metadata": {
    "scrolled": true
   },
   "outputs": [],
   "source": [
    "y = df_encoded.pop('Gia')"
   ]
  },
  {
   "cell_type": "markdown",
   "id": "58d523f9",
   "metadata": {},
   "source": [
    "Chia tập dữ liệu ban đầu thành hai tập dữ liệu với 1 tập dùng để huấn luyện cho mô hình và tập còn lại dùng để kiểm thử và đánh giá độ hiệu quả của mô hình."
   ]
  },
  {
   "cell_type": "code",
   "execution_count": 16,
   "id": "21e94327",
   "metadata": {},
   "outputs": [],
   "source": [
    "#Chia df thành tập train và test\n",
    "X_train, X_test, y_train, y_test = train_test_split(df_encoded, y, test_size=0.2, random_state = 0)\n",
    "# train.to_csv(os.path.join(os.getcwd(), 'dataset', 'train.csv'),index=False)\n",
    "# test.to_csv(os.path.join(os.getcwd(), 'dataset', 'test.csv'),index=False)"
   ]
  },
  {
   "cell_type": "markdown",
   "id": "d6409274",
   "metadata": {},
   "source": [
    "## Các mô hình"
   ]
  },
  {
   "cell_type": "markdown",
   "id": "2dc20595",
   "metadata": {},
   "source": [
    "<h3 style='color:#45ccb1d4;text-align:center;font-size:20px'><b>1. Linear Regression</b></h3> "
   ]
  },
  {
   "cell_type": "markdown",
   "id": "63b0eba3",
   "metadata": {},
   "source": [
    "Huấn luyện mô hình Linear Regression trên tập `X_train` và `y_train`"
   ]
  },
  {
   "cell_type": "code",
   "execution_count": 17,
   "id": "5940e5dd",
   "metadata": {},
   "outputs": [],
   "source": [
    "lin_reg = LinearRegression().fit(X_train, y_train)"
   ]
  },
  {
   "cell_type": "markdown",
   "id": "f428d962",
   "metadata": {},
   "source": [
    "Dùng mô hình để dự đoán trên tập `X_test`"
   ]
  },
  {
   "cell_type": "code",
   "execution_count": 18,
   "id": "2aba9e21",
   "metadata": {},
   "outputs": [],
   "source": [
    "lr_pred = lin_reg.predict(X_test)"
   ]
  },
  {
   "cell_type": "markdown",
   "id": "e56304b4",
   "metadata": {},
   "source": [
    "Đo độ lỗi <i>Mean squared error</i> và <i>Root mean squared error</i> của mô hình so với `y_test`"
   ]
  },
  {
   "cell_type": "code",
   "execution_count": 19,
   "id": "204595f4",
   "metadata": {},
   "outputs": [
    {
     "data": {
      "text/plain": [
       "3627867439159.142"
      ]
     },
     "execution_count": 19,
     "metadata": {},
     "output_type": "execute_result"
    }
   ],
   "source": [
    "lr_mse = mean_squared_error(y_test,lr_pred)\n",
    "lr_mse"
   ]
  },
  {
   "cell_type": "code",
   "execution_count": 20,
   "id": "45f3c131",
   "metadata": {},
   "outputs": [
    {
     "data": {
      "text/plain": [
       "1904696.154025398"
      ]
     },
     "execution_count": 20,
     "metadata": {},
     "output_type": "execute_result"
    }
   ],
   "source": [
    "lr_rmse = np.sqrt(lr_mse)\n",
    "lr_rmse"
   ]
  },
  {
   "cell_type": "markdown",
   "id": "62972d10",
   "metadata": {},
   "source": [
    "<h3 style='color:#45ccb1d4;text-align:center;font-size:20px'><b>2. Decision Tree Regression</b></h3> "
   ]
  },
  {
   "cell_type": "markdown",
   "id": "00d32f39",
   "metadata": {},
   "source": [
    "Huấn luyện mô hình Decision Tree Regression trên tập `X_train` và `y_train`"
   ]
  },
  {
   "cell_type": "code",
   "execution_count": 21,
   "id": "1741327b",
   "metadata": {},
   "outputs": [],
   "source": [
    "decision_tree_reg = DecisionTreeRegressor().fit(X_train, y_train)"
   ]
  },
  {
   "cell_type": "markdown",
   "id": "128cd01a",
   "metadata": {},
   "source": [
    "Dùng mô hình để dự đoán trên tập `X_test`"
   ]
  },
  {
   "cell_type": "code",
   "execution_count": 22,
   "id": "494a2671",
   "metadata": {},
   "outputs": [],
   "source": [
    "dt_pred = decision_tree_reg.predict(X_test)"
   ]
  },
  {
   "cell_type": "markdown",
   "id": "c942c869",
   "metadata": {},
   "source": [
    "Đo độ lỗi <i>Mean squared error</i> và <i>Root mean squared error</i> của mô hình so với `y_test`"
   ]
  },
  {
   "cell_type": "code",
   "execution_count": 23,
   "id": "cb2fad1e",
   "metadata": {},
   "outputs": [
    {
     "data": {
      "text/plain": [
       "5792213287851.546"
      ]
     },
     "execution_count": 23,
     "metadata": {},
     "output_type": "execute_result"
    }
   ],
   "source": [
    "dt_mse = mean_squared_error(y_test,dt_pred)\n",
    "dt_mse"
   ]
  },
  {
   "cell_type": "code",
   "execution_count": 24,
   "id": "b599df57",
   "metadata": {},
   "outputs": [
    {
     "data": {
      "text/plain": [
       "2406701.744681203"
      ]
     },
     "execution_count": 24,
     "metadata": {},
     "output_type": "execute_result"
    }
   ],
   "source": [
    "dt_rmse = mean_squared_error(y_test, dt_pred, squared=False)\n",
    "dt_rmse"
   ]
  },
  {
   "cell_type": "markdown",
   "id": "56f8ebd8",
   "metadata": {},
   "source": [
    "<h3 style='color:#45ccb1d4;text-align:center;font-size:20px'><b>3. Random Forest Regression</b></h3> "
   ]
  },
  {
   "cell_type": "markdown",
   "id": "19eff61c",
   "metadata": {},
   "source": [
    "Huấn luyện mô hình Random Forest Regression trên tập `X_train` và `y_train`"
   ]
  },
  {
   "cell_type": "code",
   "execution_count": 25,
   "id": "dda42922",
   "metadata": {},
   "outputs": [],
   "source": [
    "rf_reg = RandomForestRegressor(max_depth = 5).fit(X_train, y_train)"
   ]
  },
  {
   "cell_type": "markdown",
   "id": "b689697d",
   "metadata": {},
   "source": [
    "Dùng mô hình để dự đoán trên tập `X_test`"
   ]
  },
  {
   "cell_type": "code",
   "execution_count": 26,
   "id": "cb1c2fcd",
   "metadata": {},
   "outputs": [],
   "source": [
    "rf_pred = rf_reg.predict(X_test)"
   ]
  },
  {
   "cell_type": "markdown",
   "id": "9b396811",
   "metadata": {},
   "source": [
    "Đo độ lỗi <i>Mean squared error</i> và <i>Root mean squared error</i> của mô hình so với `y_test`"
   ]
  },
  {
   "cell_type": "code",
   "execution_count": 27,
   "id": "d05c27f8",
   "metadata": {},
   "outputs": [
    {
     "data": {
      "text/plain": [
       "3260689014701.2573"
      ]
     },
     "execution_count": 27,
     "metadata": {},
     "output_type": "execute_result"
    }
   ],
   "source": [
    "rf_mse = mean_squared_error(y_test, rf_pred)\n",
    "rf_mse"
   ]
  },
  {
   "cell_type": "code",
   "execution_count": 28,
   "id": "ed2f5825",
   "metadata": {},
   "outputs": [
    {
     "data": {
      "text/plain": [
       "1805737.803420324"
      ]
     },
     "execution_count": 28,
     "metadata": {},
     "output_type": "execute_result"
    }
   ],
   "source": [
    "rf_rmse = mean_squared_error(y_test, rf_pred, squared=False)\n",
    "rf_rmse"
   ]
  },
  {
   "cell_type": "markdown",
   "id": "1f787c89",
   "metadata": {},
   "source": [
    "<h2 style='color:#45ccb1d4;text-align:center;font-size:25px'><b>B. Đánh giá mô hình</b></h2> "
   ]
  },
  {
   "cell_type": "markdown",
   "id": "6da9459a",
   "metadata": {},
   "source": [
    "<h3 style='color:#45ccb1d4;text-align:left;font-size:20px'><b>1. Linear Regression</b></h3> "
   ]
  },
  {
   "cell_type": "markdown",
   "id": "fdc8fb31",
   "metadata": {},
   "source": [
    "#### Cross-validation"
   ]
  },
  {
   "cell_type": "code",
   "execution_count": 29,
   "id": "34bec007",
   "metadata": {},
   "outputs": [],
   "source": [
    "cv = ShuffleSplit(n_splits=5, test_size=0.2, random_state=0)"
   ]
  },
  {
   "cell_type": "markdown",
   "id": "349876c4",
   "metadata": {},
   "source": [
    "Tính độ lỗi trung bình"
   ]
  },
  {
   "cell_type": "code",
   "execution_count": 30,
   "id": "e399cefd",
   "metadata": {},
   "outputs": [
    {
     "name": "stdout",
     "output_type": "stream",
     "text": [
      "[-3.62786744e+12 -3.65853353e+31 -3.96629689e+12 -6.12078959e+31\n",
      " -5.29782859e+12] \n",
      " -1.9558646249684997e+31\n"
     ]
    }
   ],
   "source": [
    "scores = cross_val_score(lin_reg, df_encoded, y, scoring='neg_mean_squared_error', cv=cv)\n",
    "print(scores,'\\n', np.mean(scores))"
   ]
  },
  {
   "cell_type": "code",
   "execution_count": 31,
   "id": "6b9f539b",
   "metadata": {},
   "outputs": [
    {
     "name": "stdout",
     "output_type": "stream",
     "text": [
      "[3.62786744e+12 3.65853353e+31 3.96629689e+12 6.12078959e+31\n",
      " 5.29782859e+12] \n",
      " 1.9558646249684997e+31\n"
     ]
    }
   ],
   "source": [
    "lr_mse_scores=-scores\n",
    "print(lr_mse_scores,'\\n', np.mean(lr_mse_scores))"
   ]
  },
  {
   "cell_type": "code",
   "execution_count": 32,
   "id": "78ffabb3",
   "metadata": {},
   "outputs": [
    {
     "name": "stdout",
     "output_type": "stream",
     "text": [
      "[1.90469615e+06 6.04858127e+15 1.99155640e+06 7.82354753e+15\n",
      " 2.30170124e+06] \n",
      " 2774425760004651.5\n"
     ]
    }
   ],
   "source": [
    "lr_rmse_scores = np.sqrt(lr_mse_scores)\n",
    "print(lr_rmse_scores,'\\n', np.mean(lr_rmse_scores))"
   ]
  },
  {
   "cell_type": "markdown",
   "id": "f096f01f",
   "metadata": {},
   "source": [
    "#### Minh hoạ mô hình"
   ]
  },
  {
   "cell_type": "code",
   "execution_count": 33,
   "id": "2d955fe8",
   "metadata": {},
   "outputs": [
    {
     "data": {
      "text/plain": [
       "Text(0.5, 0, 'Giá rượu (triệu VNĐ)')"
      ]
     },
     "execution_count": 33,
     "metadata": {},
     "output_type": "execute_result"
    },
    {
     "data": {
      "image/png": "[encoded data removed]",
      "text/plain": [
       "<Figure size 1000x600 with 1 Axes>"
      ]
     },
     "metadata": {},
     "output_type": "display_data"
    }
   ],
   "source": [
    "plt.figure(figsize=(10,6));\n",
    "sns.regplot(x=y_test,y=lr_pred,ci=None, scatter_kws={\"color\": \"blue\"}, line_kws={\"color\": \"red\"});\n",
    "plt.title('Linear Regression', fontsize=14)\n",
    "plt.xlabel('Giá rượu (triệu VNĐ)', fontsize=14)"
   ]
  },
  {
   "cell_type": "markdown",
   "id": "0f8e55ed",
   "metadata": {},
   "source": [
    "<h3 style='color:#45ccb1d4;font-size:20px'><b>2. Decision Tree Regression</b></h3> "
   ]
  },
  {
   "cell_type": "markdown",
   "id": "53967fa2",
   "metadata": {},
   "source": [
    "#### Cross-validation"
   ]
  },
  {
   "cell_type": "code",
   "execution_count": 34,
   "id": "963f60a5",
   "metadata": {},
   "outputs": [
    {
     "data": {
      "text/plain": [
       "array([-7.30248957e+12, -4.87331191e+12, -1.27051811e+13, -4.83216636e+12,\n",
       "       -6.59998453e+12, -6.55205292e+12, -1.03944774e+13, -4.84809907e+12,\n",
       "       -4.42156672e+12, -5.63002779e+12])"
      ]
     },
     "execution_count": 34,
     "metadata": {},
     "output_type": "execute_result"
    }
   ],
   "source": [
    "scores = cross_val_score(decision_tree_reg,X_train, y_train,scoring='neg_mean_squared_error',cv = 10)\n",
    "scores"
   ]
  },
  {
   "cell_type": "markdown",
   "id": "0c35a5d8",
   "metadata": {},
   "source": [
    "Tính độ lỗi trung bình"
   ]
  },
  {
   "cell_type": "code",
   "execution_count": 35,
   "id": "568d5368",
   "metadata": {},
   "outputs": [
    {
     "data": {
      "text/plain": [
       "6815935732975.85"
      ]
     },
     "execution_count": 35,
     "metadata": {},
     "output_type": "execute_result"
    }
   ],
   "source": [
    "scores = -scores\n",
    "scores.mean()"
   ]
  },
  {
   "cell_type": "markdown",
   "id": "c2a02d6d",
   "metadata": {},
   "source": [
    "<h3 style='color:#45ccb1d4;font-size:20px'><b>3. Random Forest Regression</b></h3> "
   ]
  },
  {
   "cell_type": "markdown",
   "id": "8d6ffb68",
   "metadata": {},
   "source": [
    "#### Cross-validation"
   ]
  },
  {
   "cell_type": "code",
   "execution_count": 36,
   "id": "b8a8e53c",
   "metadata": {},
   "outputs": [
    {
     "data": {
      "text/plain": [
       "array([-3.08619309e+12, -2.44825081e+12, -9.71011885e+12, -2.44633870e+12,\n",
       "       -5.07130613e+12, -2.85028923e+12, -7.95743169e+12, -4.76912953e+12,\n",
       "       -3.86627746e+12, -2.72658392e+12])"
      ]
     },
     "execution_count": 36,
     "metadata": {},
     "output_type": "execute_result"
    }
   ],
   "source": [
    "scores = cross_val_score(rf_reg,X_train, y_train,scoring='neg_mean_squared_error',cv = 10)\n",
    "scores"
   ]
  },
  {
   "cell_type": "markdown",
   "id": "d6f0badd",
   "metadata": {},
   "source": [
    "Tính độ lỗi trung bình"
   ]
  },
  {
   "cell_type": "code",
   "execution_count": 37,
   "id": "2d36f40b",
   "metadata": {},
   "outputs": [
    {
     "data": {
      "text/plain": [
       "4493191938507.836"
      ]
     },
     "execution_count": 37,
     "metadata": {},
     "output_type": "execute_result"
    }
   ],
   "source": [
    "scores = -scores\n",
    "scores.mean()"
   ]
  },
  {
   "cell_type": "markdown",
   "id": "c5d70c46",
   "metadata": {},
   "source": [
    "#### Tinh chỉnh mô hình bằng siêu tham số"
   ]
  },
  {
   "cell_type": "markdown",
   "id": "2cc1779d",
   "metadata": {},
   "source": [
    "Random Forest Regression"
   ]
  },
  {
   "cell_type": "code",
   "execution_count": 1,
   "id": "a235b942",
   "metadata": {},
   "outputs": [],
   "source": [
    "# Chọn các tham số\n",
    "param_grid = {\n",
    "    'bootstrap': [True, False],\n",
    "    'max_depth': [5, 10, 15],\n",
    "    'max_features': ['auto', 'sqrt'],\n",
    "    'min_samples_leaf': [1, 2, 3, 4],\n",
    "    'min_samples_split': [2, 4, 6],\n",
    "    'n_estimators': [5, 10, 15, 20]\n",
    "}"
   ]
  },
  {
   "cell_type": "code",
   "execution_count": 39,
   "id": "647f1698",
   "metadata": {},
   "outputs": [],
   "source": [
    "grid_search_rf_reg = GridSearchCV(estimator = rf_reg, param_grid = param_grid, cv = 5)"
   ]
  },
  {
   "cell_type": "code",
   "execution_count": 40,
   "id": "8a46f191",
   "metadata": {},
   "outputs": [
    {
     "data": {
      "text/html": [
       "<style>#sk-container-id-1 {color: black;background-color: white;}#sk-container-id-1 pre{padding: 0;}#sk-container-id-1 div.sk-toggleable {background-color: white;}#sk-container-id-1 label.sk-toggleable__label {cursor: pointer;display: block;width: 100%;margin-bottom: 0;padding: 0.3em;box-sizing: border-box;text-align: center;}#sk-container-id-1 label.sk-toggleable__label-arrow:before {content: \"▸\";float: left;margin-right: 0.25em;color: #696969;}#sk-container-id-1 label.sk-toggleable__label-arrow:hover:before {color: black;}#sk-container-id-1 div.sk-estimator:hover label.sk-toggleable__label-arrow:before {color: black;}#sk-container-id-1 div.sk-toggleable__content {max-height: 0;max-width: 0;overflow: hidden;text-align: left;background-color: #f0f8ff;}#sk-container-id-1 div.sk-toggleable__content pre {margin: 0.2em;color: black;border-radius: 0.25em;background-color: #f0f8ff;}#sk-container-id-1 input.sk-toggleable__control:checked~div.sk-toggleable__content {max-height: 200px;max-width: 100%;overflow: auto;}#sk-container-id-1 input.sk-toggleable__control:checked~label.sk-toggleable__label-arrow:before {content: \"▾\";}#sk-container-id-1 div.sk-estimator input.sk-toggleable__control:checked~label.sk-toggleable__label {background-color: #d4ebff;}#sk-container-id-1 div.sk-label input.sk-toggleable__control:checked~label.sk-toggleable__label {background-color: #d4ebff;}#sk-container-id-1 input.sk-hidden--visually {border: 0;clip: rect(1px 1px 1px 1px);clip: rect(1px, 1px, 1px, 1px);height: 1px;margin: -1px;overflow: hidden;padding: 0;position: absolute;width: 1px;}#sk-container-id-1 div.sk-estimator {font-family: monospace;background-color: #f0f8ff;border: 1px dotted black;border-radius: 0.25em;box-sizing: border-box;margin-bottom: 0.5em;}#sk-container-id-1 div.sk-estimator:hover {background-color: #d4ebff;}#sk-container-id-1 div.sk-parallel-item::after {content: \"\";width: 100%;border-bottom: 1px solid gray;flex-grow: 1;}#sk-container-id-1 div.sk-label:hover label.sk-toggleable__label {background-color: #d4ebff;}#sk-container-id-1 div.sk-serial::before {content: \"\";position: absolute;border-left: 1px solid gray;box-sizing: border-box;top: 0;bottom: 0;left: 50%;z-index: 0;}#sk-container-id-1 div.sk-serial {display: flex;flex-direction: column;align-items: center;background-color: white;padding-right: 0.2em;padding-left: 0.2em;position: relative;}#sk-container-id-1 div.sk-item {position: relative;z-index: 1;}#sk-container-id-1 div.sk-parallel {display: flex;align-items: stretch;justify-content: center;background-color: white;position: relative;}#sk-container-id-1 div.sk-item::before, #sk-container-id-1 div.sk-parallel-item::before {content: \"\";position: absolute;border-left: 1px solid gray;box-sizing: border-box;top: 0;bottom: 0;left: 50%;z-index: -1;}#sk-container-id-1 div.sk-parallel-item {display: flex;flex-direction: column;z-index: 1;position: relative;background-color: white;}#sk-container-id-1 div.sk-parallel-item:first-child::after {align-self: flex-end;width: 50%;}#sk-container-id-1 div.sk-parallel-item:last-child::after {align-self: flex-start;width: 50%;}#sk-container-id-1 div.sk-parallel-item:only-child::after {width: 0;}#sk-container-id-1 div.sk-dashed-wrapped {border: 1px dashed gray;margin: 0 0.4em 0.5em 0.4em;box-sizing: border-box;padding-bottom: 0.4em;background-color: white;}#sk-container-id-1 div.sk-label label {font-family: monospace;font-weight: bold;display: inline-block;line-height: 1.2em;}#sk-container-id-1 div.sk-label-container {text-align: center;}#sk-container-id-1 div.sk-container {/* jupyter's `normalize.less` sets `[hidden] { display: none; }` but bootstrap.min.css set `[hidden] { display: none !important; }` so we also need the `!important` here to be able to override the default hidden behavior on the sphinx rendered scikit-learn.org. See: https://github.com/scikit-learn/scikit-learn/issues/21755 */display: inline-block !important;position: relative;}#sk-container-id-1 div.sk-text-repr-fallback {display: none;}</style><div id=\"sk-container-id-1\" class=\"sk-top-container\"><div class=\"sk-text-repr-fallback\"><pre>GridSearchCV(cv=5, estimator=RandomForestRegressor(max_depth=5),\n",
       "             param_grid={&#x27;bootstrap&#x27;: [True, False], &#x27;max_depth&#x27;: [5, 10, 15],\n",
       "                         &#x27;max_features&#x27;: [&#x27;auto&#x27;, &#x27;sqrt&#x27;],\n",
       "                         &#x27;min_samples_leaf&#x27;: [1, 2, 3, 4],\n",
       "                         &#x27;min_samples_split&#x27;: [2, 4, 6],\n",
       "                         &#x27;n_estimators&#x27;: [5, 10, 15, 20]})</pre><b>In a Jupyter environment, please rerun this cell to show the HTML representation or trust the notebook. <br />On GitHub, the HTML representation is unable to render, please try loading this page with nbviewer.org.</b></div><div class=\"sk-container\" hidden><div class=\"sk-item sk-dashed-wrapped\"><div class=\"sk-label-container\"><div class=\"sk-label sk-toggleable\"><input class=\"sk-toggleable__control sk-hidden--visually\" id=\"sk-estimator-id-1\" type=\"checkbox\" ><label for=\"sk-estimator-id-1\" class=\"sk-toggleable__label sk-toggleable__label-arrow\">GridSearchCV</label><div class=\"sk-toggleable__content\"><pre>GridSearchCV(cv=5, estimator=RandomForestRegressor(max_depth=5),\n",
       "             param_grid={&#x27;bootstrap&#x27;: [True, False], &#x27;max_depth&#x27;: [5, 10, 15],\n",
       "                         &#x27;max_features&#x27;: [&#x27;auto&#x27;, &#x27;sqrt&#x27;],\n",
       "                         &#x27;min_samples_leaf&#x27;: [1, 2, 3, 4],\n",
       "                         &#x27;min_samples_split&#x27;: [2, 4, 6],\n",
       "                         &#x27;n_estimators&#x27;: [5, 10, 15, 20]})</pre></div></div></div><div class=\"sk-parallel\"><div class=\"sk-parallel-item\"><div class=\"sk-item\"><div class=\"sk-label-container\"><div class=\"sk-label sk-toggleable\"><input class=\"sk-toggleable__control sk-hidden--visually\" id=\"sk-estimator-id-2\" type=\"checkbox\" ><label for=\"sk-estimator-id-2\" class=\"sk-toggleable__label sk-toggleable__label-arrow\">estimator: RandomForestRegressor</label><div class=\"sk-toggleable__content\"><pre>RandomForestRegressor(max_depth=5)</pre></div></div></div><div class=\"sk-serial\"><div class=\"sk-item\"><div class=\"sk-estimator sk-toggleable\"><input class=\"sk-toggleable__control sk-hidden--visually\" id=\"sk-estimator-id-3\" type=\"checkbox\" ><label for=\"sk-estimator-id-3\" class=\"sk-toggleable__label sk-toggleable__label-arrow\">RandomForestRegressor</label><div class=\"sk-toggleable__content\"><pre>RandomForestRegressor(max_depth=5)</pre></div></div></div></div></div></div></div></div></div></div>"
      ],
      "text/plain": [
       "GridSearchCV(cv=5, estimator=RandomForestRegressor(max_depth=5),\n",
       "             param_grid={'bootstrap': [True, False], 'max_depth': [5, 10, 15],\n",
       "                         'max_features': ['auto', 'sqrt'],\n",
       "                         'min_samples_leaf': [1, 2, 3, 4],\n",
       "                         'min_samples_split': [2, 4, 6],\n",
       "                         'n_estimators': [5, 10, 15, 20]})"
      ]
     },
     "execution_count": 40,
     "metadata": {},
     "output_type": "execute_result"
    }
   ],
   "source": [
    "grid_search_rf_reg.fit(X_train, y_train)"
   ]
  },
  {
   "cell_type": "markdown",
   "id": "5d145ffa",
   "metadata": {},
   "source": [
    "Decision Tree Regression"
   ]
  },
  {
   "cell_type": "code",
   "execution_count": 41,
   "id": "dff15ba6",
   "metadata": {},
   "outputs": [],
   "source": [
    "# Chọn các tham số\n",
    "param_grid = {\n",
    "    'max_depth': [5, 10, 15],\n",
    "    'max_features': ['auto', 'sqrt'],\n",
    "    'min_samples_leaf': [1, 2, 3, 4],\n",
    "    'min_samples_split': [2, 4, 6],\n",
    "}"
   ]
  },
  {
   "cell_type": "code",
   "execution_count": 42,
   "id": "99f3e21f",
   "metadata": {},
   "outputs": [],
   "source": [
    "grid_search_decision_tree_reg = GridSearchCV(estimator = decision_tree_reg, param_grid = param_grid, cv = 5)"
   ]
  },
  {
   "cell_type": "code",
   "execution_count": 43,
   "id": "80ee8e71",
   "metadata": {},
   "outputs": [
    {
     "data": {
      "text/html": [
       "<style>#sk-container-id-2 {color: black;background-color: white;}#sk-container-id-2 pre{padding: 0;}#sk-container-id-2 div.sk-toggleable {background-color: white;}#sk-container-id-2 label.sk-toggleable__label {cursor: pointer;display: block;width: 100%;margin-bottom: 0;padding: 0.3em;box-sizing: border-box;text-align: center;}#sk-container-id-2 label.sk-toggleable__label-arrow:before {content: \"▸\";float: left;margin-right: 0.25em;color: #696969;}#sk-container-id-2 label.sk-toggleable__label-arrow:hover:before {color: black;}#sk-container-id-2 div.sk-estimator:hover label.sk-toggleable__label-arrow:before {color: black;}#sk-container-id-2 div.sk-toggleable__content {max-height: 0;max-width: 0;overflow: hidden;text-align: left;background-color: #f0f8ff;}#sk-container-id-2 div.sk-toggleable__content pre {margin: 0.2em;color: black;border-radius: 0.25em;background-color: #f0f8ff;}#sk-container-id-2 input.sk-toggleable__control:checked~div.sk-toggleable__content {max-height: 200px;max-width: 100%;overflow: auto;}#sk-container-id-2 input.sk-toggleable__control:checked~label.sk-toggleable__label-arrow:before {content: \"▾\";}#sk-container-id-2 div.sk-estimator input.sk-toggleable__control:checked~label.sk-toggleable__label {background-color: #d4ebff;}#sk-container-id-2 div.sk-label input.sk-toggleable__control:checked~label.sk-toggleable__label {background-color: #d4ebff;}#sk-container-id-2 input.sk-hidden--visually {border: 0;clip: rect(1px 1px 1px 1px);clip: rect(1px, 1px, 1px, 1px);height: 1px;margin: -1px;overflow: hidden;padding: 0;position: absolute;width: 1px;}#sk-container-id-2 div.sk-estimator {font-family: monospace;background-color: #f0f8ff;border: 1px dotted black;border-radius: 0.25em;box-sizing: border-box;margin-bottom: 0.5em;}#sk-container-id-2 div.sk-estimator:hover {background-color: #d4ebff;}#sk-container-id-2 div.sk-parallel-item::after {content: \"\";width: 100%;border-bottom: 1px solid gray;flex-grow: 1;}#sk-container-id-2 div.sk-label:hover label.sk-toggleable__label {background-color: #d4ebff;}#sk-container-id-2 div.sk-serial::before {content: \"\";position: absolute;border-left: 1px solid gray;box-sizing: border-box;top: 0;bottom: 0;left: 50%;z-index: 0;}#sk-container-id-2 div.sk-serial {display: flex;flex-direction: column;align-items: center;background-color: white;padding-right: 0.2em;padding-left: 0.2em;position: relative;}#sk-container-id-2 div.sk-item {position: relative;z-index: 1;}#sk-container-id-2 div.sk-parallel {display: flex;align-items: stretch;justify-content: center;background-color: white;position: relative;}#sk-container-id-2 div.sk-item::before, #sk-container-id-2 div.sk-parallel-item::before {content: \"\";position: absolute;border-left: 1px solid gray;box-sizing: border-box;top: 0;bottom: 0;left: 50%;z-index: -1;}#sk-container-id-2 div.sk-parallel-item {display: flex;flex-direction: column;z-index: 1;position: relative;background-color: white;}#sk-container-id-2 div.sk-parallel-item:first-child::after {align-self: flex-end;width: 50%;}#sk-container-id-2 div.sk-parallel-item:last-child::after {align-self: flex-start;width: 50%;}#sk-container-id-2 div.sk-parallel-item:only-child::after {width: 0;}#sk-container-id-2 div.sk-dashed-wrapped {border: 1px dashed gray;margin: 0 0.4em 0.5em 0.4em;box-sizing: border-box;padding-bottom: 0.4em;background-color: white;}#sk-container-id-2 div.sk-label label {font-family: monospace;font-weight: bold;display: inline-block;line-height: 1.2em;}#sk-container-id-2 div.sk-label-container {text-align: center;}#sk-container-id-2 div.sk-container {/* jupyter's `normalize.less` sets `[hidden] { display: none; }` but bootstrap.min.css set `[hidden] { display: none !important; }` so we also need the `!important` here to be able to override the default hidden behavior on the sphinx rendered scikit-learn.org. See: https://github.com/scikit-learn/scikit-learn/issues/21755 */display: inline-block !important;position: relative;}#sk-container-id-2 div.sk-text-repr-fallback {display: none;}</style><div id=\"sk-container-id-2\" class=\"sk-top-container\"><div class=\"sk-text-repr-fallback\"><pre>GridSearchCV(cv=5, estimator=DecisionTreeRegressor(),\n",
       "             param_grid={&#x27;max_depth&#x27;: [5, 10, 15],\n",
       "                         &#x27;max_features&#x27;: [&#x27;auto&#x27;, &#x27;sqrt&#x27;],\n",
       "                         &#x27;min_samples_leaf&#x27;: [1, 2, 3, 4],\n",
       "                         &#x27;min_samples_split&#x27;: [2, 4, 6]})</pre><b>In a Jupyter environment, please rerun this cell to show the HTML representation or trust the notebook. <br />On GitHub, the HTML representation is unable to render, please try loading this page with nbviewer.org.</b></div><div class=\"sk-container\" hidden><div class=\"sk-item sk-dashed-wrapped\"><div class=\"sk-label-container\"><div class=\"sk-label sk-toggleable\"><input class=\"sk-toggleable__control sk-hidden--visually\" id=\"sk-estimator-id-4\" type=\"checkbox\" ><label for=\"sk-estimator-id-4\" class=\"sk-toggleable__label sk-toggleable__label-arrow\">GridSearchCV</label><div class=\"sk-toggleable__content\"><pre>GridSearchCV(cv=5, estimator=DecisionTreeRegressor(),\n",
       "             param_grid={&#x27;max_depth&#x27;: [5, 10, 15],\n",
       "                         &#x27;max_features&#x27;: [&#x27;auto&#x27;, &#x27;sqrt&#x27;],\n",
       "                         &#x27;min_samples_leaf&#x27;: [1, 2, 3, 4],\n",
       "                         &#x27;min_samples_split&#x27;: [2, 4, 6]})</pre></div></div></div><div class=\"sk-parallel\"><div class=\"sk-parallel-item\"><div class=\"sk-item\"><div class=\"sk-label-container\"><div class=\"sk-label sk-toggleable\"><input class=\"sk-toggleable__control sk-hidden--visually\" id=\"sk-estimator-id-5\" type=\"checkbox\" ><label for=\"sk-estimator-id-5\" class=\"sk-toggleable__label sk-toggleable__label-arrow\">estimator: DecisionTreeRegressor</label><div class=\"sk-toggleable__content\"><pre>DecisionTreeRegressor()</pre></div></div></div><div class=\"sk-serial\"><div class=\"sk-item\"><div class=\"sk-estimator sk-toggleable\"><input class=\"sk-toggleable__control sk-hidden--visually\" id=\"sk-estimator-id-6\" type=\"checkbox\" ><label for=\"sk-estimator-id-6\" class=\"sk-toggleable__label sk-toggleable__label-arrow\">DecisionTreeRegressor</label><div class=\"sk-toggleable__content\"><pre>DecisionTreeRegressor()</pre></div></div></div></div></div></div></div></div></div></div>"
      ],
      "text/plain": [
       "GridSearchCV(cv=5, estimator=DecisionTreeRegressor(),\n",
       "             param_grid={'max_depth': [5, 10, 15],\n",
       "                         'max_features': ['auto', 'sqrt'],\n",
       "                         'min_samples_leaf': [1, 2, 3, 4],\n",
       "                         'min_samples_split': [2, 4, 6]})"
      ]
     },
     "execution_count": 43,
     "metadata": {},
     "output_type": "execute_result"
    }
   ],
   "source": [
    "grid_search_decision_tree_reg.fit(X_train, y_train)"
   ]
  },
  {
   "cell_type": "markdown",
   "id": "a2171eb1",
   "metadata": {},
   "source": [
    "#### Chọn mô hình tốt nhất"
   ]
  },
  {
   "cell_type": "markdown",
   "id": "aa4e27c4",
   "metadata": {},
   "source": [
    "Random Forest Regression"
   ]
  },
  {
   "cell_type": "code",
   "execution_count": 44,
   "id": "70e1829e",
   "metadata": {},
   "outputs": [
    {
     "data": {
      "text/plain": [
       "{'bootstrap': True,\n",
       " 'max_depth': 15,\n",
       " 'max_features': 'auto',\n",
       " 'min_samples_leaf': 3,\n",
       " 'min_samples_split': 4,\n",
       " 'n_estimators': 20}"
      ]
     },
     "execution_count": 44,
     "metadata": {},
     "output_type": "execute_result"
    }
   ],
   "source": [
    "grid_search_rf_reg.best_params_"
   ]
  },
  {
   "cell_type": "code",
   "execution_count": 45,
   "id": "0d6ca56a",
   "metadata": {},
   "outputs": [
    {
     "data": {
      "text/html": [
       "<style>#sk-container-id-3 {color: black;background-color: white;}#sk-container-id-3 pre{padding: 0;}#sk-container-id-3 div.sk-toggleable {background-color: white;}#sk-container-id-3 label.sk-toggleable__label {cursor: pointer;display: block;width: 100%;margin-bottom: 0;padding: 0.3em;box-sizing: border-box;text-align: center;}#sk-container-id-3 label.sk-toggleable__label-arrow:before {content: \"▸\";float: left;margin-right: 0.25em;color: #696969;}#sk-container-id-3 label.sk-toggleable__label-arrow:hover:before {color: black;}#sk-container-id-3 div.sk-estimator:hover label.sk-toggleable__label-arrow:before {color: black;}#sk-container-id-3 div.sk-toggleable__content {max-height: 0;max-width: 0;overflow: hidden;text-align: left;background-color: #f0f8ff;}#sk-container-id-3 div.sk-toggleable__content pre {margin: 0.2em;color: black;border-radius: 0.25em;background-color: #f0f8ff;}#sk-container-id-3 input.sk-toggleable__control:checked~div.sk-toggleable__content {max-height: 200px;max-width: 100%;overflow: auto;}#sk-container-id-3 input.sk-toggleable__control:checked~label.sk-toggleable__label-arrow:before {content: \"▾\";}#sk-container-id-3 div.sk-estimator input.sk-toggleable__control:checked~label.sk-toggleable__label {background-color: #d4ebff;}#sk-container-id-3 div.sk-label input.sk-toggleable__control:checked~label.sk-toggleable__label {background-color: #d4ebff;}#sk-container-id-3 input.sk-hidden--visually {border: 0;clip: rect(1px 1px 1px 1px);clip: rect(1px, 1px, 1px, 1px);height: 1px;margin: -1px;overflow: hidden;padding: 0;position: absolute;width: 1px;}#sk-container-id-3 div.sk-estimator {font-family: monospace;background-color: #f0f8ff;border: 1px dotted black;border-radius: 0.25em;box-sizing: border-box;margin-bottom: 0.5em;}#sk-container-id-3 div.sk-estimator:hover {background-color: #d4ebff;}#sk-container-id-3 div.sk-parallel-item::after {content: \"\";width: 100%;border-bottom: 1px solid gray;flex-grow: 1;}#sk-container-id-3 div.sk-label:hover label.sk-toggleable__label {background-color: #d4ebff;}#sk-container-id-3 div.sk-serial::before {content: \"\";position: absolute;border-left: 1px solid gray;box-sizing: border-box;top: 0;bottom: 0;left: 50%;z-index: 0;}#sk-container-id-3 div.sk-serial {display: flex;flex-direction: column;align-items: center;background-color: white;padding-right: 0.2em;padding-left: 0.2em;position: relative;}#sk-container-id-3 div.sk-item {position: relative;z-index: 1;}#sk-container-id-3 div.sk-parallel {display: flex;align-items: stretch;justify-content: center;background-color: white;position: relative;}#sk-container-id-3 div.sk-item::before, #sk-container-id-3 div.sk-parallel-item::before {content: \"\";position: absolute;border-left: 1px solid gray;box-sizing: border-box;top: 0;bottom: 0;left: 50%;z-index: -1;}#sk-container-id-3 div.sk-parallel-item {display: flex;flex-direction: column;z-index: 1;position: relative;background-color: white;}#sk-container-id-3 div.sk-parallel-item:first-child::after {align-self: flex-end;width: 50%;}#sk-container-id-3 div.sk-parallel-item:last-child::after {align-self: flex-start;width: 50%;}#sk-container-id-3 div.sk-parallel-item:only-child::after {width: 0;}#sk-container-id-3 div.sk-dashed-wrapped {border: 1px dashed gray;margin: 0 0.4em 0.5em 0.4em;box-sizing: border-box;padding-bottom: 0.4em;background-color: white;}#sk-container-id-3 div.sk-label label {font-family: monospace;font-weight: bold;display: inline-block;line-height: 1.2em;}#sk-container-id-3 div.sk-label-container {text-align: center;}#sk-container-id-3 div.sk-container {/* jupyter's `normalize.less` sets `[hidden] { display: none; }` but bootstrap.min.css set `[hidden] { display: none !important; }` so we also need the `!important` here to be able to override the default hidden behavior on the sphinx rendered scikit-learn.org. See: https://github.com/scikit-learn/scikit-learn/issues/21755 */display: inline-block !important;position: relative;}#sk-container-id-3 div.sk-text-repr-fallback {display: none;}</style><div id=\"sk-container-id-3\" class=\"sk-top-container\"><div class=\"sk-text-repr-fallback\"><pre>RandomForestRegressor(max_depth=15, max_features=&#x27;auto&#x27;, min_samples_leaf=3,\n",
       "                      min_samples_split=4, n_estimators=20)</pre><b>In a Jupyter environment, please rerun this cell to show the HTML representation or trust the notebook. <br />On GitHub, the HTML representation is unable to render, please try loading this page with nbviewer.org.</b></div><div class=\"sk-container\" hidden><div class=\"sk-item\"><div class=\"sk-estimator sk-toggleable\"><input class=\"sk-toggleable__control sk-hidden--visually\" id=\"sk-estimator-id-7\" type=\"checkbox\" checked><label for=\"sk-estimator-id-7\" class=\"sk-toggleable__label sk-toggleable__label-arrow\">RandomForestRegressor</label><div class=\"sk-toggleable__content\"><pre>RandomForestRegressor(max_depth=15, max_features=&#x27;auto&#x27;, min_samples_leaf=3,\n",
       "                      min_samples_split=4, n_estimators=20)</pre></div></div></div></div></div>"
      ],
      "text/plain": [
       "RandomForestRegressor(max_depth=15, max_features='auto', min_samples_leaf=3,\n",
       "                      min_samples_split=4, n_estimators=20)"
      ]
     },
     "execution_count": 45,
     "metadata": {},
     "output_type": "execute_result"
    }
   ],
   "source": [
    "rf = RandomForestRegressor(n_estimators=grid_search_rf_reg.best_params_['n_estimators'], bootstrap=grid_search_rf_reg.best_params_['bootstrap'], \n",
    "                           max_depth=grid_search_rf_reg.best_params_['max_depth'], max_features=grid_search_rf_reg.best_params_['max_features'],\n",
    "                           min_samples_leaf=grid_search_rf_reg.best_params_['min_samples_leaf'], min_samples_split=grid_search_rf_reg.best_params_['min_samples_split'])\n",
    "rf.fit(X_train, y_train)"
   ]
  },
  {
   "cell_type": "code",
   "execution_count": 46,
   "id": "54637abd",
   "metadata": {},
   "outputs": [],
   "source": [
    "rf_pred = rf.predict(X_test)"
   ]
  },
  {
   "cell_type": "markdown",
   "id": "feb5a657",
   "metadata": {},
   "source": [
    "Tính độ lỗi"
   ]
  },
  {
   "cell_type": "code",
   "execution_count": 47,
   "id": "91c254ab",
   "metadata": {},
   "outputs": [
    {
     "data": {
      "text/plain": [
       "3110404706217.4585"
      ]
     },
     "execution_count": 47,
     "metadata": {},
     "output_type": "execute_result"
    }
   ],
   "source": [
    "rf_mse = mean_squared_error(y_test, rf_pred)\n",
    "rf_mse"
   ]
  },
  {
   "cell_type": "code",
   "execution_count": 48,
   "id": "59ea6003",
   "metadata": {},
   "outputs": [
    {
     "data": {
      "text/plain": [
       "1763633.949043128"
      ]
     },
     "execution_count": 48,
     "metadata": {},
     "output_type": "execute_result"
    }
   ],
   "source": [
    "rf_rmse = mean_squared_error(y_test, rf_pred, squared=False)\n",
    "rf_rmse"
   ]
  },
  {
   "cell_type": "markdown",
   "id": "67ca03b5",
   "metadata": {},
   "source": [
    "Decision Tree Regression"
   ]
  },
  {
   "cell_type": "code",
   "execution_count": 49,
   "id": "647a6e20",
   "metadata": {},
   "outputs": [
    {
     "data": {
      "text/plain": [
       "{'max_depth': 15,\n",
       " 'max_features': 'sqrt',\n",
       " 'min_samples_leaf': 4,\n",
       " 'min_samples_split': 6}"
      ]
     },
     "execution_count": 49,
     "metadata": {},
     "output_type": "execute_result"
    }
   ],
   "source": [
    "grid_search_decision_tree_reg.best_params_"
   ]
  },
  {
   "cell_type": "code",
   "execution_count": 50,
   "id": "54aefc3c",
   "metadata": {},
   "outputs": [
    {
     "data": {
      "text/html": [
       "<style>#sk-container-id-4 {color: black;background-color: white;}#sk-container-id-4 pre{padding: 0;}#sk-container-id-4 div.sk-toggleable {background-color: white;}#sk-container-id-4 label.sk-toggleable__label {cursor: pointer;display: block;width: 100%;margin-bottom: 0;padding: 0.3em;box-sizing: border-box;text-align: center;}#sk-container-id-4 label.sk-toggleable__label-arrow:before {content: \"▸\";float: left;margin-right: 0.25em;color: #696969;}#sk-container-id-4 label.sk-toggleable__label-arrow:hover:before {color: black;}#sk-container-id-4 div.sk-estimator:hover label.sk-toggleable__label-arrow:before {color: black;}#sk-container-id-4 div.sk-toggleable__content {max-height: 0;max-width: 0;overflow: hidden;text-align: left;background-color: #f0f8ff;}#sk-container-id-4 div.sk-toggleable__content pre {margin: 0.2em;color: black;border-radius: 0.25em;background-color: #f0f8ff;}#sk-container-id-4 input.sk-toggleable__control:checked~div.sk-toggleable__content {max-height: 200px;max-width: 100%;overflow: auto;}#sk-container-id-4 input.sk-toggleable__control:checked~label.sk-toggleable__label-arrow:before {content: \"▾\";}#sk-container-id-4 div.sk-estimator input.sk-toggleable__control:checked~label.sk-toggleable__label {background-color: #d4ebff;}#sk-container-id-4 div.sk-label input.sk-toggleable__control:checked~label.sk-toggleable__label {background-color: #d4ebff;}#sk-container-id-4 input.sk-hidden--visually {border: 0;clip: rect(1px 1px 1px 1px);clip: rect(1px, 1px, 1px, 1px);height: 1px;margin: -1px;overflow: hidden;padding: 0;position: absolute;width: 1px;}#sk-container-id-4 div.sk-estimator {font-family: monospace;background-color: #f0f8ff;border: 1px dotted black;border-radius: 0.25em;box-sizing: border-box;margin-bottom: 0.5em;}#sk-container-id-4 div.sk-estimator:hover {background-color: #d4ebff;}#sk-container-id-4 div.sk-parallel-item::after {content: \"\";width: 100%;border-bottom: 1px solid gray;flex-grow: 1;}#sk-container-id-4 div.sk-label:hover label.sk-toggleable__label {background-color: #d4ebff;}#sk-container-id-4 div.sk-serial::before {content: \"\";position: absolute;border-left: 1px solid gray;box-sizing: border-box;top: 0;bottom: 0;left: 50%;z-index: 0;}#sk-container-id-4 div.sk-serial {display: flex;flex-direction: column;align-items: center;background-color: white;padding-right: 0.2em;padding-left: 0.2em;position: relative;}#sk-container-id-4 div.sk-item {position: relative;z-index: 1;}#sk-container-id-4 div.sk-parallel {display: flex;align-items: stretch;justify-content: center;background-color: white;position: relative;}#sk-container-id-4 div.sk-item::before, #sk-container-id-4 div.sk-parallel-item::before {content: \"\";position: absolute;border-left: 1px solid gray;box-sizing: border-box;top: 0;bottom: 0;left: 50%;z-index: -1;}#sk-container-id-4 div.sk-parallel-item {display: flex;flex-direction: column;z-index: 1;position: relative;background-color: white;}#sk-container-id-4 div.sk-parallel-item:first-child::after {align-self: flex-end;width: 50%;}#sk-container-id-4 div.sk-parallel-item:last-child::after {align-self: flex-start;width: 50%;}#sk-container-id-4 div.sk-parallel-item:only-child::after {width: 0;}#sk-container-id-4 div.sk-dashed-wrapped {border: 1px dashed gray;margin: 0 0.4em 0.5em 0.4em;box-sizing: border-box;padding-bottom: 0.4em;background-color: white;}#sk-container-id-4 div.sk-label label {font-family: monospace;font-weight: bold;display: inline-block;line-height: 1.2em;}#sk-container-id-4 div.sk-label-container {text-align: center;}#sk-container-id-4 div.sk-container {/* jupyter's `normalize.less` sets `[hidden] { display: none; }` but bootstrap.min.css set `[hidden] { display: none !important; }` so we also need the `!important` here to be able to override the default hidden behavior on the sphinx rendered scikit-learn.org. See: https://github.com/scikit-learn/scikit-learn/issues/21755 */display: inline-block !important;position: relative;}#sk-container-id-4 div.sk-text-repr-fallback {display: none;}</style><div id=\"sk-container-id-4\" class=\"sk-top-container\"><div class=\"sk-text-repr-fallback\"><pre>DecisionTreeRegressor(max_depth=15, max_features=&#x27;sqrt&#x27;, min_samples_leaf=4,\n",
       "                      min_samples_split=6)</pre><b>In a Jupyter environment, please rerun this cell to show the HTML representation or trust the notebook. <br />On GitHub, the HTML representation is unable to render, please try loading this page with nbviewer.org.</b></div><div class=\"sk-container\" hidden><div class=\"sk-item\"><div class=\"sk-estimator sk-toggleable\"><input class=\"sk-toggleable__control sk-hidden--visually\" id=\"sk-estimator-id-8\" type=\"checkbox\" checked><label for=\"sk-estimator-id-8\" class=\"sk-toggleable__label sk-toggleable__label-arrow\">DecisionTreeRegressor</label><div class=\"sk-toggleable__content\"><pre>DecisionTreeRegressor(max_depth=15, max_features=&#x27;sqrt&#x27;, min_samples_leaf=4,\n",
       "                      min_samples_split=6)</pre></div></div></div></div></div>"
      ],
      "text/plain": [
       "DecisionTreeRegressor(max_depth=15, max_features='sqrt', min_samples_leaf=4,\n",
       "                      min_samples_split=6)"
      ]
     },
     "execution_count": 50,
     "metadata": {},
     "output_type": "execute_result"
    }
   ],
   "source": [
    "dt = DecisionTreeRegressor(max_depth=grid_search_decision_tree_reg.best_params_['max_depth'],\n",
    "                           max_features=grid_search_decision_tree_reg.best_params_['max_features'],\n",
    "                           min_samples_leaf=grid_search_decision_tree_reg.best_params_['min_samples_leaf'],\n",
    "                           min_samples_split=grid_search_decision_tree_reg.best_params_['min_samples_split'])\n",
    "dt.fit(X_train, y_train)"
   ]
  },
  {
   "cell_type": "code",
   "execution_count": 51,
   "id": "f9a3b5a4",
   "metadata": {},
   "outputs": [],
   "source": [
    "dt_pred = dt.predict(X_test)"
   ]
  },
  {
   "cell_type": "markdown",
   "id": "bdac0941",
   "metadata": {},
   "source": [
    "Tính độ lỗi"
   ]
  },
  {
   "cell_type": "code",
   "execution_count": 52,
   "id": "b755354b",
   "metadata": {},
   "outputs": [
    {
     "data": {
      "text/plain": [
       "4401035072961.67"
      ]
     },
     "execution_count": 52,
     "metadata": {},
     "output_type": "execute_result"
    }
   ],
   "source": [
    "dt_mse = mean_squared_error(y_test, dt_pred)\n",
    "dt_mse"
   ]
  },
  {
   "cell_type": "code",
   "execution_count": 53,
   "id": "e7fc84c8",
   "metadata": {},
   "outputs": [
    {
     "data": {
      "text/plain": [
       "2097864.4076683484"
      ]
     },
     "execution_count": 53,
     "metadata": {},
     "output_type": "execute_result"
    }
   ],
   "source": [
    "dt_rmse = mean_squared_error(y_test, dt_pred, squared=False)\n",
    "dt_rmse"
   ]
  },
  {
   "cell_type": "markdown",
   "id": "dc444b49",
   "metadata": {},
   "source": [
    "In ra độ lỗi của mỗi mô hình"
   ]
  },
  {
   "cell_type": "code",
   "execution_count": 54,
   "id": "131231ac",
   "metadata": {},
   "outputs": [
    {
     "data": {
      "text/html": [
       "<div>\n",
       "<style scoped>\n",
       "    .dataframe tbody tr th:only-of-type {\n",
       "        vertical-align: middle;\n",
       "    }\n",
       "\n",
       "    .dataframe tbody tr th {\n",
       "        vertical-align: top;\n",
       "    }\n",
       "\n",
       "    .dataframe thead th {\n",
       "        text-align: right;\n",
       "    }\n",
       "</style>\n",
       "<table border=\"1\" class=\"dataframe\">\n",
       "  <thead>\n",
       "    <tr style=\"text-align: right;\">\n",
       "      <th></th>\n",
       "      <th>rmse</th>\n",
       "    </tr>\n",
       "    <tr>\n",
       "      <th>Model</th>\n",
       "      <th></th>\n",
       "    </tr>\n",
       "  </thead>\n",
       "  <tbody>\n",
       "    <tr>\n",
       "      <th>Linear Regression</th>\n",
       "      <td>1.904696e+06</td>\n",
       "    </tr>\n",
       "    <tr>\n",
       "      <th>Dicision Tree Regression</th>\n",
       "      <td>2.097864e+06</td>\n",
       "    </tr>\n",
       "    <tr>\n",
       "      <th>Random Forest Regression</th>\n",
       "      <td>1.763634e+06</td>\n",
       "    </tr>\n",
       "  </tbody>\n",
       "</table>\n",
       "</div>"
      ],
      "text/plain": [
       "                                  rmse\n",
       "Model                                 \n",
       "Linear Regression         1.904696e+06\n",
       "Dicision Tree Regression  2.097864e+06\n",
       "Random Forest Regression  1.763634e+06"
      ]
     },
     "execution_count": 54,
     "metadata": {},
     "output_type": "execute_result"
    }
   ],
   "source": [
    "data = [lr_rmse, dt_rmse, rf_rmse]\n",
    "index = ['Linear Regression','Dicision Tree Regression','Random Forest Regression']\n",
    "rmse_df = pd.DataFrame(data = data, index = index)\n",
    "rmse_df.columns = ['rmse']\n",
    "rmse_df.index.name = 'Model'\n",
    "rmse_df"
   ]
  },
  {
   "cell_type": "markdown",
   "id": "d469ecd2",
   "metadata": {},
   "source": [
    "**Nhận xét**"
   ]
  },
  {
   "cell_type": "markdown",
   "id": "a3794842",
   "metadata": {},
   "source": [
    "Do rmes của **Random Forest Regression** nhỏ nhất nên **Random Forest Regression** được xem là tốt nhất trong 3 mô hình dự đoán"
   ]
  }
 ],
 "metadata": {
  "kernelspec": {
   "display_name": "Python 3",
   "language": "python",
   "name": "python3"
  },
  "language_info": {
   "codemirror_mode": {
    "name": "ipython",
    "version": 3
   },
   "file_extension": ".py",
   "mimetype": "text/x-python",
   "name": "python",
   "nbconvert_exporter": "python",
   "pygments_lexer": "ipython3",
   "version": "3.8.8"
  }
 },
 "nbformat": 4,
 "nbformat_minor": 5
}
