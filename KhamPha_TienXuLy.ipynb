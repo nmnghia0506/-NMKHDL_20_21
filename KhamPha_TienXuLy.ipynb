{
 "cells": [
  {
   "cell_type": "markdown",
   "id": "ac3e8fcd",
   "metadata": {},
   "source": [
    "# <h2><b> Đồ án thực hành </b></h2>\n",
    "<h1 style='color:red;text-align:center;font-size:35px'><b>Chủ đề: Dự đoán giá rượu vang</b></h1>"
   ]
  },
  {
   "cell_type": "markdown",
   "id": "469fd4ad",
   "metadata": {},
   "source": [
    "# <h3>Các thành viên trong nhóm</h3>\n",
    "<li> Phan Xuân Hoài - 20120481 </li>\n",
    "<li> Lê Kinh Luân - 1612355 </li>\n",
    "<li> Nguyễn Minh Nghĩa - 20120534</li>\n",
    "<li> Phạm Quốc Hưng - 19120522</li>"
   ]
  },
  {
   "cell_type": "markdown",
   "id": "7c0d5b36",
   "metadata": {},
   "source": [
    "# <h1 style='color:blue;text-align:center;font-size:30px'><b>Phần B</b></h1>"
   ]
  },
  {
   "cell_type": "markdown",
   "id": "47a5cd2e",
   "metadata": {},
   "source": [
    "## Import những thư viện cần thiết"
   ]
  },
  {
   "cell_type": "code",
   "execution_count": 40,
   "id": "b06f8eaa",
   "metadata": {},
   "outputs": [],
   "source": [
    "%matplotlib inline\n",
    "import matplotlib.pyplot as plt\n",
    "import numpy as np\n",
    "import pandas as pd \n",
    "import seaborn as sns\n",
    "sns.set_theme()\n",
    "\n",
    "# YOUR CODE HERE (OPTION)\n",
    "# Nếu cần các thư viện khác thì bạn có thể import ở đây\n",
    "import os\n",
    "import re\n",
    "import statistics\n",
    "import seaborn as sns\n",
    "sns.set(rc={'axes.facecolor':'lightblue', 'figure.facecolor':'lightgray'})"
   ]
  },
  {
   "cell_type": "code",
   "execution_count": 41,
   "id": "76b7cc70",
   "metadata": {},
   "outputs": [
    {
     "data": {
      "text/plain": [
       "'D:\\\\anconda\\\\python.exe'"
      ]
     },
     "execution_count": 41,
     "metadata": {},
     "output_type": "execute_result"
    }
   ],
   "source": [
    "import sys\n",
    "sys.executable"
   ]
  },
  {
   "cell_type": "code",
   "execution_count": 42,
   "id": "8216f52e",
   "metadata": {},
   "outputs": [
    {
     "name": "stdout",
     "output_type": "stream",
     "text": [
      "c:\\Users\\PC\\Desktop\\Into Data Science\\Seminar\\-NMKHDL_20_21\\champagne\\champagne\n"
     ]
    }
   ],
   "source": [
    "cd champagne/champagne"
   ]
  },
  {
   "cell_type": "markdown",
   "id": "d935160c",
   "metadata": {},
   "source": [
    "### Đọc file 'champagnes_info.csv' vào dataframe df"
   ]
  },
  {
   "cell_type": "code",
   "execution_count": 43,
   "id": "a0c9abfc",
   "metadata": {},
   "outputs": [
    {
     "data": {
      "text/html": [
       "<div>\n",
       "<style scoped>\n",
       "    .dataframe tbody tr th:only-of-type {\n",
       "        vertical-align: middle;\n",
       "    }\n",
       "\n",
       "    .dataframe tbody tr th {\n",
       "        vertical-align: top;\n",
       "    }\n",
       "\n",
       "    .dataframe thead th {\n",
       "        text-align: right;\n",
       "    }\n",
       "</style>\n",
       "<table border=\"1\" class=\"dataframe\">\n",
       "  <thead>\n",
       "    <tr style=\"text-align: right;\">\n",
       "      <th></th>\n",
       "      <th>Ma_sp</th>\n",
       "      <th>Ten_sp</th>\n",
       "      <th>Gia</th>\n",
       "      <th>Xuat_xu</th>\n",
       "      <th>Nong_do</th>\n",
       "      <th>Dung_tich</th>\n",
       "      <th>Giong_nho</th>\n",
       "      <th>Mau_sac</th>\n",
       "      <th>Loai_ruou</th>\n",
       "      <th>Thuong_hieu</th>\n",
       "      <th>Vung_lam_vang</th>\n",
       "    </tr>\n",
       "  </thead>\n",
       "  <tbody>\n",
       "    <tr>\n",
       "      <th>0</th>\n",
       "      <td>WVN-9400</td>\n",
       "      <td>Rượu Champagne Armand De Brignac Blanc</td>\n",
       "      <td>9.400.000</td>\n",
       "      <td>Pháp\\r\\n</td>\n",
       "      <td>12.5 %\\r\\n</td>\n",
       "      <td>750 ML\\r\\n</td>\n",
       "      <td>Chardonnay</td>\n",
       "      <td>Màu trắng</td>\n",
       "      <td>Rượu Champagne</td>\n",
       "      <td>Armand De Brignac</td>\n",
       "      <td>NaN</td>\n",
       "    </tr>\n",
       "    <tr>\n",
       "      <th>1</th>\n",
       "      <td>VNHM-1350</td>\n",
       "      <td>Rượu Champagne Arnaud Tabourin</td>\n",
       "      <td>1.350.000</td>\n",
       "      <td>Pháp\\r\\n</td>\n",
       "      <td>12 %\\r\\n</td>\n",
       "      <td>750 ML\\r\\n</td>\n",
       "      <td>Chardonnay</td>\n",
       "      <td></td>\n",
       "      <td>Rượu Champagne</td>\n",
       "      <td>Arnaud Tabourin</td>\n",
       "      <td>NaN</td>\n",
       "    </tr>\n",
       "    <tr>\n",
       "      <th>2</th>\n",
       "      <td>VNHM1-1750</td>\n",
       "      <td>Rượu Champagne Autreau Brut Premier Cru</td>\n",
       "      <td>1.750.000</td>\n",
       "      <td>Pháp\\r\\n</td>\n",
       "      <td>12 %\\r\\n</td>\n",
       "      <td>750 ML\\r\\n</td>\n",
       "      <td>Chardonnay</td>\n",
       "      <td>NaN</td>\n",
       "      <td>Rượu Vang Trắng</td>\n",
       "      <td>NaN</td>\n",
       "      <td>Champagne</td>\n",
       "    </tr>\n",
       "    <tr>\n",
       "      <th>3</th>\n",
       "      <td>VNHM1-1850</td>\n",
       "      <td>Rượu Champagne Autreau Reserve Brut Grand Cru</td>\n",
       "      <td>1.850.000</td>\n",
       "      <td>Pháp\\r\\n</td>\n",
       "      <td>12 %\\r\\n</td>\n",
       "      <td>750 ML\\r\\n</td>\n",
       "      <td>Chardonnay,Pinot Nero</td>\n",
       "      <td></td>\n",
       "      <td>Rượu Champagne</td>\n",
       "      <td>Autreau</td>\n",
       "      <td>NaN</td>\n",
       "    </tr>\n",
       "    <tr>\n",
       "      <th>4</th>\n",
       "      <td>VNTK1-2760</td>\n",
       "      <td>Rượu Champagne Ayala Blanc De Blancs</td>\n",
       "      <td>2.760.000</td>\n",
       "      <td>Pháp\\r\\n</td>\n",
       "      <td>12 %\\r\\n</td>\n",
       "      <td>750 ML\\r\\n</td>\n",
       "      <td>Chardonnay</td>\n",
       "      <td>Vàng nhạt</td>\n",
       "      <td>Rượu Champagne</td>\n",
       "      <td>: Ayala</td>\n",
       "      <td>NaN</td>\n",
       "    </tr>\n",
       "    <tr>\n",
       "      <th>5</th>\n",
       "      <td>VNTK-2294</td>\n",
       "      <td>Rượu Champagne Ayala Brut Majeur</td>\n",
       "      <td>2.294.000</td>\n",
       "      <td>Pháp\\r\\n</td>\n",
       "      <td>12 %\\r\\n</td>\n",
       "      <td>750 ML\\r\\n</td>\n",
       "      <td>Chardonnay,Pinot Noir,Pinot Meunier</td>\n",
       "      <td>Vàng rơm</td>\n",
       "      <td>Rượu Champagne</td>\n",
       "      <td>: Ayala</td>\n",
       "      <td>NaN</td>\n",
       "    </tr>\n",
       "    <tr>\n",
       "      <th>6</th>\n",
       "      <td>VNTK-2734</td>\n",
       "      <td>Rượu Champagne Ayala Brut Nature</td>\n",
       "      <td>2.734.000</td>\n",
       "      <td>Pháp\\r\\n</td>\n",
       "      <td>12 %\\r\\n</td>\n",
       "      <td>750 ML\\r\\n</td>\n",
       "      <td>Chardonnay,Pinot Noir,Pinot Meunier</td>\n",
       "      <td>Vàng rơm</td>\n",
       "      <td>Rượu Champagne</td>\n",
       "      <td>: Ayala</td>\n",
       "      <td>NaN</td>\n",
       "    </tr>\n",
       "    <tr>\n",
       "      <th>7</th>\n",
       "      <td>VNPE-1250</td>\n",
       "      <td>Rượu Champagne Bernard Lonclas Blanc</td>\n",
       "      <td>1.250.000</td>\n",
       "      <td>Pháp\\r\\n</td>\n",
       "      <td>12 %\\r\\n</td>\n",
       "      <td>750 ML\\r\\n</td>\n",
       "      <td>Pinot Noir,Pinot Meunieur,Chardonnay</td>\n",
       "      <td>Vàng rơm</td>\n",
       "      <td>Rượu Champagne</td>\n",
       "      <td>NaN</td>\n",
       "      <td>NaN</td>\n",
       "    </tr>\n",
       "    <tr>\n",
       "      <th>8</th>\n",
       "      <td>VNWH1-4200</td>\n",
       "      <td>Rượu Champagne Billecart Salmon Blanc De Blancs</td>\n",
       "      <td>2.709.000</td>\n",
       "      <td>Pháp\\r\\n</td>\n",
       "      <td>12.5 %\\r\\n</td>\n",
       "      <td>750 ML\\r\\n</td>\n",
       "      <td>Chardnonnay</td>\n",
       "      <td>NaN</td>\n",
       "      <td>Champagne</td>\n",
       "      <td>Champagne Billecart</td>\n",
       "      <td>NaN</td>\n",
       "    </tr>\n",
       "    <tr>\n",
       "      <th>9</th>\n",
       "      <td>VNWH1-2750</td>\n",
       "      <td>Rượu Champagne Billecart Salmon Brut Réserve</td>\n",
       "      <td>1.895.000</td>\n",
       "      <td>Pháp\\r\\n</td>\n",
       "      <td>12.5 %\\r\\n</td>\n",
       "      <td>750 ML\\r\\n</td>\n",
       "      <td>Chardonnay,Pinot Noir,Pinot Meunier</td>\n",
       "      <td>Màu vàng rơm</td>\n",
       "      <td>Champagne</td>\n",
       "      <td>Champagne Billecart</td>\n",
       "      <td>NaN</td>\n",
       "    </tr>\n",
       "    <tr>\n",
       "      <th>10</th>\n",
       "      <td>VNWH-3900</td>\n",
       "      <td>Rượu Champagne Billecart Salmon Brut Sous Bois</td>\n",
       "      <td>3.900.000</td>\n",
       "      <td>Pháp\\r\\n</td>\n",
       "      <td>12.5 %\\r\\n</td>\n",
       "      <td>750 ML\\r\\n</td>\n",
       "      <td>Chardonnay,Pinot Noir,Pinot Meunier</td>\n",
       "      <td>Màu vàng rơm</td>\n",
       "      <td>Champagne</td>\n",
       "      <td>Champagne Billecart</td>\n",
       "      <td>NaN</td>\n",
       "    </tr>\n",
       "    <tr>\n",
       "      <th>11</th>\n",
       "      <td>VNDL-552</td>\n",
       "      <td>Rượu Champagne Bisol BelStar Cuvee Rose</td>\n",
       "      <td>495.000</td>\n",
       "      <td>Ý\\r\\n</td>\n",
       "      <td>11.5 %\\r\\n</td>\n",
       "      <td>750 ML\\r\\n</td>\n",
       "      <td>Merlot,Pinot Nero</td>\n",
       "      <td>NaN</td>\n",
       "      <td>Rượu Vang Nổ</td>\n",
       "      <td>Bisol</td>\n",
       "      <td>Veneto</td>\n",
       "    </tr>\n",
       "    <tr>\n",
       "      <th>12</th>\n",
       "      <td>VNTK1-3867</td>\n",
       "      <td>Rượu Champagne Bollinger La Cote Aux Enfants</td>\n",
       "      <td>3.867.000</td>\n",
       "      <td>Pháp\\r\\n</td>\n",
       "      <td>12.5 %\\r\\n</td>\n",
       "      <td>750 ML\\r\\n</td>\n",
       "      <td>Pinot Noir</td>\n",
       "      <td>NaN</td>\n",
       "      <td>Rượu Champagne</td>\n",
       "      <td>Bollinger</td>\n",
       "      <td>NaN</td>\n",
       "    </tr>\n",
       "    <tr>\n",
       "      <th>13</th>\n",
       "      <td>VNTK-4920</td>\n",
       "      <td>Rượu Champagne Bollinger La Grande Année</td>\n",
       "      <td>4.920.000</td>\n",
       "      <td>Pháp\\r\\n</td>\n",
       "      <td>12 %\\r\\n</td>\n",
       "      <td>750 ML\\r\\n</td>\n",
       "      <td>Pinot Noir,Chardonnay</td>\n",
       "      <td>Vàng nhạt</td>\n",
       "      <td>Rượu Champagne</td>\n",
       "      <td>Bollinger</td>\n",
       "      <td>NaN</td>\n",
       "    </tr>\n",
       "    <tr>\n",
       "      <th>14</th>\n",
       "      <td>VNTK-5960</td>\n",
       "      <td>Rượu Champagne Bollinger La Grande Année Rose</td>\n",
       "      <td>5.960.000</td>\n",
       "      <td>Pháp\\r\\n</td>\n",
       "      <td>14 %\\r\\n</td>\n",
       "      <td>750 ML\\r\\n</td>\n",
       "      <td>Pinot Noir,Chardonnay,Pinot Meunier</td>\n",
       "      <td>NaN</td>\n",
       "      <td>Rượu Champagne</td>\n",
       "      <td>Bollinger</td>\n",
       "      <td>NaN</td>\n",
       "    </tr>\n",
       "    <tr>\n",
       "      <th>15</th>\n",
       "      <td>VNTK-3880</td>\n",
       "      <td>Rượu Champagne Bollinger Rose</td>\n",
       "      <td>3.880.000</td>\n",
       "      <td>Pháp\\r\\n</td>\n",
       "      <td>12 %\\r\\n</td>\n",
       "      <td>750 ML\\r\\n</td>\n",
       "      <td>Chardonnay,Pinot Noir</td>\n",
       "      <td>NaN</td>\n",
       "      <td>Rượu Champagne</td>\n",
       "      <td>Bollinger</td>\n",
       "      <td>NaN</td>\n",
       "    </tr>\n",
       "    <tr>\n",
       "      <th>16</th>\n",
       "      <td>VNTK-4134</td>\n",
       "      <td>Rượu Champagne Bollinger Rose Limited 2006</td>\n",
       "      <td>4.134.000</td>\n",
       "      <td>Pháp\\r\\n</td>\n",
       "      <td>12 %\\r\\n</td>\n",
       "      <td>750 ML\\r\\n</td>\n",
       "      <td>Chardonnay,Pinot Noir</td>\n",
       "      <td>NaN</td>\n",
       "      <td>Rượu Champagne</td>\n",
       "      <td>Bollinger</td>\n",
       "      <td>NaN</td>\n",
       "    </tr>\n",
       "    <tr>\n",
       "      <th>17</th>\n",
       "      <td>VNTK-3294</td>\n",
       "      <td>Rượu Champagne Bollinger Special Cuvee</td>\n",
       "      <td>3.294.000</td>\n",
       "      <td>Pháp\\r\\n</td>\n",
       "      <td>12 %\\r\\n</td>\n",
       "      <td>750 ML\\r\\n</td>\n",
       "      <td>Chardonnay,Pinot Noir</td>\n",
       "      <td>Vàng nhạt</td>\n",
       "      <td>Rượu Champagne</td>\n",
       "      <td>Bollinger</td>\n",
       "      <td>NaN</td>\n",
       "    </tr>\n",
       "    <tr>\n",
       "      <th>18</th>\n",
       "      <td>VNPV-3958</td>\n",
       "      <td>Rượu Champagne Bottega Stardust Prosecco</td>\n",
       "      <td>3.563.000</td>\n",
       "      <td>Ý\\r\\n</td>\n",
       "      <td>11 %\\r\\n</td>\n",
       "      <td>750 ML\\r\\n</td>\n",
       "      <td>Glera</td>\n",
       "      <td>Màu vàng rơm nhạt</td>\n",
       "      <td>Rượu Champagne</td>\n",
       "      <td>Bottega</td>\n",
       "      <td>Veneto</td>\n",
       "    </tr>\n",
       "    <tr>\n",
       "      <th>19</th>\n",
       "      <td>VNPV - 11</td>\n",
       "      <td>Rượu Champagne Bottega Stella</td>\n",
       "      <td>1</td>\n",
       "      <td>Ý\\r\\n</td>\n",
       "      <td>11 %\\r\\n</td>\n",
       "      <td>750 ML\\r\\n</td>\n",
       "      <td>\\r\\n</td>\n",
       "      <td>Vàng Rơm</td>\n",
       "      <td>Rượu Vang Nổ</td>\n",
       "      <td>Bottega</td>\n",
       "      <td>Veneto</td>\n",
       "    </tr>\n",
       "  </tbody>\n",
       "</table>\n",
       "</div>"
      ],
      "text/plain": [
       "         Ma_sp                                           Ten_sp        Gia  \\\n",
       "0     WVN-9400           Rượu Champagne Armand De Brignac Blanc  9.400.000   \n",
       "1    VNHM-1350                   Rượu Champagne Arnaud Tabourin  1.350.000   \n",
       "2   VNHM1-1750          Rượu Champagne Autreau Brut Premier Cru  1.750.000   \n",
       "3   VNHM1-1850    Rượu Champagne Autreau Reserve Brut Grand Cru  1.850.000   \n",
       "4   VNTK1-2760             Rượu Champagne Ayala Blanc De Blancs  2.760.000   \n",
       "5    VNTK-2294                 Rượu Champagne Ayala Brut Majeur  2.294.000   \n",
       "6    VNTK-2734                 Rượu Champagne Ayala Brut Nature  2.734.000   \n",
       "7    VNPE-1250             Rượu Champagne Bernard Lonclas Blanc  1.250.000   \n",
       "8   VNWH1-4200  Rượu Champagne Billecart Salmon Blanc De Blancs  2.709.000   \n",
       "9   VNWH1-2750     Rượu Champagne Billecart Salmon Brut Réserve  1.895.000   \n",
       "10   VNWH-3900   Rượu Champagne Billecart Salmon Brut Sous Bois  3.900.000   \n",
       "11    VNDL-552          Rượu Champagne Bisol BelStar Cuvee Rose    495.000   \n",
       "12  VNTK1-3867     Rượu Champagne Bollinger La Cote Aux Enfants  3.867.000   \n",
       "13   VNTK-4920         Rượu Champagne Bollinger La Grande Année  4.920.000   \n",
       "14   VNTK-5960    Rượu Champagne Bollinger La Grande Année Rose  5.960.000   \n",
       "15   VNTK-3880                    Rượu Champagne Bollinger Rose  3.880.000   \n",
       "16   VNTK-4134       Rượu Champagne Bollinger Rose Limited 2006  4.134.000   \n",
       "17   VNTK-3294           Rượu Champagne Bollinger Special Cuvee  3.294.000   \n",
       "18   VNPV-3958         Rượu Champagne Bottega Stardust Prosecco  3.563.000   \n",
       "19   VNPV - 11                    Rượu Champagne Bottega Stella          1   \n",
       "\n",
       "     Xuat_xu     Nong_do   Dung_tich                             Giong_nho  \\\n",
       "0   Pháp\\r\\n  12.5 %\\r\\n  750 ML\\r\\n                            Chardonnay   \n",
       "1   Pháp\\r\\n    12 %\\r\\n  750 ML\\r\\n                            Chardonnay   \n",
       "2   Pháp\\r\\n    12 %\\r\\n  750 ML\\r\\n                            Chardonnay   \n",
       "3   Pháp\\r\\n    12 %\\r\\n  750 ML\\r\\n                 Chardonnay,Pinot Nero   \n",
       "4   Pháp\\r\\n    12 %\\r\\n  750 ML\\r\\n                            Chardonnay   \n",
       "5   Pháp\\r\\n    12 %\\r\\n  750 ML\\r\\n   Chardonnay,Pinot Noir,Pinot Meunier   \n",
       "6   Pháp\\r\\n    12 %\\r\\n  750 ML\\r\\n   Chardonnay,Pinot Noir,Pinot Meunier   \n",
       "7   Pháp\\r\\n    12 %\\r\\n  750 ML\\r\\n  Pinot Noir,Pinot Meunieur,Chardonnay   \n",
       "8   Pháp\\r\\n  12.5 %\\r\\n  750 ML\\r\\n                           Chardnonnay   \n",
       "9   Pháp\\r\\n  12.5 %\\r\\n  750 ML\\r\\n   Chardonnay,Pinot Noir,Pinot Meunier   \n",
       "10  Pháp\\r\\n  12.5 %\\r\\n  750 ML\\r\\n   Chardonnay,Pinot Noir,Pinot Meunier   \n",
       "11     Ý\\r\\n  11.5 %\\r\\n  750 ML\\r\\n                     Merlot,Pinot Nero   \n",
       "12  Pháp\\r\\n  12.5 %\\r\\n  750 ML\\r\\n                            Pinot Noir   \n",
       "13  Pháp\\r\\n    12 %\\r\\n  750 ML\\r\\n                 Pinot Noir,Chardonnay   \n",
       "14  Pháp\\r\\n    14 %\\r\\n  750 ML\\r\\n   Pinot Noir,Chardonnay,Pinot Meunier   \n",
       "15  Pháp\\r\\n    12 %\\r\\n  750 ML\\r\\n                 Chardonnay,Pinot Noir   \n",
       "16  Pháp\\r\\n    12 %\\r\\n  750 ML\\r\\n                 Chardonnay,Pinot Noir   \n",
       "17  Pháp\\r\\n    12 %\\r\\n  750 ML\\r\\n                 Chardonnay,Pinot Noir   \n",
       "18     Ý\\r\\n    11 %\\r\\n  750 ML\\r\\n                                 Glera   \n",
       "19     Ý\\r\\n    11 %\\r\\n  750 ML\\r\\n                                  \\r\\n   \n",
       "\n",
       "               Mau_sac         Loai_ruou           Thuong_hieu Vung_lam_vang  \n",
       "0            Màu trắng    Rượu Champagne     Armand De Brignac           NaN  \n",
       "1                         Rượu Champagne       Arnaud Tabourin           NaN  \n",
       "2                  NaN  Rượu Vang Trắng                   NaN     Champagne  \n",
       "3                         Rượu Champagne               Autreau           NaN  \n",
       "4          Vàng nhạt   Rượu Champagne               : Ayala           NaN  \n",
       "5            Vàng rơm   Rượu Champagne               : Ayala           NaN  \n",
       "6            Vàng rơm   Rượu Champagne               : Ayala           NaN  \n",
       "7             Vàng rơm    Rượu Champagne                   NaN           NaN  \n",
       "8                  NaN         Champagne   Champagne Billecart           NaN  \n",
       "9         Màu vàng rơm         Champagne   Champagne Billecart           NaN  \n",
       "10        Màu vàng rơm         Champagne   Champagne Billecart           NaN  \n",
       "11                 NaN      Rượu Vang Nổ                 Bisol       Veneto   \n",
       "12                 NaN   Rượu Champagne             Bollinger           NaN  \n",
       "13           Vàng nhạt   Rượu Champagne             Bollinger           NaN  \n",
       "14                 NaN   Rượu Champagne             Bollinger           NaN  \n",
       "15                 NaN   Rượu Champagne             Bollinger           NaN  \n",
       "16                 NaN   Rượu Champagne             Bollinger           NaN  \n",
       "17         Vàng nhạt   Rượu Champagne             Bollinger           NaN  \n",
       "18   Màu vàng rơm nhạt    Rượu Champagne               Bottega        Veneto  \n",
       "19            Vàng Rơm     Rượu Vang Nổ               Bottega        Veneto  "
      ]
     },
     "execution_count": 43,
     "metadata": {},
     "output_type": "execute_result"
    }
   ],
   "source": [
    "df = pd.read_csv('./dataset/champagnes_info.csv')\n",
    "df.head(20)"
   ]
  },
  {
   "cell_type": "markdown",
   "id": "01370d51",
   "metadata": {},
   "source": [
    "# Khám phá dữ liệu"
   ]
  },
  {
   "cell_type": "markdown",
   "id": "60d449e7",
   "metadata": {},
   "source": [
    "### Xem số dòng cột của dữ liệu "
   ]
  },
  {
   "cell_type": "code",
   "execution_count": 44,
   "id": "ec5f54f8",
   "metadata": {},
   "outputs": [
    {
     "data": {
      "text/plain": [
       "(5598, 11)"
      ]
     },
     "execution_count": 44,
     "metadata": {},
     "output_type": "execute_result"
    }
   ],
   "source": [
    "num_rows = df.shape[0]\n",
    "num_cols = df.shape[1]\n",
    "shape = (num_rows, num_cols)\n",
    "shape"
   ]
  },
  {
   "cell_type": "markdown",
   "id": "d38626ce",
   "metadata": {},
   "source": [
    "### Kiểu dữ liệu của các cột "
   ]
  },
  {
   "cell_type": "code",
   "execution_count": 45,
   "id": "95aba2ed",
   "metadata": {},
   "outputs": [
    {
     "data": {
      "text/plain": [
       "Ma_sp            object\n",
       "Ten_sp           object\n",
       "Gia              object\n",
       "Xuat_xu          object\n",
       "Nong_do          object\n",
       "Dung_tich        object\n",
       "Giong_nho        object\n",
       "Mau_sac          object\n",
       "Loai_ruou        object\n",
       "Thuong_hieu      object\n",
       "Vung_lam_vang    object\n",
       "dtype: object"
      ]
     },
     "execution_count": 45,
     "metadata": {},
     "output_type": "execute_result"
    }
   ],
   "source": [
    "df.dtypes"
   ]
  },
  {
   "cell_type": "markdown",
   "id": "9d635e4f",
   "metadata": {},
   "source": [
    "### Ý nghĩa của các cột"
   ]
  },
  {
   "cell_type": "markdown",
   "id": "ff792eec",
   "metadata": {},
   "source": [
    "Đọc file \"champagnes_schema.csv\" vào DataFrame `col_meaning_df`"
   ]
  },
  {
   "cell_type": "code",
   "execution_count": 46,
   "id": "8149519a",
   "metadata": {},
   "outputs": [],
   "source": [
    "temp = pd.read_csv(\"./dataset/champagnes_schema.csv\")\n",
    "temp\n",
    "data = {\n",
    "    \"name\": temp[\"name\"],\n",
    "    \"mean\": temp[\"mean\"]\n",
    "}\n",
    "pd.set_option('max_colwidth', 400)\n",
    "\n",
    "\n",
    "col_meaning_df = pd.DataFrame(data = data)\n",
    "col_meaning_df = col_meaning_df.set_index(['name'])"
   ]
  },
  {
   "cell_type": "code",
   "execution_count": 47,
   "id": "13207d19",
   "metadata": {},
   "outputs": [
    {
     "data": {
      "text/html": [
       "<div>\n",
       "<style scoped>\n",
       "    .dataframe tbody tr th:only-of-type {\n",
       "        vertical-align: middle;\n",
       "    }\n",
       "\n",
       "    .dataframe tbody tr th {\n",
       "        vertical-align: top;\n",
       "    }\n",
       "\n",
       "    .dataframe thead th {\n",
       "        text-align: right;\n",
       "    }\n",
       "</style>\n",
       "<table border=\"1\" class=\"dataframe\">\n",
       "  <thead>\n",
       "    <tr style=\"text-align: right;\">\n",
       "      <th></th>\n",
       "      <th>mean</th>\n",
       "    </tr>\n",
       "    <tr>\n",
       "      <th>name</th>\n",
       "      <th></th>\n",
       "    </tr>\n",
       "  </thead>\n",
       "  <tbody>\n",
       "    <tr>\n",
       "      <th>Ma_sp</th>\n",
       "      <td>Ma san pham</td>\n",
       "    </tr>\n",
       "    <tr>\n",
       "      <th>Ten_sp</th>\n",
       "      <td>Ten ruou</td>\n",
       "    </tr>\n",
       "    <tr>\n",
       "      <th>Gia</th>\n",
       "      <td>Gia tien san pham</td>\n",
       "    </tr>\n",
       "    <tr>\n",
       "      <th>Xuat_xu</th>\n",
       "      <td>Xuat xu cua ruou(quoc gia)</td>\n",
       "    </tr>\n",
       "    <tr>\n",
       "      <th>Nong_do</th>\n",
       "      <td>Nong do cua ruou</td>\n",
       "    </tr>\n",
       "    <tr>\n",
       "      <th>Dung_tich</th>\n",
       "      <td>Dung tich chai ruou</td>\n",
       "    </tr>\n",
       "    <tr>\n",
       "      <th>Giong_nho</th>\n",
       "      <td>Giong nho lam ruou</td>\n",
       "    </tr>\n",
       "    <tr>\n",
       "      <th>Mau_sac</th>\n",
       "      <td>Mau sac cua ruou</td>\n",
       "    </tr>\n",
       "    <tr>\n",
       "      <th>Loai_ruou</th>\n",
       "      <td>San pham thuoc loai ruou nao</td>\n",
       "    </tr>\n",
       "    <tr>\n",
       "      <th>Thuong_hieu</th>\n",
       "      <td>Thuong hieu lam ra ruou</td>\n",
       "    </tr>\n",
       "    <tr>\n",
       "      <th>Vung_lam_nho</th>\n",
       "      <td>Vung san xuat ruou vang</td>\n",
       "    </tr>\n",
       "  </tbody>\n",
       "</table>\n",
       "</div>"
      ],
      "text/plain": [
       "                                      mean\n",
       "name                                      \n",
       "Ma_sp                          Ma san pham\n",
       "Ten_sp                            Ten ruou\n",
       "Gia                      Gia tien san pham\n",
       "Xuat_xu         Xuat xu cua ruou(quoc gia)\n",
       "Nong_do                   Nong do cua ruou\n",
       "Dung_tich              Dung tich chai ruou\n",
       "Giong_nho               Giong nho lam ruou\n",
       "Mau_sac                   Mau sac cua ruou\n",
       "Loai_ruou     San pham thuoc loai ruou nao\n",
       "Thuong_hieu        Thuong hieu lam ra ruou\n",
       "Vung_lam_nho       Vung san xuat ruou vang"
      ]
     },
     "execution_count": 47,
     "metadata": {},
     "output_type": "execute_result"
    }
   ],
   "source": [
    "col_meaning_df"
   ]
  },
  {
   "cell_type": "markdown",
   "id": "af66c071",
   "metadata": {},
   "source": [
    "# Tiền xử lý"
   ]
  },
  {
   "cell_type": "markdown",
   "id": "e97fe11c",
   "metadata": {},
   "source": [
    "Loại bỏ các ký tự '\\n' (hoặc '\\r\\n' trong Windows) và các ký tự dư thừa trong các cột 'Xuat_xu', 'Nong_do', 'Dung_tich', 'Giong_nho','Thuong_hieu' để có thể chuyển đổi các cột về dạng số dễ dàng hơn."
   ]
  },
  {
   "cell_type": "code",
   "execution_count": 48,
   "id": "4283b7b4",
   "metadata": {},
   "outputs": [],
   "source": [
    "def is_nan(x):\n",
    "    return (x != x)"
   ]
  },
  {
   "cell_type": "code",
   "execution_count": 49,
   "id": "a3f7a47c",
   "metadata": {},
   "outputs": [],
   "source": [
    "cate_cols = df.select_dtypes(include = ['object']).columns.tolist()\n",
    "df[cate_cols] = df[cate_cols].apply(lambda x : x.replace('\\\\r?\\\\n', '', regex = True))\n",
    "df['Nong_do'] = df['Nong_do'].str.replace('%', '')\n",
    "df['Dung_tich'] = df['Dung_tich'].str.replace('ML', '')\n",
    "cols = ['Giong_nho', 'Mau_sac', 'Thuong_hieu', 'Vung_lam_vang']\n",
    "df[cols] = df[cols].apply(lambda x : x.str.replace(':', ''))\n",
    "df = df.apply(lambda x : x.str.strip())\n"
   ]
  },
  {
   "cell_type": "markdown",
   "id": "820ce44e",
   "metadata": {},
   "source": [
    "Chuyển kiểu dữ liệu của các cột 'Dung_tich', 'Nong_do','Gia' về dạng số"
   ]
  },
  {
   "cell_type": "code",
   "execution_count": 50,
   "id": "89e54295",
   "metadata": {},
   "outputs": [],
   "source": [
    "df['Nong_do'] = pd.to_numeric(df['Nong_do'], errors='coerce')\n",
    "df['Dung_tich'] = pd.to_numeric(df['Dung_tich'], downcast='float', errors='coerce')\n",
    "df['Gia'] = df['Gia'].replace('[.]', '', regex=True).astype(float)"
   ]
  },
  {
   "cell_type": "code",
   "execution_count": 51,
   "id": "f689c70c",
   "metadata": {},
   "outputs": [
    {
     "data": {
      "text/plain": [
       "Ma_sp             object\n",
       "Ten_sp            object\n",
       "Gia              float64\n",
       "Xuat_xu           object\n",
       "Nong_do          float64\n",
       "Dung_tich        float32\n",
       "Giong_nho         object\n",
       "Mau_sac           object\n",
       "Loai_ruou         object\n",
       "Thuong_hieu       object\n",
       "Vung_lam_vang     object\n",
       "dtype: object"
      ]
     },
     "execution_count": 51,
     "metadata": {},
     "output_type": "execute_result"
    }
   ],
   "source": [
    "df.dtypes"
   ]
  },
  {
   "cell_type": "markdown",
   "id": "ea69bd64",
   "metadata": {},
   "source": [
    "Lọc đi các chai rượu có giá thấp bất thường "
   ]
  },
  {
   "cell_type": "code",
   "execution_count": 13,
   "id": "c667458d",
   "metadata": {},
   "outputs": [
    {
     "data": {
      "text/plain": [
       "1.0      408\n",
       "770.0      1\n",
       "86.0       1\n",
       "Name: Gia, dtype: int64"
      ]
     },
     "execution_count": 13,
     "metadata": {},
     "output_type": "execute_result"
    }
   ],
   "source": [
    "df.loc[df['Gia'] < 1000, 'Gia'].value_counts()"
   ]
  },
  {
   "cell_type": "markdown",
   "id": "288ed07e",
   "metadata": {},
   "source": [
    "Có tới hơn 400 chai có giá thấp hơn 1000, một mức giá vô lý. Ta sẽ tiến hành lọc đi các chai rượu này."
   ]
  },
  {
   "cell_type": "code",
   "execution_count": 14,
   "id": "350d29ed",
   "metadata": {},
   "outputs": [],
   "source": [
    "df = df[~(df['Gia'] < 1000)].reset_index(drop = True)"
   ]
  },
  {
   "cell_type": "markdown",
   "id": "8aaee00a",
   "metadata": {},
   "source": [
    "## Quay lại bước khám phá dữ liệu "
   ]
  },
  {
   "cell_type": "markdown",
   "id": "25da8880",
   "metadata": {},
   "source": [
    "Với các cột có kiểu dữ liệu số, ta cần tính:\n",
    "- Tỉ lệ % (từ 0 đến 100) các giá trị thiếu \n",
    "- Giá trị min\n",
    "- Giá trị lower quartile (phân vị 25)\n",
    "- Giá trị median (phân vị 50)\n",
    "- Giá trị upper quartile (phân vị 75)\n",
    "- Giá trị max\n",
    "\n",
    "Sau đó lưu kết quả vào DataFrame `num_col_info_df`, trong đó: \n",
    "- Tên của các cột là tên của các cột số trong `df`\n",
    "- Tên của các dòng là: \"missing_ratio\", \"min\", \"lower_quartile\", \"median\", \"upper_quartile\", \"max\"  \n",
    "\n",
    "Để dễ nhìn, tất cả các giá trị bạn đều làm tròn với 1 chữ số thập phân bằng phương thức `.round(1)`."
   ]
  },
  {
   "cell_type": "code",
   "execution_count": 15,
   "id": "cc63af5d",
   "metadata": {},
   "outputs": [
    {
     "data": {
      "text/html": [
       "<div>\n",
       "<style scoped>\n",
       "    .dataframe tbody tr th:only-of-type {\n",
       "        vertical-align: middle;\n",
       "    }\n",
       "\n",
       "    .dataframe tbody tr th {\n",
       "        vertical-align: top;\n",
       "    }\n",
       "\n",
       "    .dataframe thead th {\n",
       "        text-align: right;\n",
       "    }\n",
       "</style>\n",
       "<table border=\"1\" class=\"dataframe\">\n",
       "  <thead>\n",
       "    <tr style=\"text-align: right;\">\n",
       "      <th></th>\n",
       "      <th>Gia</th>\n",
       "      <th>Nong_do</th>\n",
       "      <th>Dung_tich</th>\n",
       "    </tr>\n",
       "  </thead>\n",
       "  <tbody>\n",
       "    <tr>\n",
       "      <th>missing_ratio</th>\n",
       "      <td>0.0</td>\n",
       "      <td>0.1</td>\n",
       "      <td>0.0</td>\n",
       "    </tr>\n",
       "    <tr>\n",
       "      <th>min</th>\n",
       "      <td>105000.0</td>\n",
       "      <td>0.0</td>\n",
       "      <td>187.0</td>\n",
       "    </tr>\n",
       "    <tr>\n",
       "      <th>lower_quartile</th>\n",
       "      <td>459000.0</td>\n",
       "      <td>13.0</td>\n",
       "      <td>750.0</td>\n",
       "    </tr>\n",
       "    <tr>\n",
       "      <th>median</th>\n",
       "      <td>777000.0</td>\n",
       "      <td>13.5</td>\n",
       "      <td>750.0</td>\n",
       "    </tr>\n",
       "    <tr>\n",
       "      <th>upper_quartile</th>\n",
       "      <td>1518000.0</td>\n",
       "      <td>14.0</td>\n",
       "      <td>750.0</td>\n",
       "    </tr>\n",
       "    <tr>\n",
       "      <th>max</th>\n",
       "      <td>39000000.0</td>\n",
       "      <td>45.0</td>\n",
       "      <td>6000.0</td>\n",
       "    </tr>\n",
       "  </tbody>\n",
       "</table>\n",
       "</div>"
      ],
      "text/plain": [
       "                       Gia  Nong_do  Dung_tich\n",
       "missing_ratio          0.0      0.1        0.0\n",
       "min               105000.0      0.0      187.0\n",
       "lower_quartile    459000.0     13.0      750.0\n",
       "median            777000.0     13.5      750.0\n",
       "upper_quartile   1518000.0     14.0      750.0\n",
       "max             39000000.0     45.0     6000.0"
      ]
     },
     "execution_count": 15,
     "metadata": {},
     "output_type": "execute_result"
    }
   ],
   "source": [
    "items = [\"Gia\",\"Nong_do\",\"Dung_tich\"]\n",
    "percentMissingList = []\n",
    "for item in items:\n",
    "   percentMissingList.append(round(df[item].apply(is_nan).tolist().count(1)/shape[0] * 100,1))\n",
    "\n",
    "percentMissingList\n",
    "\n",
    "columns = [\"Gia\",\"Nong_do\",\"Dung_tich\"]\n",
    "row_labels = [\"missing_ratio\",\"min\",\"lower_quartile\",\"median\",\"upper_quartile\",\"max\"]\n",
    "temp = df[[\"Gia\",\"Nong_do\",\"Dung_tich\"]]\n",
    "info_df = temp.quantile(q=[0.25,0.5, 0.75], axis=0, numeric_only=True, interpolation='midpoint')\n",
    "max = round(temp.max(axis = 0),1)\n",
    "min = round(temp.min(axis = 0),1)\n",
    "\n",
    "data = [percentMissingList,min,info_df.loc[0.25].tolist(),info_df.loc[0.5].tolist(),info_df.loc[0.75].tolist(),max]\n",
    "num_col_info_df = pd.DataFrame(data = data, index = row_labels, columns = columns)\n",
    "num_col_info_df"
   ]
  },
  {
   "cell_type": "markdown",
   "id": "a697f666",
   "metadata": {},
   "source": [
    "### Tiền xử lý"
   ]
  },
  {
   "cell_type": "markdown",
   "id": "929af260",
   "metadata": {},
   "source": [
    "Xử lý chuỗi của cột \"Màu sắc\" thành chuỗi viết thường (Vd: ở cột màu săc có \"Vàng Rơm\", \"Vàng rơm\"... thì chuyển thành \"vàng rơm\"), xóa khoảng trắng đầu và cuối, đồng bộ ký tự màu sắc (\"màu vàng rơm\", \"vàng rơm\" --> \"vàng rơm\")"
   ]
  },
  {
   "cell_type": "code",
   "execution_count": 16,
   "id": "7602410a",
   "metadata": {},
   "outputs": [],
   "source": [
    "df['Mau_sac'] = df['Mau_sac'].str.lower()\n",
    "df['Mau_sac'] = df['Mau_sac'].str.strip()\n",
    "\n",
    "df = df.apply(lambda x: x.replace({'màu':'', ': ':'','vàng':'vàng','đỏ':'đỏ'}, regex=True))\n",
    "df['Mau_sac'] = df['Mau_sac'].str.strip()\n"
   ]
  },
  {
   "cell_type": "code",
   "execution_count": 17,
   "id": "faf4f7d1",
   "metadata": {},
   "outputs": [
    {
     "data": {
      "text/html": [
       "<div>\n",
       "<style scoped>\n",
       "    .dataframe tbody tr th:only-of-type {\n",
       "        vertical-align: middle;\n",
       "    }\n",
       "\n",
       "    .dataframe tbody tr th {\n",
       "        vertical-align: top;\n",
       "    }\n",
       "\n",
       "    .dataframe thead th {\n",
       "        text-align: right;\n",
       "    }\n",
       "</style>\n",
       "<table border=\"1\" class=\"dataframe\">\n",
       "  <thead>\n",
       "    <tr style=\"text-align: right;\">\n",
       "      <th></th>\n",
       "      <th>Ma_sp</th>\n",
       "      <th>Ten_sp</th>\n",
       "      <th>Gia</th>\n",
       "      <th>Xuat_xu</th>\n",
       "      <th>Nong_do</th>\n",
       "      <th>Dung_tich</th>\n",
       "      <th>Giong_nho</th>\n",
       "      <th>Mau_sac</th>\n",
       "      <th>Loai_ruou</th>\n",
       "      <th>Thuong_hieu</th>\n",
       "      <th>Vung_lam_vang</th>\n",
       "    </tr>\n",
       "  </thead>\n",
       "  <tbody>\n",
       "    <tr>\n",
       "      <th>0</th>\n",
       "      <td>WVN-9400</td>\n",
       "      <td>Rượu Champagne Armand De Brignac Blanc</td>\n",
       "      <td>9400000.0</td>\n",
       "      <td>Pháp</td>\n",
       "      <td>12.5</td>\n",
       "      <td>750.0</td>\n",
       "      <td>Chardonnay</td>\n",
       "      <td>trắng</td>\n",
       "      <td>Rượu Champagne</td>\n",
       "      <td>Armand De Brignac</td>\n",
       "      <td>NaN</td>\n",
       "    </tr>\n",
       "    <tr>\n",
       "      <th>1</th>\n",
       "      <td>VNHM-1350</td>\n",
       "      <td>Rượu Champagne Arnaud Tabourin</td>\n",
       "      <td>1350000.0</td>\n",
       "      <td>Pháp</td>\n",
       "      <td>12.0</td>\n",
       "      <td>750.0</td>\n",
       "      <td>Chardonnay</td>\n",
       "      <td></td>\n",
       "      <td>Rượu Champagne</td>\n",
       "      <td>Arnaud Tabourin</td>\n",
       "      <td>NaN</td>\n",
       "    </tr>\n",
       "    <tr>\n",
       "      <th>2</th>\n",
       "      <td>VNHM1-1750</td>\n",
       "      <td>Rượu Champagne Autreau Brut Premier Cru</td>\n",
       "      <td>1750000.0</td>\n",
       "      <td>Pháp</td>\n",
       "      <td>12.0</td>\n",
       "      <td>750.0</td>\n",
       "      <td>Chardonnay</td>\n",
       "      <td>NaN</td>\n",
       "      <td>Rượu Vang Trắng</td>\n",
       "      <td>NaN</td>\n",
       "      <td>Champagne</td>\n",
       "    </tr>\n",
       "    <tr>\n",
       "      <th>3</th>\n",
       "      <td>VNHM1-1850</td>\n",
       "      <td>Rượu Champagne Autreau Reserve Brut Grand Cru</td>\n",
       "      <td>1850000.0</td>\n",
       "      <td>Pháp</td>\n",
       "      <td>12.0</td>\n",
       "      <td>750.0</td>\n",
       "      <td>Chardonnay,Pinot Nero</td>\n",
       "      <td></td>\n",
       "      <td>Rượu Champagne</td>\n",
       "      <td>Autreau</td>\n",
       "      <td>NaN</td>\n",
       "    </tr>\n",
       "    <tr>\n",
       "      <th>4</th>\n",
       "      <td>VNTK1-2760</td>\n",
       "      <td>Rượu Champagne Ayala Blanc De Blancs</td>\n",
       "      <td>2760000.0</td>\n",
       "      <td>Pháp</td>\n",
       "      <td>12.0</td>\n",
       "      <td>750.0</td>\n",
       "      <td>Chardonnay</td>\n",
       "      <td>vàng nhạt</td>\n",
       "      <td>Rượu Champagne</td>\n",
       "      <td>Ayala</td>\n",
       "      <td>NaN</td>\n",
       "    </tr>\n",
       "    <tr>\n",
       "      <th>5</th>\n",
       "      <td>VNTK-2294</td>\n",
       "      <td>Rượu Champagne Ayala Brut Majeur</td>\n",
       "      <td>2294000.0</td>\n",
       "      <td>Pháp</td>\n",
       "      <td>12.0</td>\n",
       "      <td>750.0</td>\n",
       "      <td>Chardonnay,Pinot Noir,Pinot Meunier</td>\n",
       "      <td>vàng rơm</td>\n",
       "      <td>Rượu Champagne</td>\n",
       "      <td>Ayala</td>\n",
       "      <td>NaN</td>\n",
       "    </tr>\n",
       "    <tr>\n",
       "      <th>6</th>\n",
       "      <td>VNTK-2734</td>\n",
       "      <td>Rượu Champagne Ayala Brut Nature</td>\n",
       "      <td>2734000.0</td>\n",
       "      <td>Pháp</td>\n",
       "      <td>12.0</td>\n",
       "      <td>750.0</td>\n",
       "      <td>Chardonnay,Pinot Noir,Pinot Meunier</td>\n",
       "      <td>vàng rơm</td>\n",
       "      <td>Rượu Champagne</td>\n",
       "      <td>Ayala</td>\n",
       "      <td>NaN</td>\n",
       "    </tr>\n",
       "    <tr>\n",
       "      <th>7</th>\n",
       "      <td>VNPE-1250</td>\n",
       "      <td>Rượu Champagne Bernard Lonclas Blanc</td>\n",
       "      <td>1250000.0</td>\n",
       "      <td>Pháp</td>\n",
       "      <td>12.0</td>\n",
       "      <td>750.0</td>\n",
       "      <td>Pinot Noir,Pinot Meunieur,Chardonnay</td>\n",
       "      <td>vàng rơm</td>\n",
       "      <td>Rượu Champagne</td>\n",
       "      <td>NaN</td>\n",
       "      <td>NaN</td>\n",
       "    </tr>\n",
       "    <tr>\n",
       "      <th>8</th>\n",
       "      <td>VNWH1-4200</td>\n",
       "      <td>Rượu Champagne Billecart Salmon Blanc De Blancs</td>\n",
       "      <td>2709000.0</td>\n",
       "      <td>Pháp</td>\n",
       "      <td>12.5</td>\n",
       "      <td>750.0</td>\n",
       "      <td>Chardnonnay</td>\n",
       "      <td>NaN</td>\n",
       "      <td>Champagne</td>\n",
       "      <td>Champagne Billecart</td>\n",
       "      <td>NaN</td>\n",
       "    </tr>\n",
       "    <tr>\n",
       "      <th>9</th>\n",
       "      <td>VNWH1-2750</td>\n",
       "      <td>Rượu Champagne Billecart Salmon Brut Réserve</td>\n",
       "      <td>1895000.0</td>\n",
       "      <td>Pháp</td>\n",
       "      <td>12.5</td>\n",
       "      <td>750.0</td>\n",
       "      <td>Chardonnay,Pinot Noir,Pinot Meunier</td>\n",
       "      <td>vàng rơm</td>\n",
       "      <td>Champagne</td>\n",
       "      <td>Champagne Billecart</td>\n",
       "      <td>NaN</td>\n",
       "    </tr>\n",
       "    <tr>\n",
       "      <th>10</th>\n",
       "      <td>VNWH-3900</td>\n",
       "      <td>Rượu Champagne Billecart Salmon Brut Sous Bois</td>\n",
       "      <td>3900000.0</td>\n",
       "      <td>Pháp</td>\n",
       "      <td>12.5</td>\n",
       "      <td>750.0</td>\n",
       "      <td>Chardonnay,Pinot Noir,Pinot Meunier</td>\n",
       "      <td>vàng rơm</td>\n",
       "      <td>Champagne</td>\n",
       "      <td>Champagne Billecart</td>\n",
       "      <td>NaN</td>\n",
       "    </tr>\n",
       "    <tr>\n",
       "      <th>11</th>\n",
       "      <td>VNDL-552</td>\n",
       "      <td>Rượu Champagne Bisol BelStar Cuvee Rose</td>\n",
       "      <td>495000.0</td>\n",
       "      <td>Ý</td>\n",
       "      <td>11.5</td>\n",
       "      <td>750.0</td>\n",
       "      <td>Merlot,Pinot Nero</td>\n",
       "      <td>NaN</td>\n",
       "      <td>Rượu Vang Nổ</td>\n",
       "      <td>Bisol</td>\n",
       "      <td>Veneto</td>\n",
       "    </tr>\n",
       "    <tr>\n",
       "      <th>12</th>\n",
       "      <td>VNTK1-3867</td>\n",
       "      <td>Rượu Champagne Bollinger La Cote Aux Enfants</td>\n",
       "      <td>3867000.0</td>\n",
       "      <td>Pháp</td>\n",
       "      <td>12.5</td>\n",
       "      <td>750.0</td>\n",
       "      <td>Pinot Noir</td>\n",
       "      <td>NaN</td>\n",
       "      <td>Rượu Champagne</td>\n",
       "      <td>Bollinger</td>\n",
       "      <td>NaN</td>\n",
       "    </tr>\n",
       "    <tr>\n",
       "      <th>13</th>\n",
       "      <td>VNTK-4920</td>\n",
       "      <td>Rượu Champagne Bollinger La Grande Année</td>\n",
       "      <td>4920000.0</td>\n",
       "      <td>Pháp</td>\n",
       "      <td>12.0</td>\n",
       "      <td>750.0</td>\n",
       "      <td>Pinot Noir,Chardonnay</td>\n",
       "      <td>vàng nhạt</td>\n",
       "      <td>Rượu Champagne</td>\n",
       "      <td>Bollinger</td>\n",
       "      <td>NaN</td>\n",
       "    </tr>\n",
       "    <tr>\n",
       "      <th>14</th>\n",
       "      <td>VNTK-5960</td>\n",
       "      <td>Rượu Champagne Bollinger La Grande Année Rose</td>\n",
       "      <td>5960000.0</td>\n",
       "      <td>Pháp</td>\n",
       "      <td>14.0</td>\n",
       "      <td>750.0</td>\n",
       "      <td>Pinot Noir,Chardonnay,Pinot Meunier</td>\n",
       "      <td>NaN</td>\n",
       "      <td>Rượu Champagne</td>\n",
       "      <td>Bollinger</td>\n",
       "      <td>NaN</td>\n",
       "    </tr>\n",
       "    <tr>\n",
       "      <th>15</th>\n",
       "      <td>VNTK-3880</td>\n",
       "      <td>Rượu Champagne Bollinger Rose</td>\n",
       "      <td>3880000.0</td>\n",
       "      <td>Pháp</td>\n",
       "      <td>12.0</td>\n",
       "      <td>750.0</td>\n",
       "      <td>Chardonnay,Pinot Noir</td>\n",
       "      <td>NaN</td>\n",
       "      <td>Rượu Champagne</td>\n",
       "      <td>Bollinger</td>\n",
       "      <td>NaN</td>\n",
       "    </tr>\n",
       "    <tr>\n",
       "      <th>16</th>\n",
       "      <td>VNTK-4134</td>\n",
       "      <td>Rượu Champagne Bollinger Rose Limited 2006</td>\n",
       "      <td>4134000.0</td>\n",
       "      <td>Pháp</td>\n",
       "      <td>12.0</td>\n",
       "      <td>750.0</td>\n",
       "      <td>Chardonnay,Pinot Noir</td>\n",
       "      <td>NaN</td>\n",
       "      <td>Rượu Champagne</td>\n",
       "      <td>Bollinger</td>\n",
       "      <td>NaN</td>\n",
       "    </tr>\n",
       "    <tr>\n",
       "      <th>17</th>\n",
       "      <td>VNTK-3294</td>\n",
       "      <td>Rượu Champagne Bollinger Special Cuvee</td>\n",
       "      <td>3294000.0</td>\n",
       "      <td>Pháp</td>\n",
       "      <td>12.0</td>\n",
       "      <td>750.0</td>\n",
       "      <td>Chardonnay,Pinot Noir</td>\n",
       "      <td>vàng nhạt</td>\n",
       "      <td>Rượu Champagne</td>\n",
       "      <td>Bollinger</td>\n",
       "      <td>NaN</td>\n",
       "    </tr>\n",
       "    <tr>\n",
       "      <th>18</th>\n",
       "      <td>VNPV-3958</td>\n",
       "      <td>Rượu Champagne Bottega Stardust Prosecco</td>\n",
       "      <td>3563000.0</td>\n",
       "      <td>Ý</td>\n",
       "      <td>11.0</td>\n",
       "      <td>750.0</td>\n",
       "      <td>Glera</td>\n",
       "      <td>vàng rơm nhạt</td>\n",
       "      <td>Rượu Champagne</td>\n",
       "      <td>Bottega</td>\n",
       "      <td>Veneto</td>\n",
       "    </tr>\n",
       "    <tr>\n",
       "      <th>19</th>\n",
       "      <td>VNTL-1528</td>\n",
       "      <td>Rượu Champagne Canard Duchene Brut</td>\n",
       "      <td>1290000.0</td>\n",
       "      <td>Pháp</td>\n",
       "      <td>12.0</td>\n",
       "      <td>750.0</td>\n",
       "      <td>Pinot Meunier,Pinot Noir,Chardonnay</td>\n",
       "      <td>vàng rơm</td>\n",
       "      <td>Rượu Champagne</td>\n",
       "      <td>Champagne Canard Duchene</td>\n",
       "      <td>NaN</td>\n",
       "    </tr>\n",
       "  </tbody>\n",
       "</table>\n",
       "</div>"
      ],
      "text/plain": [
       "         Ma_sp                                           Ten_sp        Gia  \\\n",
       "0     WVN-9400           Rượu Champagne Armand De Brignac Blanc  9400000.0   \n",
       "1    VNHM-1350                   Rượu Champagne Arnaud Tabourin  1350000.0   \n",
       "2   VNHM1-1750          Rượu Champagne Autreau Brut Premier Cru  1750000.0   \n",
       "3   VNHM1-1850    Rượu Champagne Autreau Reserve Brut Grand Cru  1850000.0   \n",
       "4   VNTK1-2760             Rượu Champagne Ayala Blanc De Blancs  2760000.0   \n",
       "5    VNTK-2294                 Rượu Champagne Ayala Brut Majeur  2294000.0   \n",
       "6    VNTK-2734                 Rượu Champagne Ayala Brut Nature  2734000.0   \n",
       "7    VNPE-1250             Rượu Champagne Bernard Lonclas Blanc  1250000.0   \n",
       "8   VNWH1-4200  Rượu Champagne Billecart Salmon Blanc De Blancs  2709000.0   \n",
       "9   VNWH1-2750     Rượu Champagne Billecart Salmon Brut Réserve  1895000.0   \n",
       "10   VNWH-3900   Rượu Champagne Billecart Salmon Brut Sous Bois  3900000.0   \n",
       "11    VNDL-552          Rượu Champagne Bisol BelStar Cuvee Rose   495000.0   \n",
       "12  VNTK1-3867     Rượu Champagne Bollinger La Cote Aux Enfants  3867000.0   \n",
       "13   VNTK-4920         Rượu Champagne Bollinger La Grande Année  4920000.0   \n",
       "14   VNTK-5960    Rượu Champagne Bollinger La Grande Année Rose  5960000.0   \n",
       "15   VNTK-3880                    Rượu Champagne Bollinger Rose  3880000.0   \n",
       "16   VNTK-4134       Rượu Champagne Bollinger Rose Limited 2006  4134000.0   \n",
       "17   VNTK-3294           Rượu Champagne Bollinger Special Cuvee  3294000.0   \n",
       "18   VNPV-3958         Rượu Champagne Bottega Stardust Prosecco  3563000.0   \n",
       "19   VNTL-1528               Rượu Champagne Canard Duchene Brut  1290000.0   \n",
       "\n",
       "   Xuat_xu  Nong_do  Dung_tich                             Giong_nho  \\\n",
       "0     Pháp     12.5      750.0                            Chardonnay   \n",
       "1     Pháp     12.0      750.0                            Chardonnay   \n",
       "2     Pháp     12.0      750.0                            Chardonnay   \n",
       "3     Pháp     12.0      750.0                 Chardonnay,Pinot Nero   \n",
       "4     Pháp     12.0      750.0                            Chardonnay   \n",
       "5     Pháp     12.0      750.0   Chardonnay,Pinot Noir,Pinot Meunier   \n",
       "6     Pháp     12.0      750.0   Chardonnay,Pinot Noir,Pinot Meunier   \n",
       "7     Pháp     12.0      750.0  Pinot Noir,Pinot Meunieur,Chardonnay   \n",
       "8     Pháp     12.5      750.0                           Chardnonnay   \n",
       "9     Pháp     12.5      750.0   Chardonnay,Pinot Noir,Pinot Meunier   \n",
       "10    Pháp     12.5      750.0   Chardonnay,Pinot Noir,Pinot Meunier   \n",
       "11       Ý     11.5      750.0                     Merlot,Pinot Nero   \n",
       "12    Pháp     12.5      750.0                            Pinot Noir   \n",
       "13    Pháp     12.0      750.0                 Pinot Noir,Chardonnay   \n",
       "14    Pháp     14.0      750.0   Pinot Noir,Chardonnay,Pinot Meunier   \n",
       "15    Pháp     12.0      750.0                 Chardonnay,Pinot Noir   \n",
       "16    Pháp     12.0      750.0                 Chardonnay,Pinot Noir   \n",
       "17    Pháp     12.0      750.0                 Chardonnay,Pinot Noir   \n",
       "18       Ý     11.0      750.0                                 Glera   \n",
       "19    Pháp     12.0      750.0   Pinot Meunier,Pinot Noir,Chardonnay   \n",
       "\n",
       "          Mau_sac         Loai_ruou               Thuong_hieu Vung_lam_vang  \n",
       "0           trắng    Rượu Champagne         Armand De Brignac           NaN  \n",
       "1                    Rượu Champagne           Arnaud Tabourin           NaN  \n",
       "2             NaN  Rượu Vang Trắng                       NaN     Champagne  \n",
       "3                    Rượu Champagne                   Autreau           NaN  \n",
       "4      vàng nhạt   Rượu Champagne                     Ayala           NaN  \n",
       "5        vàng rơm   Rượu Champagne                     Ayala           NaN  \n",
       "6        vàng rơm   Rượu Champagne                     Ayala           NaN  \n",
       "7        vàng rơm    Rượu Champagne                       NaN           NaN  \n",
       "8             NaN         Champagne       Champagne Billecart           NaN  \n",
       "9        vàng rơm         Champagne       Champagne Billecart           NaN  \n",
       "10       vàng rơm         Champagne       Champagne Billecart           NaN  \n",
       "11            NaN      Rượu Vang Nổ                     Bisol        Veneto  \n",
       "12            NaN   Rượu Champagne                 Bollinger           NaN  \n",
       "13      vàng nhạt   Rượu Champagne                 Bollinger           NaN  \n",
       "14            NaN   Rượu Champagne                 Bollinger           NaN  \n",
       "15            NaN   Rượu Champagne                 Bollinger           NaN  \n",
       "16            NaN   Rượu Champagne                 Bollinger           NaN  \n",
       "17     vàng nhạt   Rượu Champagne                 Bollinger           NaN  \n",
       "18  vàng rơm nhạt    Rượu Champagne                   Bottega        Veneto  \n",
       "19       vàng rơm    Rượu Champagne  Champagne Canard Duchene           NaN  "
      ]
     },
     "execution_count": 17,
     "metadata": {},
     "output_type": "execute_result"
    }
   ],
   "source": [
    "df.head(20)"
   ]
  },
  {
   "cell_type": "markdown",
   "id": "42fac911",
   "metadata": {},
   "source": [
    "## Quay lại bước khám phá dữ liệu "
   ]
  },
  {
   "cell_type": "markdown",
   "id": "7c869651",
   "metadata": {},
   "source": [
    "Với các cột \"Xuat_xu\",\"Giong_nho\",\"Mau_sac\",\"Thuong_hieu\" ta cần tính:\n",
    "- Tỉ lệ % (từ 0 đến 100) các giá trị thiếu \n",
    "- Số lượng các giá trị (các giá trị ở đây là các giá trị khác nhau và ta không xét giá trị thiếu): với cột mà ứng với câu hỏi dạng multichoice (ví dụ, cột \"Giong_nho\"), mỗi giá trị có thể chứa nhiều choice (các choice được phân tách bởi dấu phẩy)\n",
    "- Tỉ lệ % (từ 0 đến 100) của mỗi giá trị được sort theo tỉ lệ % giảm dần (ta không xét giá trị thiếu, tỉ lệ là tỉ lệ so với số lượng các giá trị không thiếu)\n",
    "\n",
    "Lưu kết quả vào DataFrame `cat_col_info_df`, trong đó: \n",
    "- Tên của các cột là tên của các cột không phải số trong `survey_df`\n",
    "- Tên của các dòng là: \"missing_ratio\", \"num_values\", \"value_ratios\"  \n",
    "\n",
    "Để dễ nhìn, tất cả các giá trị bạn đều làm tròn với 1 chữ số thập phân bằng phương thức `.round(1)`."
   ]
  },
  {
   "cell_type": "code",
   "execution_count": 18,
   "id": "2e692d40",
   "metadata": {},
   "outputs": [],
   "source": [
    "pd.set_option('display.max_colwidth', 100) # Để dễ nhìn\n",
    "pd.set_option('display.max_columns', None) # Để dễ nhìn\n",
    "\n",
    "temp = df[[\"Xuat_xu\",\"Giong_nho\",\"Mau_sac\",\"Thuong_hieu\"]]\n",
    "items = [\"Xuat_xu\",\"Giong_nho\",\"Mau_sac\",\"Thuong_hieu\"]\n",
    "\n",
    "\n",
    "percentMissingList = []\n",
    "for item in items:\n",
    "   percentMissingList.append(round(df[item].apply(is_nan).tolist().count(1)/len(df) * 100,1))\n",
    "\n",
    "columns = temp.columns.tolist()\n",
    "row_labels = [\"missing_ratio\", \"num_values\", \"value_ratios\"]\n",
    "\n",
    "num_values_list = []\n",
    "for k in range (0,len(items)):\n",
    "    s = temp[items[k]].tolist()\n",
    "    s_split = []\n",
    "    for i in range(0,len(s)):\n",
    "        if is_nan(s[i]) == 0:\n",
    "            s_split.append(re.split(', ',s[i]))\n",
    "\n",
    "    l = pd.Series(s_split).explode().tolist()\n",
    "    l = [*set(l)]\n",
    "    num_values_list.append(len(l))\n",
    "        \n",
    "\n",
    "list_dic = []\n",
    "\n",
    "for k in range (0,len(items)):\n",
    "    s = temp[items[k]].tolist()\n",
    "    s_split = []\n",
    "    for i in range(0,len(s)):\n",
    "        if is_nan(s[i]) == 0:\n",
    "            s_split.append(re.split(', ',s[i]))\n",
    "\n",
    "    l = pd.Series(s_split).explode()\n",
    "    a = l.value_counts()\n",
    "    dic = round(a/a.sum()*100,1).to_dict()\n",
    "    list_dic.append(dic)       \n",
    "\n",
    "data = [percentMissingList, num_values_list, list_dic]\n",
    "cat_col_info_df = pd.DataFrame(data = data, index = row_labels, columns = columns)"
   ]
  },
  {
   "cell_type": "code",
   "execution_count": 19,
   "id": "4c438e83",
   "metadata": {},
   "outputs": [
    {
     "data": {
      "text/html": [
       "<div>\n",
       "<style scoped>\n",
       "    .dataframe tbody tr th:only-of-type {\n",
       "        vertical-align: middle;\n",
       "    }\n",
       "\n",
       "    .dataframe tbody tr th {\n",
       "        vertical-align: top;\n",
       "    }\n",
       "\n",
       "    .dataframe thead th {\n",
       "        text-align: right;\n",
       "    }\n",
       "</style>\n",
       "<table border=\"1\" class=\"dataframe\">\n",
       "  <thead>\n",
       "    <tr style=\"text-align: right;\">\n",
       "      <th></th>\n",
       "      <th>Xuat_xu</th>\n",
       "      <th>Giong_nho</th>\n",
       "      <th>Mau_sac</th>\n",
       "      <th>Thuong_hieu</th>\n",
       "    </tr>\n",
       "  </thead>\n",
       "  <tbody>\n",
       "    <tr>\n",
       "      <th>missing_ratio</th>\n",
       "      <td>0.0</td>\n",
       "      <td>7.2</td>\n",
       "      <td>15.6</td>\n",
       "      <td>28.8</td>\n",
       "    </tr>\n",
       "    <tr>\n",
       "      <th>num_values</th>\n",
       "      <td>20</td>\n",
       "      <td>853</td>\n",
       "      <td>250</td>\n",
       "      <td>1417</td>\n",
       "    </tr>\n",
       "    <tr>\n",
       "      <th>value_ratios</th>\n",
       "      <td>{'Pháp': 37.4, 'Ý': 20.4, 'Chile': 16.1, 'ÚC': 7.3, 'Tây Ban Nha': 4.7, 'Mỹ': 4.1, 'Argentina': ...</td>\n",
       "      <td>{'Chardonnay': 9.9, 'Cabernet Sauvignon': 7.9, 'Pinot Noir': 5.7, 'Sauvignon Blanc': 5.3, 'Caber...</td>\n",
       "      <td>{'đỏ ruby': 37.5, 'vàng rơm': 15.1, 'đỏ': 9.2, 'đỏ đậm': 7.6, 'vàng nhạt': 5.9, '': 1.4, 'đỏ rub...</td>\n",
       "      <td>{'Concha Y Toro': 1.3, 'Borie Manoux': 0.7, 'Miguel Torres': 0.6, 'Santa Rita': 0.6, '': 0.6, 'F...</td>\n",
       "    </tr>\n",
       "  </tbody>\n",
       "</table>\n",
       "</div>"
      ],
      "text/plain": [
       "                                                                                                           Xuat_xu  \\\n",
       "missing_ratio                                                                                                  0.0   \n",
       "num_values                                                                                                      20   \n",
       "value_ratios   {'Pháp': 37.4, 'Ý': 20.4, 'Chile': 16.1, 'ÚC': 7.3, 'Tây Ban Nha': 4.7, 'Mỹ': 4.1, 'Argentina': ...   \n",
       "\n",
       "                                                                                                         Giong_nho  \\\n",
       "missing_ratio                                                                                                  7.2   \n",
       "num_values                                                                                                     853   \n",
       "value_ratios   {'Chardonnay': 9.9, 'Cabernet Sauvignon': 7.9, 'Pinot Noir': 5.7, 'Sauvignon Blanc': 5.3, 'Caber...   \n",
       "\n",
       "                                                                                                           Mau_sac  \\\n",
       "missing_ratio                                                                                                 15.6   \n",
       "num_values                                                                                                     250   \n",
       "value_ratios   {'đỏ ruby': 37.5, 'vàng rơm': 15.1, 'đỏ': 9.2, 'đỏ đậm': 7.6, 'vàng nhạt': 5.9, '': 1.4, 'đỏ rub...   \n",
       "\n",
       "                                                                                                       Thuong_hieu  \n",
       "missing_ratio                                                                                                 28.8  \n",
       "num_values                                                                                                    1417  \n",
       "value_ratios   {'Concha Y Toro': 1.3, 'Borie Manoux': 0.7, 'Miguel Torres': 0.6, 'Santa Rita': 0.6, '': 0.6, 'F...  "
      ]
     },
     "execution_count": 19,
     "metadata": {},
     "output_type": "execute_result"
    }
   ],
   "source": [
    "cat_col_info_df"
   ]
  },
  {
   "cell_type": "markdown",
   "id": "c80c5692",
   "metadata": {},
   "source": [
    "### Xử lý dữ liệu bị thiếu"
   ]
  },
  {
   "cell_type": "markdown",
   "id": "9f4b3b36",
   "metadata": {},
   "source": [
    "Tổng kết lại một chút về tỉ lệ thiếu dữ liệu của từng cột"
   ]
  },
  {
   "cell_type": "code",
   "execution_count": 20,
   "id": "8c3d0401",
   "metadata": {},
   "outputs": [
    {
     "data": {
      "text/plain": [
       "Thuong_hieu      28.797224\n",
       "Mau_sac          15.612953\n",
       "Vung_lam_vang    11.179645\n",
       "Giong_nho         7.228219\n",
       "Loai_ruou         6.341557\n",
       "Ma_sp             0.751735\n",
       "Nong_do           0.057826\n",
       "Ten_sp            0.000000\n",
       "Gia               0.000000\n",
       "Xuat_xu           0.000000\n",
       "Dung_tich         0.000000\n",
       "dtype: float64"
      ]
     },
     "execution_count": 20,
     "metadata": {},
     "output_type": "execute_result"
    }
   ],
   "source": [
    "df.agg(lambda x : x.isna().mean()*100).sort_values(ascending = False)\n"
   ]
  },
  {
   "cell_type": "markdown",
   "id": "6a54afd5",
   "metadata": {},
   "source": [
    "Ta có thể thấy là 3 cột có tỉ lệ thiếu cao nhất có tỉ lệ lớn hơn 10% so tổng số lượng dữ liệu, cá biệt là cột Thuong_hieu có tỉ lệ thiếu lên đến 28%. Nếu chọn giải pháp xoá đi các dòng bị thiếu dữ liệu thì sẽ ảnh hưởng không nhỏ đến tính khách quan và chuẩn xác của tập dữ liệu. Cuối cùng, nhóm đã chọn phương án là lấp các ô bị thiếu ở cột Thuong_hieu bằng cách dựa vào cột Vung_lam_vang. Bởi vì một thương hiệu rượu thường sẽ đi liền với một vùng làm rượu riêng của họ. Ta sẽ xác định xem với từng vùng làm rượu thì thương hiệu nào xuất hiện nhiều nhất, từ đó lấy thương hiệu này làm đại diện. "
   ]
  },
  {
   "cell_type": "code",
   "execution_count": 21,
   "id": "fa5ac6ac",
   "metadata": {},
   "outputs": [
    {
     "data": {
      "text/html": [
       "<div>\n",
       "<style scoped>\n",
       "    .dataframe tbody tr th:only-of-type {\n",
       "        vertical-align: middle;\n",
       "    }\n",
       "\n",
       "    .dataframe tbody tr th {\n",
       "        vertical-align: top;\n",
       "    }\n",
       "\n",
       "    .dataframe thead th {\n",
       "        text-align: right;\n",
       "    }\n",
       "</style>\n",
       "<table border=\"1\" class=\"dataframe\">\n",
       "  <thead>\n",
       "    <tr style=\"text-align: right;\">\n",
       "      <th></th>\n",
       "      <th>Vung_lam_vang</th>\n",
       "      <th>Thuong_hieu</th>\n",
       "    </tr>\n",
       "  </thead>\n",
       "  <tbody>\n",
       "    <tr>\n",
       "      <th>0</th>\n",
       "      <td>Bordeaux</td>\n",
       "      <td>Borie Manoux</td>\n",
       "    </tr>\n",
       "    <tr>\n",
       "      <th>1</th>\n",
       "      <td>Mendoza</td>\n",
       "      <td>Trivento</td>\n",
       "    </tr>\n",
       "    <tr>\n",
       "      <th>2</th>\n",
       "      <td>Aconcagua Valley</td>\n",
       "      <td>Errazuriz</td>\n",
       "    </tr>\n",
       "    <tr>\n",
       "      <th>3</th>\n",
       "      <td>Bourgogne</td>\n",
       "      <td>Louis Jadot</td>\n",
       "    </tr>\n",
       "    <tr>\n",
       "      <th>4</th>\n",
       "      <td>Central Valley</td>\n",
       "      <td>Concha Y Toro</td>\n",
       "    </tr>\n",
       "    <tr>\n",
       "      <th>...</th>\n",
       "      <td>...</td>\n",
       "      <td>...</td>\n",
       "    </tr>\n",
       "    <tr>\n",
       "      <th>366</th>\n",
       "      <td>Langhorne Creek</td>\n",
       "      <td>McGuigan</td>\n",
       "    </tr>\n",
       "    <tr>\n",
       "      <th>367</th>\n",
       "      <td>Languedoc Roussillon</td>\n",
       "      <td>Bories Azeaux</td>\n",
       "    </tr>\n",
       "    <tr>\n",
       "      <th>368</th>\n",
       "      <td>Lenswood</td>\n",
       "      <td>Henschke</td>\n",
       "    </tr>\n",
       "    <tr>\n",
       "      <th>369</th>\n",
       "      <td>Limori Valley, Chile</td>\n",
       "      <td>Mancura</td>\n",
       "    </tr>\n",
       "    <tr>\n",
       "      <th>370</th>\n",
       "      <td>Đảo Sardinia – Italia</td>\n",
       "      <td>Conte di Campiano</td>\n",
       "    </tr>\n",
       "  </tbody>\n",
       "</table>\n",
       "<p>371 rows × 2 columns</p>\n",
       "</div>"
      ],
      "text/plain": [
       "             Vung_lam_vang        Thuong_hieu\n",
       "0                 Bordeaux       Borie Manoux\n",
       "1                  Mendoza           Trivento\n",
       "2         Aconcagua Valley          Errazuriz\n",
       "3                Bourgogne        Louis Jadot\n",
       "4           Central Valley      Concha Y Toro\n",
       "..                     ...                ...\n",
       "366        Langhorne Creek           McGuigan\n",
       "367   Languedoc Roussillon      Bories Azeaux\n",
       "368               Lenswood           Henschke\n",
       "369   Limori Valley, Chile            Mancura\n",
       "370  Đảo Sardinia – Italia  Conte di Campiano\n",
       "\n",
       "[371 rows x 2 columns]"
      ]
     },
     "execution_count": 21,
     "metadata": {},
     "output_type": "execute_result"
    }
   ],
   "source": [
    "def is_empty(s):\n",
    "  '''\n",
    "    Return a boolean series based on whether the cell is empty or not.\n",
    "    A cell is empty if it has either NA value or empty string.\n",
    "  '''\n",
    "  return ((s.isna()) | (s == ''))\n",
    "# Get rows that neither cells in Thuong_hieu nor Vung_lam_vang columns are empty\n",
    "filter_df = df.loc[~(is_empty(df['Thuong_hieu']) | is_empty(df['Vung_lam_vang']))].reset_index(drop = True)\n",
    "# Drop rows having very long name place\n",
    "long_name_place = filter_df['Vung_lam_vang'].apply(lambda x : len(x) >= 50)\n",
    "idx = long_name_place[long_name_place == True].index\n",
    "filter_df = filter_df.drop(idx)\n",
    "\n",
    "place_brand_df = filter_df.groupby(['Vung_lam_vang', 'Thuong_hieu'])['Thuong_hieu'].count().to_frame(name = 'count')\n",
    "# Get indices of brand having most count by each place of origin\n",
    "idx = place_brand_df.groupby(level = 0)['count'].idxmax()\n",
    "place_brand_df = place_brand_df.loc[idx]\n",
    "place_brand_df = place_brand_df.sort_values(by = 'count', ascending = False)\n",
    "place_brand_df = place_brand_df.reset_index()[['Vung_lam_vang','Thuong_hieu']]\n",
    "place_brand_df"
   ]
  },
  {
   "cell_type": "code",
   "execution_count": 22,
   "id": "75c43d32",
   "metadata": {},
   "outputs": [
    {
     "data": {
      "text/html": [
       "<div>\n",
       "<style scoped>\n",
       "    .dataframe tbody tr th:only-of-type {\n",
       "        vertical-align: middle;\n",
       "    }\n",
       "\n",
       "    .dataframe tbody tr th {\n",
       "        vertical-align: top;\n",
       "    }\n",
       "\n",
       "    .dataframe thead th {\n",
       "        text-align: right;\n",
       "    }\n",
       "</style>\n",
       "<table border=\"1\" class=\"dataframe\">\n",
       "  <thead>\n",
       "    <tr style=\"text-align: right;\">\n",
       "      <th></th>\n",
       "      <th>Ma_sp</th>\n",
       "      <th>Ten_sp</th>\n",
       "      <th>Gia</th>\n",
       "      <th>Xuat_xu</th>\n",
       "      <th>Nong_do</th>\n",
       "      <th>Dung_tich</th>\n",
       "      <th>Giong_nho</th>\n",
       "      <th>Mau_sac</th>\n",
       "      <th>Loai_ruou</th>\n",
       "      <th>Thuong_hieu</th>\n",
       "      <th>Vung_lam_vang</th>\n",
       "    </tr>\n",
       "  </thead>\n",
       "  <tbody>\n",
       "    <tr>\n",
       "      <th>0</th>\n",
       "      <td>WVN-9400</td>\n",
       "      <td>Rượu Champagne Armand De Brignac Blanc</td>\n",
       "      <td>9400000.0</td>\n",
       "      <td>Pháp</td>\n",
       "      <td>12.5</td>\n",
       "      <td>750.0</td>\n",
       "      <td>Chardonnay</td>\n",
       "      <td>trắng</td>\n",
       "      <td>Rượu Champagne</td>\n",
       "      <td>Armand De Brignac</td>\n",
       "      <td>NaN</td>\n",
       "    </tr>\n",
       "    <tr>\n",
       "      <th>1</th>\n",
       "      <td>VNHM-1350</td>\n",
       "      <td>Rượu Champagne Arnaud Tabourin</td>\n",
       "      <td>1350000.0</td>\n",
       "      <td>Pháp</td>\n",
       "      <td>12.0</td>\n",
       "      <td>750.0</td>\n",
       "      <td>Chardonnay</td>\n",
       "      <td></td>\n",
       "      <td>Rượu Champagne</td>\n",
       "      <td>Arnaud Tabourin</td>\n",
       "      <td>NaN</td>\n",
       "    </tr>\n",
       "    <tr>\n",
       "      <th>2</th>\n",
       "      <td>VNHM1-1750</td>\n",
       "      <td>Rượu Champagne Autreau Brut Premier Cru</td>\n",
       "      <td>1750000.0</td>\n",
       "      <td>Pháp</td>\n",
       "      <td>12.0</td>\n",
       "      <td>750.0</td>\n",
       "      <td>Chardonnay</td>\n",
       "      <td>NaN</td>\n",
       "      <td>Rượu Vang Trắng</td>\n",
       "      <td>Delamotte</td>\n",
       "      <td>Champagne</td>\n",
       "    </tr>\n",
       "    <tr>\n",
       "      <th>3</th>\n",
       "      <td>VNHM1-1850</td>\n",
       "      <td>Rượu Champagne Autreau Reserve Brut Grand Cru</td>\n",
       "      <td>1850000.0</td>\n",
       "      <td>Pháp</td>\n",
       "      <td>12.0</td>\n",
       "      <td>750.0</td>\n",
       "      <td>Chardonnay,Pinot Nero</td>\n",
       "      <td></td>\n",
       "      <td>Rượu Champagne</td>\n",
       "      <td>Autreau</td>\n",
       "      <td>NaN</td>\n",
       "    </tr>\n",
       "    <tr>\n",
       "      <th>4</th>\n",
       "      <td>VNTK1-2760</td>\n",
       "      <td>Rượu Champagne Ayala Blanc De Blancs</td>\n",
       "      <td>2760000.0</td>\n",
       "      <td>Pháp</td>\n",
       "      <td>12.0</td>\n",
       "      <td>750.0</td>\n",
       "      <td>Chardonnay</td>\n",
       "      <td>vàng nhạt</td>\n",
       "      <td>Rượu Champagne</td>\n",
       "      <td>Ayala</td>\n",
       "      <td>NaN</td>\n",
       "    </tr>\n",
       "    <tr>\n",
       "      <th>...</th>\n",
       "      <td>...</td>\n",
       "      <td>...</td>\n",
       "      <td>...</td>\n",
       "      <td>...</td>\n",
       "      <td>...</td>\n",
       "      <td>...</td>\n",
       "      <td>...</td>\n",
       "      <td>...</td>\n",
       "      <td>...</td>\n",
       "      <td>...</td>\n",
       "      <td>...</td>\n",
       "    </tr>\n",
       "    <tr>\n",
       "      <th>5183</th>\n",
       "      <td>VNMH2-310</td>\n",
       "      <td>Rượu Vang Santa Carolina Cabernet Sauvignon</td>\n",
       "      <td>300000.0</td>\n",
       "      <td>Chile</td>\n",
       "      <td>13.5</td>\n",
       "      <td>750.0</td>\n",
       "      <td>NaN</td>\n",
       "      <td>NaN</td>\n",
       "      <td>NaN</td>\n",
       "      <td>NaN</td>\n",
       "      <td>NaN</td>\n",
       "    </tr>\n",
       "    <tr>\n",
       "      <th>5184</th>\n",
       "      <td>VNPV-366</td>\n",
       "      <td>Rượu Vang Sunrise Cabernet Sauvignon</td>\n",
       "      <td>330000.0</td>\n",
       "      <td>Chile</td>\n",
       "      <td>13.5</td>\n",
       "      <td>750.0</td>\n",
       "      <td>Cabernet Sauvignon</td>\n",
       "      <td>đỏ ruby</td>\n",
       "      <td>Rượu Vang Đỏ</td>\n",
       "      <td>Concha Y Toro</td>\n",
       "      <td>Central Valley</td>\n",
       "    </tr>\n",
       "    <tr>\n",
       "      <th>5185</th>\n",
       "      <td>VNWH4-328</td>\n",
       "      <td>Rượu Vang Trắng Deakin Estate Moscato</td>\n",
       "      <td>318000.0</td>\n",
       "      <td>ÚC</td>\n",
       "      <td>6.5</td>\n",
       "      <td>750.0</td>\n",
       "      <td>Moscato</td>\n",
       "      <td>NaN</td>\n",
       "      <td>Rượu Vang Trắng</td>\n",
       "      <td>Deakin Estate</td>\n",
       "      <td>Victoria</td>\n",
       "    </tr>\n",
       "    <tr>\n",
       "      <th>5186</th>\n",
       "      <td>VNWH1- 674</td>\n",
       "      <td>Rượu Vang ÚC Yalumba Organic Shiraz</td>\n",
       "      <td>660000.0</td>\n",
       "      <td>ÚC</td>\n",
       "      <td>13.5</td>\n",
       "      <td>750.0</td>\n",
       "      <td>Shiraz</td>\n",
       "      <td>đỏ ánh tím</td>\n",
       "      <td>Rượu vang đỏ</td>\n",
       "      <td>Yalumba</td>\n",
       "      <td>South Australia</td>\n",
       "    </tr>\n",
       "    <tr>\n",
       "      <th>5187</th>\n",
       "      <td>VNWH8- 595</td>\n",
       "      <td>Rượu Vang Yalumba Christobel’s Moscato</td>\n",
       "      <td>575000.0</td>\n",
       "      <td>ÚC</td>\n",
       "      <td>12.5</td>\n",
       "      <td>750.0</td>\n",
       "      <td>Moscato</td>\n",
       "      <td>vàng rơm</td>\n",
       "      <td>Rượu Vang Ngọt</td>\n",
       "      <td>Yalumba</td>\n",
       "      <td>Barossa Valley</td>\n",
       "    </tr>\n",
       "  </tbody>\n",
       "</table>\n",
       "<p>5188 rows × 11 columns</p>\n",
       "</div>"
      ],
      "text/plain": [
       "           Ma_sp                                         Ten_sp        Gia  \\\n",
       "0       WVN-9400         Rượu Champagne Armand De Brignac Blanc  9400000.0   \n",
       "1      VNHM-1350                 Rượu Champagne Arnaud Tabourin  1350000.0   \n",
       "2     VNHM1-1750        Rượu Champagne Autreau Brut Premier Cru  1750000.0   \n",
       "3     VNHM1-1850  Rượu Champagne Autreau Reserve Brut Grand Cru  1850000.0   \n",
       "4     VNTK1-2760           Rượu Champagne Ayala Blanc De Blancs  2760000.0   \n",
       "...          ...                                            ...        ...   \n",
       "5183   VNMH2-310    Rượu Vang Santa Carolina Cabernet Sauvignon   300000.0   \n",
       "5184    VNPV-366           Rượu Vang Sunrise Cabernet Sauvignon   330000.0   \n",
       "5185   VNWH4-328          Rượu Vang Trắng Deakin Estate Moscato   318000.0   \n",
       "5186  VNWH1- 674            Rượu Vang ÚC Yalumba Organic Shiraz   660000.0   \n",
       "5187  VNWH8- 595         Rượu Vang Yalumba Christobel’s Moscato   575000.0   \n",
       "\n",
       "     Xuat_xu  Nong_do  Dung_tich              Giong_nho     Mau_sac  \\\n",
       "0       Pháp     12.5      750.0             Chardonnay       trắng   \n",
       "1       Pháp     12.0      750.0             Chardonnay               \n",
       "2       Pháp     12.0      750.0             Chardonnay         NaN   \n",
       "3       Pháp     12.0      750.0  Chardonnay,Pinot Nero               \n",
       "4       Pháp     12.0      750.0             Chardonnay  vàng nhạt   \n",
       "...      ...      ...        ...                    ...         ...   \n",
       "5183   Chile     13.5      750.0                    NaN         NaN   \n",
       "5184   Chile     13.5      750.0     Cabernet Sauvignon     đỏ ruby   \n",
       "5185      ÚC      6.5      750.0                Moscato         NaN   \n",
       "5186      ÚC     13.5      750.0                 Shiraz  đỏ ánh tím   \n",
       "5187      ÚC     12.5      750.0                Moscato    vàng rơm   \n",
       "\n",
       "             Loai_ruou        Thuong_hieu    Vung_lam_vang  \n",
       "0       Rượu Champagne  Armand De Brignac              NaN  \n",
       "1       Rượu Champagne    Arnaud Tabourin              NaN  \n",
       "2     Rượu Vang Trắng          Delamotte        Champagne  \n",
       "3       Rượu Champagne            Autreau              NaN  \n",
       "4      Rượu Champagne              Ayala              NaN  \n",
       "...                ...                ...              ...  \n",
       "5183               NaN                NaN              NaN  \n",
       "5184      Rượu Vang Đỏ      Concha Y Toro   Central Valley  \n",
       "5185   Rượu Vang Trắng      Deakin Estate         Victoria  \n",
       "5186      Rượu vang đỏ            Yalumba  South Australia  \n",
       "5187    Rượu Vang Ngọt            Yalumba   Barossa Valley  \n",
       "\n",
       "[5188 rows x 11 columns]"
      ]
     },
     "execution_count": 22,
     "metadata": {},
     "output_type": "execute_result"
    }
   ],
   "source": [
    "def fill_empty_brand(row, place_brand_df):\n",
    "    '''\n",
    "    Fill empty cells on Thuong_hieu and Vung_lam_vang columns based on the place_brand_df\n",
    "    as long as cells in both columns are not empty\n",
    "    '''\n",
    "    brand = row['Thuong_hieu']\n",
    "    place_origin = row['Vung_lam_vang']\n",
    "    #Ignore if both values are na value\n",
    "    if pd.isnull(brand) and pd.isnull(place_origin):\n",
    "        return row\n",
    "    if brand == '' or pd.isnull(brand):\n",
    "        # Get the corresponding brands\n",
    "        replacing_brand = place_brand_df.loc[place_brand_df['Vung_lam_vang'] == place_origin, 'Thuong_hieu']\n",
    "        if len(replacing_brand) > 0:\n",
    "            # Only take the first item\n",
    "            row['Thuong_hieu'] = replacing_brand.loc[replacing_brand.index[0]]\n",
    "    elif place_origin == '' or pd.isnull(place_origin):\n",
    "        # Get the corresponding places\n",
    "        replacing_place = place_brand_df.loc[place_brand_df['Thuong_hieu'] == brand, 'Vung_lam_vang']\n",
    "        if len(replacing_place) > 0:\n",
    "            # Only take the first item\n",
    "            row['Vung_lam_vang'] = replacing_place.loc[replacing_place.index[0]]\n",
    "    return row\n",
    "\n",
    "clean_df = df.apply(lambda x : fill_empty_brand(x,place_brand_df), axis = 1)\n",
    "clean_df"
   ]
  },
  {
   "cell_type": "code",
   "execution_count": 23,
   "id": "1f02abfe",
   "metadata": {},
   "outputs": [
    {
     "data": {
      "text/plain": [
       "Ma_sp             0.751735\n",
       "Ten_sp            0.000000\n",
       "Gia               0.000000\n",
       "Xuat_xu           0.000000\n",
       "Nong_do           0.057826\n",
       "Dung_tich         0.000000\n",
       "Giong_nho         7.228219\n",
       "Mau_sac          15.612953\n",
       "Loai_ruou         6.341557\n",
       "Thuong_hieu       9.367772\n",
       "Vung_lam_vang    10.466461\n",
       "dtype: float64"
      ]
     },
     "execution_count": 23,
     "metadata": {},
     "output_type": "execute_result"
    }
   ],
   "source": [
    "clean_df.agg(lambda x : x.isna().mean()*100)"
   ]
  },
  {
   "cell_type": "markdown",
   "id": "46f40a43",
   "metadata": {},
   "source": [
    "Sau khi điền vào các ô bị thiếu, tỉ lệ thiếu ở 2 cột Thuong_hieu và Vang_lam_vang giảm đi đáng kể chỉ còn 9-10%. Lúc này ta có thể tiến hành loại bỏ đi các dòng có ô còn bỏ trống."
   ]
  },
  {
   "cell_type": "code",
   "execution_count": 24,
   "id": "d6c151a6",
   "metadata": {},
   "outputs": [
    {
     "data": {
      "text/plain": [
       "Ma_sp             0\n",
       "Ten_sp            0\n",
       "Xuat_xu           0\n",
       "Giong_nho        14\n",
       "Mau_sac          41\n",
       "Loai_ruou         0\n",
       "Thuong_hieu       1\n",
       "Vung_lam_vang    51\n",
       "dtype: int64"
      ]
     },
     "execution_count": 24,
     "metadata": {},
     "output_type": "execute_result"
    }
   ],
   "source": [
    "#Drop rows having NA value\n",
    "clean_df = clean_df.dropna()\n",
    "cate_cols = clean_df.select_dtypes(include = ['object']).columns.tolist()\n",
    "empty_string_count = clean_df[cate_cols].agg(lambda x : (x == '').sum())\n",
    "empty_string_count"
   ]
  },
  {
   "cell_type": "markdown",
   "id": "e7bfc18d",
   "metadata": {},
   "source": [
    "Có 4 cột xuất hiện string rỗng. Ta sẽ xoá những dòng có string rỗng dựa trên 4 cột này"
   ]
  },
  {
   "cell_type": "code",
   "execution_count": 25,
   "id": "2d3447b0",
   "metadata": {},
   "outputs": [
    {
     "data": {
      "text/html": [
       "<div>\n",
       "<style scoped>\n",
       "    .dataframe tbody tr th:only-of-type {\n",
       "        vertical-align: middle;\n",
       "    }\n",
       "\n",
       "    .dataframe tbody tr th {\n",
       "        vertical-align: top;\n",
       "    }\n",
       "\n",
       "    .dataframe thead th {\n",
       "        text-align: right;\n",
       "    }\n",
       "</style>\n",
       "<table border=\"1\" class=\"dataframe\">\n",
       "  <thead>\n",
       "    <tr style=\"text-align: right;\">\n",
       "      <th></th>\n",
       "      <th>Ma_sp</th>\n",
       "      <th>Ten_sp</th>\n",
       "      <th>Gia</th>\n",
       "      <th>Xuat_xu</th>\n",
       "      <th>Nong_do</th>\n",
       "      <th>Dung_tich</th>\n",
       "      <th>Giong_nho</th>\n",
       "      <th>Mau_sac</th>\n",
       "      <th>Loai_ruou</th>\n",
       "      <th>Thuong_hieu</th>\n",
       "      <th>Vung_lam_vang</th>\n",
       "    </tr>\n",
       "  </thead>\n",
       "  <tbody>\n",
       "    <tr>\n",
       "      <th>0</th>\n",
       "      <td>VNPV-3958</td>\n",
       "      <td>Rượu Champagne Bottega Stardust Prosecco</td>\n",
       "      <td>3563000.0</td>\n",
       "      <td>Ý</td>\n",
       "      <td>11.0</td>\n",
       "      <td>750.0</td>\n",
       "      <td>Glera</td>\n",
       "      <td>vàng rơm nhạt</td>\n",
       "      <td>Rượu Champagne</td>\n",
       "      <td>Bottega</td>\n",
       "      <td>Veneto</td>\n",
       "    </tr>\n",
       "    <tr>\n",
       "      <th>1</th>\n",
       "      <td>VNPV-9463</td>\n",
       "      <td>Rượu Champagne Carbon F1</td>\n",
       "      <td>8517000.0</td>\n",
       "      <td>Pháp</td>\n",
       "      <td>12.0</td>\n",
       "      <td>750.0</td>\n",
       "      <td>Chardonnay,Pinot meunier,Pinot Noir</td>\n",
       "      <td>trắng</td>\n",
       "      <td>Rượu Champagne</td>\n",
       "      <td>Delamotte</td>\n",
       "      <td>Champagne</td>\n",
       "    </tr>\n",
       "    <tr>\n",
       "      <th>2</th>\n",
       "      <td>VNPV1-1823</td>\n",
       "      <td>Rượu Champagne Charles Mignon Premium Reserve</td>\n",
       "      <td>1641000.0</td>\n",
       "      <td>Pháp</td>\n",
       "      <td>13.5</td>\n",
       "      <td>750.0</td>\n",
       "      <td>Chardonnay,Pinot meunier,Pinot Noir</td>\n",
       "      <td>vàng</td>\n",
       "      <td>Rượu Champagne</td>\n",
       "      <td>Charles Mignon</td>\n",
       "      <td>Champagne</td>\n",
       "    </tr>\n",
       "    <tr>\n",
       "      <th>3</th>\n",
       "      <td>VNPV-836</td>\n",
       "      <td>Rượu Champagne De Castellane Brut</td>\n",
       "      <td>753000.0</td>\n",
       "      <td>Pháp</td>\n",
       "      <td>11.0</td>\n",
       "      <td>375.0</td>\n",
       "      <td>Chardonnay</td>\n",
       "      <td>xanh nhạt</td>\n",
       "      <td>Rượu Champagne</td>\n",
       "      <td>De Castellane</td>\n",
       "      <td>Champagne</td>\n",
       "    </tr>\n",
       "    <tr>\n",
       "      <th>4</th>\n",
       "      <td>VNPV-4233</td>\n",
       "      <td>Rượu Champagne Delamotte Blanc De Blancs</td>\n",
       "      <td>3810000.0</td>\n",
       "      <td>Pháp</td>\n",
       "      <td>12.5</td>\n",
       "      <td>750.0</td>\n",
       "      <td>Chardonnay</td>\n",
       "      <td>trắng trong</td>\n",
       "      <td>Rượu Champagne</td>\n",
       "      <td>Delamotte</td>\n",
       "      <td>Champagne</td>\n",
       "    </tr>\n",
       "    <tr>\n",
       "      <th>5</th>\n",
       "      <td>VNPV-1956</td>\n",
       "      <td>Rượu Champagne Delamotte Brut</td>\n",
       "      <td>1761000.0</td>\n",
       "      <td>Pháp</td>\n",
       "      <td>12.0</td>\n",
       "      <td>750.0</td>\n",
       "      <td>Chardonnay</td>\n",
       "      <td>vàng</td>\n",
       "      <td>Rượu Champagne</td>\n",
       "      <td>Delamotte</td>\n",
       "      <td>Champagne</td>\n",
       "    </tr>\n",
       "    <tr>\n",
       "      <th>6</th>\n",
       "      <td>VNPV-3667</td>\n",
       "      <td>Rượu Champagne Delamotte Rose</td>\n",
       "      <td>2956000.0</td>\n",
       "      <td>Pháp</td>\n",
       "      <td>12.0</td>\n",
       "      <td>750.0</td>\n",
       "      <td>Chardonnay,Pinot Noir,Pinot Meunier</td>\n",
       "      <td>hồng</td>\n",
       "      <td>Rượu Champagne</td>\n",
       "      <td>Delamotte</td>\n",
       "      <td>Champagne</td>\n",
       "    </tr>\n",
       "    <tr>\n",
       "      <th>7</th>\n",
       "      <td>VNPV-1976</td>\n",
       "      <td>Rượu Champagne Duval Leroy Thierry Drapeau</td>\n",
       "      <td>1779000.0</td>\n",
       "      <td>Pháp</td>\n",
       "      <td>12.5</td>\n",
       "      <td>750.0</td>\n",
       "      <td>Chardonnay</td>\n",
       "      <td>vàng</td>\n",
       "      <td>Rượu Champagne</td>\n",
       "      <td>Champagne Duval Leroy</td>\n",
       "      <td>Champagne</td>\n",
       "    </tr>\n",
       "    <tr>\n",
       "      <th>8</th>\n",
       "      <td>VNTK3-480</td>\n",
       "      <td>Rượu Champagne JP Chenet Brut Blanc</td>\n",
       "      <td>480000.0</td>\n",
       "      <td>Pháp</td>\n",
       "      <td>13.0</td>\n",
       "      <td>750.0</td>\n",
       "      <td>Chardonnay</td>\n",
       "      <td>đỏ đậm</td>\n",
       "      <td>Rượu Vang Nổ</td>\n",
       "      <td>JP Chenet</td>\n",
       "      <td>Pays d’Oc</td>\n",
       "    </tr>\n",
       "    <tr>\n",
       "      <th>9</th>\n",
       "      <td>VNBMF-744</td>\n",
       "      <td>Rượu Champagne JP Chenet Divine Chardonnay</td>\n",
       "      <td>750000.0</td>\n",
       "      <td>Pháp</td>\n",
       "      <td>12.5</td>\n",
       "      <td>750.0</td>\n",
       "      <td>Chardonnay</td>\n",
       "      <td>vàng rơm</td>\n",
       "      <td>Rượu Vang Nổ</td>\n",
       "      <td>JP Chenet</td>\n",
       "      <td>Pays d’Oc</td>\n",
       "    </tr>\n",
       "  </tbody>\n",
       "</table>\n",
       "</div>"
      ],
      "text/plain": [
       "        Ma_sp                                         Ten_sp        Gia  \\\n",
       "0   VNPV-3958       Rượu Champagne Bottega Stardust Prosecco  3563000.0   \n",
       "1   VNPV-9463                       Rượu Champagne Carbon F1  8517000.0   \n",
       "2  VNPV1-1823  Rượu Champagne Charles Mignon Premium Reserve  1641000.0   \n",
       "3    VNPV-836              Rượu Champagne De Castellane Brut   753000.0   \n",
       "4   VNPV-4233       Rượu Champagne Delamotte Blanc De Blancs  3810000.0   \n",
       "5   VNPV-1956                  Rượu Champagne Delamotte Brut  1761000.0   \n",
       "6   VNPV-3667                  Rượu Champagne Delamotte Rose  2956000.0   \n",
       "7   VNPV-1976     Rượu Champagne Duval Leroy Thierry Drapeau  1779000.0   \n",
       "8   VNTK3-480            Rượu Champagne JP Chenet Brut Blanc   480000.0   \n",
       "9   VNBMF-744     Rượu Champagne JP Chenet Divine Chardonnay   750000.0   \n",
       "\n",
       "  Xuat_xu  Nong_do  Dung_tich                            Giong_nho  \\\n",
       "0       Ý     11.0      750.0                                Glera   \n",
       "1    Pháp     12.0      750.0  Chardonnay,Pinot meunier,Pinot Noir   \n",
       "2    Pháp     13.5      750.0  Chardonnay,Pinot meunier,Pinot Noir   \n",
       "3    Pháp     11.0      375.0                           Chardonnay   \n",
       "4    Pháp     12.5      750.0                           Chardonnay   \n",
       "5    Pháp     12.0      750.0                           Chardonnay   \n",
       "6    Pháp     12.0      750.0  Chardonnay,Pinot Noir,Pinot Meunier   \n",
       "7    Pháp     12.5      750.0                           Chardonnay   \n",
       "8    Pháp     13.0      750.0                           Chardonnay   \n",
       "9    Pháp     12.5      750.0                           Chardonnay   \n",
       "\n",
       "         Mau_sac       Loai_ruou            Thuong_hieu Vung_lam_vang  \n",
       "0  vàng rơm nhạt  Rượu Champagne                Bottega        Veneto  \n",
       "1          trắng  Rượu Champagne              Delamotte     Champagne  \n",
       "2           vàng  Rượu Champagne         Charles Mignon     Champagne  \n",
       "3      xanh nhạt  Rượu Champagne          De Castellane     Champagne  \n",
       "4    trắng trong  Rượu Champagne              Delamotte     Champagne  \n",
       "5           vàng  Rượu Champagne              Delamotte     Champagne  \n",
       "6           hồng  Rượu Champagne              Delamotte     Champagne  \n",
       "7           vàng  Rượu Champagne  Champagne Duval Leroy     Champagne  \n",
       "8        đỏ đậm  Rượu Vang Nổ              JP Chenet     Pays d’Oc  \n",
       "9       vàng rơm  Rượu Vang Nổ              JP Chenet     Pays d’Oc  "
      ]
     },
     "execution_count": 25,
     "metadata": {},
     "output_type": "execute_result"
    }
   ],
   "source": [
    "empty_string_cols = empty_string_count[empty_string_count > 0].index\n",
    "empty_string_rows = clean_df.apply(lambda x : any(x[col] == '' for col in empty_string_cols), axis = 1)\n",
    "clean_df = clean_df[~empty_string_rows].reset_index(drop = True)\n",
    "clean_df.head(10)"
   ]
  },
  {
   "cell_type": "markdown",
   "id": "9858e3be",
   "metadata": {},
   "source": [
    "<h1 style='color:blue;text-align:center;font-size:30px'><b>Phần C</b></h1>"
   ]
  },
  {
   "cell_type": "markdown",
   "id": "f875b265",
   "metadata": {},
   "source": [
    "<h2 style='color:#8edc55'> 1. Mối tương quan giữa màu sắc, thương hiệu đối với giá rượu  </h2>"
   ]
  },
  {
   "cell_type": "markdown",
   "id": "7ca77432",
   "metadata": {},
   "source": [
    "<h3 style='color:#4cc3f1'> 1.1 Mối tương quan giữa thương hiệu đối với giá rượu  </h3>"
   ]
  },
  {
   "cell_type": "markdown",
   "id": "a703cde7",
   "metadata": {},
   "source": [
    "<h3 style='color:#c177e4'> Bước 1: Lấy ra một số thương hiệu để đánh giá </h3>"
   ]
  },
  {
   "cell_type": "markdown",
   "id": "9a9413aa",
   "metadata": {},
   "source": [
    "* Từ bảng cat_col_info ta thấy có đến 1620 thương hiệu trong khi dữ liệu chỉ có 5598 dòng. Vì vậy sẽ có nhiều thương hiệu xuất hiện tương đối ít. Ta cần chọn ra các thương hiệu có số lần xuất hiện tương đối cao để có thể đánh giá sự phụ thuộc giữa thương hiệu và giá rượu vang "
   ]
  },
  {
   "cell_type": "code",
   "execution_count": 61,
   "id": "2581dff4",
   "metadata": {},
   "outputs": [
    {
     "data": {
      "text/plain": [
       "Concha Y Toro           48\n",
       "Borie Manoux            26\n",
       "Miguel Torres           24\n",
       "Frescobaldi             22\n",
       "Torres                  21\n",
       "                        ..\n",
       "Domaine La Bastide       1\n",
       "Domaine Labruyere        1\n",
       "Domaine Le Colombier     1\n",
       "Domaine Les Poete        1\n",
       "Moet & Chandon           1\n",
       "Name: Thuong_hieu, Length: 1508, dtype: int64"
      ]
     },
     "execution_count": 61,
     "metadata": {},
     "output_type": "execute_result"
    }
   ],
   "source": [
    "# Tính số lần xuất hiện của mỗi thương hiệu\n",
    "count_appear = df['Thuong_hieu'].value_counts()\n",
    "count_appear"
   ]
  },
  {
   "cell_type": "code",
   "execution_count": 62,
   "id": "911d6c64",
   "metadata": {},
   "outputs": [],
   "source": [
    "#Lấy ra các thương hiệu xuất hiện từ 20 lần\n",
    "brand_top = count_appear.index[count_appear >= 20]"
   ]
  },
  {
   "cell_type": "markdown",
   "id": "10409dcc",
   "metadata": {},
   "source": [
    "<h3 style='color:#c177e4'> Bước 2: Tạo dataframe chỉ gồm các thương hiệu đã chọn</h3>"
   ]
  },
  {
   "cell_type": "code",
   "execution_count": 63,
   "id": "6bf6143d",
   "metadata": {},
   "outputs": [],
   "source": [
    "lis_brand_top = brand_top.values.tolist()\n",
    "mask = df['Thuong_hieu'].isin(lis_brand_top)\n",
    "brand_vs_price = df.loc[mask,['Thuong_hieu', 'Gia']]"
   ]
  },
  {
   "cell_type": "markdown",
   "id": "2ec1d257",
   "metadata": {},
   "source": [
    "<h3 style='color:#c177e4'> Bước 3: Trực quan </h3>"
   ]
  },
  {
   "cell_type": "code",
   "execution_count": 75,
   "id": "0c2befd9",
   "metadata": {},
   "outputs": [
    {
     "data": {
      "image/png": "[encoded data removed]",
      "text/plain": [
       "<Figure size 1296x720 with 1 Axes>"
      ]
     },
     "metadata": {},
     "output_type": "display_data"
    }
   ],
   "source": [
    "plt.figure(figsize=(18,10))\n",
    "sns.boxplot(data=brand_vs_price, y='Gia', x = 'Thuong_hieu',showfliers=False)\n",
    "plt.xticks(rotation=45)\n",
    "plt.title('Phân bố giá rượu của một số thương hiệu', fontsize=14)\n",
    "plt.xlabel('Thương hiệu', fontsize=14)\n",
    "plt.ylabel('Giá rượu (VNĐ)', fontsize=14)\n",
    "plt.grid(True)\n",
    "plt.show()"
   ]
  },
  {
   "cell_type": "markdown",
   "id": "5dc4284f",
   "metadata": {},
   "source": [
    "<h3 style='color:#c177e4'> Bước 4: Đánh giá </h3>"
   ]
  },
  {
   "cell_type": "markdown",
   "id": "3b700bc1",
   "metadata": {},
   "source": [
    "🤔🤔🤔 Từ biểu đồ trên ta thấy:\n",
    "* Hầu hết các thương hiệu được chọn có giá các sản phẩm phân bố nằm chủ yếu trong khoảng từ 200.000 VNĐ đến 1.000.000 VNĐ. Trong đó các thương hiệu `Trivento`, `Convha Y Toro`, `Miguel Torres`, `Santa Rita` nằm hoàn toàn trong khoảng trên.\n",
    "* Các thương hiệu `Montgras`, `Frescobaldi`, `Torres` có khoảng từ 20% đến 30% sản phẩm có giá cao hơn các sản phẩm còn lại và nằm trong khoảng giá  1.000.000 - 2.000.000 VNĐ.\n",
    "* Thương hiệu `Borie Manoux` có trên 50% các sản phẩm có giá từ 1.000.000 - 2.500.000 VNĐ.\n",
    "* Thương hiệu `Louis Jadot` là thương hiệu có nhiều sản phẩm có giá cao và vượt trội hoàn toàn so với các thương hiệu khác khi giá cao nhất có thể lên đến khoảng 7.800.000 VNĐ"
   ]
  },
  {
   "cell_type": "code",
   "execution_count": 65,
   "id": "db4d4536",
   "metadata": {},
   "outputs": [],
   "source": [
    "series = df['Thuong_hieu'].value_counts()"
   ]
  },
  {
   "cell_type": "code",
   "execution_count": 66,
   "id": "59388014",
   "metadata": {},
   "outputs": [
    {
     "data": {
      "text/plain": [
       "Index(['Tinazzi', 'Freixenet', 'Vignobles JeanJean', 'Paul Jaboulet Aine'], dtype='object')"
      ]
     },
     "execution_count": 66,
     "metadata": {},
     "output_type": "execute_result"
    }
   ],
   "source": [
    "count_appear[count_appear == 14].index"
   ]
  },
  {
   "cell_type": "code",
   "execution_count": 67,
   "id": "99892197",
   "metadata": {},
   "outputs": [
    {
     "data": {
      "text/plain": [
       "index                     Thuong_hieu\n",
       " 689 – Six Eight Nine     2              1\n",
       " Abtao                    7              1\n",
       " Ad Hoc                   1              1\n",
       " Allan Scott              1              1\n",
       " Almaden                  2              1\n",
       "                                        ..\n",
       " Benoit Ente              1              1\n",
       " Chateau De Sainte Gemme  1              1\n",
       " Guarini                  2              1\n",
       " Maison Delor             1              1\n",
       " Shingleback Wine         1              1\n",
       "Length: 1508, dtype: int64"
      ]
     },
     "execution_count": 67,
     "metadata": {},
     "output_type": "execute_result"
    }
   ],
   "source": [
    "tes_df = count_appear.reset_index()\n",
    "tes_df.groupby(['index','Thuong_hieu']).size()"
   ]
  },
  {
   "cell_type": "code",
   "execution_count": 68,
   "id": "142c50f9",
   "metadata": {},
   "outputs": [
    {
     "data": {
      "text/plain": [
       "Index(['Concha Y Toro', 'Borie Manoux'], dtype='object')"
      ]
     },
     "execution_count": 68,
     "metadata": {},
     "output_type": "execute_result"
    }
   ],
   "source": [
    "series.index[series >= 25]"
   ]
  },
  {
   "cell_type": "code",
   "execution_count": 69,
   "id": "3cc9d6cb",
   "metadata": {},
   "outputs": [
    {
     "data": {
      "text/plain": [
       "(5165, 11)"
      ]
     },
     "execution_count": 69,
     "metadata": {},
     "output_type": "execute_result"
    }
   ],
   "source": [
    "df.shape"
   ]
  },
  {
   "cell_type": "code",
   "execution_count": 70,
   "id": "deb6bbc2",
   "metadata": {},
   "outputs": [
    {
     "data": {
      "text/plain": [
       "đỏ ruby                        1642\n",
       "vàng rơm                        660\n",
       "đỏ                              399\n",
       "đỏ đậm                          331\n",
       "vàng nhạt                       253\n",
       "                               ... \n",
       "vàng rơm pha vàng sậm             1\n",
       "trắng trong                       1\n",
       "vàng rơm nhạt ánh thạch anh       1\n",
       "tím hồng ngọc                     1\n",
       "đỏ đậm tối                        1\n",
       "Name: Mau_sac, Length: 248, dtype: int64"
      ]
     },
     "execution_count": 70,
     "metadata": {},
     "output_type": "execute_result"
    }
   ],
   "source": [
    "df['Mau_sac'].value_counts()"
   ]
  },
  {
   "cell_type": "code",
   "execution_count": 71,
   "id": "9be85a28",
   "metadata": {},
   "outputs": [
    {
     "data": {
      "text/html": [
       "<div>\n",
       "<style scoped>\n",
       "    .dataframe tbody tr th:only-of-type {\n",
       "        vertical-align: middle;\n",
       "    }\n",
       "\n",
       "    .dataframe tbody tr th {\n",
       "        vertical-align: top;\n",
       "    }\n",
       "\n",
       "    .dataframe thead th {\n",
       "        text-align: right;\n",
       "    }\n",
       "</style>\n",
       "<table border=\"1\" class=\"dataframe\">\n",
       "  <thead>\n",
       "    <tr style=\"text-align: right;\">\n",
       "      <th></th>\n",
       "      <th>Ma_sp</th>\n",
       "      <th>Ten_sp</th>\n",
       "      <th>Gia</th>\n",
       "      <th>Xuat_xu</th>\n",
       "      <th>Nong_do</th>\n",
       "      <th>Dung_tich</th>\n",
       "      <th>Giong_nho</th>\n",
       "      <th>Mau_sac</th>\n",
       "      <th>Loai_ruou</th>\n",
       "      <th>Thuong_hieu</th>\n",
       "      <th>Vung_lam_vang</th>\n",
       "    </tr>\n",
       "  </thead>\n",
       "  <tbody>\n",
       "  </tbody>\n",
       "</table>\n",
       "</div>"
      ],
      "text/plain": [
       "Empty DataFrame\n",
       "Columns: [Ma_sp, Ten_sp, Gia, Xuat_xu, Nong_do, Dung_tich, Giong_nho, Mau_sac, Loai_ruou, Thuong_hieu, Vung_lam_vang]\n",
       "Index: []"
      ]
     },
     "execution_count": 71,
     "metadata": {},
     "output_type": "execute_result"
    }
   ],
   "source": [
    "df[df['Gia'] < 10000]"
   ]
  },
  {
   "cell_type": "code",
   "execution_count": 72,
   "id": "7c161a3f",
   "metadata": {},
   "outputs": [
    {
     "data": {
      "text/plain": [
       "(5165, 11)"
      ]
     },
     "execution_count": 72,
     "metadata": {},
     "output_type": "execute_result"
    }
   ],
   "source": [
    "df.shape"
   ]
  },
  {
   "cell_type": "code",
   "execution_count": null,
   "id": "ed22a6a8",
   "metadata": {},
   "outputs": [],
   "source": []
  },
  {
   "cell_type": "code",
   "execution_count": 73,
   "id": "b81a9007",
   "metadata": {},
   "outputs": [
    {
     "data": {
      "text/html": [
       "<div>\n",
       "<style scoped>\n",
       "    .dataframe tbody tr th:only-of-type {\n",
       "        vertical-align: middle;\n",
       "    }\n",
       "\n",
       "    .dataframe tbody tr th {\n",
       "        vertical-align: top;\n",
       "    }\n",
       "\n",
       "    .dataframe thead th {\n",
       "        text-align: right;\n",
       "    }\n",
       "</style>\n",
       "<table border=\"1\" class=\"dataframe\">\n",
       "  <thead>\n",
       "    <tr style=\"text-align: right;\">\n",
       "      <th></th>\n",
       "      <th>Ma_sp</th>\n",
       "      <th>Ten_sp</th>\n",
       "      <th>Gia</th>\n",
       "      <th>Xuat_xu</th>\n",
       "      <th>Nong_do</th>\n",
       "      <th>Dung_tich</th>\n",
       "      <th>Giong_nho</th>\n",
       "      <th>Mau_sac</th>\n",
       "      <th>Loai_ruou</th>\n",
       "      <th>Thuong_hieu</th>\n",
       "      <th>Vung_lam_vang</th>\n",
       "    </tr>\n",
       "  </thead>\n",
       "  <tbody>\n",
       "    <tr>\n",
       "      <th>2637</th>\n",
       "      <td>VNCIE3-400</td>\n",
       "      <td>Rượu Vang La Cacciatora Montepulciano</td>\n",
       "      <td>400000.0</td>\n",
       "      <td>Ý</td>\n",
       "      <td>14.0</td>\n",
       "      <td>750.0</td>\n",
       "      <td>Montepulciano</td>\n",
       "      <td>đỏ ruby</td>\n",
       "      <td>Rượu Vang Đỏ</td>\n",
       "      <td>La Cacciatora</td>\n",
       "      <td>Abruzzo</td>\n",
       "    </tr>\n",
       "  </tbody>\n",
       "</table>\n",
       "</div>"
      ],
      "text/plain": [
       "           Ma_sp                                 Ten_sp       Gia Xuat_xu  \\\n",
       "2637  VNCIE3-400  Rượu Vang La Cacciatora Montepulciano  400000.0       Ý   \n",
       "\n",
       "      Nong_do  Dung_tich      Giong_nho  Mau_sac      Loai_ruou  \\\n",
       "2637     14.0      750.0  Montepulciano  đỏ ruby  Rượu Vang Đỏ   \n",
       "\n",
       "        Thuong_hieu Vung_lam_vang  \n",
       "2637  La Cacciatora       Abruzzo  "
      ]
     },
     "execution_count": 73,
     "metadata": {},
     "output_type": "execute_result"
    }
   ],
   "source": [
    "df[df['Ma_sp'] == 'VNCIE3-400']"
   ]
  },
  {
   "cell_type": "code",
   "execution_count": 26,
   "id": "8b1fe0da",
   "metadata": {},
   "outputs": [
    {
     "name": "stdout",
     "output_type": "stream",
     "text": [
      "Số dòng: 3950\n",
      "Số cột: 11\n"
     ]
    }
   ],
   "source": [
    "row_num = clean_df.shape[0]\n",
    "col_num =  clean_df.shape[1]\n",
    "print('Số dòng: {}\\nSố cột: {}'.format(row_num,col_num))"
   ]
  },
  {
   "cell_type": "markdown",
   "id": "a6dbbb91",
   "metadata": {},
   "source": [
    "Số dòng lúc này chỉ còn lại là 3950 dòng so với 5598 dòng ban đầu, dữ liệu bị hao hụt không quá đáng kể."
   ]
  },
  {
   "cell_type": "markdown",
   "id": "fd1d6afe",
   "metadata": {},
   "source": [
    "Lưu dữ liệu đã qua tiền xử lý vào file dữ liệu mới."
   ]
  },
  {
   "cell_type": "code",
   "execution_count": 28,
   "id": "07ef5891",
   "metadata": {},
   "outputs": [],
   "source": [
    "clean_df.to_csv(os.path.join(os.getcwd(), 'dataset', 'champagne_info_cleaned.csv'))"
   ]
  },
  {
   "cell_type": "markdown",
   "id": "04f1136f",
   "metadata": {},
   "source": [
    "### Trực quan một vài biểu đồ để có một cái nhìn tổng quan hơn về dữ liệu"
   ]
  },
  {
   "cell_type": "markdown",
   "id": "7442948d",
   "metadata": {},
   "source": [
    "Lấy ra các cột kiểu numeric"
   ]
  },
  {
   "cell_type": "code",
   "execution_count": 29,
   "id": "9036e106",
   "metadata": {},
   "outputs": [
    {
     "data": {
      "text/plain": [
       "['Gia', 'Nong_do', 'Dung_tich']"
      ]
     },
     "execution_count": 29,
     "metadata": {},
     "output_type": "execute_result"
    }
   ],
   "source": [
    "numeric_cols = df.select_dtypes('number').columns.tolist()\n",
    "numeric_cols"
   ]
  },
  {
   "cell_type": "markdown",
   "id": "a0b4f013",
   "metadata": {},
   "source": [
    "Biểu đồ boxplot của từng cột có kiểu dữ liệu numeric"
   ]
  },
  {
   "cell_type": "code",
   "execution_count": 30,
   "id": "3a286d94",
   "metadata": {},
   "outputs": [
    {
     "name": "stderr",
     "output_type": "stream",
     "text": [
      "C:\\Users\\PC\\AppData\\Local\\Temp\\ipykernel_25024\\2615322929.py:11: UserWarning: FixedFormatter should only be used together with FixedLocator\n",
      "  ax.set_xticklabels(['{}'.format(x) for x in ax.get_xticks()/1e6])\n"
     ]
    },
    {
     "data": {
      "image/png": "[encoded data removed]",
      "text/plain": [
       "<Figure size 1152x648 with 3 Axes>"
      ]
     },
     "metadata": {},
     "output_type": "display_data"
    }
   ],
   "source": [
    "pretty_labels = {\n",
    "  'Gia' : 'Giá (Triệu)',\n",
    "  'Nong_do' : 'Nồng độ (%)',\n",
    "  'Dung_tich' : 'Dung tích (ml)'\n",
    "}\n",
    "fig, axes = plt.subplots(3,1, figsize = (16,9))\n",
    "for i,ax in enumerate(axes.flat):\n",
    "  sns.boxplot(data = df, x = numeric_cols[i], ax = ax)\n",
    "  ax.set_xlabel(pretty_labels[numeric_cols[i]])\n",
    "  if i == 0:\n",
    "    ax.set_xticklabels(['{}'.format(x) for x in ax.get_xticks()/1e6])\n",
    "\n",
    "plt.tight_layout()"
   ]
  },
  {
   "cell_type": "markdown",
   "id": "4a157eb7",
   "metadata": {},
   "source": [
    "Nhìn chung, giá trị của các cột dữ liệu kiểu số đều không phân bố rộng mà chỉ tập trung vào một khoảng giá trị nhỏ cũng như xuất hiện nhiều ngoại lệ."
   ]
  },
  {
   "cell_type": "markdown",
   "id": "c9687c30",
   "metadata": {},
   "source": [
    "Xem xét thử mối quan hệ giữa giá với nồng độ và dung tích"
   ]
  },
  {
   "cell_type": "code",
   "execution_count": 31,
   "id": "6b9eda88",
   "metadata": {},
   "outputs": [
    {
     "name": "stderr",
     "output_type": "stream",
     "text": [
      "C:\\Users\\PC\\AppData\\Local\\Temp\\ipykernel_25024\\2707811462.py:5: UserWarning: FixedFormatter should only be used together with FixedLocator\n",
      "  axes[0].set_xticklabels(['{}'.format(x) for x in axes[0].get_xticks()/1e6])\n",
      "C:\\Users\\PC\\AppData\\Local\\Temp\\ipykernel_25024\\2707811462.py:8: UserWarning: FixedFormatter should only be used together with FixedLocator\n",
      "  axes[1].set_xticklabels(['{}'.format(x) for x in axes[0].get_xticks()/1e6])\n"
     ]
    },
    {
     "data": {
      "text/plain": [
       "Text(0, 0.5, 'Dung tích (ml)')"
      ]
     },
     "execution_count": 31,
     "metadata": {},
     "output_type": "execute_result"
    },
    {
     "data": {
      "image/png": "[encoded data removed]",
      "text/plain": [
       "<Figure size 864x432 with 2 Axes>"
      ]
     },
     "metadata": {},
     "output_type": "display_data"
    }
   ],
   "source": [
    "fig, axes = plt.subplots(1,2, figsize = (12,6))\n",
    "sns.scatterplot(data = df, x = 'Gia', y = 'Nong_do', ax = axes[0])\n",
    "sns.scatterplot(data = df, x = 'Gia', y = 'Dung_tich', ax = axes[1])\n",
    "axes[0].set_xlabel(pretty_labels['Gia'])\n",
    "axes[0].set_xticklabels(['{}'.format(x) for x in axes[0].get_xticks()/1e6])\n",
    "axes[0].set_ylabel(pretty_labels['Nong_do'])\n",
    "axes[1].set_xlabel(pretty_labels['Gia'])\n",
    "axes[1].set_xticklabels(['{}'.format(x) for x in axes[0].get_xticks()/1e6])\n",
    "axes[1].set_ylabel(pretty_labels['Dung_tich'])"
   ]
  },
  {
   "cell_type": "markdown",
   "id": "e0283571",
   "metadata": {},
   "source": [
    "Có vẻ là giá rượu không hề có mối liên hệ gì với nồng độ hay dung tích"
   ]
  },
  {
   "cell_type": "markdown",
   "id": "e0ff7d29",
   "metadata": {},
   "source": [
    "Những quốc gia được nhập rượu về nhiều nhất"
   ]
  },
  {
   "cell_type": "code",
   "execution_count": 32,
   "id": "1c5102ca",
   "metadata": {},
   "outputs": [
    {
     "data": {
      "text/plain": [
       "<AxesSubplot:xlabel='Số lượng sản phẩm', ylabel='Xuất xứ'>"
      ]
     },
     "execution_count": 32,
     "metadata": {},
     "output_type": "execute_result"
    },
    {
     "data": {
      "image/png": "[encoded data removed]",
      "text/plain": [
       "<Figure size 864x576 with 1 Axes>"
      ]
     },
     "metadata": {},
     "output_type": "display_data"
    }
   ],
   "source": [
    "origin_count_df = df['Xuat_xu'].value_counts().to_frame(name = 'Số lượng sản phẩm').reset_index()\n",
    "origin_count_df = origin_count_df.rename(columns = {'index' : 'Xuất xứ'})\n",
    "fig, ax = plt.subplots(figsize = (12,8))\n",
    "sns.barplot(data = origin_count_df, x = 'Số lượng sản phẩm', y = 'Xuất xứ', orient = 'h', palette = 'muted', ax = ax)"
   ]
  }
 ],
 "metadata": {
  "kernelspec": {
   "display_name": "Python 3.10.1 64-bit",
   "language": "python",
   "name": "python3"
  },
  "language_info": {
   "codemirror_mode": {
    "name": "ipython",
    "version": 3
   },
   "file_extension": ".py",
   "mimetype": "text/x-python",
   "name": "python",
   "nbconvert_exporter": "python",
   "pygments_lexer": "ipython3",
   "version": "3.10.1"
  },
  "vscode": {
   "interpreter": {
    "hash": "2469a70536e4d2335a2ea8907942d0699c37342a371ac185bdb5b0aa6f073890"
   }
  }
 },
 "nbformat": 4,
 "nbformat_minor": 5
}
