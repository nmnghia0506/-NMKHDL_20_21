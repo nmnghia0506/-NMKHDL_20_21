{
 "cells": [
  {
   "cell_type": "markdown",
   "id": "ac3e8fcd",
   "metadata": {},
   "source": [
    "# <h2><b> Đồ án thực hành </b></h2>\n",
    "<h1 style='color:red;text-align:center;font-size:35px'><b>Chủ đề: Dự đoán giá rượu vang</b></h1>"
   ]
  },
  {
   "cell_type": "markdown",
   "id": "469fd4ad",
   "metadata": {},
   "source": [
    "# <h3>Các thành viên trong nhóm</h3>\n",
    "<li> Phan Xuân Hoài - 20120481 </li>\n",
    "<li> Lê Kinh Luân - 1612355 </li>\n",
    "<li> Nguyễn Minh Nghĩa - 20120534</li>\n",
    "<li> Phạm Quốc Hưng - 19120522</li>"
   ]
  },
  {
   "cell_type": "markdown",
   "id": "7c0d5b36",
   "metadata": {},
   "source": [
    "# <h1 style='color:blue;text-align:center;font-size:30px'><b>Phần I - C.Đặt các câu hỏi có ý nghĩa cần trả lời</b></h1>"
   ]
  },
  {
   "cell_type": "markdown",
   "id": "47a5cd2e",
   "metadata": {},
   "source": [
    "## Import những thư viện cần thiết"
   ]
  },
  {
   "cell_type": "code",
   "execution_count": 1,
   "id": "b06f8eaa",
   "metadata": {},
   "outputs": [],
   "source": [
    "%matplotlib inline\n",
    "import matplotlib.pyplot as plt\n",
    "import numpy as np\n",
    "import pandas as pd \n",
    "import seaborn as sns\n",
    "sns.set_theme()\n",
    "\n",
    "# YOUR CODE HERE (OPTION)\n",
    "# Nếu cần các thư viện khác thì bạn có thể import ở đây\n",
    "import os\n",
    "import re\n",
    "import statistics\n",
    "import seaborn as sns\n",
    "sns.set(rc={'axes.facecolor':'lightblue', 'figure.facecolor':'lightgray'})"
   ]
  },
  {
   "cell_type": "code",
   "execution_count": null,
   "id": "76b7cc70",
   "metadata": {},
   "outputs": [],
   "source": [
    "import sys\n",
    "sys.executable"
   ]
  },
  {
   "cell_type": "code",
   "execution_count": null,
   "id": "8216f52e",
   "metadata": {},
   "outputs": [],
   "source": [
    "cd champagne/champagne"
   ]
  },
  {
   "cell_type": "markdown",
   "id": "d935160c",
   "metadata": {},
   "source": [
    "### Đọc file 'champagnes_info_cleaned.csv' vào dataframe df"
   ]
  },
  {
   "cell_type": "code",
   "execution_count": 4,
   "id": "a0c9abfc",
   "metadata": {
    "scrolled": true
   },
   "outputs": [
    {
     "data": {
      "text/html": [
       "<div>\n",
       "<style scoped>\n",
       "    .dataframe tbody tr th:only-of-type {\n",
       "        vertical-align: middle;\n",
       "    }\n",
       "\n",
       "    .dataframe tbody tr th {\n",
       "        vertical-align: top;\n",
       "    }\n",
       "\n",
       "    .dataframe thead th {\n",
       "        text-align: right;\n",
       "    }\n",
       "</style>\n",
       "<table border=\"1\" class=\"dataframe\">\n",
       "  <thead>\n",
       "    <tr style=\"text-align: right;\">\n",
       "      <th></th>\n",
       "      <th>Ma_sp</th>\n",
       "      <th>Ten_sp</th>\n",
       "      <th>Gia</th>\n",
       "      <th>Xuat_xu</th>\n",
       "      <th>Nong_do</th>\n",
       "      <th>Dung_tich</th>\n",
       "      <th>Giong_nho</th>\n",
       "      <th>Mau_sac</th>\n",
       "      <th>Loai_ruou</th>\n",
       "      <th>Thuong_hieu</th>\n",
       "      <th>Vung_lam_vang</th>\n",
       "    </tr>\n",
       "  </thead>\n",
       "  <tbody>\n",
       "    <tr>\n",
       "      <th>0</th>\n",
       "      <td>VNPV-3958</td>\n",
       "      <td>Rượu Champagne Bottega Stardust Prosecco</td>\n",
       "      <td>3563000.0</td>\n",
       "      <td>Ý</td>\n",
       "      <td>11.0</td>\n",
       "      <td>750.0</td>\n",
       "      <td>Glera</td>\n",
       "      <td>vàng rơm nhạt</td>\n",
       "      <td>Rượu Champagne</td>\n",
       "      <td>Bottega</td>\n",
       "      <td>Veneto</td>\n",
       "    </tr>\n",
       "    <tr>\n",
       "      <th>1</th>\n",
       "      <td>VNPV-9463</td>\n",
       "      <td>Rượu Champagne Carbon F1</td>\n",
       "      <td>8517000.0</td>\n",
       "      <td>Pháp</td>\n",
       "      <td>12.0</td>\n",
       "      <td>750.0</td>\n",
       "      <td>Chardonnay,Pinot meunier,Pinot Noir</td>\n",
       "      <td>trắng</td>\n",
       "      <td>Rượu Champagne</td>\n",
       "      <td>Delamotte</td>\n",
       "      <td>Champagne</td>\n",
       "    </tr>\n",
       "    <tr>\n",
       "      <th>2</th>\n",
       "      <td>VNPV1-1823</td>\n",
       "      <td>Rượu Champagne Charles Mignon Premium Reserve</td>\n",
       "      <td>1641000.0</td>\n",
       "      <td>Pháp</td>\n",
       "      <td>13.5</td>\n",
       "      <td>750.0</td>\n",
       "      <td>Chardonnay,Pinot meunier,Pinot Noir</td>\n",
       "      <td>vàng</td>\n",
       "      <td>Rượu Champagne</td>\n",
       "      <td>Charles Mignon</td>\n",
       "      <td>Champagne</td>\n",
       "    </tr>\n",
       "    <tr>\n",
       "      <th>3</th>\n",
       "      <td>VNPV-836</td>\n",
       "      <td>Rượu Champagne De Castellane Brut</td>\n",
       "      <td>753000.0</td>\n",
       "      <td>Pháp</td>\n",
       "      <td>11.0</td>\n",
       "      <td>375.0</td>\n",
       "      <td>Chardonnay</td>\n",
       "      <td>xanh nhạt</td>\n",
       "      <td>Rượu Champagne</td>\n",
       "      <td>De Castellane</td>\n",
       "      <td>Champagne</td>\n",
       "    </tr>\n",
       "    <tr>\n",
       "      <th>4</th>\n",
       "      <td>VNPV-4233</td>\n",
       "      <td>Rượu Champagne Delamotte Blanc De Blancs</td>\n",
       "      <td>3810000.0</td>\n",
       "      <td>Pháp</td>\n",
       "      <td>12.5</td>\n",
       "      <td>750.0</td>\n",
       "      <td>Chardonnay</td>\n",
       "      <td>trắng trong</td>\n",
       "      <td>Rượu Champagne</td>\n",
       "      <td>Delamotte</td>\n",
       "      <td>Champagne</td>\n",
       "    </tr>\n",
       "    <tr>\n",
       "      <th>5</th>\n",
       "      <td>VNPV-1956</td>\n",
       "      <td>Rượu Champagne Delamotte Brut</td>\n",
       "      <td>1761000.0</td>\n",
       "      <td>Pháp</td>\n",
       "      <td>12.0</td>\n",
       "      <td>750.0</td>\n",
       "      <td>Chardonnay</td>\n",
       "      <td>vàng</td>\n",
       "      <td>Rượu Champagne</td>\n",
       "      <td>Delamotte</td>\n",
       "      <td>Champagne</td>\n",
       "    </tr>\n",
       "    <tr>\n",
       "      <th>6</th>\n",
       "      <td>VNPV-3667</td>\n",
       "      <td>Rượu Champagne Delamotte Rose</td>\n",
       "      <td>2956000.0</td>\n",
       "      <td>Pháp</td>\n",
       "      <td>12.0</td>\n",
       "      <td>750.0</td>\n",
       "      <td>Chardonnay,Pinot Noir,Pinot Meunier</td>\n",
       "      <td>hồng</td>\n",
       "      <td>Rượu Champagne</td>\n",
       "      <td>Delamotte</td>\n",
       "      <td>Champagne</td>\n",
       "    </tr>\n",
       "    <tr>\n",
       "      <th>7</th>\n",
       "      <td>VNPV-1976</td>\n",
       "      <td>Rượu Champagne Duval Leroy Thierry Drapeau</td>\n",
       "      <td>1779000.0</td>\n",
       "      <td>Pháp</td>\n",
       "      <td>12.5</td>\n",
       "      <td>750.0</td>\n",
       "      <td>Chardonnay</td>\n",
       "      <td>vàng</td>\n",
       "      <td>Rượu Champagne</td>\n",
       "      <td>Champagne Duval Leroy</td>\n",
       "      <td>Champagne</td>\n",
       "    </tr>\n",
       "    <tr>\n",
       "      <th>8</th>\n",
       "      <td>VNTK3-480</td>\n",
       "      <td>Rượu Champagne JP Chenet Brut Blanc</td>\n",
       "      <td>480000.0</td>\n",
       "      <td>Pháp</td>\n",
       "      <td>13.0</td>\n",
       "      <td>750.0</td>\n",
       "      <td>Chardonnay</td>\n",
       "      <td>đỏ đậm</td>\n",
       "      <td>Rượu Vang Nổ</td>\n",
       "      <td>JP Chenet</td>\n",
       "      <td>Pays d’Oc</td>\n",
       "    </tr>\n",
       "    <tr>\n",
       "      <th>9</th>\n",
       "      <td>VNBMF-744</td>\n",
       "      <td>Rượu Champagne JP Chenet Divine Chardonnay</td>\n",
       "      <td>750000.0</td>\n",
       "      <td>Pháp</td>\n",
       "      <td>12.5</td>\n",
       "      <td>750.0</td>\n",
       "      <td>Chardonnay</td>\n",
       "      <td>vàng rơm</td>\n",
       "      <td>Rượu Vang Nổ</td>\n",
       "      <td>JP Chenet</td>\n",
       "      <td>Pays d’Oc</td>\n",
       "    </tr>\n",
       "    <tr>\n",
       "      <th>10</th>\n",
       "      <td>VNTK-480</td>\n",
       "      <td>Rượu Champagne JP Chenet Ice Edition White</td>\n",
       "      <td>480000.0</td>\n",
       "      <td>Pháp</td>\n",
       "      <td>11.0</td>\n",
       "      <td>750.0</td>\n",
       "      <td>Chardonnay</td>\n",
       "      <td>vàng rơm</td>\n",
       "      <td>Rượu Vang Nổ</td>\n",
       "      <td>JP Chenet</td>\n",
       "      <td>Pays d’Oc</td>\n",
       "    </tr>\n",
       "    <tr>\n",
       "      <th>11</th>\n",
       "      <td>VNQW-1397</td>\n",
       "      <td>Rượu Champagne Philippe Fourrier</td>\n",
       "      <td>1397000.0</td>\n",
       "      <td>Pháp</td>\n",
       "      <td>12.5</td>\n",
       "      <td>750.0</td>\n",
       "      <td>Pinot Noir,Pinot Meunier,Chardonnay</td>\n",
       "      <td>vàng chanh</td>\n",
       "      <td>Champagne</td>\n",
       "      <td>Philippe Fourrier</td>\n",
       "      <td>Champagne</td>\n",
       "    </tr>\n",
       "    <tr>\n",
       "      <th>12</th>\n",
       "      <td>VNMH4-1490</td>\n",
       "      <td>Rượu Champagne Piper Heidsieck Brut</td>\n",
       "      <td>1490000.0</td>\n",
       "      <td>Pháp</td>\n",
       "      <td>12.0</td>\n",
       "      <td>750.0</td>\n",
       "      <td>Pinot Noir,Meunier,Chardonnay</td>\n",
       "      <td>vàng kim</td>\n",
       "      <td>Rượu Champagne</td>\n",
       "      <td>Piper Heidsieck</td>\n",
       "      <td>Reims – Champagne</td>\n",
       "    </tr>\n",
       "    <tr>\n",
       "      <th>13</th>\n",
       "      <td>VNMH-39000</td>\n",
       "      <td>Rượu Champagne Rare Le Secret</td>\n",
       "      <td>39000000.0</td>\n",
       "      <td>Pháp</td>\n",
       "      <td>12.0</td>\n",
       "      <td>1500.0</td>\n",
       "      <td>Chardonnay,Pinot Noir</td>\n",
       "      <td>vàng rơm</td>\n",
       "      <td>Rượu Champagne</td>\n",
       "      <td>Piper Heidsieck</td>\n",
       "      <td>Champagne</td>\n",
       "    </tr>\n",
       "    <tr>\n",
       "      <th>14</th>\n",
       "      <td>VNMH-6560</td>\n",
       "      <td>Rượu Champagne Rare Milésimé Piper Heidsieck</td>\n",
       "      <td>5500000.0</td>\n",
       "      <td>Pháp</td>\n",
       "      <td>12.0</td>\n",
       "      <td>750.0</td>\n",
       "      <td>Chardonnay,Pinot Noir</td>\n",
       "      <td>vàng ánh xanh</td>\n",
       "      <td>Rượu Champagne</td>\n",
       "      <td>Piper Heidsieck</td>\n",
       "      <td>Reims – Champagne</td>\n",
       "    </tr>\n",
       "    <tr>\n",
       "      <th>15</th>\n",
       "      <td>VNMH-9450</td>\n",
       "      <td>Rượu Champagne Rare Rosé Millésimé Brut</td>\n",
       "      <td>9450000.0</td>\n",
       "      <td>Pháp</td>\n",
       "      <td>12.0</td>\n",
       "      <td>750.0</td>\n",
       "      <td>Chardonnay,Pinot Noir</td>\n",
       "      <td>hồng nhạt</td>\n",
       "      <td>Rượu Champagne</td>\n",
       "      <td>Champagne Piper Heidsieck</td>\n",
       "      <td>Reims – Champagne</td>\n",
       "    </tr>\n",
       "    <tr>\n",
       "      <th>16</th>\n",
       "      <td>VNTH1-2800</td>\n",
       "      <td>Rượu Champagne Victoire Rose</td>\n",
       "      <td>2800000.0</td>\n",
       "      <td>Pháp</td>\n",
       "      <td>12.0</td>\n",
       "      <td>750.0</td>\n",
       "      <td>Pinot Noir,Pinot Meunier,Chardonnay</td>\n",
       "      <td>hồng nhạt</td>\n",
       "      <td>Rượu Champagne</td>\n",
       "      <td>Delamotte</td>\n",
       "      <td>Champagne</td>\n",
       "    </tr>\n",
       "    <tr>\n",
       "      <th>17</th>\n",
       "      <td>VNPV1-3532</td>\n",
       "      <td>Rượu Champagne Vouette Et Sorbee Fidele</td>\n",
       "      <td>3179000.0</td>\n",
       "      <td>Pháp</td>\n",
       "      <td>12.5</td>\n",
       "      <td>750.0</td>\n",
       "      <td>Chardonnay</td>\n",
       "      <td>vàng</td>\n",
       "      <td>Rượu Champagne</td>\n",
       "      <td>Vouette et Sorbee</td>\n",
       "      <td>Champagne</td>\n",
       "    </tr>\n",
       "    <tr>\n",
       "      <th>18</th>\n",
       "      <td>VNPV-864</td>\n",
       "      <td>Rượu Sâm Banh Anna De Codorniu</td>\n",
       "      <td>778000.0</td>\n",
       "      <td>Tây Ban Nha</td>\n",
       "      <td>11.5</td>\n",
       "      <td>750.0</td>\n",
       "      <td>Chardonnay</td>\n",
       "      <td>trắng</td>\n",
       "      <td>Sâm banh</td>\n",
       "      <td>Villa Conchi</td>\n",
       "      <td>Cava</td>\n",
       "    </tr>\n",
       "    <tr>\n",
       "      <th>19</th>\n",
       "      <td>VNPV1-864</td>\n",
       "      <td>Rượu Sâm Banh ANNA De Codorniu Brut Rose</td>\n",
       "      <td>778000.0</td>\n",
       "      <td>Tây Ban Nha</td>\n",
       "      <td>12.0</td>\n",
       "      <td>750.0</td>\n",
       "      <td>Pinot Noir</td>\n",
       "      <td>hồng</td>\n",
       "      <td>Sâm banh</td>\n",
       "      <td>Villa Conchi</td>\n",
       "      <td>Cava</td>\n",
       "    </tr>\n",
       "  </tbody>\n",
       "</table>\n",
       "</div>"
      ],
      "text/plain": [
       "         Ma_sp                                         Ten_sp         Gia  \\\n",
       "0    VNPV-3958       Rượu Champagne Bottega Stardust Prosecco   3563000.0   \n",
       "1    VNPV-9463                       Rượu Champagne Carbon F1   8517000.0   \n",
       "2   VNPV1-1823  Rượu Champagne Charles Mignon Premium Reserve   1641000.0   \n",
       "3     VNPV-836              Rượu Champagne De Castellane Brut    753000.0   \n",
       "4    VNPV-4233       Rượu Champagne Delamotte Blanc De Blancs   3810000.0   \n",
       "5    VNPV-1956                  Rượu Champagne Delamotte Brut   1761000.0   \n",
       "6    VNPV-3667                  Rượu Champagne Delamotte Rose   2956000.0   \n",
       "7    VNPV-1976     Rượu Champagne Duval Leroy Thierry Drapeau   1779000.0   \n",
       "8    VNTK3-480            Rượu Champagne JP Chenet Brut Blanc    480000.0   \n",
       "9    VNBMF-744     Rượu Champagne JP Chenet Divine Chardonnay    750000.0   \n",
       "10    VNTK-480     Rượu Champagne JP Chenet Ice Edition White    480000.0   \n",
       "11   VNQW-1397               Rượu Champagne Philippe Fourrier   1397000.0   \n",
       "12  VNMH4-1490            Rượu Champagne Piper Heidsieck Brut   1490000.0   \n",
       "13  VNMH-39000                  Rượu Champagne Rare Le Secret  39000000.0   \n",
       "14   VNMH-6560   Rượu Champagne Rare Milésimé Piper Heidsieck   5500000.0   \n",
       "15   VNMH-9450        Rượu Champagne Rare Rosé Millésimé Brut   9450000.0   \n",
       "16  VNTH1-2800                   Rượu Champagne Victoire Rose   2800000.0   \n",
       "17  VNPV1-3532        Rượu Champagne Vouette Et Sorbee Fidele   3179000.0   \n",
       "18    VNPV-864                 Rượu Sâm Banh Anna De Codorniu    778000.0   \n",
       "19   VNPV1-864       Rượu Sâm Banh ANNA De Codorniu Brut Rose    778000.0   \n",
       "\n",
       "        Xuat_xu  Nong_do  Dung_tich                            Giong_nho  \\\n",
       "0             Ý     11.0      750.0                                Glera   \n",
       "1          Pháp     12.0      750.0  Chardonnay,Pinot meunier,Pinot Noir   \n",
       "2          Pháp     13.5      750.0  Chardonnay,Pinot meunier,Pinot Noir   \n",
       "3          Pháp     11.0      375.0                           Chardonnay   \n",
       "4          Pháp     12.5      750.0                           Chardonnay   \n",
       "5          Pháp     12.0      750.0                           Chardonnay   \n",
       "6          Pháp     12.0      750.0  Chardonnay,Pinot Noir,Pinot Meunier   \n",
       "7          Pháp     12.5      750.0                           Chardonnay   \n",
       "8          Pháp     13.0      750.0                           Chardonnay   \n",
       "9          Pháp     12.5      750.0                           Chardonnay   \n",
       "10         Pháp     11.0      750.0                           Chardonnay   \n",
       "11         Pháp     12.5      750.0  Pinot Noir,Pinot Meunier,Chardonnay   \n",
       "12         Pháp     12.0      750.0        Pinot Noir,Meunier,Chardonnay   \n",
       "13         Pháp     12.0     1500.0                Chardonnay,Pinot Noir   \n",
       "14         Pháp     12.0      750.0                Chardonnay,Pinot Noir   \n",
       "15         Pháp     12.0      750.0                Chardonnay,Pinot Noir   \n",
       "16         Pháp     12.0      750.0  Pinot Noir,Pinot Meunier,Chardonnay   \n",
       "17         Pháp     12.5      750.0                           Chardonnay   \n",
       "18  Tây Ban Nha     11.5      750.0                           Chardonnay   \n",
       "19  Tây Ban Nha     12.0      750.0                           Pinot Noir   \n",
       "\n",
       "          Mau_sac       Loai_ruou                Thuong_hieu  \\\n",
       "0   vàng rơm nhạt  Rượu Champagne                    Bottega   \n",
       "1           trắng  Rượu Champagne                  Delamotte   \n",
       "2            vàng  Rượu Champagne             Charles Mignon   \n",
       "3       xanh nhạt  Rượu Champagne              De Castellane   \n",
       "4     trắng trong  Rượu Champagne                  Delamotte   \n",
       "5            vàng  Rượu Champagne                  Delamotte   \n",
       "6            hồng  Rượu Champagne                  Delamotte   \n",
       "7            vàng  Rượu Champagne      Champagne Duval Leroy   \n",
       "8         đỏ đậm  Rượu Vang Nổ                  JP Chenet   \n",
       "9        vàng rơm  Rượu Vang Nổ                  JP Chenet   \n",
       "10       vàng rơm  Rượu Vang Nổ                  JP Chenet   \n",
       "11     vàng chanh       Champagne          Philippe Fourrier   \n",
       "12       vàng kim  Rượu Champagne            Piper Heidsieck   \n",
       "13       vàng rơm  Rượu Champagne            Piper Heidsieck   \n",
       "14  vàng ánh xanh  Rượu Champagne            Piper Heidsieck   \n",
       "15      hồng nhạt  Rượu Champagne  Champagne Piper Heidsieck   \n",
       "16      hồng nhạt  Rượu Champagne                  Delamotte   \n",
       "17           vàng  Rượu Champagne          Vouette et Sorbee   \n",
       "18          trắng        Sâm banh               Villa Conchi   \n",
       "19           hồng        Sâm banh               Villa Conchi   \n",
       "\n",
       "        Vung_lam_vang  \n",
       "0              Veneto  \n",
       "1           Champagne  \n",
       "2           Champagne  \n",
       "3           Champagne  \n",
       "4           Champagne  \n",
       "5           Champagne  \n",
       "6           Champagne  \n",
       "7           Champagne  \n",
       "8           Pays d’Oc  \n",
       "9           Pays d’Oc  \n",
       "10          Pays d’Oc  \n",
       "11          Champagne  \n",
       "12  Reims – Champagne  \n",
       "13          Champagne  \n",
       "14  Reims – Champagne  \n",
       "15  Reims – Champagne  \n",
       "16          Champagne  \n",
       "17          Champagne  \n",
       "18               Cava  \n",
       "19               Cava  "
      ]
     },
     "execution_count": 4,
     "metadata": {},
     "output_type": "execute_result"
    }
   ],
   "source": [
    "df = pd.read_csv('./dataset/champagne_info_cleaned.csv', index_col = 0)\n",
    "df.head(20)"
   ]
  },
  {
   "cell_type": "code",
   "execution_count": 5,
   "id": "96fe0660",
   "metadata": {},
   "outputs": [
    {
     "name": "stdout",
     "output_type": "stream",
     "text": [
      "<class 'pandas.core.frame.DataFrame'>\n",
      "Int64Index: 3934 entries, 0 to 3933\n",
      "Data columns (total 11 columns):\n",
      " #   Column         Non-Null Count  Dtype  \n",
      "---  ------         --------------  -----  \n",
      " 0   Ma_sp          3934 non-null   object \n",
      " 1   Ten_sp         3934 non-null   object \n",
      " 2   Gia            3934 non-null   float64\n",
      " 3   Xuat_xu        3934 non-null   object \n",
      " 4   Nong_do        3934 non-null   float64\n",
      " 5   Dung_tich      3934 non-null   float64\n",
      " 6   Giong_nho      3934 non-null   object \n",
      " 7   Mau_sac        3934 non-null   object \n",
      " 8   Loai_ruou      3934 non-null   object \n",
      " 9   Thuong_hieu    3934 non-null   object \n",
      " 10  Vung_lam_vang  3934 non-null   object \n",
      "dtypes: float64(3), object(8)\n",
      "memory usage: 368.8+ KB\n"
     ]
    }
   ],
   "source": [
    "df.info()"
   ]
  },
  {
   "attachments": {},
   "cell_type": "markdown",
   "id": "f875b265",
   "metadata": {},
   "source": [
    "## <h2 style='color:#8edc55'>Câu 1. Giữa màu sắc, thương hiệu có mối tương quan như thế nào đối với giá rượu?  </h2>"
   ]
  },
  {
   "cell_type": "markdown",
   "id": "8bc3b02b",
   "metadata": {},
   "source": [
    "**Lợi ích khi trả lời được câu hỏi:** \n",
    "+ Với người mua, họ có thể tham khảo để xác định được giá của một chai rượu vang họ muốn mua có đang là hợp lý, tránh bị lừa.\n",
    "+ Với người bán, họ có thể tham khảo để đưa ra một mức giá bán hợp lý cho sản phẩm\n",
    "\n",
    "**Nguồn cảm hứng của câu hỏi:** tự nghĩ\n",
    "\n",
    "---"
   ]
  },
  {
   "attachments": {},
   "cell_type": "markdown",
   "id": "7ca77432",
   "metadata": {},
   "source": [
    "### <h3 style='color:#4cc3f1'> 1.1 Mối tương quan giữa thương hiệu đối với giá rượu  </h3>"
   ]
  },
  {
   "cell_type": "markdown",
   "id": "a703cde7",
   "metadata": {},
   "source": [
    "<h3 style='color:#c177e4'> Bước 1: Lấy ra một số thương hiệu để đánh giá </h3>"
   ]
  },
  {
   "cell_type": "markdown",
   "id": "9a9413aa",
   "metadata": {},
   "source": [
    "* Từ bảng `cat_col_info_df` ta thấy có đến 1620 thương hiệu trong khi dữ liệu chỉ có 5598 dòng. Vì vậy sẽ có nhiều thương hiệu xuất hiện tương đối ít. Ta cần chọn ra các thương hiệu có số lần xuất hiện tương đối cao để có thể đánh giá sự phụ thuộc giữa thương hiệu và giá rượu vang "
   ]
  },
  {
   "cell_type": "code",
   "execution_count": 6,
   "id": "2581dff4",
   "metadata": {},
   "outputs": [
    {
     "data": {
      "text/plain": [
       "Borie Manoux            246\n",
       "Louis Jadot             122\n",
       "Concha Y Toro            84\n",
       "Vignobles JeanJean       75\n",
       "Trivento                 58\n",
       "                       ... \n",
       "Domaine La Bastide        1\n",
       "Domaine Labruyere         1\n",
       "Domaine Le Colombier      1\n",
       "Domaine Les Poete         1\n",
       "Ventiterre                1\n",
       "Name: Thuong_hieu, Length: 1243, dtype: int64"
      ]
     },
     "execution_count": 6,
     "metadata": {},
     "output_type": "execute_result"
    }
   ],
   "source": [
    "# Tính số lần xuất hiện của mỗi thương hiệu\n",
    "count_appear = df['Thuong_hieu'].value_counts()\n",
    "count_appear"
   ]
  },
  {
   "cell_type": "code",
   "execution_count": 7,
   "id": "911d6c64",
   "metadata": {},
   "outputs": [
    {
     "data": {
      "text/plain": [
       "Index(['Borie Manoux', 'Louis Jadot', 'Concha Y Toro', 'Vignobles JeanJean',\n",
       "       'Trivento', 'Montgras', 'Tinazzi', 'Paul Jaboulet Aine', 'Santa Rita',\n",
       "       '7Colores', 'Ampelidae'],\n",
       "      dtype='object')"
      ]
     },
     "execution_count": 7,
     "metadata": {},
     "output_type": "execute_result"
    }
   ],
   "source": [
    "#Lấy ra các thương hiệu xuất hiện từ 25 lần\n",
    "brand_top = count_appear.index[count_appear >= 25]\n",
    "brand_top"
   ]
  },
  {
   "cell_type": "markdown",
   "id": "10409dcc",
   "metadata": {},
   "source": [
    "<h3 style='color:#c177e4'> Bước 2: Tạo dataframe chỉ gồm các thương hiệu đã chọn</h3>"
   ]
  },
  {
   "cell_type": "code",
   "execution_count": 8,
   "id": "6bf6143d",
   "metadata": {},
   "outputs": [],
   "source": [
    "lis_brand_top = brand_top.values.tolist()\n",
    "mask = df['Thuong_hieu'].isin(lis_brand_top)\n",
    "brand_vs_price = df.loc[mask,['Thuong_hieu', 'Gia']]"
   ]
  },
  {
   "cell_type": "markdown",
   "id": "2ec1d257",
   "metadata": {},
   "source": [
    "<h3 style='color:#c177e4'> Bước 3: Trực quan </h3>"
   ]
  },
  {
   "cell_type": "code",
   "execution_count": 9,
   "id": "0c2befd9",
   "metadata": {},
   "outputs": [
    {
     "data": {
      "image/png": "[encoded data removed]",
      "text/plain": [
       "<Figure size 1296x720 with 1 Axes>"
      ]
     },
     "metadata": {},
     "output_type": "display_data"
    }
   ],
   "source": [
    "plt.figure(figsize=(18,10))\n",
    "sns.boxplot(data=brand_vs_price, y='Gia', x = 'Thuong_hieu',showfliers=False)\n",
    "plt.xticks(rotation=45)\n",
    "plt.title('Phân bố giá rượu của một số thương hiệu', fontsize=14)\n",
    "plt.xlabel('Thương hiệu', fontsize=14)\n",
    "plt.ylabel('Giá rượu (VNĐ)', fontsize=14)\n",
    "plt.grid(True)\n",
    "plt.show()"
   ]
  },
  {
   "cell_type": "markdown",
   "id": "5dc4284f",
   "metadata": {},
   "source": [
    "<h3 style='color:#c177e4'> Bước 4: Đánh giá </h3>"
   ]
  },
  {
   "cell_type": "markdown",
   "id": "3b700bc1",
   "metadata": {},
   "source": [
    "🤔🤔🤔 Từ biểu đồ trên ta thấy:\n",
    "* Hầu hết các thương hiệu được chọn có giá các sản phẩm phân bố nằm chủ yếu trong khoảng từ 200.000 VNĐ đến 1.000.000 VNĐ. Trong đó các thương hiệu `7Colores`, `Vignobles JeanJean` ,`Convha Y Toro` nằm hoàn toàn trong khoảng trên.\n",
    "* Các thương hiệu `Ampelidae`,`Montgras`, `Tinazzi`, có khoảng từ 25% đến 30% sản phẩm có giá cao hơn các sản phẩm còn lại  thuộc cùng thương hiêu và nằm trong khoảng giá  1.000.000 - 2.000.000 VNĐ.\n",
    "* Thương hiệu `Borie Manoux` và `Paul Jaboulet Aine` có trên 50% các sản phẩm có giá từ 1.000.000 - 4.800.000 VNĐ.\n",
    "* Thương hiệu `Louis Jadot` là thương hiệu có nhiều sản phẩm có giá cao và vượt trội so với các thương hiệu khác khi giá cao nhất có thể lên đến khoảng 8.000.000 VNĐ"
   ]
  },
  {
   "attachments": {},
   "cell_type": "markdown",
   "id": "058bcf33",
   "metadata": {},
   "source": [
    "### <h3 style='color:#4cc3f1'> 1.2 Mối tương quan giữa màu sắc đối với giá rượu  </h3>"
   ]
  },
  {
   "cell_type": "markdown",
   "id": "44118923",
   "metadata": {},
   "source": [
    "<h3 style='color:#c177e4'> Bước 1: Chọn những màu sắc xuất hiện nhiều </h3>"
   ]
  },
  {
   "cell_type": "markdown",
   "id": "d322472c",
   "metadata": {},
   "source": [
    "* Tương tự với thương hiệu ta sẽ chọn ra những màu sắc nổi bật hơn "
   ]
  },
  {
   "cell_type": "code",
   "execution_count": 10,
   "id": "ee10da05",
   "metadata": {
    "scrolled": true
   },
   "outputs": [
    {
     "data": {
      "text/plain": [
       "đỏ ruby                       1490\n",
       "vàng rơm                       588\n",
       "đỏ                             388\n",
       "đỏ đậm                         317\n",
       "vàng nhạt                      215\n",
       "                              ... \n",
       "vàng rơm xanh                    1\n",
       "đỏ ruby ngọc bích                1\n",
       "vàng trắng có ánh bạc sáng       1\n",
       "trắng ánh xanh                   1\n",
       "đỏ đậm tối                       1\n",
       "Name: Mau_sac, Length: 238, dtype: int64"
      ]
     },
     "execution_count": 10,
     "metadata": {},
     "output_type": "execute_result"
    }
   ],
   "source": [
    "# Tính số lần xuất hiện của mỗi màu sắc\n",
    "color_series = df['Mau_sac'].value_counts()\n",
    "color_series"
   ]
  },
  {
   "cell_type": "code",
   "execution_count": 11,
   "id": "23dddf3e",
   "metadata": {
    "scrolled": true
   },
   "outputs": [
    {
     "data": {
      "text/plain": [
       "Index(['đỏ ruby', 'vàng rơm', 'đỏ', 'đỏ đậm', 'vàng nhạt', 'đỏ ruby đậm',\n",
       "       'vàng', 'vàng chanh', 'trắng', 'hồng nhạt'],\n",
       "      dtype='object')"
      ]
     },
     "execution_count": 11,
     "metadata": {},
     "output_type": "execute_result"
    }
   ],
   "source": [
    "# Chọn những màu sắc xuất hiện trên 25 lần\n",
    "color_top = color_series.index[color_series >= 25]\n",
    "color_top"
   ]
  },
  {
   "cell_type": "markdown",
   "id": "2abcbb2e",
   "metadata": {},
   "source": [
    "* Ta thấy có hai lần ` vàng nhạt ` xuất hiện hai lần. Ta sẽ chuyển chúng cho về giống nhau trong `df` và giữ lại 1 trong `color_top`."
   ]
  },
  {
   "cell_type": "code",
   "execution_count": 12,
   "id": "4afc5d4f",
   "metadata": {},
   "outputs": [],
   "source": [
    "mask = df['Mau_sac'] == 'vàng nhạt'\n",
    "df.loc[mask, 'Mau_sac'] = 'vàng nhạt'\n",
    "# Xóa bớt 1 vàng nhạt\n",
    "color_top = color_top[color_top != 'vàng nhạt']"
   ]
  },
  {
   "cell_type": "markdown",
   "id": "c498aa69",
   "metadata": {},
   "source": [
    "<h3 style='color:#c177e4'> Bước 2: Tạo dataframe chỉ gồm những màu sắc đã chọn </h3>"
   ]
  },
  {
   "cell_type": "code",
   "execution_count": 13,
   "id": "09f2eba8",
   "metadata": {},
   "outputs": [],
   "source": [
    "lis_color_top = color_top.values.tolist()\n",
    "mask = df['Mau_sac'].isin(lis_color_top)\n",
    "color_vs_price = df.loc[mask,['Mau_sac', 'Gia']]"
   ]
  },
  {
   "cell_type": "markdown",
   "id": "838e3e66",
   "metadata": {},
   "source": [
    "<h3 style='color:#c177e4'> Bước 3: Trực quan </h3>"
   ]
  },
  {
   "cell_type": "code",
   "execution_count": 14,
   "id": "811700e3",
   "metadata": {},
   "outputs": [
    {
     "data": {
      "image/png": "[encoded data removed]",
      "text/plain": [
       "<Figure size 1296x720 with 1 Axes>"
      ]
     },
     "metadata": {},
     "output_type": "display_data"
    }
   ],
   "source": [
    "plt.figure(figsize=(18,10))\n",
    "sns.boxplot(data=color_vs_price, y='Mau_sac', x = 'Gia',showfliers=False)\n",
    "# plt.xticks(rotation=45)\n",
    "plt.title('Phân bố giá rượu theo một số màu sắc', fontsize=14)\n",
    "plt.xlabel('Giá rượu (VNĐ)', fontsize=14)\n",
    "plt.ylabel('Màu sắc', fontsize=14)\n",
    "plt.xticks(np.arange(0, 5000000, 500000))\n",
    "plt.grid(True)\n",
    "plt.show()"
   ]
  },
  {
   "cell_type": "markdown",
   "id": "8378cbad",
   "metadata": {},
   "source": [
    "<h3 style='color:#c177e4'> Bước 4: Đánh giá </h3>"
   ]
  },
  {
   "cell_type": "markdown",
   "id": "4f250c01",
   "metadata": {},
   "source": [
    "🤔🤔🤔 Từ biểu đồ trên ta thấy:\n",
    "* Các màu rượu như ` trắng `, ` vàng chanh`, ` hồng nhạt ` có trên 80% các sản phẩm có giá từ 200.000 - 1.000.000 VNĐ.\n",
    "* Các màu rượu  `vàng nhạt`, ` vàng rơm `, `đỏ ruby` có từ 55% đến 70% các sản phẩm có giá từ 200.000 - 1.000.000 VNĐ. Các sản phẩm còn lại thuộc những màu sắc này phân bố trải dài đến khoảng 2.000.000 VNĐ. Riêng với màu `đỏ ruby` giá cao nhất có thể lên đến 3.000.000 VNĐ\n",
    "* Màu rượu ` vàng ` có nhiều sản phẩm có giá từ 2.000.000 VNĐ trở lên nhất so với các màu khác. Tiếp đó là các màu ` đỏ `, `đỏ ruby đậm `, `đỏ đậm ` là vượt trội hơn so với các màu còn lại . Trong đó màu ` vàng ` màu có sản phẩm có giá cao nhất tiếp đến là `đỏ`, `đỏ ruby đậm `, `đỏ đậm `."
   ]
  },
  {
   "cell_type": "markdown",
   "id": "27c7a380",
   "metadata": {},
   "source": [
    "---"
   ]
  },
  {
   "cell_type": "markdown",
   "id": "ca4ff4f4",
   "metadata": {},
   "source": []
  },
  {
   "attachments": {},
   "cell_type": "markdown",
   "id": "636c29e2",
   "metadata": {},
   "source": [
    "## Câu hỏi 2: Ứng với mỗi mức nồng độ, đâu là những thương hiệu có giá thành thấp nhất ?"
   ]
  },
  {
   "attachments": {},
   "cell_type": "markdown",
   "id": "e93987ad",
   "metadata": {},
   "source": [
    "**Lợi ích khi trả lời được câu hỏi:** Khách hàng thì có nhiều đối tượng với nhu cầu mỗi người mỗi khác nhau, có người tửu lượng mạnh thì thích các loại rượu có nồng độ cao, có người thì thích những loại có nồng độ yếu hơn. Mục tiêu ở đây là giúp người mua có thể biết được các thương hiệu có giá thành ổn nhất đối với từng mức nồng độ, từ đó đưa ra các lựa chọn phù hợp với túi tiền của mình.\n",
    "\n",
    "---"
   ]
  },
  {
   "attachments": {},
   "cell_type": "markdown",
   "id": "efb254d0",
   "metadata": {},
   "source": [
    "### Các bước thực hiện"
   ]
  },
  {
   "attachments": {},
   "cell_type": "markdown",
   "id": "0ce28bc6",
   "metadata": {},
   "source": [
    "Chỉ lấy ra các cột cần thiết"
   ]
  },
  {
   "cell_type": "code",
   "execution_count": 15,
   "id": "23646fff",
   "metadata": {},
   "outputs": [
    {
     "data": {
      "text/html": [
       "<div>\n",
       "<style scoped>\n",
       "    .dataframe tbody tr th:only-of-type {\n",
       "        vertical-align: middle;\n",
       "    }\n",
       "\n",
       "    .dataframe tbody tr th {\n",
       "        vertical-align: top;\n",
       "    }\n",
       "\n",
       "    .dataframe thead th {\n",
       "        text-align: right;\n",
       "    }\n",
       "</style>\n",
       "<table border=\"1\" class=\"dataframe\">\n",
       "  <thead>\n",
       "    <tr style=\"text-align: right;\">\n",
       "      <th></th>\n",
       "      <th>Ma_sp</th>\n",
       "      <th>Ten_sp</th>\n",
       "      <th>Nong_do</th>\n",
       "      <th>Thuong_hieu</th>\n",
       "      <th>Gia</th>\n",
       "    </tr>\n",
       "  </thead>\n",
       "  <tbody>\n",
       "    <tr>\n",
       "      <th>0</th>\n",
       "      <td>VNPV-3958</td>\n",
       "      <td>Rượu Champagne Bottega Stardust Prosecco</td>\n",
       "      <td>11.0</td>\n",
       "      <td>Bottega</td>\n",
       "      <td>3563000.0</td>\n",
       "    </tr>\n",
       "    <tr>\n",
       "      <th>1</th>\n",
       "      <td>VNPV-9463</td>\n",
       "      <td>Rượu Champagne Carbon F1</td>\n",
       "      <td>12.0</td>\n",
       "      <td>Delamotte</td>\n",
       "      <td>8517000.0</td>\n",
       "    </tr>\n",
       "    <tr>\n",
       "      <th>2</th>\n",
       "      <td>VNPV1-1823</td>\n",
       "      <td>Rượu Champagne Charles Mignon Premium Reserve</td>\n",
       "      <td>13.5</td>\n",
       "      <td>Charles Mignon</td>\n",
       "      <td>1641000.0</td>\n",
       "    </tr>\n",
       "    <tr>\n",
       "      <th>3</th>\n",
       "      <td>VNPV-836</td>\n",
       "      <td>Rượu Champagne De Castellane Brut</td>\n",
       "      <td>11.0</td>\n",
       "      <td>De Castellane</td>\n",
       "      <td>753000.0</td>\n",
       "    </tr>\n",
       "    <tr>\n",
       "      <th>4</th>\n",
       "      <td>VNPV-4233</td>\n",
       "      <td>Rượu Champagne Delamotte Blanc De Blancs</td>\n",
       "      <td>12.5</td>\n",
       "      <td>Delamotte</td>\n",
       "      <td>3810000.0</td>\n",
       "    </tr>\n",
       "  </tbody>\n",
       "</table>\n",
       "</div>"
      ],
      "text/plain": [
       "        Ma_sp                                         Ten_sp  Nong_do  \\\n",
       "0   VNPV-3958       Rượu Champagne Bottega Stardust Prosecco     11.0   \n",
       "1   VNPV-9463                       Rượu Champagne Carbon F1     12.0   \n",
       "2  VNPV1-1823  Rượu Champagne Charles Mignon Premium Reserve     13.5   \n",
       "3    VNPV-836              Rượu Champagne De Castellane Brut     11.0   \n",
       "4   VNPV-4233       Rượu Champagne Delamotte Blanc De Blancs     12.5   \n",
       "\n",
       "      Thuong_hieu        Gia  \n",
       "0         Bottega  3563000.0  \n",
       "1       Delamotte  8517000.0  \n",
       "2  Charles Mignon  1641000.0  \n",
       "3   De Castellane   753000.0  \n",
       "4       Delamotte  3810000.0  "
      ]
     },
     "execution_count": 15,
     "metadata": {},
     "output_type": "execute_result"
    }
   ],
   "source": [
    "filter_df = df.loc[:,['Ma_sp','Ten_sp','Nong_do','Thuong_hieu','Gia']]\n",
    "filter_df.head(5)"
   ]
  },
  {
   "attachments": {},
   "cell_type": "markdown",
   "id": "733eee50",
   "metadata": {},
   "source": [
    "Ta sẽ tiến hành chia nồng độ rượu vang thành 4 mức độ theo tiêu chuẩn  \n",
    "Tham khảo: [Wine's Alcohol levels](https://www.wineinvestment.com/learn/magazine/2019/06/wines-alcohol-levels-explained/)"
   ]
  },
  {
   "attachments": {},
   "cell_type": "markdown",
   "id": "ab91afe6",
   "metadata": {},
   "source": [
    "| Phân loại | Nồng độ |\n",
    "| --- | --- |\n",
    "| **Nồng độ thấp** | < 12.5% |\n",
    "| **Nồng độ vừa phải** | 12.5 - 13.5% |\n",
    "| **Nồng độ cao** | 13.5 - 14.5% |\n",
    "| **Nồng độ rất cao** | > 14.5% |"
   ]
  },
  {
   "cell_type": "code",
   "execution_count": 16,
   "id": "6e2829bd",
   "metadata": {},
   "outputs": [
    {
     "data": {
      "text/html": [
       "<div>\n",
       "<style scoped>\n",
       "    .dataframe tbody tr th:only-of-type {\n",
       "        vertical-align: middle;\n",
       "    }\n",
       "\n",
       "    .dataframe tbody tr th {\n",
       "        vertical-align: top;\n",
       "    }\n",
       "\n",
       "    .dataframe thead th {\n",
       "        text-align: right;\n",
       "    }\n",
       "</style>\n",
       "<table border=\"1\" class=\"dataframe\">\n",
       "  <thead>\n",
       "    <tr style=\"text-align: right;\">\n",
       "      <th></th>\n",
       "      <th>Ma_sp</th>\n",
       "      <th>Ten_sp</th>\n",
       "      <th>Nong_do</th>\n",
       "      <th>Thuong_hieu</th>\n",
       "      <th>Gia</th>\n",
       "      <th>alcohol_classify</th>\n",
       "    </tr>\n",
       "  </thead>\n",
       "  <tbody>\n",
       "    <tr>\n",
       "      <th>0</th>\n",
       "      <td>VNPV-3958</td>\n",
       "      <td>Rượu Champagne Bottega Stardust Prosecco</td>\n",
       "      <td>11.0</td>\n",
       "      <td>Bottega</td>\n",
       "      <td>3563000.0</td>\n",
       "      <td>Nồng độ thấp</td>\n",
       "    </tr>\n",
       "    <tr>\n",
       "      <th>1</th>\n",
       "      <td>VNPV-9463</td>\n",
       "      <td>Rượu Champagne Carbon F1</td>\n",
       "      <td>12.0</td>\n",
       "      <td>Delamotte</td>\n",
       "      <td>8517000.0</td>\n",
       "      <td>Nồng độ thấp</td>\n",
       "    </tr>\n",
       "    <tr>\n",
       "      <th>2</th>\n",
       "      <td>VNPV1-1823</td>\n",
       "      <td>Rượu Champagne Charles Mignon Premium Reserve</td>\n",
       "      <td>13.5</td>\n",
       "      <td>Charles Mignon</td>\n",
       "      <td>1641000.0</td>\n",
       "      <td>Nồng độ vừa phải</td>\n",
       "    </tr>\n",
       "    <tr>\n",
       "      <th>3</th>\n",
       "      <td>VNPV-836</td>\n",
       "      <td>Rượu Champagne De Castellane Brut</td>\n",
       "      <td>11.0</td>\n",
       "      <td>De Castellane</td>\n",
       "      <td>753000.0</td>\n",
       "      <td>Nồng độ thấp</td>\n",
       "    </tr>\n",
       "    <tr>\n",
       "      <th>4</th>\n",
       "      <td>VNPV-4233</td>\n",
       "      <td>Rượu Champagne Delamotte Blanc De Blancs</td>\n",
       "      <td>12.5</td>\n",
       "      <td>Delamotte</td>\n",
       "      <td>3810000.0</td>\n",
       "      <td>Nồng độ vừa phải</td>\n",
       "    </tr>\n",
       "    <tr>\n",
       "      <th>...</th>\n",
       "      <td>...</td>\n",
       "      <td>...</td>\n",
       "      <td>...</td>\n",
       "      <td>...</td>\n",
       "      <td>...</td>\n",
       "      <td>...</td>\n",
       "    </tr>\n",
       "    <tr>\n",
       "      <th>3929</th>\n",
       "      <td>VNWH19- 425</td>\n",
       "      <td>Rượu Vang Hồng Yalumba Y Series Sangiovese</td>\n",
       "      <td>12.0</td>\n",
       "      <td>Yalumba</td>\n",
       "      <td>415000.0</td>\n",
       "      <td>Nồng độ thấp</td>\n",
       "    </tr>\n",
       "    <tr>\n",
       "      <th>3930</th>\n",
       "      <td>VNPV-2194</td>\n",
       "      <td>Rượu Vang Manso De Velasco Cabernet Sauvignon</td>\n",
       "      <td>14.0</td>\n",
       "      <td>Miguel Torres</td>\n",
       "      <td>1975000.0</td>\n",
       "      <td>Nồng độ cao</td>\n",
       "    </tr>\n",
       "    <tr>\n",
       "      <th>3931</th>\n",
       "      <td>VNPV-366</td>\n",
       "      <td>Rượu Vang Sunrise Cabernet Sauvignon</td>\n",
       "      <td>13.5</td>\n",
       "      <td>Concha Y Toro</td>\n",
       "      <td>330000.0</td>\n",
       "      <td>Nồng độ vừa phải</td>\n",
       "    </tr>\n",
       "    <tr>\n",
       "      <th>3932</th>\n",
       "      <td>VNWH1- 674</td>\n",
       "      <td>Rượu Vang ÚC Yalumba Organic Shiraz</td>\n",
       "      <td>13.5</td>\n",
       "      <td>Yalumba</td>\n",
       "      <td>660000.0</td>\n",
       "      <td>Nồng độ vừa phải</td>\n",
       "    </tr>\n",
       "    <tr>\n",
       "      <th>3933</th>\n",
       "      <td>VNWH8- 595</td>\n",
       "      <td>Rượu Vang Yalumba Christobel’s Moscato</td>\n",
       "      <td>12.5</td>\n",
       "      <td>Yalumba</td>\n",
       "      <td>575000.0</td>\n",
       "      <td>Nồng độ vừa phải</td>\n",
       "    </tr>\n",
       "  </tbody>\n",
       "</table>\n",
       "<p>3934 rows × 6 columns</p>\n",
       "</div>"
      ],
      "text/plain": [
       "            Ma_sp                                         Ten_sp  Nong_do  \\\n",
       "0       VNPV-3958       Rượu Champagne Bottega Stardust Prosecco     11.0   \n",
       "1       VNPV-9463                       Rượu Champagne Carbon F1     12.0   \n",
       "2      VNPV1-1823  Rượu Champagne Charles Mignon Premium Reserve     13.5   \n",
       "3        VNPV-836              Rượu Champagne De Castellane Brut     11.0   \n",
       "4       VNPV-4233       Rượu Champagne Delamotte Blanc De Blancs     12.5   \n",
       "...           ...                                            ...      ...   \n",
       "3929  VNWH19- 425     Rượu Vang Hồng Yalumba Y Series Sangiovese     12.0   \n",
       "3930    VNPV-2194  Rượu Vang Manso De Velasco Cabernet Sauvignon     14.0   \n",
       "3931     VNPV-366           Rượu Vang Sunrise Cabernet Sauvignon     13.5   \n",
       "3932   VNWH1- 674            Rượu Vang ÚC Yalumba Organic Shiraz     13.5   \n",
       "3933   VNWH8- 595         Rượu Vang Yalumba Christobel’s Moscato     12.5   \n",
       "\n",
       "         Thuong_hieu        Gia  alcohol_classify  \n",
       "0            Bottega  3563000.0      Nồng độ thấp  \n",
       "1          Delamotte  8517000.0      Nồng độ thấp  \n",
       "2     Charles Mignon  1641000.0  Nồng độ vừa phải  \n",
       "3      De Castellane   753000.0      Nồng độ thấp  \n",
       "4          Delamotte  3810000.0  Nồng độ vừa phải  \n",
       "...              ...        ...               ...  \n",
       "3929         Yalumba   415000.0      Nồng độ thấp  \n",
       "3930   Miguel Torres  1975000.0       Nồng độ cao  \n",
       "3931   Concha Y Toro   330000.0  Nồng độ vừa phải  \n",
       "3932         Yalumba   660000.0  Nồng độ vừa phải  \n",
       "3933         Yalumba   575000.0  Nồng độ vừa phải  \n",
       "\n",
       "[3934 rows x 6 columns]"
      ]
     },
     "execution_count": 16,
     "metadata": {},
     "output_type": "execute_result"
    }
   ],
   "source": [
    "def alcohol_classify(degree):\n",
    "  if degree < 12.5:\n",
    "    return 'Nồng độ thấp'\n",
    "  elif 12.5 <= degree <= 13.5:\n",
    "    return 'Nồng độ vừa phải'\n",
    "  elif 13.5 <= degree <= 14.5:\n",
    "    return 'Nồng độ cao'\n",
    "  return 'Nồng độ rất cao'\n",
    "\n",
    "filter_df['alcohol_classify'] = filter_df['Nong_do'].apply(alcohol_classify)\n",
    "filter_df"
   ]
  },
  {
   "attachments": {},
   "cell_type": "markdown",
   "id": "5c412a83",
   "metadata": {},
   "source": [
    "Phân bố số rượu theo các mức nồng độ theo phần trăm tổng số rượu"
   ]
  },
  {
   "cell_type": "code",
   "execution_count": 17,
   "id": "b4dedfe5",
   "metadata": {},
   "outputs": [
    {
     "data": {
      "text/plain": [
       "Nồng độ vừa phải    52.999492\n",
       "Nồng độ cao         30.299949\n",
       "Nồng độ thấp        10.066090\n",
       "Nồng độ rất cao      6.634469\n",
       "Name: alcohol_classify, dtype: float64"
      ]
     },
     "execution_count": 17,
     "metadata": {},
     "output_type": "execute_result"
    }
   ],
   "source": [
    "filter_df['alcohol_classify'].value_counts() / len(filter_df) * 100"
   ]
  },
  {
   "attachments": {},
   "cell_type": "markdown",
   "id": "3d04899f",
   "metadata": {},
   "source": [
    "Rượu có mức nồng độ vừa phải chiếm số lượng nhiều nhất với hơn 50% tổng số rượu"
   ]
  },
  {
   "attachments": {},
   "cell_type": "markdown",
   "id": "3d2a2479",
   "metadata": {},
   "source": [
    "Tính giá rượu trung bình theo từng mức nồng độ và thương hiệu "
   ]
  },
  {
   "cell_type": "code",
   "execution_count": 18,
   "id": "f21b266f",
   "metadata": {},
   "outputs": [
    {
     "data": {
      "text/html": [
       "<div>\n",
       "<style scoped>\n",
       "    .dataframe tbody tr th:only-of-type {\n",
       "        vertical-align: middle;\n",
       "    }\n",
       "\n",
       "    .dataframe tbody tr th {\n",
       "        vertical-align: top;\n",
       "    }\n",
       "\n",
       "    .dataframe thead th {\n",
       "        text-align: right;\n",
       "    }\n",
       "</style>\n",
       "<table border=\"1\" class=\"dataframe\">\n",
       "  <thead>\n",
       "    <tr style=\"text-align: right;\">\n",
       "      <th></th>\n",
       "      <th>alcohol_classify</th>\n",
       "      <th>Thuong_hieu</th>\n",
       "      <th>Gia</th>\n",
       "    </tr>\n",
       "  </thead>\n",
       "  <tbody>\n",
       "    <tr>\n",
       "      <th>0</th>\n",
       "      <td>Nồng độ cao</td>\n",
       "      <td>47 Anno Domini</td>\n",
       "      <td>6.500000e+05</td>\n",
       "    </tr>\n",
       "    <tr>\n",
       "      <th>1</th>\n",
       "      <td>Nồng độ cao</td>\n",
       "      <td>7Colores</td>\n",
       "      <td>1.222923e+06</td>\n",
       "    </tr>\n",
       "    <tr>\n",
       "      <th>2</th>\n",
       "      <td>Nồng độ cao</td>\n",
       "      <td>Abando</td>\n",
       "      <td>1.260000e+06</td>\n",
       "    </tr>\n",
       "    <tr>\n",
       "      <th>3</th>\n",
       "      <td>Nồng độ cao</td>\n",
       "      <td>Ad Hoc</td>\n",
       "      <td>7.000000e+05</td>\n",
       "    </tr>\n",
       "    <tr>\n",
       "      <th>4</th>\n",
       "      <td>Nồng độ cao</td>\n",
       "      <td>Agricola Pliniana</td>\n",
       "      <td>1.350000e+06</td>\n",
       "    </tr>\n",
       "    <tr>\n",
       "      <th>...</th>\n",
       "      <td>...</td>\n",
       "      <td>...</td>\n",
       "      <td>...</td>\n",
       "    </tr>\n",
       "    <tr>\n",
       "      <th>1675</th>\n",
       "      <td>Nồng độ vừa phải</td>\n",
       "      <td>Woolshed</td>\n",
       "      <td>2.618000e+05</td>\n",
       "    </tr>\n",
       "    <tr>\n",
       "      <th>1676</th>\n",
       "      <td>Nồng độ vừa phải</td>\n",
       "      <td>Wyndham</td>\n",
       "      <td>5.870000e+05</td>\n",
       "    </tr>\n",
       "    <tr>\n",
       "      <th>1677</th>\n",
       "      <td>Nồng độ vừa phải</td>\n",
       "      <td>Yalumba</td>\n",
       "      <td>1.856300e+06</td>\n",
       "    </tr>\n",
       "    <tr>\n",
       "      <th>1678</th>\n",
       "      <td>Nồng độ vừa phải</td>\n",
       "      <td>Zenato</td>\n",
       "      <td>3.170000e+06</td>\n",
       "    </tr>\n",
       "    <tr>\n",
       "      <th>1679</th>\n",
       "      <td>Nồng độ vừa phải</td>\n",
       "      <td>Zonin</td>\n",
       "      <td>5.140000e+05</td>\n",
       "    </tr>\n",
       "  </tbody>\n",
       "</table>\n",
       "<p>1680 rows × 3 columns</p>\n",
       "</div>"
      ],
      "text/plain": [
       "      alcohol_classify        Thuong_hieu           Gia\n",
       "0          Nồng độ cao     47 Anno Domini  6.500000e+05\n",
       "1          Nồng độ cao           7Colores  1.222923e+06\n",
       "2          Nồng độ cao             Abando  1.260000e+06\n",
       "3          Nồng độ cao             Ad Hoc  7.000000e+05\n",
       "4          Nồng độ cao  Agricola Pliniana  1.350000e+06\n",
       "...                ...                ...           ...\n",
       "1675  Nồng độ vừa phải           Woolshed  2.618000e+05\n",
       "1676  Nồng độ vừa phải            Wyndham  5.870000e+05\n",
       "1677  Nồng độ vừa phải            Yalumba  1.856300e+06\n",
       "1678  Nồng độ vừa phải             Zenato  3.170000e+06\n",
       "1679  Nồng độ vừa phải              Zonin  5.140000e+05\n",
       "\n",
       "[1680 rows x 3 columns]"
      ]
     },
     "execution_count": 18,
     "metadata": {},
     "output_type": "execute_result"
    }
   ],
   "source": [
    "price_by_ac_brand_df = filter_df.groupby(['alcohol_classify', 'Thuong_hieu'], as_index = False)['Gia'].mean()\n",
    "price_by_ac_brand_df"
   ]
  },
  {
   "attachments": {},
   "cell_type": "markdown",
   "id": "3aa2bae4",
   "metadata": {},
   "source": [
    "Lấy ra 5 thương hiệu có giá trung bình thấp nhất theo từng nồng độ"
   ]
  },
  {
   "cell_type": "code",
   "execution_count": 19,
   "id": "8ba91df7",
   "metadata": {},
   "outputs": [
    {
     "data": {
      "text/html": [
       "<div>\n",
       "<style scoped>\n",
       "    .dataframe tbody tr th:only-of-type {\n",
       "        vertical-align: middle;\n",
       "    }\n",
       "\n",
       "    .dataframe tbody tr th {\n",
       "        vertical-align: top;\n",
       "    }\n",
       "\n",
       "    .dataframe thead th {\n",
       "        text-align: right;\n",
       "    }\n",
       "</style>\n",
       "<table border=\"1\" class=\"dataframe\">\n",
       "  <thead>\n",
       "    <tr style=\"text-align: right;\">\n",
       "      <th></th>\n",
       "      <th>alcohol_classify</th>\n",
       "      <th>Thuong_hieu</th>\n",
       "      <th>Gia</th>\n",
       "    </tr>\n",
       "  </thead>\n",
       "  <tbody>\n",
       "    <tr>\n",
       "      <th>0</th>\n",
       "      <td>Nồng độ cao</td>\n",
       "      <td>Viña Márquez</td>\n",
       "      <td>185000.000000</td>\n",
       "    </tr>\n",
       "    <tr>\n",
       "      <th>1</th>\n",
       "      <td>Nồng độ cao</td>\n",
       "      <td>Bonechance</td>\n",
       "      <td>220000.000000</td>\n",
       "    </tr>\n",
       "    <tr>\n",
       "      <th>2</th>\n",
       "      <td>Nồng độ cao</td>\n",
       "      <td>Chateau Tudin</td>\n",
       "      <td>240000.000000</td>\n",
       "    </tr>\n",
       "    <tr>\n",
       "      <th>3</th>\n",
       "      <td>Nồng độ cao</td>\n",
       "      <td>Katherine Hills</td>\n",
       "      <td>265000.000000</td>\n",
       "    </tr>\n",
       "    <tr>\n",
       "      <th>4</th>\n",
       "      <td>Nồng độ cao</td>\n",
       "      <td>Domenech Vidal</td>\n",
       "      <td>270000.000000</td>\n",
       "    </tr>\n",
       "    <tr>\n",
       "      <th>5</th>\n",
       "      <td>Nồng độ rất cao</td>\n",
       "      <td>Abtao</td>\n",
       "      <td>215000.000000</td>\n",
       "    </tr>\n",
       "    <tr>\n",
       "      <th>6</th>\n",
       "      <td>Nồng độ rất cao</td>\n",
       "      <td>Lombado</td>\n",
       "      <td>310000.000000</td>\n",
       "    </tr>\n",
       "    <tr>\n",
       "      <th>7</th>\n",
       "      <td>Nồng độ rất cao</td>\n",
       "      <td>Segreto</td>\n",
       "      <td>310000.000000</td>\n",
       "    </tr>\n",
       "    <tr>\n",
       "      <th>8</th>\n",
       "      <td>Nồng độ rất cao</td>\n",
       "      <td>Cantine Sgarzi Luigi</td>\n",
       "      <td>360000.000000</td>\n",
       "    </tr>\n",
       "    <tr>\n",
       "      <th>9</th>\n",
       "      <td>Nồng độ rất cao</td>\n",
       "      <td>Domaine Maby</td>\n",
       "      <td>456000.000000</td>\n",
       "    </tr>\n",
       "    <tr>\n",
       "      <th>10</th>\n",
       "      <td>Nồng độ thấp</td>\n",
       "      <td>Cantine Sgarzi Luigi</td>\n",
       "      <td>160000.000000</td>\n",
       "    </tr>\n",
       "    <tr>\n",
       "      <th>11</th>\n",
       "      <td>Nồng độ thấp</td>\n",
       "      <td>Francois</td>\n",
       "      <td>175000.000000</td>\n",
       "    </tr>\n",
       "    <tr>\n",
       "      <th>12</th>\n",
       "      <td>Nồng độ thấp</td>\n",
       "      <td>Torley</td>\n",
       "      <td>180000.000000</td>\n",
       "    </tr>\n",
       "    <tr>\n",
       "      <th>13</th>\n",
       "      <td>Nồng độ thấp</td>\n",
       "      <td>Tavernello</td>\n",
       "      <td>191666.666667</td>\n",
       "    </tr>\n",
       "    <tr>\n",
       "      <th>14</th>\n",
       "      <td>Nồng độ thấp</td>\n",
       "      <td>Bellavita</td>\n",
       "      <td>193666.666667</td>\n",
       "    </tr>\n",
       "    <tr>\n",
       "      <th>15</th>\n",
       "      <td>Nồng độ vừa phải</td>\n",
       "      <td>Viña Márquez</td>\n",
       "      <td>105000.000000</td>\n",
       "    </tr>\n",
       "    <tr>\n",
       "      <th>16</th>\n",
       "      <td>Nồng độ vừa phải</td>\n",
       "      <td>Joaquin Munoz</td>\n",
       "      <td>138000.000000</td>\n",
       "    </tr>\n",
       "    <tr>\n",
       "      <th>17</th>\n",
       "      <td>Nồng độ vừa phải</td>\n",
       "      <td>Santa Chilena</td>\n",
       "      <td>160000.000000</td>\n",
       "    </tr>\n",
       "    <tr>\n",
       "      <th>18</th>\n",
       "      <td>Nồng độ vừa phải</td>\n",
       "      <td>Talca</td>\n",
       "      <td>160000.000000</td>\n",
       "    </tr>\n",
       "    <tr>\n",
       "      <th>19</th>\n",
       "      <td>Nồng độ vừa phải</td>\n",
       "      <td>Melodie De Louis</td>\n",
       "      <td>170000.000000</td>\n",
       "    </tr>\n",
       "  </tbody>\n",
       "</table>\n",
       "</div>"
      ],
      "text/plain": [
       "    alcohol_classify           Thuong_hieu            Gia\n",
       "0        Nồng độ cao          Viña Márquez  185000.000000\n",
       "1        Nồng độ cao            Bonechance  220000.000000\n",
       "2        Nồng độ cao         Chateau Tudin  240000.000000\n",
       "3        Nồng độ cao       Katherine Hills  265000.000000\n",
       "4        Nồng độ cao        Domenech Vidal  270000.000000\n",
       "5    Nồng độ rất cao                 Abtao  215000.000000\n",
       "6    Nồng độ rất cao               Lombado  310000.000000\n",
       "7    Nồng độ rất cao               Segreto  310000.000000\n",
       "8    Nồng độ rất cao  Cantine Sgarzi Luigi  360000.000000\n",
       "9    Nồng độ rất cao          Domaine Maby  456000.000000\n",
       "10      Nồng độ thấp  Cantine Sgarzi Luigi  160000.000000\n",
       "11      Nồng độ thấp              Francois  175000.000000\n",
       "12      Nồng độ thấp                Torley  180000.000000\n",
       "13      Nồng độ thấp            Tavernello  191666.666667\n",
       "14      Nồng độ thấp             Bellavita  193666.666667\n",
       "15  Nồng độ vừa phải          Viña Márquez  105000.000000\n",
       "16  Nồng độ vừa phải         Joaquin Munoz  138000.000000\n",
       "17  Nồng độ vừa phải         Santa Chilena  160000.000000\n",
       "18  Nồng độ vừa phải                 Talca  160000.000000\n",
       "19  Nồng độ vừa phải      Melodie De Louis  170000.000000"
      ]
     },
     "execution_count": 19,
     "metadata": {},
     "output_type": "execute_result"
    }
   ],
   "source": [
    "n_cheapest_df = price_by_ac_brand_df.groupby('alcohol_classify')['Gia'].nsmallest(5).reset_index(level = 1)\n",
    "original_index = n_cheapest_df.pop('level_1')\n",
    "n_cheapest_df = price_by_ac_brand_df.loc[original_index].reset_index(drop = True)\n",
    "n_cheapest_df"
   ]
  },
  {
   "attachments": {},
   "cell_type": "markdown",
   "id": "f190db0c",
   "metadata": {},
   "source": [
    "Trực quan lên biểu đồ 5 thương hiệu có giá rượu trung bình thấp nhất theo từng mức nồng độ."
   ]
  },
  {
   "cell_type": "code",
   "execution_count": 20,
   "id": "cfef1638",
   "metadata": {},
   "outputs": [
    {
     "data": {
      "image/png": "[encoded data removed]",
      "text/plain": [
       "<Figure size 1152x720 with 4 Axes>"
      ]
     },
     "metadata": {},
     "output_type": "display_data"
    }
   ],
   "source": [
    "alcohol_classify_order = ['Nồng độ thấp', 'Nồng độ vừa phải', 'Nồng độ cao', 'Nồng độ rất cao']\n",
    "fig,axes = plt.subplots(4,1, figsize = (16,10), sharex = True)\n",
    "for i,ax in enumerate(axes.flat):\n",
    "  sns.barplot(n_cheapest_df.loc[n_cheapest_df['alcohol_classify'] == alcohol_classify_order[i]], x = 'Gia', y = 'Thuong_hieu', ax = ax)\n",
    "  if i == len(axes) - 1:\n",
    "    ax.set_xlabel('Giá')\n",
    "  else:\n",
    "    ax.set_xlabel('')\n",
    "  ax.set_ylabel('Thương hiệu')\n",
    "  ax.set_title(alcohol_classify_order[i])\n",
    "plt.tight_layout()"
   ]
  },
  {
   "attachments": {},
   "cell_type": "markdown",
   "id": "7e21fe3d",
   "metadata": {},
   "source": [
    "Ứng với 4 mức nồng độ, ta đã xác định được 5 thương hiệu có giá thành trung bình thấp nhất. Dựa vào biểu đồ bên trên ta rút ra được các nhận xét:\n",
    "* Có vẻ là mức nồng độ tăng dần đồng nghĩa với việc giá rượu cũng tăng theo, với trường hợp ngoại lệ là mức nồng độ vừa phải có giá trung bình thấp nhất trong tất cả các mức.\n",
    "* Thương hiệu có giá rượu trung bình thấp nhất ở mức nồng độ vừa phải và mức nồng độ cao đều thuộc về Vina Marquez, phù hợp với đối tượng khách hàng chuộng các sản phẩm có nồng độ không quá thấp cũng như không quá cao.\n",
    "* Cantine Sgarzi Luigi là thương hiệu có giá thành rẻ nhất ở mức nồng độ thấp và cũng xếp thứ tư ở thương hiệu có giá thấp nhất ở mức nồng độ rất cao."
   ]
  }
 ],
 "metadata": {
  "kernelspec": {
   "display_name": "Python 3",
   "language": "python",
   "name": "python3"
  },
  "language_info": {
   "codemirror_mode": {
    "name": "ipython",
    "version": 3
   },
   "file_extension": ".py",
   "mimetype": "text/x-python",
   "name": "python",
   "nbconvert_exporter": "python",
   "pygments_lexer": "ipython3",
   "version": "3.10.1"
  },
  "vscode": {
   "interpreter": {
    "hash": "2469a70536e4d2335a2ea8907942d0699c37342a371ac185bdb5b0aa6f073890"
   }
  }
 },
 "nbformat": 4,
 "nbformat_minor": 5
}
