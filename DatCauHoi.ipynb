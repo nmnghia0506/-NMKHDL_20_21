{
 "cells": [
  {
   "cell_type": "markdown",
   "id": "ac3e8fcd",
   "metadata": {},
   "source": [
    "# <h2><b> Đồ án thực hành </b></h2>\n",
    "<h1 style='color:red;text-align:center;font-size:35px'><b>Chủ đề: Dự đoán giá rượu vang</b></h1>"
   ]
  },
  {
   "cell_type": "markdown",
   "id": "469fd4ad",
   "metadata": {},
   "source": [
    "# <h3>Các thành viên trong nhóm</h3>\n",
    "<li> Phan Xuân Hoài - 20120481 </li>\n",
    "<li> Lê Kinh Luân - 1612355 </li>\n",
    "<li> Nguyễn Minh Nghĩa - 20120534</li>\n",
    "<li> Phạm Quốc Hưng - 19120522</li>"
   ]
  },
  {
   "cell_type": "markdown",
   "id": "7c0d5b36",
   "metadata": {},
   "source": [
    "# <h1 style='color:blue;text-align:center;font-size:30px'><b>Phần I - C.Đặt các câu hỏi có ý nghĩa cần trả lời</b></h1>"
   ]
  },
  {
   "cell_type": "markdown",
   "id": "47a5cd2e",
   "metadata": {},
   "source": [
    "## Import những thư viện cần thiết"
   ]
  },
  {
   "cell_type": "code",
   "execution_count": null,
   "id": "b06f8eaa",
   "metadata": {},
   "outputs": [],
   "source": [
    "%matplotlib inline\n",
    "import matplotlib.pyplot as plt\n",
    "import numpy as np\n",
    "import pandas as pd \n",
    "import seaborn as sns\n",
    "sns.set_theme()\n",
    "\n",
    "# YOUR CODE HERE (OPTION)\n",
    "# Nếu cần các thư viện khác thì bạn có thể import ở đây\n",
    "import os\n",
    "import re\n",
    "import statistics\n",
    "import seaborn as sns\n",
    "sns.set(rc={'axes.facecolor':'lightblue', 'figure.facecolor':'lightgray'})"
   ]
  },
  {
   "cell_type": "code",
   "execution_count": null,
   "id": "76b7cc70",
   "metadata": {},
   "outputs": [],
   "source": [
    "import sys\n",
    "sys.executable"
   ]
  },
  {
   "cell_type": "code",
   "execution_count": null,
   "id": "8216f52e",
   "metadata": {},
   "outputs": [],
   "source": [
    "cd champagne/champagne"
   ]
  },
  {
   "cell_type": "markdown",
   "id": "d935160c",
   "metadata": {},
   "source": [
    "### Đọc file 'champagnes_info_cleaned.csv' vào dataframe df"
   ]
  },
  {
   "cell_type": "code",
   "execution_count": null,
   "id": "a0c9abfc",
   "metadata": {
    "scrolled": true
   },
   "outputs": [],
   "source": [
    "df = pd.read_csv('./dataset/champagne_info_cleaned.csv')\n",
    "df.head(20)"
   ]
  },
  {
   "cell_type": "code",
   "execution_count": null,
   "id": "96fe0660",
   "metadata": {},
   "outputs": [],
   "source": [
    "df.info()"
   ]
  },
  {
   "cell_type": "markdown",
   "id": "f875b265",
   "metadata": {},
   "source": [
    "<h2 style='color:#8edc55'>Câu 1. Giữa màu sắc, thương hiệu có mối tương quan như thế nào đối với giá rượu?  </h2>"
   ]
  },
  {
   "cell_type": "markdown",
   "id": "8bc3b02b",
   "metadata": {},
   "source": [
    "**Lợi ích khi trả lời được câu hỏi:** \n",
    "+ Với người mua, họ có thể tham khảo để xác định được giá của một chai rượu vang họ muốn mua có đang là hợp lý, tránh bị lừa.\n",
    "+ Với người bán, họ có thể tham khảo để đưa ra một mức giá bán hợp lý cho sản phẩm\n",
    "\n",
    "**Nguồn cảm hứng của câu hỏi:** tự nghĩ\n",
    "\n",
    "---"
   ]
  },
  {
   "cell_type": "markdown",
   "id": "7ca77432",
   "metadata": {},
   "source": [
    "<h3 style='color:#4cc3f1'> 1.1 Mối tương quan giữa thương hiệu đối với giá rượu  </h3>"
   ]
  },
  {
   "cell_type": "markdown",
   "id": "a703cde7",
   "metadata": {},
   "source": [
    "<h3 style='color:#c177e4'> Bước 1: Lấy ra một số thương hiệu để đánh giá </h3>"
   ]
  },
  {
   "cell_type": "markdown",
   "id": "9a9413aa",
   "metadata": {},
   "source": [
    "* Từ bảng `cat_col_info_df` ta thấy có đến 1620 thương hiệu trong khi dữ liệu chỉ có 5598 dòng. Vì vậy sẽ có nhiều thương hiệu xuất hiện tương đối ít. Ta cần chọn ra các thương hiệu có số lần xuất hiện tương đối cao để có thể đánh giá sự phụ thuộc giữa thương hiệu và giá rượu vang "
   ]
  },
  {
   "cell_type": "code",
   "execution_count": null,
   "id": "2581dff4",
   "metadata": {},
   "outputs": [],
   "source": [
    "# Tính số lần xuất hiện của mỗi thương hiệu\n",
    "count_appear = df['Thuong_hieu'].value_counts()\n",
    "count_appear"
   ]
  },
  {
   "cell_type": "code",
   "execution_count": null,
   "id": "911d6c64",
   "metadata": {},
   "outputs": [],
   "source": [
    "#Lấy ra các thương hiệu xuất hiện từ 25 lần\n",
    "brand_top = count_appear.index[count_appear >= 25]\n",
    "brand_top"
   ]
  },
  {
   "cell_type": "markdown",
   "id": "10409dcc",
   "metadata": {},
   "source": [
    "<h3 style='color:#c177e4'> Bước 2: Tạo dataframe chỉ gồm các thương hiệu đã chọn</h3>"
   ]
  },
  {
   "cell_type": "code",
   "execution_count": null,
   "id": "6bf6143d",
   "metadata": {},
   "outputs": [],
   "source": [
    "lis_brand_top = brand_top.values.tolist()\n",
    "mask = df['Thuong_hieu'].isin(lis_brand_top)\n",
    "brand_vs_price = df.loc[mask,['Thuong_hieu', 'Gia']]"
   ]
  },
  {
   "cell_type": "markdown",
   "id": "2ec1d257",
   "metadata": {},
   "source": [
    "<h3 style='color:#c177e4'> Bước 3: Trực quan </h3>"
   ]
  },
  {
   "cell_type": "code",
   "execution_count": null,
   "id": "0c2befd9",
   "metadata": {},
   "outputs": [],
   "source": [
    "plt.figure(figsize=(18,10))\n",
    "sns.boxplot(data=brand_vs_price, y='Gia', x = 'Thuong_hieu',showfliers=False)\n",
    "plt.xticks(rotation=45)\n",
    "plt.title('Phân bố giá rượu của một số thương hiệu', fontsize=14)\n",
    "plt.xlabel('Thương hiệu', fontsize=14)\n",
    "plt.ylabel('Giá rượu (VNĐ)', fontsize=14)\n",
    "plt.grid(True)\n",
    "plt.show()"
   ]
  },
  {
   "cell_type": "markdown",
   "id": "5dc4284f",
   "metadata": {},
   "source": [
    "<h3 style='color:#c177e4'> Bước 4: Đánh giá </h3>"
   ]
  },
  {
   "cell_type": "markdown",
   "id": "3b700bc1",
   "metadata": {},
   "source": [
    "🤔🤔🤔 Từ biểu đồ trên ta thấy:\n",
    "* Hầu hết các thương hiệu được chọn có giá các sản phẩm phân bố nằm chủ yếu trong khoảng từ 200.000 VNĐ đến 1.000.000 VNĐ. Trong đó các thương hiệu `7Colores`, `Vignobles JeanJean` ,`Convha Y Toro` nằm hoàn toàn trong khoảng trên.\n",
    "* Các thương hiệu `Ampelidae`,`Montgras`, `Tinazzi`, có khoảng từ 25% đến 30% sản phẩm có giá cao hơn các sản phẩm còn lại  thuộc cùng thương hiêu và nằm trong khoảng giá  1.000.000 - 2.000.000 VNĐ.\n",
    "* Thương hiệu `Borie Manoux` và `Paul Jaboulet Aine` có trên 50% các sản phẩm có giá từ 1.000.000 - 4.800.000 VNĐ.\n",
    "* Thương hiệu `Louis Jadot` là thương hiệu có nhiều sản phẩm có giá cao và vượt trội so với các thương hiệu khác khi giá cao nhất có thể lên đến khoảng 8.000.000 VNĐ"
   ]
  },
  {
   "cell_type": "markdown",
   "id": "058bcf33",
   "metadata": {},
   "source": [
    "<h3 style='color:#4cc3f1'> 1.2 Mối tương quan giữa màu sắc đối với giá rượu  </h3>"
   ]
  },
  {
   "cell_type": "markdown",
   "id": "44118923",
   "metadata": {},
   "source": [
    "<h3 style='color:#c177e4'> Bước 1: Chọn những màu sắc xuất hiện nhiều </h3>"
   ]
  },
  {
   "cell_type": "markdown",
   "id": "d322472c",
   "metadata": {},
   "source": [
    "* Tương tự với thương hiệu ta sẽ chọn ra những màu sắc nổi bật hơn "
   ]
  },
  {
   "cell_type": "code",
   "execution_count": null,
   "id": "ee10da05",
   "metadata": {
    "scrolled": true
   },
   "outputs": [],
   "source": [
    "# Tính số lần xuất hiện của mỗi màu sắc\n",
    "color_series = df['Mau_sac'].value_counts()\n",
    "color_series"
   ]
  },
  {
   "cell_type": "code",
   "execution_count": null,
   "id": "23dddf3e",
   "metadata": {
    "scrolled": true
   },
   "outputs": [],
   "source": [
    "# Chọn những màu sắc xuất hiện trên 25 lần\n",
    "color_top = color_series.index[color_series >= 25]\n",
    "color_top"
   ]
  },
  {
   "cell_type": "markdown",
   "id": "2abcbb2e",
   "metadata": {},
   "source": [
    "* Ta thấy có hai lần ` vàng nhạt ` xuất hiện hai lần. Ta sẽ chuyển chúng cho về giống nhau trong `df` và giữ lại 1 trong `color_top`."
   ]
  },
  {
   "cell_type": "code",
   "execution_count": null,
   "id": "4afc5d4f",
   "metadata": {},
   "outputs": [],
   "source": [
    "mask = df['Mau_sac'] == 'vàng nhạt'\n",
    "df.loc[mask, 'Mau_sac'] = 'vàng nhạt'\n",
    "# Xóa bớt 1 vàng nhạt\n",
    "color_top = color_top[color_top != 'vàng nhạt']"
   ]
  },
  {
   "cell_type": "markdown",
   "id": "c498aa69",
   "metadata": {},
   "source": [
    "<h3 style='color:#c177e4'> Bước 2: Tạo dataframe chỉ gồm những màu sắc đã chọn </h3>"
   ]
  },
  {
   "cell_type": "code",
   "execution_count": null,
   "id": "09f2eba8",
   "metadata": {},
   "outputs": [],
   "source": [
    "lis_color_top = color_top.values.tolist()\n",
    "mask = df['Mau_sac'].isin(lis_color_top)\n",
    "color_vs_price = df.loc[mask,['Mau_sac', 'Gia']]"
   ]
  },
  {
   "cell_type": "markdown",
   "id": "838e3e66",
   "metadata": {},
   "source": [
    "<h3 style='color:#c177e4'> Bước 3: Trực quan </h3>"
   ]
  },
  {
   "cell_type": "code",
   "execution_count": null,
   "id": "811700e3",
   "metadata": {},
   "outputs": [],
   "source": [
    "plt.figure(figsize=(18,10))\n",
    "sns.boxplot(data=color_vs_price, y='Mau_sac', x = 'Gia',showfliers=False)\n",
    "# plt.xticks(rotation=45)\n",
    "plt.title('Phân bố giá rượu theo một số màu sắc', fontsize=14)\n",
    "plt.xlabel('Giá rượu (VNĐ)', fontsize=14)\n",
    "plt.ylabel('Màu sắc', fontsize=14)\n",
    "plt.xticks(np.arange(0, 5000000, 500000))\n",
    "plt.grid(True)\n",
    "plt.show()"
   ]
  },
  {
   "cell_type": "markdown",
   "id": "8378cbad",
   "metadata": {},
   "source": [
    "<h3 style='color:#c177e4'> Bước 4: Đánh giá </h3>"
   ]
  },
  {
   "cell_type": "markdown",
   "id": "4f250c01",
   "metadata": {},
   "source": [
    "🤔🤔🤔 Từ biểu đồ trên ta thấy:\n",
    "* Các màu rượu như ` trắng `, ` vàng chanh`, ` hồng nhạt ` có trên 80% các sản phẩm có giá từ 200.000 - 1.000.000 VNĐ.\n",
    "* Các màu rượu  `vàng nhạt`, ` vàng rơm `, `đỏ ruby` có từ 55% đến 70% các sản phẩm có giá từ 200.000 - 1.000.000 VNĐ. Các sản phẩm còn lại thuộc những màu sắc này phân bố trải dài đến khoảng 2.000.000 VNĐ. Riêng với màu `đỏ ruby` giá cao nhất có thể lên đến 3.000.000 VNĐ\n",
    "* Màu rượu ` vàng ` có nhiều sản phẩm có giá từ 2.000.000 VNĐ trở lên nhất so với các màu khác. Tiếp đó là các màu ` đỏ `, `đỏ ruby đậm `, `đỏ đậm ` là vượt trội hơn so với các màu còn lại . Trong đó màu ` vàng ` màu có sản phẩm có giá cao nhất tiếp đến là `đỏ`, `đỏ ruby đậm `, `đỏ đậm `."
   ]
  },
  {
   "cell_type": "markdown",
   "id": "27c7a380",
   "metadata": {},
   "source": [
    "---"
   ]
  },
  {
   "cell_type": "code",
   "execution_count": null,
   "id": "772f82b6",
   "metadata": {},
   "outputs": [],
   "source": []
  }
 ],
 "metadata": {
  "kernelspec": {
   "display_name": "Python 3 (ipykernel)",
   "language": "python",
   "name": "python3"
  },
  "language_info": {
   "codemirror_mode": {
    "name": "ipython",
    "version": 3
   },
   "file_extension": ".py",
   "mimetype": "text/x-python",
   "name": "python",
   "nbconvert_exporter": "python",
   "pygments_lexer": "ipython3",
   "version": "3.9.12"
  }
 },
 "nbformat": 4,
 "nbformat_minor": 5
}
