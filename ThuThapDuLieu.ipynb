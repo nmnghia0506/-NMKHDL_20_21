{
 "cells": [
  {
   "cell_type": "markdown",
   "id": "62050c72",
   "metadata": {},
   "source": [
    "<h2><b> Đồ án thực hành </b></h2>\n",
    "<h1 style='color:red;text-align:center;font-size:35px'><b>Chủ đề: Dự đoán giá rượu vang</b></h1>"
   ]
  },
  {
   "cell_type": "markdown",
   "id": "eede0177",
   "metadata": {},
   "source": [
    "<h3>Các thành viên trong nhóm</h3>\n",
    "<li> Phan Xuân Hoài - 20120481 </li>\n",
    "<li> Lê Kinh Luân - 1612355 </li>\n",
    "<li> Nguyễn Minh Nghĩa - 20120534</li>\n",
    "<li> Phạm Quốc Hưng - 19120522</li>"
   ]
  },
  {
   "cell_type": "markdown",
   "id": "d9aeff06",
   "metadata": {},
   "source": [
    "# Import thư viện"
   ]
  },
  {
   "cell_type": "code",
   "execution_count": null,
   "id": "bb276657",
   "metadata": {},
   "outputs": [],
   "source": [
    "import scrapy\n",
    "import numpy as np\n",
    "import pandas as pd\n",
    "import matplotlib.pyplot as plt\n",
    "import seaborn as sns"
   ]
  },
  {
   "cell_type": "markdown",
   "id": "fadad046",
   "metadata": {},
   "source": [
    "<h1 style='color:blue;text-align:center;font-size:30px'><b>Phần I - A.Thu thập dữ liệu</b></h1>"
   ]
  },
  {
   "cell_type": "markdown",
   "id": "79b3a572",
   "metadata": {},
   "source": [
    "## Tạo Project với Scrapy"
   ]
  },
  {
   "cell_type": "code",
   "execution_count": null,
   "id": "09468941",
   "metadata": {},
   "outputs": [],
   "source": [
    "!scrapy startproject champagne"
   ]
  },
  {
   "cell_type": "markdown",
   "id": "37cdb7ea",
   "metadata": {},
   "source": [
    "**Thay đổi đường dẫn**"
   ]
  },
  {
   "cell_type": "code",
   "execution_count": null,
   "id": "979057f5",
   "metadata": {},
   "outputs": [],
   "source": [
    "cd champagne/champagne"
   ]
  },
  {
   "cell_type": "markdown",
   "id": "d1feb2e5",
   "metadata": {},
   "source": [
    "### Thu thập url của các sản phẩm"
   ]
  },
  {
   "cell_type": "code",
   "execution_count": null,
   "id": "ac361736",
   "metadata": {},
   "outputs": [],
   "source": [
    "!scrapy crawl champagne_urls -o dataset/champagne_urls.json"
   ]
  },
  {
   "cell_type": "markdown",
   "id": "c0402a19",
   "metadata": {},
   "source": [
    "### Thu thập thông tin chi tiết cho từng sản phẩm"
   ]
  },
  {
   "cell_type": "code",
   "execution_count": null,
   "id": "e7375dbe",
   "metadata": {},
   "outputs": [],
   "source": [
    " !scrapy crawl champagnes_info -o dataset/champagnes_info.csv"
   ]
  },
  {
   "cell_type": "markdown",
   "id": "bb766001",
   "metadata": {},
   "source": [
    "### Đọc file dữ liệu"
   ]
  },
  {
   "cell_type": "code",
   "execution_count": null,
   "id": "420bc957",
   "metadata": {},
   "outputs": [],
   "source": [
    "df = pd.read_csv('./dataset/champagnes_info.csv')\n",
    "df.head(20)"
   ]
  }
 ],
 "metadata": {
  "kernelspec": {
   "display_name": "Python 3 (ipykernel)",
   "language": "python",
   "name": "python3"
  },
  "language_info": {
   "codemirror_mode": {
    "name": "ipython",
    "version": 3
   },
   "file_extension": ".py",
   "mimetype": "text/x-python",
   "name": "python",
   "nbconvert_exporter": "python",
   "pygments_lexer": "ipython3",
   "version": "3.9.12"
  },
  "vscode": {
   "interpreter": {
    "hash": "230eced423d2f0c873d70f568fb3b91d4d0a92783dea9e5e343fd82907c96f27"
   }
  }
 },
 "nbformat": 4,
 "nbformat_minor": 5
}
